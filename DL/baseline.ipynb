{
 "cells": [
  {
   "cell_type": "code",
   "execution_count": 1,
   "id": "edce12c8-ab36-4533-b4b4-18ee5bc6cfa1",
   "metadata": {
    "tags": []
   },
   "outputs": [],
   "source": [
    "import pandas as pd\n",
    "from sklearn.metrics import  f1_score\n",
    "import torch\n",
    "import torch.optim as optim\n",
    "from torch.utils.data import TensorDataset, DataLoader\n",
    "import numpy as np\n",
    "from torch import nn\n",
    "import matplotlib.pyplot as plt\n",
    "from tqdm.notebook import tqdm\n",
    "from torch.utils.data import DataLoader, Dataset\n",
    "from collections import Counter\n",
    "from IPython.display import clear_output\n",
    "\n",
    "from app import cat_features, pca_pipeline, lag_features\n",
    "\n",
    "device = 'cuda' if torch.cuda.is_available() else 'cpu'"
   ]
  },
  {
   "cell_type": "code",
   "execution_count": 2,
   "id": "27a5fb7e",
   "metadata": {},
   "outputs": [],
   "source": [
    "pd.set_option('display.max_columns', None) "
   ]
  },
  {
   "cell_type": "code",
   "execution_count": 3,
   "id": "15904344-c59c-4945-b38b-c3089acda2c6",
   "metadata": {
    "tags": []
   },
   "outputs": [],
   "source": [
    "data = pd.read_csv('df_general.csv')\n",
    "data[lag_features] = data[lag_features].fillna(999)"
   ]
  },
  {
   "cell_type": "code",
   "execution_count": 4,
   "id": "dcdd5ba1-e7ec-4e99-9a96-b01a872a0a25",
   "metadata": {
    "tags": []
   },
   "outputs": [],
   "source": [
    "data.fillna(0, inplace=True)"
   ]
  },
  {
   "cell_type": "code",
   "execution_count": 5,
   "id": "cb1d99c4",
   "metadata": {},
   "outputs": [],
   "source": [
    "train = data[data['gameweek_compSeason_label'] != 2023]\n",
    "test = data[data['gameweek_compSeason_label'] == 2023]"
   ]
  },
  {
   "cell_type": "code",
   "execution_count": 6,
   "id": "a4542582-8880-4cc7-b692-015e3824e984",
   "metadata": {
    "tags": []
   },
   "outputs": [],
   "source": [
    "X_train = train.drop('team_1_hue', axis=1)\n",
    "y_train = train['team_1_hue']\n",
    "\n",
    "cat_cols = cat_features(X_train)\n",
    "num_cols = list(set(X_train.columns.tolist()) - set(cat_cols))\n",
    "\n",
    "X_test = test.drop('team_1_hue', axis=1)\n",
    "y_test = test['team_1_hue']"
   ]
  },
  {
   "cell_type": "code",
   "execution_count": 7,
   "id": "283be753",
   "metadata": {},
   "outputs": [
    {
     "data": {
      "text/plain": [
       "((3192, 1196), (180, 1196))"
      ]
     },
     "execution_count": 7,
     "metadata": {},
     "output_type": "execute_result"
    }
   ],
   "source": [
    "X_train.shape, X_test.shape"
   ]
  },
  {
   "cell_type": "code",
   "execution_count": 8,
   "id": "54260f02",
   "metadata": {},
   "outputs": [],
   "source": [
    "X_train, pipeline = pca_pipeline(X_train, y_train, cat_cols, num_cols, n_components=20 ,pca=True)"
   ]
  },
  {
   "cell_type": "code",
   "execution_count": 9,
   "id": "19653597",
   "metadata": {},
   "outputs": [
    {
     "data": {
      "text/plain": [
       "array([[-4.95875494e+02,  1.69138819e+03,  2.38560137e+03, ...,\n",
       "        -1.27471323e+00,  2.04870731e+00,  2.26456224e+00],\n",
       "       [-4.98870888e+02,  1.69123660e+03,  2.38553617e+03, ...,\n",
       "        -5.44389863e-01,  1.27947120e+00,  4.44591672e-01],\n",
       "       [-5.05859976e+02,  1.69087925e+03,  2.38538623e+03, ...,\n",
       "        -1.17791357e+00,  1.70228895e+00,  1.88161821e+00],\n",
       "       ...,\n",
       "       [-3.43226620e+02, -4.80789947e+02,  5.60825882e+01, ...,\n",
       "         4.14720304e+00, -5.42350444e-01,  1.15166748e+00],\n",
       "       [-3.50245398e+02, -4.80453779e+02,  5.55917029e+01, ...,\n",
       "         4.61620294e+00,  3.97256922e+00, -6.49946449e-01],\n",
       "       [-3.44123843e+02, -4.82599221e+02,  5.52085877e+01, ...,\n",
       "         4.02004220e+00,  9.40782284e-01, -8.78503730e-01]])"
      ]
     },
     "execution_count": 9,
     "metadata": {},
     "output_type": "execute_result"
    }
   ],
   "source": [
    "X_train"
   ]
  },
  {
   "cell_type": "code",
   "execution_count": 10,
   "id": "9f5aa168",
   "metadata": {},
   "outputs": [
    {
     "data": {
      "text/plain": [
       "array([[-3.45137579e+02, -4.82391819e+02,  5.59594314e+01, ...,\n",
       "         5.33318691e+00,  4.82567474e+00,  6.40909607e-01],\n",
       "       [-3.60759562e+02,  1.82420465e+02, -3.40748442e+02, ...,\n",
       "         5.65348667e+00, -3.75154874e-01,  3.91975309e+00],\n",
       "       [ 5.20512963e+02, -4.38428455e+02,  7.36834395e+01, ...,\n",
       "         3.61825925e+00, -1.05897938e+00,  2.65037482e-01],\n",
       "       ...,\n",
       "       [-3.45208932e+02, -4.80275101e+02,  5.47686833e+01, ...,\n",
       "         5.84444412e+00,  1.03774637e+00,  3.85059260e+00],\n",
       "       [-3.61172030e+02, -4.82118446e+02,  5.51560787e+01, ...,\n",
       "         4.88887201e+00,  5.95944925e-02, -1.63057364e-01],\n",
       "       [ 1.60765173e+03, -3.81253600e+02,  9.92142973e+01, ...,\n",
       "         3.56221913e+00,  1.37600283e+00,  2.86611206e+00]])"
      ]
     },
     "execution_count": 10,
     "metadata": {},
     "output_type": "execute_result"
    }
   ],
   "source": [
    "X_test = pipeline.transform(X_test)\n",
    "X_test"
   ]
  },
  {
   "cell_type": "code",
   "execution_count": 11,
   "id": "6c3ca95f",
   "metadata": {},
   "outputs": [
    {
     "data": {
      "text/plain": [
       "((3192, 20), (180, 20))"
      ]
     },
     "execution_count": 11,
     "metadata": {},
     "output_type": "execute_result"
    }
   ],
   "source": [
    "X_train.shape, X_test.shape"
   ]
  },
  {
   "cell_type": "code",
   "execution_count": 12,
   "id": "f5ce19cf",
   "metadata": {},
   "outputs": [
    {
     "name": "stdout",
     "output_type": "stream",
     "text": [
      "Sun Jun  2 16:42:09 2024       \n",
      "+-----------------------------------------------------------------------------------------+\n",
      "| NVIDIA-SMI 550.67                 Driver Version: 550.67         CUDA Version: 12.4     |\n",
      "|-----------------------------------------+------------------------+----------------------+\n",
      "| GPU  Name                 Persistence-M | Bus-Id          Disp.A | Volatile Uncorr. ECC |\n",
      "| Fan  Temp   Perf          Pwr:Usage/Cap |           Memory-Usage | GPU-Util  Compute M. |\n",
      "|                                         |                        |               MIG M. |\n",
      "|=========================================+========================+======================|\n",
      "|   0  NVIDIA GeForce RTX 4070 ...    Off |   00000000:0A:00.0  On |                  N/A |\n",
      "|  0%   50C    P2             61W /  285W |   14525MiB /  16376MiB |      8%      Default |\n",
      "|                                         |                        |                  N/A |\n",
      "+-----------------------------------------+------------------------+----------------------+\n",
      "                                                                                         \n",
      "+-----------------------------------------------------------------------------------------+\n",
      "| Processes:                                                                              |\n",
      "|  GPU   GI   CI        PID   Type   Process name                              GPU Memory |\n",
      "|        ID   ID                                                               Usage      |\n",
      "|=========================================================================================|\n",
      "|    0   N/A  N/A      2427      G   /usr/lib/xorg/Xorg                            510MiB |\n",
      "|    0   N/A  N/A      2574      G   /usr/bin/gnome-shell                           95MiB |\n",
      "|    0   N/A  N/A      4410      G   ...sktop/5820/usr/bin/telegram-desktop         40MiB |\n",
      "|    0   N/A  N/A      4993      G   ...ntity2024 --variations-seed-version        107MiB |\n",
      "|    0   N/A  N/A      6174      G   ...erProcess --variations-seed-version        248MiB |\n",
      "|    0   N/A  N/A      6571      G   ...yOnDemand --variations-seed-version         59MiB |\n",
      "|    0   N/A  N/A    148228      C   ...chewye/anaconda3/envs/cv/bin/python      13340MiB |\n",
      "|    0   N/A  N/A    190712      G   ...ODM0MDc2YzJkNw%3D%3D&browser=chrome         63MiB |\n",
      "+-----------------------------------------------------------------------------------------+\n"
     ]
    }
   ],
   "source": [
    "!nvidia-smi"
   ]
  },
  {
   "cell_type": "code",
   "execution_count": 13,
   "id": "70d3cf3b",
   "metadata": {},
   "outputs": [],
   "source": [
    "def plot_losses(train_losses, train_metrics, val_losses, val_metrics):\n",
    "    '''\n",
    "    Plot losses and metrics while training\n",
    "      - train_losses: sequence of train losses\n",
    "      - train_metrics: sequence of train MSE values\n",
    "      - val_losses: sequence of validation losses\n",
    "      - val_metrics: sequence of validation MSE values\n",
    "    '''\n",
    "    clear_output()\n",
    "    fig, axs = plt.subplots(1, 2, figsize=(15, 5))\n",
    "    axs[0].plot(range(1, len(train_losses) + 1), train_losses, label='train')\n",
    "    axs[0].plot(range(1, len(val_losses) + 1), val_losses, label='val')\n",
    "    axs[1].plot(range(1, len(train_metrics) + 1), train_metrics, label='train')\n",
    "    axs[1].plot(range(1, len(val_metrics) + 1), val_metrics, label='val')\n",
    "\n",
    "    if max(train_losses) / min(train_losses) > 10:\n",
    "        axs[0].set_yscale('log')\n",
    "\n",
    "    if max(train_metrics) / min(train_metrics) > 10:\n",
    "        axs[0].set_yscale('log')\n",
    "\n",
    "    for ax in axs:\n",
    "        ax.set_xlabel('epoch')\n",
    "        ax.legend()\n",
    "\n",
    "    axs[0].set_ylabel('loss')\n",
    "    axs[1].set_ylabel('MSE')\n",
    "    plt.show()\n",
    "\n",
    "\n",
    "def train_and_validate(model, optimizer, criterion, metric, train_loader, val_loader,\n",
    "                       num_epochs, verbose=True, device='cuda'):\n",
    "    '''\n",
    "    Train and validate neural network\n",
    "      - model: neural network to train\n",
    "      - optimizer: optimizer chained to a model\n",
    "      - criterion: loss function class\n",
    "      - metric: function to measure MSE taking neural networks predictions\n",
    "                 and ground truth labels\n",
    "      - train_loader: DataLoader with train set\n",
    "      - val_loader: DataLoader with validation set\n",
    "      - num_epochs: number of epochs to train\n",
    "      - verbose: whether to plot metrics during training\n",
    "    Returns:\n",
    "      - train_mse: training Accuracy over the last epoch\n",
    "      - val_mse: validation Accuracy after the last epoch\n",
    "    '''\n",
    "    torch.manual_seed(42)\n",
    "    train_losses, val_losses = [], []\n",
    "    train_metrics, val_metrics = [], []\n",
    "    for epoch in range(1, num_epochs + 1):\n",
    "        model.train()\n",
    "\n",
    "        running_loss, running_metric = 0, 0\n",
    "        pbar = tqdm(train_loader, desc=f'Training {epoch}/{num_epochs}') \\\n",
    "            if verbose else train_loader\n",
    "\n",
    "        for i, (X_batch, y_batch) in enumerate(pbar, 1):            \n",
    "            X_batch, y_batch = X_batch.to(device), y_batch.to(device).long()\n",
    "            \n",
    "            predictions = model(X_batch)\n",
    "            loss = criterion(predictions, y_batch)\n",
    "\n",
    "            loss.backward()\n",
    "            optimizer.step()\n",
    "            optimizer.zero_grad()\n",
    "\n",
    "            with torch.no_grad():\n",
    "                metric_value = metric(predictions, y_batch)\n",
    "                if type(metric_value) == torch.Tensor:\n",
    "                    metric_value = metric_value.item()\n",
    "                running_loss += loss.item() * X_batch.shape[0]\n",
    "                running_metric += metric_value * X_batch.shape[0]\n",
    "\n",
    "            if verbose and i % 100 == 0:\n",
    "                pbar.set_postfix({'loss': loss.item(), 'Accuracy': metric_value})\n",
    "\n",
    "        train_losses += [running_loss / len(train_loader.dataset)]\n",
    "        train_metrics += [running_metric / len(train_loader.dataset)]\n",
    "\n",
    "        model.eval()\n",
    "        running_loss, running_metric = 0, 0\n",
    "        pbar = tqdm(val_loader, desc=f'Validating {epoch}/{num_epochs}') \\\n",
    "            if verbose else val_loader\n",
    "\n",
    "        for i, (X_batch, y_batch) in enumerate(pbar, 1):\n",
    "            with torch.no_grad():\n",
    "                X_batch, y_batch = X_batch.to(device), y_batch.to(device).long()\n",
    "                \n",
    "                predictions = model(X_batch)\n",
    "                loss = criterion(predictions, y_batch)\n",
    "\n",
    "                metric_value = metric(predictions, y_batch)\n",
    "                if type(metric_value) == torch.Tensor:\n",
    "                    metric_value = metric_value.item()\n",
    "                running_loss += loss.item() * X_batch.shape[0]\n",
    "                running_metric += metric_value * X_batch.shape[0]\n",
    "\n",
    "            if verbose and i % 100 == 0:\n",
    "                pbar.set_postfix({'loss': loss.item(), 'Accuracy': metric_value})\n",
    "\n",
    "        val_losses += [running_loss / len(val_loader.dataset)]\n",
    "        val_metrics += [running_metric / len(val_loader.dataset)]\n",
    "\n",
    "        if verbose:\n",
    "            plot_losses(train_losses, train_metrics, val_losses, val_metrics)\n",
    "\n",
    "    if verbose:\n",
    "        print(f'Validation Accuracy: {val_metrics[-1]:.3f}')\n",
    "\n",
    "    return train_metrics[-1], val_metrics[-1]"
   ]
  },
  {
   "cell_type": "code",
   "execution_count": 14,
   "id": "34f5eb2b",
   "metadata": {},
   "outputs": [],
   "source": [
    "class BaseLineModel(nn.Module):\n",
    "    def __init__(self, input_size, hidden_size, output_size):\n",
    "        super(BaseLineModel, self).__init__()\n",
    "        # Первый слой\n",
    "        self.block1 = nn.Sequential(\n",
    "            nn.Linear(input_size, hidden_size),\n",
    "            nn.BatchNorm1d(hidden_size),\n",
    "            nn.ReLU(),\n",
    "            nn.Dropout(0.2)\n",
    "        )\n",
    "        \n",
    "        # Второй слой\n",
    "        self.block2 = nn.Sequential(\n",
    "            nn.Linear(hidden_size, hidden_size),\n",
    "            nn.BatchNorm1d(hidden_size),\n",
    "            nn.ReLU(),\n",
    "            nn.Dropout(0.2)\n",
    "        )\n",
    "        \n",
    "        # Третий слой\n",
    "        self.block3 = nn.Sequential(\n",
    "            nn.Linear(hidden_size, input_size),\n",
    "            nn.BatchNorm1d(input_size),\n",
    "            nn.ReLU(),\n",
    "            nn.Dropout(0.2)\n",
    "        )\n",
    "        \n",
    "        # Четвертый слой\n",
    "        self.block4 = nn.Sequential(\n",
    "            nn.Linear(input_size, input_size//4),\n",
    "            nn.BatchNorm1d(input_size//4),\n",
    "            nn.ReLU(),\n",
    "            nn.Dropout(0.2)\n",
    "        )\n",
    "        \n",
    "        # Выход\n",
    "        self.output_block = nn.Sequential(\n",
    "            nn.Linear(input_size//4, output_size),\n",
    "            nn.BatchNorm1d(output_size),\n",
    "            nn.Softmax(dim=1)  \n",
    "        )\n",
    "\n",
    "    def forward(self, x):\n",
    "        out = self.block1(x)\n",
    "        out = self.block2(out)\n",
    "        out = self.block3(out)\n",
    "        out = self.block4(out)\n",
    "        out = self.output_block(out)\n",
    "        return out"
   ]
  },
  {
   "cell_type": "code",
   "execution_count": 15,
   "id": "e926be26",
   "metadata": {},
   "outputs": [],
   "source": [
    "input_size = X_train.shape[1]\n",
    "hidden_size = input_size * 4\n",
    "output_size = 3\n",
    "batch_size = 256\n",
    "num_epochs = 80"
   ]
  },
  {
   "cell_type": "code",
   "execution_count": 16,
   "id": "6bc67aa7",
   "metadata": {},
   "outputs": [],
   "source": [
    "X_train_tensor = torch.tensor(X_train, dtype=torch.float32)\n",
    "y_train_tensor = torch.tensor(list(y_train), dtype=torch.int16)\n",
    "X_val_tensor = torch.tensor(X_test, dtype=torch.float32)\n",
    "y_val_tensor = torch.tensor(list(y_test), dtype=torch.int16)\n",
    "\n",
    "train_dataset = TensorDataset(X_train_tensor, y_train_tensor)\n",
    "val_dataset = TensorDataset(X_val_tensor, y_val_tensor)\n",
    "\n",
    "train_loader = DataLoader(train_dataset, batch_size=batch_size, shuffle=False)\n",
    "val_loader = DataLoader(val_dataset, batch_size=batch_size)"
   ]
  },
  {
   "cell_type": "code",
   "execution_count": 17,
   "id": "013926fe",
   "metadata": {},
   "outputs": [],
   "source": [
    "device = 'cuda' if torch.cuda.is_available() else 'cpu'\n",
    "model = BaseLineModel(input_size, hidden_size, output_size).to(device)\n",
    "\n",
    "optimizer = optim.Adam(model.parameters())\n",
    "criterion = nn.CrossEntropyLoss()\n",
    "metric = lambda outputs, targets: (outputs.argmax(dim=1) == targets).float().mean().item()"
   ]
  },
  {
   "cell_type": "code",
   "execution_count": 18,
   "id": "79e6c783",
   "metadata": {},
   "outputs": [
    {
     "name": "stdout",
     "output_type": "stream",
     "text": [
      "tensor(1.1105, device='cuda:0', grad_fn=<NllLossBackward0>)\n"
     ]
    }
   ],
   "source": [
    "for X_batch, y_batch in train_loader:   \n",
    "    X_batch, y_batch = X_batch.to(device), y_batch.to(device).long()\n",
    "    pred = model(X_batch)\n",
    "    loss = criterion(pred, y_batch)\n",
    "    print(loss)\n",
    "    break\n"
   ]
  },
  {
   "cell_type": "code",
   "execution_count": 19,
   "id": "cde53cef",
   "metadata": {},
   "outputs": [
    {
     "data": {
      "image/png": "[encoded data removed]",
      "text/plain": [
       "<Figure size 1500x500 with 2 Axes>"
      ]
     },
     "metadata": {},
     "output_type": "display_data"
    },
    {
     "name": "stdout",
     "output_type": "stream",
     "text": [
      "Validation Accuracy: 0.539\n"
     ]
    }
   ],
   "source": [
    "train_acc, val_acc = train_and_validate(model, optimizer, criterion, metric, train_loader, val_loader,\n",
    "                                         num_epochs=num_epochs, verbose=True, device=device)"
   ]
  },
  {
   "cell_type": "code",
   "execution_count": 20,
   "id": "5070db9b",
   "metadata": {},
   "outputs": [
    {
     "data": {
      "text/plain": [
       "0.4826602370906168"
      ]
     },
     "execution_count": 20,
     "metadata": {},
     "output_type": "execute_result"
    }
   ],
   "source": [
    "f1_score(y_val_tensor, model(X_val_tensor.to(device)).argmax(dim=1).cpu().detach().numpy(), average='weighted')"
   ]
  }
 ],
 "metadata": {
  "kernelspec": {
   "display_name": "Python 3 (ipykernel)",
   "language": "python",
   "name": "python3"
  },
  "language_info": {
   "codemirror_mode": {
    "name": "ipython",
    "version": 3
   },
   "file_extension": ".py",
   "mimetype": "text/x-python",
   "name": "python",
   "nbconvert_exporter": "python",
   "pygments_lexer": "ipython3",
   "version": "3.10.14"
  }
 },
 "nbformat": 4,
 "nbformat_minor": 5
}
