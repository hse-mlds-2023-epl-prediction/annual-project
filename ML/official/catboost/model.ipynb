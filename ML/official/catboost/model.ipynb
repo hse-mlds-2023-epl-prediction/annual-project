{
  "cells": [
    {
      "cell_type": "code",
      "execution_count": 2,
      "id": "93aaee34-c102-4de6-85ad-b14ecd137845",
      "metadata": {
        "id": "93aaee34-c102-4de6-85ad-b14ecd137845",
        "tags": []
      },
      "outputs": [],
      "source": [
        "import pandas as pd\n",
        "from sklearn.model_selection import GridSearchCV, PredefinedSplit\n",
        "from sklearn.metrics import accuracy_score\n",
        "import requests\n",
        "from urllib.parse import urlencode\n",
        "import numpy as np\n",
        "\n",
        "from sklearn.linear_model import LogisticRegression\n",
        "from pathlib import Path\n",
        "\n",
        "import warnings\n",
        "warnings.filterwarnings('ignore')\n"
      ]
    },
    {
      "cell_type": "code",
      "execution_count": 3,
      "id": "949ea7dc-fe2a-4183-b617-1843f3880864",
      "metadata": {
        "id": "949ea7dc-fe2a-4183-b617-1843f3880864",
        "tags": []
      },
      "outputs": [],
      "source": [
        "# используем api yandex disk\n",
        "base_url = 'https://cloud-api.yandex.net/v1/disk/public/resources/download?' \n",
        "public_key = 'https://disk.yandex.ru/d/jj6FG3ZFHdCWAQ' \n",
        " \n",
        "# получаем url \n",
        "final_url = base_url + urlencode(dict(public_key=public_key)) \n",
        "response = requests.get(final_url) \n",
        "download_url = response.json()['href'] "
      ]
    },
    {
      "cell_type": "code",
      "execution_count": 4,
      "id": "KQ1zAeHTOgES",
      "metadata": {
        "id": "KQ1zAeHTOgES"
      },
      "outputs": [],
      "source": [
        "matches = pd.read_csv(download_url)"
      ]
    },
    {
      "cell_type": "code",
      "execution_count": 5,
      "id": "68344a6c-12f0-4244-b24f-f162160638b0",
      "metadata": {
        "colab": {
          "base_uri": "https://localhost:8080/"
        },
        "id": "68344a6c-12f0-4244-b24f-f162160638b0",
        "outputId": "fc092282-c0af-4c73-fcd5-b66dba5a24eb"
      },
      "outputs": [
        {
          "name": "stderr",
          "output_type": "stream",
          "text": [
            "2024/01/17 20:22:22 INFO mlflow.tracking.fluent: Autologging successfully enabled for sklearn.\n"
          ]
        }
      ],
      "source": [
        "import mlflow\n",
        "\n",
        "mlflow.set_tracking_uri(uri=\"http://5.104.75.226:5000\")\n",
        "mlflow.set_experiment('EPL')\n",
        "\n",
        "mlflow.autolog()"
      ]
    },
    {
      "cell_type": "code",
      "execution_count": 6,
      "id": "7c8e323c-6e28-4640-a1cf-88d3f35fef3e",
      "metadata": {
        "colab": {
          "base_uri": "https://localhost:8080/",
          "height": 342
        },
        "id": "7c8e323c-6e28-4640-a1cf-88d3f35fef3e",
        "outputId": "e1bcb772-d3bf-4dc7-d23f-8656ef516e42",
        "tags": []
      },
      "outputs": [
        {
          "data": {
            "text/html": [
              "<div>\n",
              "<style scoped>\n",
              "    .dataframe tbody tr th:only-of-type {\n",
              "        vertical-align: middle;\n",
              "    }\n",
              "\n",
              "    .dataframe tbody tr th {\n",
              "        vertical-align: top;\n",
              "    }\n",
              "\n",
              "    .dataframe thead th {\n",
              "        text-align: right;\n",
              "    }\n",
              "</style>\n",
              "<table border=\"1\" class=\"dataframe\">\n",
              "  <thead>\n",
              "    <tr style=\"text-align: right;\">\n",
              "      <th></th>\n",
              "      <th>fbref_match_id</th>\n",
              "      <th>season</th>\n",
              "      <th>match_week</th>\n",
              "      <th>match_date</th>\n",
              "      <th>match_time</th>\n",
              "      <th>home_team_name</th>\n",
              "      <th>away_team_name</th>\n",
              "      <th>score</th>\n",
              "      <th>match_result</th>\n",
              "      <th>home_team_score</th>\n",
              "      <th>...</th>\n",
              "      <th>away_team_fouls</th>\n",
              "      <th>away_team_corners</th>\n",
              "      <th>away_team_crosses</th>\n",
              "      <th>away_team_touches</th>\n",
              "      <th>away_team_interceptions</th>\n",
              "      <th>away_team_aerials_won</th>\n",
              "      <th>away_team_offsides</th>\n",
              "      <th>away_team_goal_kicks</th>\n",
              "      <th>away_team_throw_ins</th>\n",
              "      <th>away_team_long_balls</th>\n",
              "    </tr>\n",
              "  </thead>\n",
              "  <tbody>\n",
              "    <tr>\n",
              "      <th>0</th>\n",
              "      <td>d192bd78</td>\n",
              "      <td>2014-2015</td>\n",
              "      <td>1</td>\n",
              "      <td>2014-08-16</td>\n",
              "      <td>12:45</td>\n",
              "      <td>Manchester United</td>\n",
              "      <td>Swansea City</td>\n",
              "      <td>1:2</td>\n",
              "      <td>A</td>\n",
              "      <td>1</td>\n",
              "      <td>...</td>\n",
              "      <td>14</td>\n",
              "      <td>NaN</td>\n",
              "      <td>28</td>\n",
              "      <td>NaN</td>\n",
              "      <td>17</td>\n",
              "      <td>NaN</td>\n",
              "      <td>1.0</td>\n",
              "      <td>NaN</td>\n",
              "      <td>NaN</td>\n",
              "      <td>NaN</td>\n",
              "    </tr>\n",
              "    <tr>\n",
              "      <th>1</th>\n",
              "      <td>0a235dd1</td>\n",
              "      <td>2014-2015</td>\n",
              "      <td>1</td>\n",
              "      <td>2014-08-16</td>\n",
              "      <td>15:00</td>\n",
              "      <td>Stoke City</td>\n",
              "      <td>Aston Villa</td>\n",
              "      <td>0:1</td>\n",
              "      <td>A</td>\n",
              "      <td>0</td>\n",
              "      <td>...</td>\n",
              "      <td>14</td>\n",
              "      <td>NaN</td>\n",
              "      <td>18</td>\n",
              "      <td>NaN</td>\n",
              "      <td>17</td>\n",
              "      <td>NaN</td>\n",
              "      <td>1.0</td>\n",
              "      <td>NaN</td>\n",
              "      <td>NaN</td>\n",
              "      <td>NaN</td>\n",
              "    </tr>\n",
              "    <tr>\n",
              "      <th>2</th>\n",
              "      <td>36e3a824</td>\n",
              "      <td>2014-2015</td>\n",
              "      <td>1</td>\n",
              "      <td>2014-08-16</td>\n",
              "      <td>15:00</td>\n",
              "      <td>Leicester City</td>\n",
              "      <td>Everton</td>\n",
              "      <td>2:2</td>\n",
              "      <td>D</td>\n",
              "      <td>2</td>\n",
              "      <td>...</td>\n",
              "      <td>16</td>\n",
              "      <td>NaN</td>\n",
              "      <td>16</td>\n",
              "      <td>NaN</td>\n",
              "      <td>18</td>\n",
              "      <td>NaN</td>\n",
              "      <td>NaN</td>\n",
              "      <td>NaN</td>\n",
              "      <td>NaN</td>\n",
              "      <td>NaN</td>\n",
              "    </tr>\n",
              "    <tr>\n",
              "      <th>3</th>\n",
              "      <td>49405949</td>\n",
              "      <td>2014-2015</td>\n",
              "      <td>1</td>\n",
              "      <td>2014-08-16</td>\n",
              "      <td>15:00</td>\n",
              "      <td>Queens Park Rangers</td>\n",
              "      <td>Hull City</td>\n",
              "      <td>0:1</td>\n",
              "      <td>A</td>\n",
              "      <td>0</td>\n",
              "      <td>...</td>\n",
              "      <td>7</td>\n",
              "      <td>NaN</td>\n",
              "      <td>33</td>\n",
              "      <td>NaN</td>\n",
              "      <td>10</td>\n",
              "      <td>NaN</td>\n",
              "      <td>0.0</td>\n",
              "      <td>NaN</td>\n",
              "      <td>NaN</td>\n",
              "      <td>NaN</td>\n",
              "    </tr>\n",
              "    <tr>\n",
              "      <th>4</th>\n",
              "      <td>5d6474b7</td>\n",
              "      <td>2014-2015</td>\n",
              "      <td>1</td>\n",
              "      <td>2014-08-16</td>\n",
              "      <td>15:00</td>\n",
              "      <td>West Ham United</td>\n",
              "      <td>Tottenham Hotspur</td>\n",
              "      <td>0:1</td>\n",
              "      <td>A</td>\n",
              "      <td>0</td>\n",
              "      <td>...</td>\n",
              "      <td>10</td>\n",
              "      <td>NaN</td>\n",
              "      <td>28</td>\n",
              "      <td>NaN</td>\n",
              "      <td>19</td>\n",
              "      <td>NaN</td>\n",
              "      <td>NaN</td>\n",
              "      <td>NaN</td>\n",
              "      <td>NaN</td>\n",
              "      <td>NaN</td>\n",
              "    </tr>\n",
              "  </tbody>\n",
              "</table>\n",
              "<p>5 rows × 65 columns</p>\n",
              "</div>"
            ],
            "text/plain": [
              "  fbref_match_id     season  match_week  match_date match_time  \\\n",
              "0       d192bd78  2014-2015           1  2014-08-16      12:45   \n",
              "1       0a235dd1  2014-2015           1  2014-08-16      15:00   \n",
              "2       36e3a824  2014-2015           1  2014-08-16      15:00   \n",
              "3       49405949  2014-2015           1  2014-08-16      15:00   \n",
              "4       5d6474b7  2014-2015           1  2014-08-16      15:00   \n",
              "\n",
              "        home_team_name     away_team_name score match_result  home_team_score  \\\n",
              "0    Manchester United       Swansea City   1:2            A                1   \n",
              "1           Stoke City        Aston Villa   0:1            A                0   \n",
              "2       Leicester City            Everton   2:2            D                2   \n",
              "3  Queens Park Rangers          Hull City   0:1            A                0   \n",
              "4      West Ham United  Tottenham Hotspur   0:1            A                0   \n",
              "\n",
              "   ...  away_team_fouls away_team_corners away_team_crosses away_team_touches  \\\n",
              "0  ...               14               NaN                28               NaN   \n",
              "1  ...               14               NaN                18               NaN   \n",
              "2  ...               16               NaN                16               NaN   \n",
              "3  ...                7               NaN                33               NaN   \n",
              "4  ...               10               NaN                28               NaN   \n",
              "\n",
              "  away_team_interceptions away_team_aerials_won away_team_offsides  \\\n",
              "0                      17                   NaN                1.0   \n",
              "1                      17                   NaN                1.0   \n",
              "2                      18                   NaN                NaN   \n",
              "3                      10                   NaN                0.0   \n",
              "4                      19                   NaN                NaN   \n",
              "\n",
              "  away_team_goal_kicks away_team_throw_ins away_team_long_balls  \n",
              "0                  NaN                 NaN                  NaN  \n",
              "1                  NaN                 NaN                  NaN  \n",
              "2                  NaN                 NaN                  NaN  \n",
              "3                  NaN                 NaN                  NaN  \n",
              "4                  NaN                 NaN                  NaN  \n",
              "\n",
              "[5 rows x 65 columns]"
            ]
          },
          "execution_count": 6,
          "metadata": {},
          "output_type": "execute_result"
        }
      ],
      "source": [
        "matches.head()"
      ]
    },
    {
      "cell_type": "code",
      "execution_count": 7,
      "id": "5243a114-a417-4a19-a71f-d5c3aa63978d",
      "metadata": {
        "colab": {
          "base_uri": "https://localhost:8080/"
        },
        "id": "5243a114-a417-4a19-a71f-d5c3aa63978d",
        "outputId": "1bc4e098-1884-404b-f735-d8799e402d59",
        "tags": []
      },
      "outputs": [
        {
          "data": {
            "text/plain": [
              "fbref_match_id            object\n",
              "season                    object\n",
              "match_week                 int64\n",
              "match_date                object\n",
              "match_time                object\n",
              "                          ...   \n",
              "away_team_aerials_won    float64\n",
              "away_team_offsides       float64\n",
              "away_team_goal_kicks     float64\n",
              "away_team_throw_ins      float64\n",
              "away_team_long_balls     float64\n",
              "Length: 65, dtype: object"
            ]
          },
          "execution_count": 7,
          "metadata": {},
          "output_type": "execute_result"
        }
      ],
      "source": [
        "matches.dtypes"
      ]
    },
    {
      "cell_type": "code",
      "execution_count": 8,
      "id": "4144996a-6bfb-4053-a7db-2316e3b611e4",
      "metadata": {
        "id": "4144996a-6bfb-4053-a7db-2316e3b611e4",
        "tags": []
      },
      "outputs": [],
      "source": [
        "matches['target'] = np.where(matches['match_result'] == 'H', 1, np.where(matches['match_result'] == 'D', 2, 0))"
      ]
    },
    {
      "cell_type": "code",
      "execution_count": 9,
      "id": "b7ce7ede-4162-4f2d-90fa-f9bdc0e245a4",
      "metadata": {
        "id": "b7ce7ede-4162-4f2d-90fa-f9bdc0e245a4",
        "tags": []
      },
      "outputs": [],
      "source": [
        "matches['match_date'] = pd.to_datetime(matches['match_date'])\n",
        "matches['year'] = matches['match_date'].apply(lambda time: time.year)\n",
        "matches['month'] = matches['match_date'].apply(lambda time: time.month)\n",
        "matches['hour'] = matches['match_time'].str.replace(':.+', '', regex=True).astype('int')"
      ]
    },
    {
      "cell_type": "code",
      "execution_count": 10,
      "id": "02cd251a",
      "metadata": {},
      "outputs": [],
      "source": [
        "features = ['home_team_name', 'away_team_name', 'year', 'month', 'hour', 'venue', 'home_team_manager', 'away_team_manager', 'season']\n",
        "df = matches[features]\n",
        "df['month'] = df['month'].astype('str')\n",
        "\n",
        "target = matches['target']"
      ]
    },
    {
      "cell_type": "code",
      "execution_count": 11,
      "id": "e1edf0ad-6f42-4365-bec5-80682788fb19",
      "metadata": {
        "id": "e1edf0ad-6f42-4365-bec5-80682788fb19",
        "tags": []
      },
      "outputs": [],
      "source": [
        "y_train = matches[matches['year'] != 2023]['target']\n",
        "y_val = matches[matches['year'] == 2023]['target']"
      ]
    },
    {
      "cell_type": "code",
      "execution_count": 12,
      "id": "-iAULq66ZpCh",
      "metadata": {
        "colab": {
          "base_uri": "https://localhost:8080/"
        },
        "id": "-iAULq66ZpCh",
        "outputId": "048b6075-8234-4082-9a85-bb2e06b7bc52"
      },
      "outputs": [
        {
          "data": {
            "text/html": [
              "<div>\n",
              "<style scoped>\n",
              "    .dataframe tbody tr th:only-of-type {\n",
              "        vertical-align: middle;\n",
              "    }\n",
              "\n",
              "    .dataframe tbody tr th {\n",
              "        vertical-align: top;\n",
              "    }\n",
              "\n",
              "    .dataframe thead th {\n",
              "        text-align: right;\n",
              "    }\n",
              "</style>\n",
              "<table border=\"1\" class=\"dataframe\">\n",
              "  <thead>\n",
              "    <tr style=\"text-align: right;\">\n",
              "      <th></th>\n",
              "      <th>year</th>\n",
              "      <th>hour</th>\n",
              "      <th>home_team_name_Aston Villa</th>\n",
              "      <th>home_team_name_Bournemouth</th>\n",
              "      <th>home_team_name_Brentford</th>\n",
              "      <th>home_team_name_Brighton &amp; Hove Albion</th>\n",
              "      <th>home_team_name_Burnley</th>\n",
              "      <th>home_team_name_Cardiff City</th>\n",
              "      <th>home_team_name_Chelsea</th>\n",
              "      <th>home_team_name_Crystal Palace</th>\n",
              "      <th>...</th>\n",
              "      <th>away_team_manager_Xisco</th>\n",
              "      <th>season_2015-2016</th>\n",
              "      <th>season_2016-2017</th>\n",
              "      <th>season_2017-2018</th>\n",
              "      <th>season_2018-2019</th>\n",
              "      <th>season_2019-2020</th>\n",
              "      <th>season_2020-2021</th>\n",
              "      <th>season_2021-2022</th>\n",
              "      <th>season_2022-2023</th>\n",
              "      <th>season_2023-2024</th>\n",
              "    </tr>\n",
              "  </thead>\n",
              "  <tbody>\n",
              "    <tr>\n",
              "      <th>0</th>\n",
              "      <td>2014</td>\n",
              "      <td>12</td>\n",
              "      <td>0</td>\n",
              "      <td>0</td>\n",
              "      <td>0</td>\n",
              "      <td>0</td>\n",
              "      <td>0</td>\n",
              "      <td>0</td>\n",
              "      <td>0</td>\n",
              "      <td>0</td>\n",
              "      <td>...</td>\n",
              "      <td>0</td>\n",
              "      <td>0</td>\n",
              "      <td>0</td>\n",
              "      <td>0</td>\n",
              "      <td>0</td>\n",
              "      <td>0</td>\n",
              "      <td>0</td>\n",
              "      <td>0</td>\n",
              "      <td>0</td>\n",
              "      <td>0</td>\n",
              "    </tr>\n",
              "    <tr>\n",
              "      <th>1</th>\n",
              "      <td>2014</td>\n",
              "      <td>15</td>\n",
              "      <td>0</td>\n",
              "      <td>0</td>\n",
              "      <td>0</td>\n",
              "      <td>0</td>\n",
              "      <td>0</td>\n",
              "      <td>0</td>\n",
              "      <td>0</td>\n",
              "      <td>0</td>\n",
              "      <td>...</td>\n",
              "      <td>0</td>\n",
              "      <td>0</td>\n",
              "      <td>0</td>\n",
              "      <td>0</td>\n",
              "      <td>0</td>\n",
              "      <td>0</td>\n",
              "      <td>0</td>\n",
              "      <td>0</td>\n",
              "      <td>0</td>\n",
              "      <td>0</td>\n",
              "    </tr>\n",
              "    <tr>\n",
              "      <th>2</th>\n",
              "      <td>2014</td>\n",
              "      <td>15</td>\n",
              "      <td>0</td>\n",
              "      <td>0</td>\n",
              "      <td>0</td>\n",
              "      <td>0</td>\n",
              "      <td>0</td>\n",
              "      <td>0</td>\n",
              "      <td>0</td>\n",
              "      <td>0</td>\n",
              "      <td>...</td>\n",
              "      <td>0</td>\n",
              "      <td>0</td>\n",
              "      <td>0</td>\n",
              "      <td>0</td>\n",
              "      <td>0</td>\n",
              "      <td>0</td>\n",
              "      <td>0</td>\n",
              "      <td>0</td>\n",
              "      <td>0</td>\n",
              "      <td>0</td>\n",
              "    </tr>\n",
              "    <tr>\n",
              "      <th>3</th>\n",
              "      <td>2014</td>\n",
              "      <td>15</td>\n",
              "      <td>0</td>\n",
              "      <td>0</td>\n",
              "      <td>0</td>\n",
              "      <td>0</td>\n",
              "      <td>0</td>\n",
              "      <td>0</td>\n",
              "      <td>0</td>\n",
              "      <td>0</td>\n",
              "      <td>...</td>\n",
              "      <td>0</td>\n",
              "      <td>0</td>\n",
              "      <td>0</td>\n",
              "      <td>0</td>\n",
              "      <td>0</td>\n",
              "      <td>0</td>\n",
              "      <td>0</td>\n",
              "      <td>0</td>\n",
              "      <td>0</td>\n",
              "      <td>0</td>\n",
              "    </tr>\n",
              "    <tr>\n",
              "      <th>4</th>\n",
              "      <td>2014</td>\n",
              "      <td>15</td>\n",
              "      <td>0</td>\n",
              "      <td>0</td>\n",
              "      <td>0</td>\n",
              "      <td>0</td>\n",
              "      <td>0</td>\n",
              "      <td>0</td>\n",
              "      <td>0</td>\n",
              "      <td>0</td>\n",
              "      <td>...</td>\n",
              "      <td>0</td>\n",
              "      <td>0</td>\n",
              "      <td>0</td>\n",
              "      <td>0</td>\n",
              "      <td>0</td>\n",
              "      <td>0</td>\n",
              "      <td>0</td>\n",
              "      <td>0</td>\n",
              "      <td>0</td>\n",
              "      <td>0</td>\n",
              "    </tr>\n",
              "  </tbody>\n",
              "</table>\n",
              "<p>5 rows × 359 columns</p>\n",
              "</div>"
            ],
            "text/plain": [
              "   year  hour  home_team_name_Aston Villa  home_team_name_Bournemouth  \\\n",
              "0  2014    12                           0                           0   \n",
              "1  2014    15                           0                           0   \n",
              "2  2014    15                           0                           0   \n",
              "3  2014    15                           0                           0   \n",
              "4  2014    15                           0                           0   \n",
              "\n",
              "   home_team_name_Brentford  home_team_name_Brighton & Hove Albion  \\\n",
              "0                         0                                      0   \n",
              "1                         0                                      0   \n",
              "2                         0                                      0   \n",
              "3                         0                                      0   \n",
              "4                         0                                      0   \n",
              "\n",
              "   home_team_name_Burnley  home_team_name_Cardiff City  \\\n",
              "0                       0                            0   \n",
              "1                       0                            0   \n",
              "2                       0                            0   \n",
              "3                       0                            0   \n",
              "4                       0                            0   \n",
              "\n",
              "   home_team_name_Chelsea  home_team_name_Crystal Palace  ...  \\\n",
              "0                       0                              0  ...   \n",
              "1                       0                              0  ...   \n",
              "2                       0                              0  ...   \n",
              "3                       0                              0  ...   \n",
              "4                       0                              0  ...   \n",
              "\n",
              "   away_team_manager_Xisco  season_2015-2016  season_2016-2017  \\\n",
              "0                        0                 0                 0   \n",
              "1                        0                 0                 0   \n",
              "2                        0                 0                 0   \n",
              "3                        0                 0                 0   \n",
              "4                        0                 0                 0   \n",
              "\n",
              "   season_2017-2018  season_2018-2019  season_2019-2020  season_2020-2021  \\\n",
              "0                 0                 0                 0                 0   \n",
              "1                 0                 0                 0                 0   \n",
              "2                 0                 0                 0                 0   \n",
              "3                 0                 0                 0                 0   \n",
              "4                 0                 0                 0                 0   \n",
              "\n",
              "   season_2021-2022  season_2022-2023  season_2023-2024  \n",
              "0                 0                 0                 0  \n",
              "1                 0                 0                 0  \n",
              "2                 0                 0                 0  \n",
              "3                 0                 0                 0  \n",
              "4                 0                 0                 0  \n",
              "\n",
              "[5 rows x 359 columns]"
            ]
          },
          "execution_count": 12,
          "metadata": {},
          "output_type": "execute_result"
        }
      ],
      "source": [
        "df_oh = pd.get_dummies(df, drop_first=True, dtype=int)\n",
        "\n",
        "x_train = df_oh[df_oh['year'] < 2023]\n",
        "x_val = df_oh[df_oh['year'] == 2023]\n",
        "\n",
        "df_oh.drop('year', axis=1)\n",
        "df_oh.head()"
      ]
    },
    {
      "cell_type": "code",
      "execution_count": 13,
      "id": "5a2b98e6-abf0-4c31-9ab8-3484ee6f5fe7",
      "metadata": {
        "id": "5a2b98e6-abf0-4c31-9ab8-3484ee6f5fe7",
        "tags": []
      },
      "outputs": [],
      "source": [
        "# Создание объекта PredefinedSplit\n",
        "val_fold = [-1] * len(x_train) + [0] * len(x_val)\n",
        "ps = PredefinedSplit(test_fold=val_fold)\n",
        "\n",
        "model = LogisticRegression(random_state=1)\n",
        "param_grid = {'C': [0.001, 0.01, 0.1, 1, 10, 100]}"
      ]
    },
    {
      "cell_type": "code",
      "execution_count": 14,
      "id": "GZhyrCG2VD_w",
      "metadata": {
        "id": "GZhyrCG2VD_w"
      },
      "outputs": [],
      "source": [
        "grid_search = GridSearchCV(estimator=model, param_grid=param_grid, scoring='accuracy', cv=ps)"
      ]
    },
    {
      "cell_type": "code",
      "execution_count": 15,
      "id": "EMwRAo5MUQqo",
      "metadata": {
        "colab": {
          "base_uri": "https://localhost:8080/",
          "height": 381
        },
        "id": "EMwRAo5MUQqo",
        "outputId": "79a574c5-d32c-4938-f0b7-2bb2b258a975"
      },
      "outputs": [
        {
          "name": "stderr",
          "output_type": "stream",
          "text": [
            "2024/01/17 20:22:23 INFO mlflow.utils.autologging_utils: Created MLflow autologging run with ID '6e3aa675ba4d448a868cea4ed4d30155', which will track hyperparameters, performance metrics, model artifacts, and lineage information for the current sklearn workflow\n",
            "2024/01/17 20:22:29 WARNING mlflow.models.model: Logging model metadata to the tracking server has failed. The model artifacts have been logged successfully under mlflow-artifacts:/5/6e3aa675ba4d448a868cea4ed4d30155/artifacts. Set logging level to DEBUG via `logging.getLogger(\"mlflow\").setLevel(logging.DEBUG)` to see the full traceback.\n",
            "2024/01/17 20:22:32 WARNING mlflow.models.model: Logging model metadata to the tracking server has failed. The model artifacts have been logged successfully under mlflow-artifacts:/5/6e3aa675ba4d448a868cea4ed4d30155/artifacts. Set logging level to DEBUG via `logging.getLogger(\"mlflow\").setLevel(logging.DEBUG)` to see the full traceback.\n",
            "2024/01/17 20:22:32 INFO mlflow.sklearn.utils: Logging the 5 best runs, one run will be omitted.\n"
          ]
        },
        {
          "data": {
            "text/html": [
              "<style>#sk-container-id-2 {color: black;}#sk-container-id-2 pre{padding: 0;}#sk-container-id-2 div.sk-toggleable {background-color: white;}#sk-container-id-2 label.sk-toggleable__label {cursor: pointer;display: block;width: 100%;margin-bottom: 0;padding: 0.3em;box-sizing: border-box;text-align: center;}#sk-container-id-2 label.sk-toggleable__label-arrow:before {content: \"▸\";float: left;margin-right: 0.25em;color: #696969;}#sk-container-id-2 label.sk-toggleable__label-arrow:hover:before {color: black;}#sk-container-id-2 div.sk-estimator:hover label.sk-toggleable__label-arrow:before {color: black;}#sk-container-id-2 div.sk-toggleable__content {max-height: 0;max-width: 0;overflow: hidden;text-align: left;background-color: #f0f8ff;}#sk-container-id-2 div.sk-toggleable__content pre {margin: 0.2em;color: black;border-radius: 0.25em;background-color: #f0f8ff;}#sk-container-id-2 input.sk-toggleable__control:checked~div.sk-toggleable__content {max-height: 200px;max-width: 100%;overflow: auto;}#sk-container-id-2 input.sk-toggleable__control:checked~label.sk-toggleable__label-arrow:before {content: \"▾\";}#sk-container-id-2 div.sk-estimator input.sk-toggleable__control:checked~label.sk-toggleable__label {background-color: #d4ebff;}#sk-container-id-2 div.sk-label input.sk-toggleable__control:checked~label.sk-toggleable__label {background-color: #d4ebff;}#sk-container-id-2 input.sk-hidden--visually {border: 0;clip: rect(1px 1px 1px 1px);clip: rect(1px, 1px, 1px, 1px);height: 1px;margin: -1px;overflow: hidden;padding: 0;position: absolute;width: 1px;}#sk-container-id-2 div.sk-estimator {font-family: monospace;background-color: #f0f8ff;border: 1px dotted black;border-radius: 0.25em;box-sizing: border-box;margin-bottom: 0.5em;}#sk-container-id-2 div.sk-estimator:hover {background-color: #d4ebff;}#sk-container-id-2 div.sk-parallel-item::after {content: \"\";width: 100%;border-bottom: 1px solid gray;flex-grow: 1;}#sk-container-id-2 div.sk-label:hover label.sk-toggleable__label {background-color: #d4ebff;}#sk-container-id-2 div.sk-serial::before {content: \"\";position: absolute;border-left: 1px solid gray;box-sizing: border-box;top: 0;bottom: 0;left: 50%;z-index: 0;}#sk-container-id-2 div.sk-serial {display: flex;flex-direction: column;align-items: center;background-color: white;padding-right: 0.2em;padding-left: 0.2em;position: relative;}#sk-container-id-2 div.sk-item {position: relative;z-index: 1;}#sk-container-id-2 div.sk-parallel {display: flex;align-items: stretch;justify-content: center;background-color: white;position: relative;}#sk-container-id-2 div.sk-item::before, #sk-container-id-2 div.sk-parallel-item::before {content: \"\";position: absolute;border-left: 1px solid gray;box-sizing: border-box;top: 0;bottom: 0;left: 50%;z-index: -1;}#sk-container-id-2 div.sk-parallel-item {display: flex;flex-direction: column;z-index: 1;position: relative;background-color: white;}#sk-container-id-2 div.sk-parallel-item:first-child::after {align-self: flex-end;width: 50%;}#sk-container-id-2 div.sk-parallel-item:last-child::after {align-self: flex-start;width: 50%;}#sk-container-id-2 div.sk-parallel-item:only-child::after {width: 0;}#sk-container-id-2 div.sk-dashed-wrapped {border: 1px dashed gray;margin: 0 0.4em 0.5em 0.4em;box-sizing: border-box;padding-bottom: 0.4em;background-color: white;}#sk-container-id-2 div.sk-label label {font-family: monospace;font-weight: bold;display: inline-block;line-height: 1.2em;}#sk-container-id-2 div.sk-label-container {text-align: center;}#sk-container-id-2 div.sk-container {/* jupyter's `normalize.less` sets `[hidden] { display: none; }` but bootstrap.min.css set `[hidden] { display: none !important; }` so we also need the `!important` here to be able to override the default hidden behavior on the sphinx rendered scikit-learn.org. See: https://github.com/scikit-learn/scikit-learn/issues/21755 */display: inline-block !important;position: relative;}#sk-container-id-2 div.sk-text-repr-fallback {display: none;}</style><div id=\"sk-container-id-2\" class=\"sk-top-container\"><div class=\"sk-text-repr-fallback\"><pre>GridSearchCV(cv=PredefinedSplit(test_fold=array([-1, -1, ...,  0,  0])),\n",
              "             estimator=LogisticRegression(random_state=1),\n",
              "             param_grid={&#x27;C&#x27;: [0.001, 0.01, 0.1, 1, 10, 100]},\n",
              "             scoring=&#x27;accuracy&#x27;)</pre><b>In a Jupyter environment, please rerun this cell to show the HTML representation or trust the notebook. <br />On GitHub, the HTML representation is unable to render, please try loading this page with nbviewer.org.</b></div><div class=\"sk-container\" hidden><div class=\"sk-item sk-dashed-wrapped\"><div class=\"sk-label-container\"><div class=\"sk-label sk-toggleable\"><input class=\"sk-toggleable__control sk-hidden--visually\" id=\"sk-estimator-id-4\" type=\"checkbox\" ><label for=\"sk-estimator-id-4\" class=\"sk-toggleable__label sk-toggleable__label-arrow\">GridSearchCV</label><div class=\"sk-toggleable__content\"><pre>GridSearchCV(cv=PredefinedSplit(test_fold=array([-1, -1, ...,  0,  0])),\n",
              "             estimator=LogisticRegression(random_state=1),\n",
              "             param_grid={&#x27;C&#x27;: [0.001, 0.01, 0.1, 1, 10, 100]},\n",
              "             scoring=&#x27;accuracy&#x27;)</pre></div></div></div><div class=\"sk-parallel\"><div class=\"sk-parallel-item\"><div class=\"sk-item\"><div class=\"sk-label-container\"><div class=\"sk-label sk-toggleable\"><input class=\"sk-toggleable__control sk-hidden--visually\" id=\"sk-estimator-id-5\" type=\"checkbox\" ><label for=\"sk-estimator-id-5\" class=\"sk-toggleable__label sk-toggleable__label-arrow\">estimator: LogisticRegression</label><div class=\"sk-toggleable__content\"><pre>LogisticRegression(random_state=1)</pre></div></div></div><div class=\"sk-serial\"><div class=\"sk-item\"><div class=\"sk-estimator sk-toggleable\"><input class=\"sk-toggleable__control sk-hidden--visually\" id=\"sk-estimator-id-6\" type=\"checkbox\" ><label for=\"sk-estimator-id-6\" class=\"sk-toggleable__label sk-toggleable__label-arrow\">LogisticRegression</label><div class=\"sk-toggleable__content\"><pre>LogisticRegression(random_state=1)</pre></div></div></div></div></div></div></div></div></div></div>"
            ],
            "text/plain": [
              "GridSearchCV(cv=PredefinedSplit(test_fold=array([-1, -1, ...,  0,  0])),\n",
              "             estimator=LogisticRegression(random_state=1),\n",
              "             param_grid={'C': [0.001, 0.01, 0.1, 1, 10, 100]},\n",
              "             scoring='accuracy')"
            ]
          },
          "execution_count": 15,
          "metadata": {},
          "output_type": "execute_result"
        }
      ],
      "source": [
        "grid_search.fit(df_oh, target)"
      ]
    },
    {
      "cell_type": "code",
      "execution_count": 16,
      "id": "glPeX3cFZ0p8",
      "metadata": {
        "colab": {
          "base_uri": "https://localhost:8080/"
        },
        "id": "glPeX3cFZ0p8",
        "outputId": "eb8013da-07f2-4e62-f3c5-20b8b9003667"
      },
      "outputs": [
        {
          "data": {
            "text/plain": [
              "0.5327380952380952"
            ]
          },
          "execution_count": 16,
          "metadata": {},
          "output_type": "execute_result"
        }
      ],
      "source": [
        "grid_search.best_score_"
      ]
    },
    {
      "cell_type": "code",
      "execution_count": 17,
      "id": "lp-tkynMZ7Qn",
      "metadata": {
        "colab": {
          "base_uri": "https://localhost:8080/"
        },
        "id": "lp-tkynMZ7Qn",
        "outputId": "ea4c3393-acfe-45d0-bd66-5f49db54f91f"
      },
      "outputs": [
        {
          "data": {
            "text/plain": [
              "{'C': 0.1}"
            ]
          },
          "execution_count": 17,
          "metadata": {},
          "output_type": "execute_result"
        }
      ],
      "source": [
        "grid_search.best_params_"
      ]
    },
    {
      "cell_type": "code",
      "execution_count": 18,
      "id": "2pWlIO2Car2A",
      "metadata": {
        "colab": {
          "base_uri": "https://localhost:8080/"
        },
        "id": "2pWlIO2Car2A",
        "outputId": "c3f9bf4c-f86c-426d-c2ef-5d8b148a366d"
      },
      "outputs": [
        {
          "data": {
            "text/plain": [
              "make_scorer(accuracy_score)"
            ]
          },
          "execution_count": 18,
          "metadata": {},
          "output_type": "execute_result"
        }
      ],
      "source": [
        "grid_search.scorer_"
      ]
    },
    {
      "cell_type": "code",
      "execution_count": 19,
      "id": "9a03103c",
      "metadata": {},
      "outputs": [
        {
          "name": "stderr",
          "output_type": "stream",
          "text": [
            "2024/01/17 20:22:33 INFO mlflow.utils.autologging_utils: Created MLflow autologging run with ID '841dc4cda11a473bbaa83114db5619e0', which will track hyperparameters, performance metrics, model artifacts, and lineage information for the current sklearn workflow\n",
            "2024/01/17 20:22:37 WARNING mlflow.models.model: Logging model metadata to the tracking server has failed. The model artifacts have been logged successfully under mlflow-artifacts:/5/841dc4cda11a473bbaa83114db5619e0/artifacts. Set logging level to DEBUG via `logging.getLogger(\"mlflow\").setLevel(logging.DEBUG)` to see the full traceback.\n"
          ]
        },
        {
          "data": {
            "text/plain": [
              "0.5327380952380952"
            ]
          },
          "execution_count": 19,
          "metadata": {},
          "output_type": "execute_result"
        }
      ],
      "source": [
        "model = LogisticRegression(C=0.1, random_state=1)\n",
        "model.fit(x_train, y_train)\n",
        "predict = model.predict(x_val)\n",
        "accuracy_score(y_val, predict)"
      ]
    },
    {
      "cell_type": "code",
      "execution_count": 20,
      "id": "MLJ0TNgnetXO",
      "metadata": {
        "id": "MLJ0TNgnetXO"
      },
      "outputs": [],
      "source": [
        "import pandas as pd\n",
        "from catboost import CatBoostClassifier"
      ]
    },
    {
      "cell_type": "code",
      "execution_count": 21,
      "id": "VKkg2Mb2gsrG",
      "metadata": {
        "id": "VKkg2Mb2gsrG"
      },
      "outputs": [],
      "source": [
        "x_val = df[df['year']==2023][features]\n",
        "x_train = df[df['year']!=2023][features]"
      ]
    },
    {
      "cell_type": "code",
      "execution_count": 22,
      "id": "1fa938b0",
      "metadata": {},
      "outputs": [],
      "source": [
        "cat = [col for col in df.columns if col not in ['year', 'hour']]"
      ]
    },
    {
      "cell_type": "code",
      "execution_count": 23,
      "id": "LvqyCUruhMyT",
      "metadata": {
        "colab": {
          "base_uri": "https://localhost:8080/",
          "height": 34,
          "referenced_widgets": [
            "144666f5b42b4d4a8549eef715cd789e"
          ]
        },
        "id": "LvqyCUruhMyT",
        "outputId": "5cbb0881-bc66-4abb-a455-6c41b986bd50"
      },
      "outputs": [
        {
          "data": {
            "text/plain": [
              "0.5446428571428571"
            ]
          },
          "execution_count": 23,
          "metadata": {},
          "output_type": "execute_result"
        }
      ],
      "source": [
        "model_cat = CatBoostClassifier(learning_rate=0.001)\n",
        "model_cat.fit(x_train, y_train, cat_features=cat, verbose=False)\n",
        "pred = model_cat.predict(x_val)\n",
        "accuracy_score(y_val, pred)"
      ]
    },
    {
      "cell_type": "code",
      "execution_count": 24,
      "id": "41689a4d",
      "metadata": {},
      "outputs": [],
      "source": [
        "param_grid = {\n",
        "    'learning_rate': [0.0005, 0.001, 0.005, 0.02],\n",
        "    'depth': [4, 6, 8],\n",
        "    'l2_leaf_reg': [3, 5, 7, 9]\n",
        "}\n",
        "grid_search = GridSearchCV(estimator=model_cat, param_grid=param_grid, scoring='accuracy', cv=ps)"
      ]
    },
    {
      "cell_type": "code",
      "execution_count": 25,
      "id": "0fcc73d3",
      "metadata": {},
      "outputs": [
        {
          "name": "stderr",
          "output_type": "stream",
          "text": [
            "2024/01/17 20:22:41 INFO mlflow.utils.autologging_utils: Created MLflow autologging run with ID '31af82734ab3466b961be3934b1682b8', which will track hyperparameters, performance metrics, model artifacts, and lineage information for the current sklearn workflow\n"
          ]
        },
        {
          "data": {
            "application/vnd.jupyter.widget-view+json": {
              "model_id": "8b2765a64a5d493889e80dfddbccae4d",
              "version_major": 2,
              "version_minor": 0
            },
            "text/plain": [
              "MetricVisualizer(layout=Layout(align_self='stretch', height='500px'))"
            ]
          },
          "metadata": {},
          "output_type": "display_data"
        },
        {
          "data": {
            "application/vnd.jupyter.widget-view+json": {
              "model_id": "2291f33d351a401d8daed72cc1efbf42",
              "version_major": 2,
              "version_minor": 0
            },
            "text/plain": [
              "MetricVisualizer(layout=Layout(align_self='stretch', height='500px'))"
            ]
          },
          "metadata": {},
          "output_type": "display_data"
        },
        {
          "data": {
            "application/vnd.jupyter.widget-view+json": {
              "model_id": "42bec14a32664abbbf14c4ba80525c71",
              "version_major": 2,
              "version_minor": 0
            },
            "text/plain": [
              "MetricVisualizer(layout=Layout(align_self='stretch', height='500px'))"
            ]
          },
          "metadata": {},
          "output_type": "display_data"
        },
        {
          "data": {
            "application/vnd.jupyter.widget-view+json": {
              "model_id": "03f9e81a80f847e99e93785b6e910b6d",
              "version_major": 2,
              "version_minor": 0
            },
            "text/plain": [
              "MetricVisualizer(layout=Layout(align_self='stretch', height='500px'))"
            ]
          },
          "metadata": {},
          "output_type": "display_data"
        },
        {
          "data": {
            "application/vnd.jupyter.widget-view+json": {
              "model_id": "d70dab81b4564367b396778f2abcbafe",
              "version_major": 2,
              "version_minor": 0
            },
            "text/plain": [
              "MetricVisualizer(layout=Layout(align_self='stretch', height='500px'))"
            ]
          },
          "metadata": {},
          "output_type": "display_data"
        },
        {
          "data": {
            "application/vnd.jupyter.widget-view+json": {
              "model_id": "7ba57909210f420c81e26ea74787b06f",
              "version_major": 2,
              "version_minor": 0
            },
            "text/plain": [
              "MetricVisualizer(layout=Layout(align_self='stretch', height='500px'))"
            ]
          },
          "metadata": {},
          "output_type": "display_data"
        },
        {
          "data": {
            "application/vnd.jupyter.widget-view+json": {
              "model_id": "10ce13e32ec7436e93530793f53b71bd",
              "version_major": 2,
              "version_minor": 0
            },
            "text/plain": [
              "MetricVisualizer(layout=Layout(align_self='stretch', height='500px'))"
            ]
          },
          "metadata": {},
          "output_type": "display_data"
        },
        {
          "data": {
            "application/vnd.jupyter.widget-view+json": {
              "model_id": "43ba6b7ea4c340bbae1382424c493ce1",
              "version_major": 2,
              "version_minor": 0
            },
            "text/plain": [
              "MetricVisualizer(layout=Layout(align_self='stretch', height='500px'))"
            ]
          },
          "metadata": {},
          "output_type": "display_data"
        },
        {
          "data": {
            "application/vnd.jupyter.widget-view+json": {
              "model_id": "ab66497187b34b2e84e8a315d318fec2",
              "version_major": 2,
              "version_minor": 0
            },
            "text/plain": [
              "MetricVisualizer(layout=Layout(align_self='stretch', height='500px'))"
            ]
          },
          "metadata": {},
          "output_type": "display_data"
        },
        {
          "data": {
            "application/vnd.jupyter.widget-view+json": {
              "model_id": "5289f259f6394763a672fa1a1e948a95",
              "version_major": 2,
              "version_minor": 0
            },
            "text/plain": [
              "MetricVisualizer(layout=Layout(align_self='stretch', height='500px'))"
            ]
          },
          "metadata": {},
          "output_type": "display_data"
        },
        {
          "data": {
            "application/vnd.jupyter.widget-view+json": {
              "model_id": "d5d8e9980c27496a8f5bdf115f18f0ab",
              "version_major": 2,
              "version_minor": 0
            },
            "text/plain": [
              "MetricVisualizer(layout=Layout(align_self='stretch', height='500px'))"
            ]
          },
          "metadata": {},
          "output_type": "display_data"
        },
        {
          "data": {
            "application/vnd.jupyter.widget-view+json": {
              "model_id": "ee514284a4b2418491a0353b8d1f3f98",
              "version_major": 2,
              "version_minor": 0
            },
            "text/plain": [
              "MetricVisualizer(layout=Layout(align_self='stretch', height='500px'))"
            ]
          },
          "metadata": {},
          "output_type": "display_data"
        },
        {
          "data": {
            "application/vnd.jupyter.widget-view+json": {
              "model_id": "e981bb7387514b9784312dbc89aa95b4",
              "version_major": 2,
              "version_minor": 0
            },
            "text/plain": [
              "MetricVisualizer(layout=Layout(align_self='stretch', height='500px'))"
            ]
          },
          "metadata": {},
          "output_type": "display_data"
        },
        {
          "data": {
            "application/vnd.jupyter.widget-view+json": {
              "model_id": "6aa1e00b78f24c509be1f6f10172b1d8",
              "version_major": 2,
              "version_minor": 0
            },
            "text/plain": [
              "MetricVisualizer(layout=Layout(align_self='stretch', height='500px'))"
            ]
          },
          "metadata": {},
          "output_type": "display_data"
        },
        {
          "data": {
            "application/vnd.jupyter.widget-view+json": {
              "model_id": "f364d27e07964a04bb8db99cf1919080",
              "version_major": 2,
              "version_minor": 0
            },
            "text/plain": [
              "MetricVisualizer(layout=Layout(align_self='stretch', height='500px'))"
            ]
          },
          "metadata": {},
          "output_type": "display_data"
        },
        {
          "data": {
            "application/vnd.jupyter.widget-view+json": {
              "model_id": "84bb3d20dfd14afe8893f94cab7f543c",
              "version_major": 2,
              "version_minor": 0
            },
            "text/plain": [
              "MetricVisualizer(layout=Layout(align_self='stretch', height='500px'))"
            ]
          },
          "metadata": {},
          "output_type": "display_data"
        },
        {
          "data": {
            "application/vnd.jupyter.widget-view+json": {
              "model_id": "d8a2076d356147b4b6525ccb9889e210",
              "version_major": 2,
              "version_minor": 0
            },
            "text/plain": [
              "MetricVisualizer(layout=Layout(align_self='stretch', height='500px'))"
            ]
          },
          "metadata": {},
          "output_type": "display_data"
        },
        {
          "data": {
            "application/vnd.jupyter.widget-view+json": {
              "model_id": "24f2eeb697ec41e9814dd3a4a0f99a3b",
              "version_major": 2,
              "version_minor": 0
            },
            "text/plain": [
              "MetricVisualizer(layout=Layout(align_self='stretch', height='500px'))"
            ]
          },
          "metadata": {},
          "output_type": "display_data"
        },
        {
          "data": {
            "application/vnd.jupyter.widget-view+json": {
              "model_id": "c67c471dd76141ebb293dd0ca9c5aee0",
              "version_major": 2,
              "version_minor": 0
            },
            "text/plain": [
              "MetricVisualizer(layout=Layout(align_self='stretch', height='500px'))"
            ]
          },
          "metadata": {},
          "output_type": "display_data"
        },
        {
          "data": {
            "application/vnd.jupyter.widget-view+json": {
              "model_id": "1a5370e3f1b1489b8f15bc69425ed938",
              "version_major": 2,
              "version_minor": 0
            },
            "text/plain": [
              "MetricVisualizer(layout=Layout(align_self='stretch', height='500px'))"
            ]
          },
          "metadata": {},
          "output_type": "display_data"
        },
        {
          "data": {
            "application/vnd.jupyter.widget-view+json": {
              "model_id": "c7eb0b5c1742481aa09db0314ff1b487",
              "version_major": 2,
              "version_minor": 0
            },
            "text/plain": [
              "MetricVisualizer(layout=Layout(align_self='stretch', height='500px'))"
            ]
          },
          "metadata": {},
          "output_type": "display_data"
        },
        {
          "data": {
            "application/vnd.jupyter.widget-view+json": {
              "model_id": "4a6208e580a74ec0b1d2280a2eeadc45",
              "version_major": 2,
              "version_minor": 0
            },
            "text/plain": [
              "MetricVisualizer(layout=Layout(align_self='stretch', height='500px'))"
            ]
          },
          "metadata": {},
          "output_type": "display_data"
        },
        {
          "data": {
            "application/vnd.jupyter.widget-view+json": {
              "model_id": "d0fad64d5934422490da8aaa73e1a1d3",
              "version_major": 2,
              "version_minor": 0
            },
            "text/plain": [
              "MetricVisualizer(layout=Layout(align_self='stretch', height='500px'))"
            ]
          },
          "metadata": {},
          "output_type": "display_data"
        },
        {
          "data": {
            "application/vnd.jupyter.widget-view+json": {
              "model_id": "4ea56dcd554643f9babe77d01a32ae5f",
              "version_major": 2,
              "version_minor": 0
            },
            "text/plain": [
              "MetricVisualizer(layout=Layout(align_self='stretch', height='500px'))"
            ]
          },
          "metadata": {},
          "output_type": "display_data"
        },
        {
          "data": {
            "application/vnd.jupyter.widget-view+json": {
              "model_id": "45d5d58a89b142c298e2c8e94277ab37",
              "version_major": 2,
              "version_minor": 0
            },
            "text/plain": [
              "MetricVisualizer(layout=Layout(align_self='stretch', height='500px'))"
            ]
          },
          "metadata": {},
          "output_type": "display_data"
        },
        {
          "data": {
            "application/vnd.jupyter.widget-view+json": {
              "model_id": "66d1fe1ef448473096f7b0b61a5225d7",
              "version_major": 2,
              "version_minor": 0
            },
            "text/plain": [
              "MetricVisualizer(layout=Layout(align_self='stretch', height='500px'))"
            ]
          },
          "metadata": {},
          "output_type": "display_data"
        },
        {
          "data": {
            "application/vnd.jupyter.widget-view+json": {
              "model_id": "8504ca7c8b9d425dbda3657a771eeb75",
              "version_major": 2,
              "version_minor": 0
            },
            "text/plain": [
              "MetricVisualizer(layout=Layout(align_self='stretch', height='500px'))"
            ]
          },
          "metadata": {},
          "output_type": "display_data"
        },
        {
          "data": {
            "application/vnd.jupyter.widget-view+json": {
              "model_id": "10daa37336f84a7bb3e4c2b740576d0d",
              "version_major": 2,
              "version_minor": 0
            },
            "text/plain": [
              "MetricVisualizer(layout=Layout(align_self='stretch', height='500px'))"
            ]
          },
          "metadata": {},
          "output_type": "display_data"
        },
        {
          "data": {
            "application/vnd.jupyter.widget-view+json": {
              "model_id": "2ff10f635fef4dea8ef53a4171738d0a",
              "version_major": 2,
              "version_minor": 0
            },
            "text/plain": [
              "MetricVisualizer(layout=Layout(align_self='stretch', height='500px'))"
            ]
          },
          "metadata": {},
          "output_type": "display_data"
        },
        {
          "data": {
            "application/vnd.jupyter.widget-view+json": {
              "model_id": "8e053e5413904454884ed8106e4a36c6",
              "version_major": 2,
              "version_minor": 0
            },
            "text/plain": [
              "MetricVisualizer(layout=Layout(align_self='stretch', height='500px'))"
            ]
          },
          "metadata": {},
          "output_type": "display_data"
        },
        {
          "data": {
            "application/vnd.jupyter.widget-view+json": {
              "model_id": "5280c0d8eea9475cb266dc7ca66a2e13",
              "version_major": 2,
              "version_minor": 0
            },
            "text/plain": [
              "MetricVisualizer(layout=Layout(align_self='stretch', height='500px'))"
            ]
          },
          "metadata": {},
          "output_type": "display_data"
        },
        {
          "data": {
            "application/vnd.jupyter.widget-view+json": {
              "model_id": "3134e6030089437f8a538c5b663f565b",
              "version_major": 2,
              "version_minor": 0
            },
            "text/plain": [
              "MetricVisualizer(layout=Layout(align_self='stretch', height='500px'))"
            ]
          },
          "metadata": {},
          "output_type": "display_data"
        },
        {
          "data": {
            "application/vnd.jupyter.widget-view+json": {
              "model_id": "4b4d00b3bb7041c794f6d5332151d465",
              "version_major": 2,
              "version_minor": 0
            },
            "text/plain": [
              "MetricVisualizer(layout=Layout(align_self='stretch', height='500px'))"
            ]
          },
          "metadata": {},
          "output_type": "display_data"
        },
        {
          "data": {
            "application/vnd.jupyter.widget-view+json": {
              "model_id": "6eef308179004f6b83b31a39eb84172c",
              "version_major": 2,
              "version_minor": 0
            },
            "text/plain": [
              "MetricVisualizer(layout=Layout(align_self='stretch', height='500px'))"
            ]
          },
          "metadata": {},
          "output_type": "display_data"
        },
        {
          "data": {
            "application/vnd.jupyter.widget-view+json": {
              "model_id": "2a5aa161ff354f40bf4dd630387a63e3",
              "version_major": 2,
              "version_minor": 0
            },
            "text/plain": [
              "MetricVisualizer(layout=Layout(align_self='stretch', height='500px'))"
            ]
          },
          "metadata": {},
          "output_type": "display_data"
        },
        {
          "data": {
            "application/vnd.jupyter.widget-view+json": {
              "model_id": "ecb59766df364a1e9ad62b59a823a167",
              "version_major": 2,
              "version_minor": 0
            },
            "text/plain": [
              "MetricVisualizer(layout=Layout(align_self='stretch', height='500px'))"
            ]
          },
          "metadata": {},
          "output_type": "display_data"
        },
        {
          "data": {
            "application/vnd.jupyter.widget-view+json": {
              "model_id": "70b6be11e47346bc948cab89d208e927",
              "version_major": 2,
              "version_minor": 0
            },
            "text/plain": [
              "MetricVisualizer(layout=Layout(align_self='stretch', height='500px'))"
            ]
          },
          "metadata": {},
          "output_type": "display_data"
        },
        {
          "data": {
            "application/vnd.jupyter.widget-view+json": {
              "model_id": "649c5a8474f34094ad20858e159849d6",
              "version_major": 2,
              "version_minor": 0
            },
            "text/plain": [
              "MetricVisualizer(layout=Layout(align_self='stretch', height='500px'))"
            ]
          },
          "metadata": {},
          "output_type": "display_data"
        },
        {
          "data": {
            "application/vnd.jupyter.widget-view+json": {
              "model_id": "0a3f6cac88c245b193c40bb93cdaf2d1",
              "version_major": 2,
              "version_minor": 0
            },
            "text/plain": [
              "MetricVisualizer(layout=Layout(align_self='stretch', height='500px'))"
            ]
          },
          "metadata": {},
          "output_type": "display_data"
        },
        {
          "data": {
            "application/vnd.jupyter.widget-view+json": {
              "model_id": "e38ce35ac8c24af19616e1de5116c93a",
              "version_major": 2,
              "version_minor": 0
            },
            "text/plain": [
              "MetricVisualizer(layout=Layout(align_self='stretch', height='500px'))"
            ]
          },
          "metadata": {},
          "output_type": "display_data"
        },
        {
          "data": {
            "application/vnd.jupyter.widget-view+json": {
              "model_id": "2bf0ce297dfb45cea88323af62beced7",
              "version_major": 2,
              "version_minor": 0
            },
            "text/plain": [
              "MetricVisualizer(layout=Layout(align_self='stretch', height='500px'))"
            ]
          },
          "metadata": {},
          "output_type": "display_data"
        },
        {
          "data": {
            "application/vnd.jupyter.widget-view+json": {
              "model_id": "118957cc966149898b56509fb3ef62ca",
              "version_major": 2,
              "version_minor": 0
            },
            "text/plain": [
              "MetricVisualizer(layout=Layout(align_self='stretch', height='500px'))"
            ]
          },
          "metadata": {},
          "output_type": "display_data"
        },
        {
          "data": {
            "application/vnd.jupyter.widget-view+json": {
              "model_id": "52735b43cbfc46618061a73bd4829df2",
              "version_major": 2,
              "version_minor": 0
            },
            "text/plain": [
              "MetricVisualizer(layout=Layout(align_self='stretch', height='500px'))"
            ]
          },
          "metadata": {},
          "output_type": "display_data"
        },
        {
          "data": {
            "application/vnd.jupyter.widget-view+json": {
              "model_id": "faa186075e7c416c8a045925856e34d2",
              "version_major": 2,
              "version_minor": 0
            },
            "text/plain": [
              "MetricVisualizer(layout=Layout(align_self='stretch', height='500px'))"
            ]
          },
          "metadata": {},
          "output_type": "display_data"
        },
        {
          "data": {
            "application/vnd.jupyter.widget-view+json": {
              "model_id": "73b36ffa98e546e5b99ec38245fb700f",
              "version_major": 2,
              "version_minor": 0
            },
            "text/plain": [
              "MetricVisualizer(layout=Layout(align_self='stretch', height='500px'))"
            ]
          },
          "metadata": {},
          "output_type": "display_data"
        },
        {
          "data": {
            "application/vnd.jupyter.widget-view+json": {
              "model_id": "d1d490296dc44ecfb0712fc13cf475ec",
              "version_major": 2,
              "version_minor": 0
            },
            "text/plain": [
              "MetricVisualizer(layout=Layout(align_self='stretch', height='500px'))"
            ]
          },
          "metadata": {},
          "output_type": "display_data"
        },
        {
          "data": {
            "application/vnd.jupyter.widget-view+json": {
              "model_id": "a8cc870c5ce849ccae7349927cbf38c1",
              "version_major": 2,
              "version_minor": 0
            },
            "text/plain": [
              "MetricVisualizer(layout=Layout(align_self='stretch', height='500px'))"
            ]
          },
          "metadata": {},
          "output_type": "display_data"
        },
        {
          "data": {
            "application/vnd.jupyter.widget-view+json": {
              "model_id": "197b1179ccd24b2ea9fb7f04182c9d3a",
              "version_major": 2,
              "version_minor": 0
            },
            "text/plain": [
              "MetricVisualizer(layout=Layout(align_self='stretch', height='500px'))"
            ]
          },
          "metadata": {},
          "output_type": "display_data"
        },
        {
          "data": {
            "application/vnd.jupyter.widget-view+json": {
              "model_id": "d59207e9a91945d1aba31e56d16f0237",
              "version_major": 2,
              "version_minor": 0
            },
            "text/plain": [
              "MetricVisualizer(layout=Layout(align_self='stretch', height='500px'))"
            ]
          },
          "metadata": {},
          "output_type": "display_data"
        },
        {
          "name": "stderr",
          "output_type": "stream",
          "text": [
            "2024/01/17 20:25:37 INFO mlflow.sklearn.utils: Logging the 5 best runs, 43 runs will be omitted.\n"
          ]
        },
        {
          "data": {
            "text/html": [
              "<style>#sk-container-id-5 {color: black;}#sk-container-id-5 pre{padding: 0;}#sk-container-id-5 div.sk-toggleable {background-color: white;}#sk-container-id-5 label.sk-toggleable__label {cursor: pointer;display: block;width: 100%;margin-bottom: 0;padding: 0.3em;box-sizing: border-box;text-align: center;}#sk-container-id-5 label.sk-toggleable__label-arrow:before {content: \"▸\";float: left;margin-right: 0.25em;color: #696969;}#sk-container-id-5 label.sk-toggleable__label-arrow:hover:before {color: black;}#sk-container-id-5 div.sk-estimator:hover label.sk-toggleable__label-arrow:before {color: black;}#sk-container-id-5 div.sk-toggleable__content {max-height: 0;max-width: 0;overflow: hidden;text-align: left;background-color: #f0f8ff;}#sk-container-id-5 div.sk-toggleable__content pre {margin: 0.2em;color: black;border-radius: 0.25em;background-color: #f0f8ff;}#sk-container-id-5 input.sk-toggleable__control:checked~div.sk-toggleable__content {max-height: 200px;max-width: 100%;overflow: auto;}#sk-container-id-5 input.sk-toggleable__control:checked~label.sk-toggleable__label-arrow:before {content: \"▾\";}#sk-container-id-5 div.sk-estimator input.sk-toggleable__control:checked~label.sk-toggleable__label {background-color: #d4ebff;}#sk-container-id-5 div.sk-label input.sk-toggleable__control:checked~label.sk-toggleable__label {background-color: #d4ebff;}#sk-container-id-5 input.sk-hidden--visually {border: 0;clip: rect(1px 1px 1px 1px);clip: rect(1px, 1px, 1px, 1px);height: 1px;margin: -1px;overflow: hidden;padding: 0;position: absolute;width: 1px;}#sk-container-id-5 div.sk-estimator {font-family: monospace;background-color: #f0f8ff;border: 1px dotted black;border-radius: 0.25em;box-sizing: border-box;margin-bottom: 0.5em;}#sk-container-id-5 div.sk-estimator:hover {background-color: #d4ebff;}#sk-container-id-5 div.sk-parallel-item::after {content: \"\";width: 100%;border-bottom: 1px solid gray;flex-grow: 1;}#sk-container-id-5 div.sk-label:hover label.sk-toggleable__label {background-color: #d4ebff;}#sk-container-id-5 div.sk-serial::before {content: \"\";position: absolute;border-left: 1px solid gray;box-sizing: border-box;top: 0;bottom: 0;left: 50%;z-index: 0;}#sk-container-id-5 div.sk-serial {display: flex;flex-direction: column;align-items: center;background-color: white;padding-right: 0.2em;padding-left: 0.2em;position: relative;}#sk-container-id-5 div.sk-item {position: relative;z-index: 1;}#sk-container-id-5 div.sk-parallel {display: flex;align-items: stretch;justify-content: center;background-color: white;position: relative;}#sk-container-id-5 div.sk-item::before, #sk-container-id-5 div.sk-parallel-item::before {content: \"\";position: absolute;border-left: 1px solid gray;box-sizing: border-box;top: 0;bottom: 0;left: 50%;z-index: -1;}#sk-container-id-5 div.sk-parallel-item {display: flex;flex-direction: column;z-index: 1;position: relative;background-color: white;}#sk-container-id-5 div.sk-parallel-item:first-child::after {align-self: flex-end;width: 50%;}#sk-container-id-5 div.sk-parallel-item:last-child::after {align-self: flex-start;width: 50%;}#sk-container-id-5 div.sk-parallel-item:only-child::after {width: 0;}#sk-container-id-5 div.sk-dashed-wrapped {border: 1px dashed gray;margin: 0 0.4em 0.5em 0.4em;box-sizing: border-box;padding-bottom: 0.4em;background-color: white;}#sk-container-id-5 div.sk-label label {font-family: monospace;font-weight: bold;display: inline-block;line-height: 1.2em;}#sk-container-id-5 div.sk-label-container {text-align: center;}#sk-container-id-5 div.sk-container {/* jupyter's `normalize.less` sets `[hidden] { display: none; }` but bootstrap.min.css set `[hidden] { display: none !important; }` so we also need the `!important` here to be able to override the default hidden behavior on the sphinx rendered scikit-learn.org. See: https://github.com/scikit-learn/scikit-learn/issues/21755 */display: inline-block !important;position: relative;}#sk-container-id-5 div.sk-text-repr-fallback {display: none;}</style><div id=\"sk-container-id-5\" class=\"sk-top-container\"><div class=\"sk-text-repr-fallback\"><pre>GridSearchCV(cv=PredefinedSplit(test_fold=array([-1, -1, ...,  0,  0])),\n",
              "             estimator=&lt;catboost.core.CatBoostClassifier object at 0x7f1c9a09d840&gt;,\n",
              "             param_grid={&#x27;depth&#x27;: [4, 6, 8], &#x27;l2_leaf_reg&#x27;: [3, 5, 7, 9],\n",
              "                         &#x27;learning_rate&#x27;: [0.0005, 0.001, 0.005, 0.02]},\n",
              "             scoring=&#x27;accuracy&#x27;)</pre><b>In a Jupyter environment, please rerun this cell to show the HTML representation or trust the notebook. <br />On GitHub, the HTML representation is unable to render, please try loading this page with nbviewer.org.</b></div><div class=\"sk-container\" hidden><div class=\"sk-item sk-dashed-wrapped\"><div class=\"sk-label-container\"><div class=\"sk-label sk-toggleable\"><input class=\"sk-toggleable__control sk-hidden--visually\" id=\"sk-estimator-id-11\" type=\"checkbox\" ><label for=\"sk-estimator-id-11\" class=\"sk-toggleable__label sk-toggleable__label-arrow\">GridSearchCV</label><div class=\"sk-toggleable__content\"><pre>GridSearchCV(cv=PredefinedSplit(test_fold=array([-1, -1, ...,  0,  0])),\n",
              "             estimator=&lt;catboost.core.CatBoostClassifier object at 0x7f1c9a09d840&gt;,\n",
              "             param_grid={&#x27;depth&#x27;: [4, 6, 8], &#x27;l2_leaf_reg&#x27;: [3, 5, 7, 9],\n",
              "                         &#x27;learning_rate&#x27;: [0.0005, 0.001, 0.005, 0.02]},\n",
              "             scoring=&#x27;accuracy&#x27;)</pre></div></div></div><div class=\"sk-parallel\"><div class=\"sk-parallel-item\"><div class=\"sk-item\"><div class=\"sk-label-container\"><div class=\"sk-label sk-toggleable\"><input class=\"sk-toggleable__control sk-hidden--visually\" id=\"sk-estimator-id-12\" type=\"checkbox\" ><label for=\"sk-estimator-id-12\" class=\"sk-toggleable__label sk-toggleable__label-arrow\">estimator: CatBoostClassifier</label><div class=\"sk-toggleable__content\"><pre>&lt;catboost.core.CatBoostClassifier object at 0x7f1c9a09d840&gt;</pre></div></div></div><div class=\"sk-serial\"><div class=\"sk-item\"><div class=\"sk-estimator sk-toggleable\"><input class=\"sk-toggleable__control sk-hidden--visually\" id=\"sk-estimator-id-13\" type=\"checkbox\" ><label for=\"sk-estimator-id-13\" class=\"sk-toggleable__label sk-toggleable__label-arrow\">CatBoostClassifier</label><div class=\"sk-toggleable__content\"><pre>&lt;catboost.core.CatBoostClassifier object at 0x7f1c9a09d840&gt;</pre></div></div></div></div></div></div></div></div></div></div>"
            ],
            "text/plain": [
              "GridSearchCV(cv=PredefinedSplit(test_fold=array([-1, -1, ...,  0,  0])),\n",
              "             estimator=<catboost.core.CatBoostClassifier object at 0x7f1c9a09d840>,\n",
              "             param_grid={'depth': [4, 6, 8], 'l2_leaf_reg': [3, 5, 7, 9],\n",
              "                         'learning_rate': [0.0005, 0.001, 0.005, 0.02]},\n",
              "             scoring='accuracy')"
            ]
          },
          "execution_count": 25,
          "metadata": {},
          "output_type": "execute_result"
        }
      ],
      "source": [
        "grid_search.fit(df, target, cat_features=cat, verbose=False, eval_set=(x_val, y_val), plot=True)"
      ]
    },
    {
      "cell_type": "code",
      "execution_count": 26,
      "id": "dfe6b50c",
      "metadata": {},
      "outputs": [
        {
          "data": {
            "text/plain": [
              "{'depth': 4, 'l2_leaf_reg': 9, 'learning_rate': 0.02}"
            ]
          },
          "execution_count": 26,
          "metadata": {},
          "output_type": "execute_result"
        }
      ],
      "source": [
        "grid_search.best_params_"
      ]
    },
    {
      "cell_type": "code",
      "execution_count": 27,
      "id": "79928f2c",
      "metadata": {},
      "outputs": [
        {
          "data": {
            "text/plain": [
              "0.5476190476190477"
            ]
          },
          "execution_count": 27,
          "metadata": {},
          "output_type": "execute_result"
        }
      ],
      "source": [
        "grid_search.best_score_"
      ]
    },
    {
      "cell_type": "markdown",
      "id": "85e4d0d8",
      "metadata": {},
      "source": [
        "# Агрегированные данные"
      ]
    },
    {
      "cell_type": "code",
      "execution_count": 28,
      "id": "5db883e7",
      "metadata": {},
      "outputs": [],
      "source": [
        "path = 'prepare_data/data/df_res.csv'\n",
        "df = pd.read_csv(Path(path).resolve())\n",
        "df = df[df['gameweek_compSeason_label'] > 2014]"
      ]
    },
    {
      "cell_type": "code",
      "execution_count": 29,
      "id": "19904892",
      "metadata": {},
      "outputs": [
        {
          "data": {
            "text/plain": [
              "2676"
            ]
          },
          "execution_count": 29,
          "metadata": {},
          "output_type": "execute_result"
        }
      ],
      "source": [
        "n = 300\n",
        "train = df.iloc[n:, :]\n",
        "val = df.iloc[:n, :]\n",
        "\n",
        "y_train = train['team_1_hue']\n",
        "x_train = train.drop('team_1_hue', axis=1)\n",
        "\n",
        "y_val = val['team_1_hue']\n",
        "x_val = val.drop('team_1_hue', axis=1)\n",
        "x_train.shape[0]"
      ]
    },
    {
      "cell_type": "code",
      "execution_count": 30,
      "id": "4ea30dd7",
      "metadata": {},
      "outputs": [],
      "source": [
        "cat = ['gameweek_gameweek',\t'gameweek_compSeason_label', 'teams_team_1_name', 'teams_team_2_name', 'ground_name']"
      ]
    },
    {
      "cell_type": "code",
      "execution_count": 31,
      "id": "92c7af1c",
      "metadata": {},
      "outputs": [
        {
          "data": {
            "text/plain": [
              "<catboost.core.CatBoostClassifier at 0x7f1c9a0b15a0>"
            ]
          },
          "execution_count": 31,
          "metadata": {},
          "output_type": "execute_result"
        }
      ],
      "source": [
        "model_1 = CatBoostClassifier()\n",
        "model_1.fit(x_train, y_train, cat_features=cat, verbose=False)"
      ]
    },
    {
      "cell_type": "code",
      "execution_count": 32,
      "id": "f1e6e70f",
      "metadata": {},
      "outputs": [
        {
          "data": {
            "text/plain": [
              "0.5533333333333333"
            ]
          },
          "execution_count": 32,
          "metadata": {},
          "output_type": "execute_result"
        }
      ],
      "source": [
        "pred = model_1.predict(x_val)\n",
        "accuracy_score(y_val, pred)"
      ]
    },
    {
      "cell_type": "code",
      "execution_count": 34,
      "id": "439e61ba",
      "metadata": {},
      "outputs": [],
      "source": [
        "val_fold = [-1] * len(x_train) + [0] * len(x_val)\n",
        "ps = PredefinedSplit(test_fold=val_fold)"
      ]
    },
    {
      "cell_type": "code",
      "execution_count": 35,
      "id": "b4cba700",
      "metadata": {},
      "outputs": [],
      "source": [
        "param_grid = {\n",
        "    'learning_rate': [0.001, 0.005, 0.02, 0.05],\n",
        "    'depth': [4, 6, 8],\n",
        "    'l2_leaf_reg': [3, 5, 7, 9]\n",
        "}\n",
        "grid_search = GridSearchCV(estimator=model_1, param_grid=param_grid, scoring='accuracy', cv=ps)"
      ]
    },
    {
      "cell_type": "code",
      "execution_count": 36,
      "id": "40014a9f",
      "metadata": {},
      "outputs": [
        {
          "name": "stderr",
          "output_type": "stream",
          "text": [
            "2024/01/17 20:26:14 INFO mlflow.utils.autologging_utils: Created MLflow autologging run with ID 'dba816f4bfea45c6a9189cd10e2c2ff6', which will track hyperparameters, performance metrics, model artifacts, and lineage information for the current sklearn workflow\n"
          ]
        },
        {
          "data": {
            "application/vnd.jupyter.widget-view+json": {
              "model_id": "4724cd8f37424829af97a26355b565a5",
              "version_major": 2,
              "version_minor": 0
            },
            "text/plain": [
              "MetricVisualizer(layout=Layout(align_self='stretch', height='500px'))"
            ]
          },
          "metadata": {},
          "output_type": "display_data"
        },
        {
          "data": {
            "application/vnd.jupyter.widget-view+json": {
              "model_id": "18aa48919de14a649acf26e09ae226a9",
              "version_major": 2,
              "version_minor": 0
            },
            "text/plain": [
              "MetricVisualizer(layout=Layout(align_self='stretch', height='500px'))"
            ]
          },
          "metadata": {},
          "output_type": "display_data"
        },
        {
          "data": {
            "application/vnd.jupyter.widget-view+json": {
              "model_id": "b1923823d66646949ad872ad030c7b30",
              "version_major": 2,
              "version_minor": 0
            },
            "text/plain": [
              "MetricVisualizer(layout=Layout(align_self='stretch', height='500px'))"
            ]
          },
          "metadata": {},
          "output_type": "display_data"
        },
        {
          "data": {
            "application/vnd.jupyter.widget-view+json": {
              "model_id": "41cd388fd7394b21862f41ce1ef1cc58",
              "version_major": 2,
              "version_minor": 0
            },
            "text/plain": [
              "MetricVisualizer(layout=Layout(align_self='stretch', height='500px'))"
            ]
          },
          "metadata": {},
          "output_type": "display_data"
        },
        {
          "data": {
            "application/vnd.jupyter.widget-view+json": {
              "model_id": "e9156dac17f54d89a7a86ba387a61f82",
              "version_major": 2,
              "version_minor": 0
            },
            "text/plain": [
              "MetricVisualizer(layout=Layout(align_self='stretch', height='500px'))"
            ]
          },
          "metadata": {},
          "output_type": "display_data"
        },
        {
          "data": {
            "application/vnd.jupyter.widget-view+json": {
              "model_id": "cc1061bd50614af09ee209f71267190e",
              "version_major": 2,
              "version_minor": 0
            },
            "text/plain": [
              "MetricVisualizer(layout=Layout(align_self='stretch', height='500px'))"
            ]
          },
          "metadata": {},
          "output_type": "display_data"
        },
        {
          "data": {
            "application/vnd.jupyter.widget-view+json": {
              "model_id": "4c3f1c84272241f6a3bffc60e8ecafc6",
              "version_major": 2,
              "version_minor": 0
            },
            "text/plain": [
              "MetricVisualizer(layout=Layout(align_self='stretch', height='500px'))"
            ]
          },
          "metadata": {},
          "output_type": "display_data"
        },
        {
          "data": {
            "application/vnd.jupyter.widget-view+json": {
              "model_id": "df87abc01dc7421c88cb8d08bce46385",
              "version_major": 2,
              "version_minor": 0
            },
            "text/plain": [
              "MetricVisualizer(layout=Layout(align_self='stretch', height='500px'))"
            ]
          },
          "metadata": {},
          "output_type": "display_data"
        },
        {
          "data": {
            "application/vnd.jupyter.widget-view+json": {
              "model_id": "b6268d33ea2842d2a0a313ab613f02e2",
              "version_major": 2,
              "version_minor": 0
            },
            "text/plain": [
              "MetricVisualizer(layout=Layout(align_self='stretch', height='500px'))"
            ]
          },
          "metadata": {},
          "output_type": "display_data"
        },
        {
          "data": {
            "application/vnd.jupyter.widget-view+json": {
              "model_id": "361a92ce313b48adaa5158852d446495",
              "version_major": 2,
              "version_minor": 0
            },
            "text/plain": [
              "MetricVisualizer(layout=Layout(align_self='stretch', height='500px'))"
            ]
          },
          "metadata": {},
          "output_type": "display_data"
        },
        {
          "data": {
            "application/vnd.jupyter.widget-view+json": {
              "model_id": "b0aa54059b93447ab1bfff4b2d02cbd2",
              "version_major": 2,
              "version_minor": 0
            },
            "text/plain": [
              "MetricVisualizer(layout=Layout(align_self='stretch', height='500px'))"
            ]
          },
          "metadata": {},
          "output_type": "display_data"
        },
        {
          "data": {
            "application/vnd.jupyter.widget-view+json": {
              "model_id": "fd2ba11697de40739a25b6ebfa556c1d",
              "version_major": 2,
              "version_minor": 0
            },
            "text/plain": [
              "MetricVisualizer(layout=Layout(align_self='stretch', height='500px'))"
            ]
          },
          "metadata": {},
          "output_type": "display_data"
        },
        {
          "data": {
            "application/vnd.jupyter.widget-view+json": {
              "model_id": "9e972f46e4f64544b1329cc57a750ae1",
              "version_major": 2,
              "version_minor": 0
            },
            "text/plain": [
              "MetricVisualizer(layout=Layout(align_self='stretch', height='500px'))"
            ]
          },
          "metadata": {},
          "output_type": "display_data"
        },
        {
          "data": {
            "application/vnd.jupyter.widget-view+json": {
              "model_id": "e399e3601c824b03add369b843c405af",
              "version_major": 2,
              "version_minor": 0
            },
            "text/plain": [
              "MetricVisualizer(layout=Layout(align_self='stretch', height='500px'))"
            ]
          },
          "metadata": {},
          "output_type": "display_data"
        },
        {
          "data": {
            "application/vnd.jupyter.widget-view+json": {
              "model_id": "d620da9c64014a1a82db9a79d1cabf2b",
              "version_major": 2,
              "version_minor": 0
            },
            "text/plain": [
              "MetricVisualizer(layout=Layout(align_self='stretch', height='500px'))"
            ]
          },
          "metadata": {},
          "output_type": "display_data"
        },
        {
          "data": {
            "application/vnd.jupyter.widget-view+json": {
              "model_id": "53de9b470426431eac8f39981eec518c",
              "version_major": 2,
              "version_minor": 0
            },
            "text/plain": [
              "MetricVisualizer(layout=Layout(align_self='stretch', height='500px'))"
            ]
          },
          "metadata": {},
          "output_type": "display_data"
        },
        {
          "data": {
            "application/vnd.jupyter.widget-view+json": {
              "model_id": "f9826f1babe64912ba13a8168e69ab34",
              "version_major": 2,
              "version_minor": 0
            },
            "text/plain": [
              "MetricVisualizer(layout=Layout(align_self='stretch', height='500px'))"
            ]
          },
          "metadata": {},
          "output_type": "display_data"
        },
        {
          "data": {
            "application/vnd.jupyter.widget-view+json": {
              "model_id": "28aaa12d25e4448aadb320fbc3ffe3a7",
              "version_major": 2,
              "version_minor": 0
            },
            "text/plain": [
              "MetricVisualizer(layout=Layout(align_self='stretch', height='500px'))"
            ]
          },
          "metadata": {},
          "output_type": "display_data"
        },
        {
          "data": {
            "application/vnd.jupyter.widget-view+json": {
              "model_id": "eb72abde8cf54270a631e0cfec21e834",
              "version_major": 2,
              "version_minor": 0
            },
            "text/plain": [
              "MetricVisualizer(layout=Layout(align_self='stretch', height='500px'))"
            ]
          },
          "metadata": {},
          "output_type": "display_data"
        },
        {
          "data": {
            "application/vnd.jupyter.widget-view+json": {
              "model_id": "d3ba19cc02cd4a0eb670dd81e6935a9a",
              "version_major": 2,
              "version_minor": 0
            },
            "text/plain": [
              "MetricVisualizer(layout=Layout(align_self='stretch', height='500px'))"
            ]
          },
          "metadata": {},
          "output_type": "display_data"
        },
        {
          "data": {
            "application/vnd.jupyter.widget-view+json": {
              "model_id": "3dd6a948935e44e1825df976c125faab",
              "version_major": 2,
              "version_minor": 0
            },
            "text/plain": [
              "MetricVisualizer(layout=Layout(align_self='stretch', height='500px'))"
            ]
          },
          "metadata": {},
          "output_type": "display_data"
        },
        {
          "data": {
            "application/vnd.jupyter.widget-view+json": {
              "model_id": "dd688b466d524d08bc7db5c372b66b84",
              "version_major": 2,
              "version_minor": 0
            },
            "text/plain": [
              "MetricVisualizer(layout=Layout(align_self='stretch', height='500px'))"
            ]
          },
          "metadata": {},
          "output_type": "display_data"
        },
        {
          "data": {
            "application/vnd.jupyter.widget-view+json": {
              "model_id": "5f3d8c85435c4eac8ecafea25ce63c36",
              "version_major": 2,
              "version_minor": 0
            },
            "text/plain": [
              "MetricVisualizer(layout=Layout(align_self='stretch', height='500px'))"
            ]
          },
          "metadata": {},
          "output_type": "display_data"
        },
        {
          "data": {
            "application/vnd.jupyter.widget-view+json": {
              "model_id": "9f5da8307b1146499a76947a713b9fb5",
              "version_major": 2,
              "version_minor": 0
            },
            "text/plain": [
              "MetricVisualizer(layout=Layout(align_self='stretch', height='500px'))"
            ]
          },
          "metadata": {},
          "output_type": "display_data"
        },
        {
          "data": {
            "application/vnd.jupyter.widget-view+json": {
              "model_id": "d7b5832258ef4918be68c619073af0bb",
              "version_major": 2,
              "version_minor": 0
            },
            "text/plain": [
              "MetricVisualizer(layout=Layout(align_self='stretch', height='500px'))"
            ]
          },
          "metadata": {},
          "output_type": "display_data"
        },
        {
          "data": {
            "application/vnd.jupyter.widget-view+json": {
              "model_id": "45d7c86a2d414ee2b8ab41a88407f668",
              "version_major": 2,
              "version_minor": 0
            },
            "text/plain": [
              "MetricVisualizer(layout=Layout(align_self='stretch', height='500px'))"
            ]
          },
          "metadata": {},
          "output_type": "display_data"
        },
        {
          "data": {
            "application/vnd.jupyter.widget-view+json": {
              "model_id": "6f1d559b12c440e39407cdab6b53929d",
              "version_major": 2,
              "version_minor": 0
            },
            "text/plain": [
              "MetricVisualizer(layout=Layout(align_self='stretch', height='500px'))"
            ]
          },
          "metadata": {},
          "output_type": "display_data"
        },
        {
          "data": {
            "application/vnd.jupyter.widget-view+json": {
              "model_id": "11778820bb104535825fc1bc733179f8",
              "version_major": 2,
              "version_minor": 0
            },
            "text/plain": [
              "MetricVisualizer(layout=Layout(align_self='stretch', height='500px'))"
            ]
          },
          "metadata": {},
          "output_type": "display_data"
        },
        {
          "data": {
            "application/vnd.jupyter.widget-view+json": {
              "model_id": "8ffafb811e8740378c8408b50853782a",
              "version_major": 2,
              "version_minor": 0
            },
            "text/plain": [
              "MetricVisualizer(layout=Layout(align_self='stretch', height='500px'))"
            ]
          },
          "metadata": {},
          "output_type": "display_data"
        },
        {
          "data": {
            "application/vnd.jupyter.widget-view+json": {
              "model_id": "877a1c47d9d741f0ad3fc136bb8606ac",
              "version_major": 2,
              "version_minor": 0
            },
            "text/plain": [
              "MetricVisualizer(layout=Layout(align_self='stretch', height='500px'))"
            ]
          },
          "metadata": {},
          "output_type": "display_data"
        },
        {
          "data": {
            "application/vnd.jupyter.widget-view+json": {
              "model_id": "2cb6902c10354d87b78cbc4dddc0b407",
              "version_major": 2,
              "version_minor": 0
            },
            "text/plain": [
              "MetricVisualizer(layout=Layout(align_self='stretch', height='500px'))"
            ]
          },
          "metadata": {},
          "output_type": "display_data"
        },
        {
          "data": {
            "application/vnd.jupyter.widget-view+json": {
              "model_id": "a374d7f5829845c3acdc9ed2474c1cab",
              "version_major": 2,
              "version_minor": 0
            },
            "text/plain": [
              "MetricVisualizer(layout=Layout(align_self='stretch', height='500px'))"
            ]
          },
          "metadata": {},
          "output_type": "display_data"
        },
        {
          "data": {
            "application/vnd.jupyter.widget-view+json": {
              "model_id": "0c00cff26c2043c483d5af7fdedb286d",
              "version_major": 2,
              "version_minor": 0
            },
            "text/plain": [
              "MetricVisualizer(layout=Layout(align_self='stretch', height='500px'))"
            ]
          },
          "metadata": {},
          "output_type": "display_data"
        },
        {
          "data": {
            "application/vnd.jupyter.widget-view+json": {
              "model_id": "5a7c195a71994b2b83a1cb033774e284",
              "version_major": 2,
              "version_minor": 0
            },
            "text/plain": [
              "MetricVisualizer(layout=Layout(align_self='stretch', height='500px'))"
            ]
          },
          "metadata": {},
          "output_type": "display_data"
        },
        {
          "data": {
            "application/vnd.jupyter.widget-view+json": {
              "model_id": "e7abb24bedf244ff88bc712645c37638",
              "version_major": 2,
              "version_minor": 0
            },
            "text/plain": [
              "MetricVisualizer(layout=Layout(align_self='stretch', height='500px'))"
            ]
          },
          "metadata": {},
          "output_type": "display_data"
        },
        {
          "data": {
            "application/vnd.jupyter.widget-view+json": {
              "model_id": "97e6897711364d849f6edaab8aef3a0a",
              "version_major": 2,
              "version_minor": 0
            },
            "text/plain": [
              "MetricVisualizer(layout=Layout(align_self='stretch', height='500px'))"
            ]
          },
          "metadata": {},
          "output_type": "display_data"
        },
        {
          "data": {
            "application/vnd.jupyter.widget-view+json": {
              "model_id": "bca50bc3beb347f9973e4733f54424c7",
              "version_major": 2,
              "version_minor": 0
            },
            "text/plain": [
              "MetricVisualizer(layout=Layout(align_self='stretch', height='500px'))"
            ]
          },
          "metadata": {},
          "output_type": "display_data"
        },
        {
          "data": {
            "application/vnd.jupyter.widget-view+json": {
              "model_id": "39604a6455674afaa2a08402a3c71def",
              "version_major": 2,
              "version_minor": 0
            },
            "text/plain": [
              "MetricVisualizer(layout=Layout(align_self='stretch', height='500px'))"
            ]
          },
          "metadata": {},
          "output_type": "display_data"
        },
        {
          "data": {
            "application/vnd.jupyter.widget-view+json": {
              "model_id": "58952c4f1bde4be68f5e9732722986ae",
              "version_major": 2,
              "version_minor": 0
            },
            "text/plain": [
              "MetricVisualizer(layout=Layout(align_self='stretch', height='500px'))"
            ]
          },
          "metadata": {},
          "output_type": "display_data"
        },
        {
          "data": {
            "application/vnd.jupyter.widget-view+json": {
              "model_id": "d46cdd0c0bd647e79b36650117d61414",
              "version_major": 2,
              "version_minor": 0
            },
            "text/plain": [
              "MetricVisualizer(layout=Layout(align_self='stretch', height='500px'))"
            ]
          },
          "metadata": {},
          "output_type": "display_data"
        },
        {
          "data": {
            "application/vnd.jupyter.widget-view+json": {
              "model_id": "bb490dca5bc34c95b180bee6a755cb9a",
              "version_major": 2,
              "version_minor": 0
            },
            "text/plain": [
              "MetricVisualizer(layout=Layout(align_self='stretch', height='500px'))"
            ]
          },
          "metadata": {},
          "output_type": "display_data"
        },
        {
          "data": {
            "application/vnd.jupyter.widget-view+json": {
              "model_id": "05dbe523f64748dfb5dd4ac6251ebfb9",
              "version_major": 2,
              "version_minor": 0
            },
            "text/plain": [
              "MetricVisualizer(layout=Layout(align_self='stretch', height='500px'))"
            ]
          },
          "metadata": {},
          "output_type": "display_data"
        },
        {
          "data": {
            "application/vnd.jupyter.widget-view+json": {
              "model_id": "fd5d9836cee74345bfb640e65975cf23",
              "version_major": 2,
              "version_minor": 0
            },
            "text/plain": [
              "MetricVisualizer(layout=Layout(align_self='stretch', height='500px'))"
            ]
          },
          "metadata": {},
          "output_type": "display_data"
        },
        {
          "data": {
            "application/vnd.jupyter.widget-view+json": {
              "model_id": "f090e9c5ab50424697701cf1e6e44d81",
              "version_major": 2,
              "version_minor": 0
            },
            "text/plain": [
              "MetricVisualizer(layout=Layout(align_self='stretch', height='500px'))"
            ]
          },
          "metadata": {},
          "output_type": "display_data"
        },
        {
          "data": {
            "application/vnd.jupyter.widget-view+json": {
              "model_id": "14e3805e26c8418f8007b126e43b43b5",
              "version_major": 2,
              "version_minor": 0
            },
            "text/plain": [
              "MetricVisualizer(layout=Layout(align_self='stretch', height='500px'))"
            ]
          },
          "metadata": {},
          "output_type": "display_data"
        },
        {
          "data": {
            "application/vnd.jupyter.widget-view+json": {
              "model_id": "2183d9a880ba46e68d8805970519dd30",
              "version_major": 2,
              "version_minor": 0
            },
            "text/plain": [
              "MetricVisualizer(layout=Layout(align_self='stretch', height='500px'))"
            ]
          },
          "metadata": {},
          "output_type": "display_data"
        },
        {
          "data": {
            "application/vnd.jupyter.widget-view+json": {
              "model_id": "da9792959a0649778e2b593cf0c002d9",
              "version_major": 2,
              "version_minor": 0
            },
            "text/plain": [
              "MetricVisualizer(layout=Layout(align_self='stretch', height='500px'))"
            ]
          },
          "metadata": {},
          "output_type": "display_data"
        },
        {
          "data": {
            "application/vnd.jupyter.widget-view+json": {
              "model_id": "6e150f27051c4bc39b1f420a1d8b4636",
              "version_major": 2,
              "version_minor": 0
            },
            "text/plain": [
              "MetricVisualizer(layout=Layout(align_self='stretch', height='500px'))"
            ]
          },
          "metadata": {},
          "output_type": "display_data"
        },
        {
          "data": {
            "application/vnd.jupyter.widget-view+json": {
              "model_id": "3e02c1f5d23644638bb1b8d65c35e0fd",
              "version_major": 2,
              "version_minor": 0
            },
            "text/plain": [
              "MetricVisualizer(layout=Layout(align_self='stretch', height='500px'))"
            ]
          },
          "metadata": {},
          "output_type": "display_data"
        },
        {
          "name": "stderr",
          "output_type": "stream",
          "text": [
            "2024/01/17 20:56:24 WARNING mlflow.utils.autologging_utils: Encountered unexpected error during sklearn autologging: API request to http://5.104.75.226:5000/api/2.0/mlflow-artifacts/artifacts/5/dba816f4bfea45c6a9189cd10e2c2ff6/artifacts/model/model.pkl failed with exception HTTPConnectionPool(host='5.104.75.226', port=5000): Max retries exceeded with url: /api/2.0/mlflow-artifacts/artifacts/5/dba816f4bfea45c6a9189cd10e2c2ff6/artifacts/model/model.pkl (Caused by ProtocolError('Connection aborted.', ConnectionResetError(104, 'Connection reset by peer')))\n"
          ]
        },
        {
          "data": {
            "text/html": [
              "<style>#sk-container-id-7 {color: black;}#sk-container-id-7 pre{padding: 0;}#sk-container-id-7 div.sk-toggleable {background-color: white;}#sk-container-id-7 label.sk-toggleable__label {cursor: pointer;display: block;width: 100%;margin-bottom: 0;padding: 0.3em;box-sizing: border-box;text-align: center;}#sk-container-id-7 label.sk-toggleable__label-arrow:before {content: \"▸\";float: left;margin-right: 0.25em;color: #696969;}#sk-container-id-7 label.sk-toggleable__label-arrow:hover:before {color: black;}#sk-container-id-7 div.sk-estimator:hover label.sk-toggleable__label-arrow:before {color: black;}#sk-container-id-7 div.sk-toggleable__content {max-height: 0;max-width: 0;overflow: hidden;text-align: left;background-color: #f0f8ff;}#sk-container-id-7 div.sk-toggleable__content pre {margin: 0.2em;color: black;border-radius: 0.25em;background-color: #f0f8ff;}#sk-container-id-7 input.sk-toggleable__control:checked~div.sk-toggleable__content {max-height: 200px;max-width: 100%;overflow: auto;}#sk-container-id-7 input.sk-toggleable__control:checked~label.sk-toggleable__label-arrow:before {content: \"▾\";}#sk-container-id-7 div.sk-estimator input.sk-toggleable__control:checked~label.sk-toggleable__label {background-color: #d4ebff;}#sk-container-id-7 div.sk-label input.sk-toggleable__control:checked~label.sk-toggleable__label {background-color: #d4ebff;}#sk-container-id-7 input.sk-hidden--visually {border: 0;clip: rect(1px 1px 1px 1px);clip: rect(1px, 1px, 1px, 1px);height: 1px;margin: -1px;overflow: hidden;padding: 0;position: absolute;width: 1px;}#sk-container-id-7 div.sk-estimator {font-family: monospace;background-color: #f0f8ff;border: 1px dotted black;border-radius: 0.25em;box-sizing: border-box;margin-bottom: 0.5em;}#sk-container-id-7 div.sk-estimator:hover {background-color: #d4ebff;}#sk-container-id-7 div.sk-parallel-item::after {content: \"\";width: 100%;border-bottom: 1px solid gray;flex-grow: 1;}#sk-container-id-7 div.sk-label:hover label.sk-toggleable__label {background-color: #d4ebff;}#sk-container-id-7 div.sk-serial::before {content: \"\";position: absolute;border-left: 1px solid gray;box-sizing: border-box;top: 0;bottom: 0;left: 50%;z-index: 0;}#sk-container-id-7 div.sk-serial {display: flex;flex-direction: column;align-items: center;background-color: white;padding-right: 0.2em;padding-left: 0.2em;position: relative;}#sk-container-id-7 div.sk-item {position: relative;z-index: 1;}#sk-container-id-7 div.sk-parallel {display: flex;align-items: stretch;justify-content: center;background-color: white;position: relative;}#sk-container-id-7 div.sk-item::before, #sk-container-id-7 div.sk-parallel-item::before {content: \"\";position: absolute;border-left: 1px solid gray;box-sizing: border-box;top: 0;bottom: 0;left: 50%;z-index: -1;}#sk-container-id-7 div.sk-parallel-item {display: flex;flex-direction: column;z-index: 1;position: relative;background-color: white;}#sk-container-id-7 div.sk-parallel-item:first-child::after {align-self: flex-end;width: 50%;}#sk-container-id-7 div.sk-parallel-item:last-child::after {align-self: flex-start;width: 50%;}#sk-container-id-7 div.sk-parallel-item:only-child::after {width: 0;}#sk-container-id-7 div.sk-dashed-wrapped {border: 1px dashed gray;margin: 0 0.4em 0.5em 0.4em;box-sizing: border-box;padding-bottom: 0.4em;background-color: white;}#sk-container-id-7 div.sk-label label {font-family: monospace;font-weight: bold;display: inline-block;line-height: 1.2em;}#sk-container-id-7 div.sk-label-container {text-align: center;}#sk-container-id-7 div.sk-container {/* jupyter's `normalize.less` sets `[hidden] { display: none; }` but bootstrap.min.css set `[hidden] { display: none !important; }` so we also need the `!important` here to be able to override the default hidden behavior on the sphinx rendered scikit-learn.org. See: https://github.com/scikit-learn/scikit-learn/issues/21755 */display: inline-block !important;position: relative;}#sk-container-id-7 div.sk-text-repr-fallback {display: none;}</style><div id=\"sk-container-id-7\" class=\"sk-top-container\"><div class=\"sk-text-repr-fallback\"><pre>GridSearchCV(cv=PredefinedSplit(test_fold=array([-1, -1, ...,  0,  0])),\n",
              "             estimator=&lt;catboost.core.CatBoostClassifier object at 0x7f1c9a0b15a0&gt;,\n",
              "             param_grid={&#x27;depth&#x27;: [4, 6, 8], &#x27;l2_leaf_reg&#x27;: [3, 5, 7, 9],\n",
              "                         &#x27;learning_rate&#x27;: [0.001, 0.005, 0.02, 0.05]},\n",
              "             scoring=&#x27;accuracy&#x27;)</pre><b>In a Jupyter environment, please rerun this cell to show the HTML representation or trust the notebook. <br />On GitHub, the HTML representation is unable to render, please try loading this page with nbviewer.org.</b></div><div class=\"sk-container\" hidden><div class=\"sk-item sk-dashed-wrapped\"><div class=\"sk-label-container\"><div class=\"sk-label sk-toggleable\"><input class=\"sk-toggleable__control sk-hidden--visually\" id=\"sk-estimator-id-17\" type=\"checkbox\" ><label for=\"sk-estimator-id-17\" class=\"sk-toggleable__label sk-toggleable__label-arrow\">GridSearchCV</label><div class=\"sk-toggleable__content\"><pre>GridSearchCV(cv=PredefinedSplit(test_fold=array([-1, -1, ...,  0,  0])),\n",
              "             estimator=&lt;catboost.core.CatBoostClassifier object at 0x7f1c9a0b15a0&gt;,\n",
              "             param_grid={&#x27;depth&#x27;: [4, 6, 8], &#x27;l2_leaf_reg&#x27;: [3, 5, 7, 9],\n",
              "                         &#x27;learning_rate&#x27;: [0.001, 0.005, 0.02, 0.05]},\n",
              "             scoring=&#x27;accuracy&#x27;)</pre></div></div></div><div class=\"sk-parallel\"><div class=\"sk-parallel-item\"><div class=\"sk-item\"><div class=\"sk-label-container\"><div class=\"sk-label sk-toggleable\"><input class=\"sk-toggleable__control sk-hidden--visually\" id=\"sk-estimator-id-18\" type=\"checkbox\" ><label for=\"sk-estimator-id-18\" class=\"sk-toggleable__label sk-toggleable__label-arrow\">estimator: CatBoostClassifier</label><div class=\"sk-toggleable__content\"><pre>&lt;catboost.core.CatBoostClassifier object at 0x7f1c9a0b15a0&gt;</pre></div></div></div><div class=\"sk-serial\"><div class=\"sk-item\"><div class=\"sk-estimator sk-toggleable\"><input class=\"sk-toggleable__control sk-hidden--visually\" id=\"sk-estimator-id-19\" type=\"checkbox\" ><label for=\"sk-estimator-id-19\" class=\"sk-toggleable__label sk-toggleable__label-arrow\">CatBoostClassifier</label><div class=\"sk-toggleable__content\"><pre>&lt;catboost.core.CatBoostClassifier object at 0x7f1c9a0b15a0&gt;</pre></div></div></div></div></div></div></div></div></div></div>"
            ],
            "text/plain": [
              "GridSearchCV(cv=PredefinedSplit(test_fold=array([-1, -1, ...,  0,  0])),\n",
              "             estimator=<catboost.core.CatBoostClassifier object at 0x7f1c9a0b15a0>,\n",
              "             param_grid={'depth': [4, 6, 8], 'l2_leaf_reg': [3, 5, 7, 9],\n",
              "                         'learning_rate': [0.001, 0.005, 0.02, 0.05]},\n",
              "             scoring='accuracy')"
            ]
          },
          "execution_count": 36,
          "metadata": {},
          "output_type": "execute_result"
        }
      ],
      "source": [
        "grid_search.fit(df.drop('team_1_hue', axis=1), df['team_1_hue'], cat_features=cat, verbose=False, eval_set=(x_val, y_val), plot=True)"
      ]
    },
    {
      "cell_type": "code",
      "execution_count": 40,
      "id": "bcba6d2e",
      "metadata": {},
      "outputs": [
        {
          "data": {
            "text/plain": [
              "{'depth': 8, 'l2_leaf_reg': 3, 'learning_rate': 0.001}"
            ]
          },
          "execution_count": 40,
          "metadata": {},
          "output_type": "execute_result"
        }
      ],
      "source": [
        "grid_search.best_params_"
      ]
    },
    {
      "cell_type": "code",
      "execution_count": 39,
      "id": "c9d490d6",
      "metadata": {},
      "outputs": [
        {
          "data": {
            "text/plain": [
              "0.46"
            ]
          },
          "execution_count": 39,
          "metadata": {},
          "output_type": "execute_result"
        }
      ],
      "source": [
        "grid_search.best_score_"
      ]
    },
    {
      "cell_type": "code",
      "execution_count": 43,
      "id": "46576566",
      "metadata": {},
      "outputs": [
        {
          "data": {
            "text/plain": [
              "0.5533333333333333"
            ]
          },
          "execution_count": 43,
          "metadata": {},
          "output_type": "execute_result"
        }
      ],
      "source": [
        "model_1 = CatBoostClassifier(**grid_search.best_params_)\n",
        "model_1.fit(x_train, y_train, cat_features=cat, verbose=False)\n",
        "pred = model_1.predict(x_val)\n",
        "accuracy_score(y_val, pred)"
      ]
    }
  ],
  "metadata": {
    "colab": {
      "provenance": []
    },
    "kernelspec": {
      "display_name": "Python 3 (ipykernel)",
      "language": "python",
      "name": "python3"
    },
    "language_info": {
      "codemirror_mode": {
        "name": "ipython",
        "version": 3
      },
      "file_extension": ".py",
      "mimetype": "text/x-python",
      "name": "python",
      "nbconvert_exporter": "python",
      "pygments_lexer": "ipython3",
      "version": "3.10.12"
    },
    "widgets": {
      "application/vnd.jupyter.widget-state+json": {
        "144666f5b42b4d4a8549eef715cd789e": {
          "model_module": "catboost-widget",
          "model_module_version": "^1.0.0",
          "model_name": "CatboostWidgetModel",
          "state": {
            "_dom_classes": [],
            "_model_module": "catboost-widget",
            "_model_module_version": "^1.0.0",
            "_model_name": "CatboostWidgetModel",
            "_view_count": null,
            "_view_module": "catboost-widget",
            "_view_module_version": "^1.0.0",
            "_view_name": "CatboostWidgetView",
            "data": {
              "catboost_info": {
                "content": {
                  "data": {
                    "iterations": [
                      {
                        "iteration": 0,
                        "learn": [
                          1.098515312
                        ],
                        "passed_time": 0.07029361038,
                        "remaining_time": 70.22331677
                      },
                      {
                        "iteration": 1,
                        "learn": [
                          1.098411624
                        ],
                        "passed_time": 0.1415209838,
                        "remaining_time": 70.61897094
                      },
                      {
                        "iteration": 2,
                        "learn": [
                          1.098313337
                        ],
                        "passed_time": 0.2230778476,
                        "remaining_time": 74.13620467
                      },
                      {
                        "iteration": 3,
                        "learn": [
                          1.098220096
                        ],
                        "passed_time": 0.3270195232,
                        "remaining_time": 81.42786128
                      },
                      {
                        "iteration": 4,
                        "learn": [
                          1.098124792
                        ],
                        "passed_time": 0.4145595188,
                        "remaining_time": 82.49734423
                      },
                      {
                        "iteration": 5,
                        "learn": [
                          1.098040319
                        ],
                        "passed_time": 0.5195795206,
                        "remaining_time": 86.07700724
                      },
                      {
                        "iteration": 6,
                        "learn": [
                          1.097947916
                        ],
                        "passed_time": 0.6334929392,
                        "remaining_time": 89.86549838
                      },
                      {
                        "iteration": 7,
                        "learn": [
                          1.097854632
                        ],
                        "passed_time": 0.7684843383,
                        "remaining_time": 95.29205795
                      },
                      {
                        "iteration": 8,
                        "learn": [
                          1.097745211
                        ],
                        "passed_time": 0.8686693051,
                        "remaining_time": 95.65014238
                      },
                      {
                        "iteration": 9,
                        "learn": [
                          1.097646702
                        ],
                        "passed_time": 0.9647253511,
                        "remaining_time": 95.50780976
                      },
                      {
                        "iteration": 10,
                        "learn": [
                          1.097548411
                        ],
                        "passed_time": 1.066528346,
                        "remaining_time": 95.890594
                      },
                      {
                        "iteration": 11,
                        "learn": [
                          1.09744702
                        ],
                        "passed_time": 1.128732516,
                        "remaining_time": 92.93231048
                      },
                      {
                        "iteration": 12,
                        "learn": [
                          1.09734621
                        ],
                        "passed_time": 1.26064927,
                        "remaining_time": 95.7123715
                      },
                      {
                        "iteration": 13,
                        "learn": [
                          1.097242915
                        ],
                        "passed_time": 1.427621834,
                        "remaining_time": 100.5453663
                      },
                      {
                        "iteration": 14,
                        "learn": [
                          1.097138773
                        ],
                        "passed_time": 1.547319061,
                        "remaining_time": 101.607285
                      },
                      {
                        "iteration": 15,
                        "learn": [
                          1.097034274
                        ],
                        "passed_time": 1.670221017,
                        "remaining_time": 102.7185925
                      },
                      {
                        "iteration": 16,
                        "learn": [
                          1.09693099
                        ],
                        "passed_time": 1.782301647,
                        "remaining_time": 103.0589717
                      },
                      {
                        "iteration": 17,
                        "learn": [
                          1.096825179
                        ],
                        "passed_time": 1.885969376,
                        "remaining_time": 102.8901071
                      },
                      {
                        "iteration": 18,
                        "learn": [
                          1.096727662
                        ],
                        "passed_time": 2.042645984,
                        "remaining_time": 105.4650374
                      },
                      {
                        "iteration": 19,
                        "learn": [
                          1.09662901
                        ],
                        "passed_time": 2.172213073,
                        "remaining_time": 106.4384406
                      },
                      {
                        "iteration": 20,
                        "learn": [
                          1.096526168
                        ],
                        "passed_time": 2.347194917,
                        "remaining_time": 109.4239916
                      },
                      {
                        "iteration": 21,
                        "learn": [
                          1.096420843
                        ],
                        "passed_time": 2.524878146,
                        "remaining_time": 112.2423103
                      },
                      {
                        "iteration": 22,
                        "learn": [
                          1.09631979
                        ],
                        "passed_time": 2.683243574,
                        "remaining_time": 113.9795205
                      },
                      {
                        "iteration": 23,
                        "learn": [
                          1.096237074
                        ],
                        "passed_time": 2.761805048,
                        "remaining_time": 112.3134053
                      },
                      {
                        "iteration": 24,
                        "learn": [
                          1.096139189
                        ],
                        "passed_time": 2.873837932,
                        "remaining_time": 112.0796794
                      },
                      {
                        "iteration": 25,
                        "learn": [
                          1.096035477
                        ],
                        "passed_time": 2.971457779,
                        "remaining_time": 111.3153799
                      },
                      {
                        "iteration": 26,
                        "learn": [
                          1.095933754
                        ],
                        "passed_time": 3.086026546,
                        "remaining_time": 111.2112529
                      },
                      {
                        "iteration": 27,
                        "learn": [
                          1.09584806
                        ],
                        "passed_time": 3.288493782,
                        "remaining_time": 114.1577127
                      },
                      {
                        "iteration": 28,
                        "learn": [
                          1.095747727
                        ],
                        "passed_time": 3.567472524,
                        "remaining_time": 119.4488214
                      },
                      {
                        "iteration": 29,
                        "learn": [
                          1.095646915
                        ],
                        "passed_time": 3.862193731,
                        "remaining_time": 124.8775973
                      },
                      {
                        "iteration": 30,
                        "learn": [
                          1.095554897
                        ],
                        "passed_time": 4.128218014,
                        "remaining_time": 129.040105
                      },
                      {
                        "iteration": 31,
                        "learn": [
                          1.095456162
                        ],
                        "passed_time": 4.381971457,
                        "remaining_time": 132.5546366
                      },
                      {
                        "iteration": 32,
                        "learn": [
                          1.09534604
                        ],
                        "passed_time": 4.534721153,
                        "remaining_time": 132.8810714
                      },
                      {
                        "iteration": 33,
                        "learn": [
                          1.095249415
                        ],
                        "passed_time": 4.708644004,
                        "remaining_time": 133.7808855
                      },
                      {
                        "iteration": 34,
                        "learn": [
                          1.095152086
                        ],
                        "passed_time": 4.855150652,
                        "remaining_time": 133.8634394
                      },
                      {
                        "iteration": 35,
                        "learn": [
                          1.095043585
                        ],
                        "passed_time": 5.02147292,
                        "remaining_time": 134.463886
                      },
                      {
                        "iteration": 36,
                        "learn": [
                          1.094952704
                        ],
                        "passed_time": 5.126886612,
                        "remaining_time": 133.4376164
                      },
                      {
                        "iteration": 37,
                        "learn": [
                          1.094862624
                        ],
                        "passed_time": 5.247346474,
                        "remaining_time": 132.8407186
                      },
                      {
                        "iteration": 38,
                        "learn": [
                          1.094763173
                        ],
                        "passed_time": 5.348151898,
                        "remaining_time": 131.783948
                      },
                      {
                        "iteration": 39,
                        "learn": [
                          1.094667505
                        ],
                        "passed_time": 5.488211571,
                        "remaining_time": 131.7170777
                      },
                      {
                        "iteration": 40,
                        "learn": [
                          1.0945706
                        ],
                        "passed_time": 5.599558132,
                        "remaining_time": 130.9750304
                      },
                      {
                        "iteration": 41,
                        "learn": [
                          1.094470978
                        ],
                        "passed_time": 5.67811623,
                        "remaining_time": 129.5151273
                      },
                      {
                        "iteration": 42,
                        "learn": [
                          1.09438622
                        ],
                        "passed_time": 5.795128363,
                        "remaining_time": 128.9752987
                      },
                      {
                        "iteration": 43,
                        "learn": [
                          1.094292552
                        ],
                        "passed_time": 5.893003878,
                        "remaining_time": 128.0389024
                      },
                      {
                        "iteration": 44,
                        "learn": [
                          1.094197866
                        ],
                        "passed_time": 5.971866933,
                        "remaining_time": 126.7362871
                      },
                      {
                        "iteration": 45,
                        "learn": [
                          1.094104468
                        ],
                        "passed_time": 6.101750117,
                        "remaining_time": 126.5449916
                      },
                      {
                        "iteration": 46,
                        "learn": [
                          1.094013275
                        ],
                        "passed_time": 6.262507691,
                        "remaining_time": 126.9823368
                      },
                      {
                        "iteration": 47,
                        "learn": [
                          1.093927307
                        ],
                        "passed_time": 6.394637495,
                        "remaining_time": 126.826977
                      },
                      {
                        "iteration": 48,
                        "learn": [
                          1.093835589
                        ],
                        "passed_time": 6.527173747,
                        "remaining_time": 126.6804537
                      },
                      {
                        "iteration": 49,
                        "learn": [
                          1.093735583
                        ],
                        "passed_time": 6.622409408,
                        "remaining_time": 125.8257788
                      },
                      {
                        "iteration": 50,
                        "learn": [
                          1.093649043
                        ],
                        "passed_time": 6.7185153,
                        "remaining_time": 125.0170788
                      },
                      {
                        "iteration": 51,
                        "learn": [
                          1.093559788
                        ],
                        "passed_time": 6.826564722,
                        "remaining_time": 124.4535261
                      },
                      {
                        "iteration": 52,
                        "learn": [
                          1.093468663
                        ],
                        "passed_time": 6.925381228,
                        "remaining_time": 123.7421891
                      },
                      {
                        "iteration": 53,
                        "learn": [
                          1.093376582
                        ],
                        "passed_time": 7.035829877,
                        "remaining_time": 123.257316
                      },
                      {
                        "iteration": 54,
                        "learn": [
                          1.093290004
                        ],
                        "passed_time": 7.076760876,
                        "remaining_time": 121.5916187
                      },
                      {
                        "iteration": 55,
                        "learn": [
                          1.093188816
                        ],
                        "passed_time": 7.188404308,
                        "remaining_time": 121.1759583
                      },
                      {
                        "iteration": 56,
                        "learn": [
                          1.093091768
                        ],
                        "passed_time": 7.291027485,
                        "remaining_time": 120.6217354
                      },
                      {
                        "iteration": 57,
                        "learn": [
                          1.093002611
                        ],
                        "passed_time": 7.334093813,
                        "remaining_time": 119.1157995
                      },
                      {
                        "iteration": 58,
                        "learn": [
                          1.092903196
                        ],
                        "passed_time": 7.41619813,
                        "remaining_time": 118.2820753
                      },
                      {
                        "iteration": 59,
                        "learn": [
                          1.09281159
                        ],
                        "passed_time": 7.484632178,
                        "remaining_time": 117.2592375
                      },
                      {
                        "iteration": 60,
                        "learn": [
                          1.09271914
                        ],
                        "passed_time": 7.524646612,
                        "remaining_time": 115.8302159
                      },
                      {
                        "iteration": 61,
                        "learn": [
                          1.092632767
                        ],
                        "passed_time": 7.57049975,
                        "remaining_time": 114.5343349
                      },
                      {
                        "iteration": 62,
                        "learn": [
                          1.092539565
                        ],
                        "passed_time": 7.616939867,
                        "remaining_time": 113.2868675
                      },
                      {
                        "iteration": 63,
                        "learn": [
                          1.092448209
                        ],
                        "passed_time": 7.686039922,
                        "remaining_time": 112.4083339
                      },
                      {
                        "iteration": 64,
                        "learn": [
                          1.092350094
                        ],
                        "passed_time": 7.746197193,
                        "remaining_time": 111.4260673
                      },
                      {
                        "iteration": 65,
                        "learn": [
                          1.092253072
                        ],
                        "passed_time": 7.80427376,
                        "remaining_time": 110.4422984
                      },
                      {
                        "iteration": 66,
                        "learn": [
                          1.092156309
                        ],
                        "passed_time": 7.87693433,
                        "remaining_time": 109.6892497
                      },
                      {
                        "iteration": 67,
                        "learn": [
                          1.092063983
                        ],
                        "passed_time": 7.939554529,
                        "remaining_time": 108.8186003
                      },
                      {
                        "iteration": 68,
                        "learn": [
                          1.091970826
                        ],
                        "passed_time": 8.003172985,
                        "remaining_time": 107.9848413
                      },
                      {
                        "iteration": 69,
                        "learn": [
                          1.091879175
                        ],
                        "passed_time": 8.065267355,
                        "remaining_time": 107.1528377
                      },
                      {
                        "iteration": 70,
                        "learn": [
                          1.091778662
                        ],
                        "passed_time": 8.133091421,
                        "remaining_time": 106.417492
                      },
                      {
                        "iteration": 71,
                        "learn": [
                          1.091695479
                        ],
                        "passed_time": 8.20149147,
                        "remaining_time": 105.7081123
                      },
                      {
                        "iteration": 72,
                        "learn": [
                          1.091603587
                        ],
                        "passed_time": 8.283604809,
                        "remaining_time": 105.1904337
                      },
                      {
                        "iteration": 73,
                        "learn": [
                          1.091514556
                        ],
                        "passed_time": 8.299217842,
                        "remaining_time": 103.8523746
                      },
                      {
                        "iteration": 74,
                        "learn": [
                          1.091418901
                        ],
                        "passed_time": 8.332341795,
                        "remaining_time": 102.7655488
                      },
                      {
                        "iteration": 75,
                        "learn": [
                          1.091329421
                        ],
                        "passed_time": 8.395798358,
                        "remaining_time": 102.0752327
                      },
                      {
                        "iteration": 76,
                        "learn": [
                          1.091225304
                        ],
                        "passed_time": 8.463324875,
                        "remaining_time": 101.4499852
                      },
                      {
                        "iteration": 77,
                        "learn": [
                          1.091130702
                        ],
                        "passed_time": 8.529532106,
                        "remaining_time": 100.8234436
                      },
                      {
                        "iteration": 78,
                        "learn": [
                          1.091038803
                        ],
                        "passed_time": 8.567091762,
                        "remaining_time": 99.87710776
                      },
                      {
                        "iteration": 79,
                        "learn": [
                          1.090940429
                        ],
                        "passed_time": 8.620851672,
                        "remaining_time": 99.13979423
                      },
                      {
                        "iteration": 80,
                        "learn": [
                          1.090842992
                        ],
                        "passed_time": 8.673674909,
                        "remaining_time": 98.40873137
                      },
                      {
                        "iteration": 81,
                        "learn": [
                          1.090750037
                        ],
                        "passed_time": 8.741634015,
                        "remaining_time": 97.86365885
                      },
                      {
                        "iteration": 82,
                        "learn": [
                          1.090666479
                        ],
                        "passed_time": 8.799192248,
                        "remaining_time": 97.21517219
                      },
                      {
                        "iteration": 83,
                        "learn": [
                          1.090567143
                        ],
                        "passed_time": 8.868967478,
                        "remaining_time": 96.71397869
                      },
                      {
                        "iteration": 84,
                        "learn": [
                          1.090476865
                        ],
                        "passed_time": 8.924499885,
                        "remaining_time": 96.06961641
                      },
                      {
                        "iteration": 85,
                        "learn": [
                          1.090397238
                        ],
                        "passed_time": 8.935157512,
                        "remaining_time": 94.96202286
                      },
                      {
                        "iteration": 86,
                        "learn": [
                          1.090312022
                        ],
                        "passed_time": 8.965901416,
                        "remaining_time": 94.09043669
                      },
                      {
                        "iteration": 87,
                        "learn": [
                          1.090222654
                        ],
                        "passed_time": 9.005724912,
                        "remaining_time": 93.33205818
                      },
                      {
                        "iteration": 88,
                        "learn": [
                          1.090132961
                        ],
                        "passed_time": 9.040410162,
                        "remaining_time": 92.5372321
                      },
                      {
                        "iteration": 89,
                        "learn": [
                          1.090043337
                        ],
                        "passed_time": 9.079249067,
                        "remaining_time": 91.80129612
                      },
                      {
                        "iteration": 90,
                        "learn": [
                          1.089948542
                        ],
                        "passed_time": 9.11124318,
                        "remaining_time": 91.01230825
                      },
                      {
                        "iteration": 91,
                        "learn": [
                          1.089855528
                        ],
                        "passed_time": 9.145469454,
                        "remaining_time": 90.26180722
                      },
                      {
                        "iteration": 92,
                        "learn": [
                          1.08976669
                        ],
                        "passed_time": 9.159751418,
                        "remaining_time": 89.33219931
                      },
                      {
                        "iteration": 93,
                        "learn": [
                          1.089683255
                        ],
                        "passed_time": 9.191773111,
                        "remaining_time": 88.59304722
                      },
                      {
                        "iteration": 94,
                        "learn": [
                          1.089594871
                        ],
                        "passed_time": 9.225115107,
                        "remaining_time": 87.8813597
                      },
                      {
                        "iteration": 95,
                        "learn": [
                          1.089504824
                        ],
                        "passed_time": 9.256865532,
                        "remaining_time": 87.16881709
                      },
                      {
                        "iteration": 96,
                        "learn": [
                          1.089413543
                        ],
                        "passed_time": 9.295862639,
                        "remaining_time": 86.53777282
                      },
                      {
                        "iteration": 97,
                        "learn": [
                          1.089330579
                        ],
                        "passed_time": 9.33990473,
                        "remaining_time": 85.96524558
                      },
                      {
                        "iteration": 98,
                        "learn": [
                          1.089234029
                        ],
                        "passed_time": 9.380402935,
                        "remaining_time": 85.37114186
                      },
                      {
                        "iteration": 99,
                        "learn": [
                          1.089142456
                        ],
                        "passed_time": 9.412960487,
                        "remaining_time": 84.71664438
                      },
                      {
                        "iteration": 100,
                        "learn": [
                          1.089051109
                        ],
                        "passed_time": 9.454786745,
                        "remaining_time": 84.1569632
                      },
                      {
                        "iteration": 101,
                        "learn": [
                          1.088954425
                        ],
                        "passed_time": 9.489077948,
                        "remaining_time": 83.54109801
                      },
                      {
                        "iteration": 102,
                        "learn": [
                          1.08886729
                        ],
                        "passed_time": 9.524631968,
                        "remaining_time": 82.94752307
                      },
                      {
                        "iteration": 103,
                        "learn": [
                          1.088780176
                        ],
                        "passed_time": 9.563485027,
                        "remaining_time": 82.39310177
                      },
                      {
                        "iteration": 104,
                        "learn": [
                          1.088693969
                        ],
                        "passed_time": 9.592117412,
                        "remaining_time": 81.76138175
                      },
                      {
                        "iteration": 105,
                        "learn": [
                          1.088600751
                        ],
                        "passed_time": 9.621873958,
                        "remaining_time": 81.15052187
                      },
                      {
                        "iteration": 106,
                        "learn": [
                          1.088510287
                        ],
                        "passed_time": 9.654760245,
                        "remaining_time": 80.57664391
                      },
                      {
                        "iteration": 107,
                        "learn": [
                          1.088427771
                        ],
                        "passed_time": 9.692477463,
                        "remaining_time": 80.05268423
                      },
                      {
                        "iteration": 108,
                        "learn": [
                          1.08832571
                        ],
                        "passed_time": 9.723467892,
                        "remaining_time": 79.48265955
                      },
                      {
                        "iteration": 109,
                        "learn": [
                          1.088228494
                        ],
                        "passed_time": 9.758619283,
                        "remaining_time": 78.95610147
                      },
                      {
                        "iteration": 110,
                        "learn": [
                          1.088132497
                        ],
                        "passed_time": 9.78311444,
                        "remaining_time": 78.35305168
                      },
                      {
                        "iteration": 111,
                        "learn": [
                          1.088043596
                        ],
                        "passed_time": 9.800949376,
                        "remaining_time": 77.70752719
                      },
                      {
                        "iteration": 112,
                        "learn": [
                          1.087948041
                        ],
                        "passed_time": 9.829451638,
                        "remaining_time": 77.15684605
                      },
                      {
                        "iteration": 113,
                        "learn": [
                          1.08786097
                        ],
                        "passed_time": 9.868945998,
                        "remaining_time": 76.70075574
                      },
                      {
                        "iteration": 114,
                        "learn": [
                          1.087778647
                        ],
                        "passed_time": 9.901000118,
                        "remaining_time": 76.19465308
                      },
                      {
                        "iteration": 115,
                        "learn": [
                          1.087693125
                        ],
                        "passed_time": 9.939363593,
                        "remaining_time": 75.74480531
                      },
                      {
                        "iteration": 116,
                        "learn": [
                          1.087597906
                        ],
                        "passed_time": 9.968190989,
                        "remaining_time": 75.23002259
                      },
                      {
                        "iteration": 117,
                        "learn": [
                          1.087497101
                        ],
                        "passed_time": 10.00753454,
                        "remaining_time": 74.8020802
                      },
                      {
                        "iteration": 118,
                        "learn": [
                          1.087408759
                        ],
                        "passed_time": 10.05056503,
                        "remaining_time": 74.4079646
                      },
                      {
                        "iteration": 119,
                        "learn": [
                          1.087318659
                        ],
                        "passed_time": 10.08308758,
                        "remaining_time": 73.94264226
                      },
                      {
                        "iteration": 120,
                        "learn": [
                          1.087226575
                        ],
                        "passed_time": 10.11703862,
                        "remaining_time": 73.49485078
                      },
                      {
                        "iteration": 121,
                        "learn": [
                          1.087141568
                        ],
                        "passed_time": 10.1273306,
                        "remaining_time": 72.88357596
                      },
                      {
                        "iteration": 122,
                        "learn": [
                          1.087057192
                        ],
                        "passed_time": 10.15182668,
                        "remaining_time": 72.38334959
                      },
                      {
                        "iteration": 123,
                        "learn": [
                          1.086975978
                        ],
                        "passed_time": 10.16280441,
                        "remaining_time": 71.79529569
                      },
                      {
                        "iteration": 124,
                        "learn": [
                          1.086902536
                        ],
                        "passed_time": 10.17346182,
                        "remaining_time": 71.21423271
                      },
                      {
                        "iteration": 125,
                        "learn": [
                          1.086819243
                        ],
                        "passed_time": 10.19104186,
                        "remaining_time": 70.69024276
                      },
                      {
                        "iteration": 126,
                        "learn": [
                          1.086729475
                        ],
                        "passed_time": 10.22314523,
                        "remaining_time": 70.27406133
                      },
                      {
                        "iteration": 127,
                        "learn": [
                          1.086641866
                        ],
                        "passed_time": 10.25530265,
                        "remaining_time": 69.8642493
                      },
                      {
                        "iteration": 128,
                        "learn": [
                          1.086561883
                        ],
                        "passed_time": 10.2922001,
                        "remaining_time": 69.49229681
                      },
                      {
                        "iteration": 129,
                        "learn": [
                          1.086476549
                        ],
                        "passed_time": 10.33971127,
                        "remaining_time": 69.1965293
                      },
                      {
                        "iteration": 130,
                        "learn": [
                          1.086388814
                        ],
                        "passed_time": 10.37888382,
                        "remaining_time": 68.84923696
                      },
                      {
                        "iteration": 131,
                        "learn": [
                          1.0863168
                        ],
                        "passed_time": 10.39515604,
                        "remaining_time": 68.35602607
                      },
                      {
                        "iteration": 132,
                        "learn": [
                          1.086228722
                        ],
                        "passed_time": 10.42342538,
                        "remaining_time": 67.94819401
                      },
                      {
                        "iteration": 133,
                        "learn": [
                          1.08613215
                        ],
                        "passed_time": 10.45583683,
                        "remaining_time": 67.57279623
                      },
                      {
                        "iteration": 134,
                        "learn": [
                          1.086036506
                        ],
                        "passed_time": 10.49014535,
                        "remaining_time": 67.21463502
                      },
                      {
                        "iteration": 135,
                        "learn": [
                          1.085950426
                        ],
                        "passed_time": 10.5272436,
                        "remaining_time": 66.87895933
                      },
                      {
                        "iteration": 136,
                        "learn": [
                          1.085866998
                        ],
                        "passed_time": 10.56452348,
                        "remaining_time": 66.54878658
                      },
                      {
                        "iteration": 137,
                        "learn": [
                          1.085775079
                        ],
                        "passed_time": 10.59533398,
                        "remaining_time": 66.18244849
                      },
                      {
                        "iteration": 138,
                        "learn": [
                          1.085688844
                        ],
                        "passed_time": 10.62380875,
                        "remaining_time": 65.80647006
                      },
                      {
                        "iteration": 139,
                        "learn": [
                          1.085590063
                        ],
                        "passed_time": 10.65504175,
                        "remaining_time": 65.45239932
                      },
                      {
                        "iteration": 140,
                        "learn": [
                          1.085503325
                        ],
                        "passed_time": 10.69137557,
                        "remaining_time": 65.13398308
                      },
                      {
                        "iteration": 141,
                        "learn": [
                          1.085423034
                        ],
                        "passed_time": 10.72758168,
                        "remaining_time": 64.81876816
                      },
                      {
                        "iteration": 142,
                        "learn": [
                          1.085351331
                        ],
                        "passed_time": 10.74140247,
                        "remaining_time": 64.37330009
                      },
                      {
                        "iteration": 143,
                        "learn": [
                          1.085264846
                        ],
                        "passed_time": 10.77850724,
                        "remaining_time": 64.07223748
                      },
                      {
                        "iteration": 144,
                        "learn": [
                          1.085183761
                        ],
                        "passed_time": 10.81227398,
                        "remaining_time": 63.75513276
                      },
                      {
                        "iteration": 145,
                        "learn": [
                          1.085102397
                        ],
                        "passed_time": 10.84556895,
                        "remaining_time": 63.43914986
                      },
                      {
                        "iteration": 146,
                        "learn": [
                          1.085014311
                        ],
                        "passed_time": 10.87789978,
                        "remaining_time": 63.12141844
                      },
                      {
                        "iteration": 147,
                        "learn": [
                          1.084919267
                        ],
                        "passed_time": 10.90927846,
                        "remaining_time": 62.80206248
                      },
                      {
                        "iteration": 148,
                        "learn": [
                          1.084830327
                        ],
                        "passed_time": 10.94485324,
                        "remaining_time": 62.51053764
                      },
                      {
                        "iteration": 149,
                        "learn": [
                          1.08473379
                        ],
                        "passed_time": 10.97200411,
                        "remaining_time": 62.17468994
                      },
                      {
                        "iteration": 150,
                        "learn": [
                          1.084647052
                        ],
                        "passed_time": 11.00874336,
                        "remaining_time": 61.8968418
                      },
                      {
                        "iteration": 151,
                        "learn": [
                          1.084561637
                        ],
                        "passed_time": 11.04921574,
                        "remaining_time": 61.64299306
                      },
                      {
                        "iteration": 152,
                        "learn": [
                          1.084472506
                        ],
                        "passed_time": 11.08149484,
                        "remaining_time": 61.346576
                      },
                      {
                        "iteration": 153,
                        "learn": [
                          1.084384185
                        ],
                        "passed_time": 11.1158785,
                        "remaining_time": 61.06515073
                      },
                      {
                        "iteration": 154,
                        "learn": [
                          1.084304212
                        ],
                        "passed_time": 11.15263343,
                        "remaining_time": 60.79984029
                      },
                      {
                        "iteration": 155,
                        "learn": [
                          1.084206582
                        ],
                        "passed_time": 11.18390216,
                        "remaining_time": 60.50777837
                      },
                      {
                        "iteration": 156,
                        "learn": [
                          1.084116464
                        ],
                        "passed_time": 11.21577409,
                        "remaining_time": 60.22227745
                      },
                      {
                        "iteration": 157,
                        "learn": [
                          1.0840315
                        ],
                        "passed_time": 11.24483143,
                        "remaining_time": 59.92498773
                      },
                      {
                        "iteration": 158,
                        "learn": [
                          1.083940966
                        ],
                        "passed_time": 11.28982562,
                        "remaining_time": 59.71536694
                      },
                      {
                        "iteration": 159,
                        "learn": [
                          1.083854023
                        ],
                        "passed_time": 11.32295284,
                        "remaining_time": 59.44550241
                      },
                      {
                        "iteration": 160,
                        "learn": [
                          1.083765402
                        ],
                        "passed_time": 11.37223075,
                        "remaining_time": 59.26274284
                      },
                      {
                        "iteration": 161,
                        "learn": [
                          1.083670214
                        ],
                        "passed_time": 11.40912177,
                        "remaining_time": 59.01755582
                      },
                      {
                        "iteration": 162,
                        "learn": [
                          1.083586282
                        ],
                        "passed_time": 11.44114211,
                        "remaining_time": 58.7499138
                      },
                      {
                        "iteration": 163,
                        "learn": [
                          1.083499382
                        ],
                        "passed_time": 11.47169936,
                        "remaining_time": 58.47768696
                      },
                      {
                        "iteration": 164,
                        "learn": [
                          1.083405071
                        ],
                        "passed_time": 11.50405101,
                        "remaining_time": 58.21747028
                      },
                      {
                        "iteration": 165,
                        "learn": [
                          1.083324694
                        ],
                        "passed_time": 11.53723622,
                        "remaining_time": 57.96418681
                      },
                      {
                        "iteration": 166,
                        "learn": [
                          1.083242588
                        ],
                        "passed_time": 11.57331763,
                        "remaining_time": 57.72798554
                      },
                      {
                        "iteration": 167,
                        "learn": [
                          1.083160694
                        ],
                        "passed_time": 11.58402885,
                        "remaining_time": 57.36852384
                      },
                      {
                        "iteration": 168,
                        "learn": [
                          1.083076363
                        ],
                        "passed_time": 11.61462161,
                        "remaining_time": 57.11095005
                      },
                      {
                        "iteration": 169,
                        "learn": [
                          1.082989019
                        ],
                        "passed_time": 11.64746622,
                        "remaining_time": 56.86704095
                      },
                      {
                        "iteration": 170,
                        "learn": [
                          1.082908407
                        ],
                        "passed_time": 11.67754889,
                        "remaining_time": 56.61221072
                      },
                      {
                        "iteration": 171,
                        "learn": [
                          1.082821811
                        ],
                        "passed_time": 11.70895263,
                        "remaining_time": 56.36635334
                      },
                      {
                        "iteration": 172,
                        "learn": [
                          1.082734743
                        ],
                        "passed_time": 11.74682604,
                        "remaining_time": 56.15390252
                      },
                      {
                        "iteration": 173,
                        "learn": [
                          1.08265701
                        ],
                        "passed_time": 11.78151097,
                        "remaining_time": 55.92832221
                      },
                      {
                        "iteration": 174,
                        "learn": [
                          1.082573992
                        ],
                        "passed_time": 11.81143844,
                        "remaining_time": 55.68249549
                      },
                      {
                        "iteration": 175,
                        "learn": [
                          1.082522557
                        ],
                        "passed_time": 11.81826671,
                        "remaining_time": 55.33097594
                      },
                      {
                        "iteration": 176,
                        "learn": [
                          1.082434425
                        ],
                        "passed_time": 11.85096541,
                        "remaining_time": 55.10364143
                      },
                      {
                        "iteration": 177,
                        "learn": [
                          1.08233962
                        ],
                        "passed_time": 11.88562889,
                        "remaining_time": 54.88756711
                      },
                      {
                        "iteration": 178,
                        "learn": [
                          1.082250367
                        ],
                        "passed_time": 11.92777598,
                        "remaining_time": 54.70784401
                      },
                      {
                        "iteration": 179,
                        "learn": [
                          1.082154712
                        ],
                        "passed_time": 11.96878287,
                        "remaining_time": 54.5244553
                      },
                      {
                        "iteration": 180,
                        "learn": [
                          1.08207387
                        ],
                        "passed_time": 12.02230776,
                        "remaining_time": 54.39928207
                      },
                      {
                        "iteration": 181,
                        "learn": [
                          1.081990507
                        ],
                        "passed_time": 12.0558868,
                        "remaining_time": 54.18524947
                      },
                      {
                        "iteration": 182,
                        "learn": [
                          1.081900818
                        ],
                        "passed_time": 12.09461822,
                        "remaining_time": 53.99619173
                      },
                      {
                        "iteration": 183,
                        "learn": [
                          1.081814741
                        ],
                        "passed_time": 12.12163868,
                        "remaining_time": 53.7568324
                      },
                      {
                        "iteration": 184,
                        "learn": [
                          1.081725551
                        ],
                        "passed_time": 12.15410161,
                        "remaining_time": 53.54374492
                      },
                      {
                        "iteration": 185,
                        "learn": [
                          1.081633963
                        ],
                        "passed_time": 12.18254731,
                        "remaining_time": 53.31501886
                      },
                      {
                        "iteration": 186,
                        "learn": [
                          1.081546357
                        ],
                        "passed_time": 12.21894971,
                        "remaining_time": 53.12302733
                      },
                      {
                        "iteration": 187,
                        "learn": [
                          1.081464267
                        ],
                        "passed_time": 12.25250712,
                        "remaining_time": 52.92040308
                      },
                      {
                        "iteration": 188,
                        "learn": [
                          1.081377355
                        ],
                        "passed_time": 12.28055998,
                        "remaining_time": 52.69594784
                      },
                      {
                        "iteration": 189,
                        "learn": [
                          1.081289495
                        ],
                        "passed_time": 12.32013321,
                        "remaining_time": 52.52267317
                      },
                      {
                        "iteration": 190,
                        "learn": [
                          1.081207239
                        ],
                        "passed_time": 12.3523841,
                        "remaining_time": 52.31978395
                      },
                      {
                        "iteration": 191,
                        "learn": [
                          1.081125174
                        ],
                        "passed_time": 12.40243585,
                        "remaining_time": 52.19358421
                      },
                      {
                        "iteration": 192,
                        "learn": [
                          1.081037112
                        ],
                        "passed_time": 12.43516039,
                        "remaining_time": 51.99572247
                      },
                      {
                        "iteration": 193,
                        "learn": [
                          1.08095837
                        ],
                        "passed_time": 12.44724232,
                        "remaining_time": 51.71380058
                      },
                      {
                        "iteration": 194,
                        "learn": [
                          1.080872941
                        ],
                        "passed_time": 12.48251191,
                        "remaining_time": 51.53036968
                      },
                      {
                        "iteration": 195,
                        "learn": [
                          1.080793518
                        ],
                        "passed_time": 12.50724822,
                        "remaining_time": 51.3052427
                      },
                      {
                        "iteration": 196,
                        "learn": [
                          1.080708857
                        ],
                        "passed_time": 12.54024046,
                        "remaining_time": 51.11580249
                      },
                      {
                        "iteration": 197,
                        "learn": [
                          1.080612824
                        ],
                        "passed_time": 12.5698915,
                        "remaining_time": 50.91440901
                      },
                      {
                        "iteration": 198,
                        "learn": [
                          1.0805344
                        ],
                        "passed_time": 12.59964053,
                        "remaining_time": 50.71513599
                      },
                      {
                        "iteration": 199,
                        "learn": [
                          1.080453462
                        ],
                        "passed_time": 12.63139995,
                        "remaining_time": 50.52559982
                      },
                      {
                        "iteration": 200,
                        "learn": [
                          1.080373174
                        ],
                        "passed_time": 12.66529319,
                        "remaining_time": 50.3461157
                      },
                      {
                        "iteration": 201,
                        "learn": [
                          1.080295639
                        ],
                        "passed_time": 12.69701489,
                        "remaining_time": 50.15949448
                      },
                      {
                        "iteration": 202,
                        "learn": [
                          1.080202413
                        ],
                        "passed_time": 12.72968238,
                        "remaining_time": 49.97811258
                      },
                      {
                        "iteration": 203,
                        "learn": [
                          1.080112126
                        ],
                        "passed_time": 12.75241597,
                        "remaining_time": 49.759427
                      },
                      {
                        "iteration": 204,
                        "learn": [
                          1.080029186
                        ],
                        "passed_time": 12.78358807,
                        "remaining_time": 49.57537813
                      },
                      {
                        "iteration": 205,
                        "learn": [
                          1.079950415
                        ],
                        "passed_time": 12.8142365,
                        "remaining_time": 49.39079506
                      },
                      {
                        "iteration": 206,
                        "learn": [
                          1.079879317
                        ],
                        "passed_time": 12.84647839,
                        "remaining_time": 49.21380368
                      },
                      {
                        "iteration": 207,
                        "learn": [
                          1.07979826
                        ],
                        "passed_time": 12.8850938,
                        "remaining_time": 49.06247254
                      },
                      {
                        "iteration": 208,
                        "learn": [
                          1.079720623
                        ],
                        "passed_time": 12.89573459,
                        "remaining_time": 48.8063448
                      },
                      {
                        "iteration": 209,
                        "learn": [
                          1.0796366
                        ],
                        "passed_time": 12.9336357,
                        "remaining_time": 48.65510574
                      },
                      {
                        "iteration": 210,
                        "learn": [
                          1.079549884
                        ],
                        "passed_time": 12.96823406,
                        "remaining_time": 48.49259087
                      },
                      {
                        "iteration": 211,
                        "learn": [
                          1.079466145
                        ],
                        "passed_time": 13.00405364,
                        "remaining_time": 48.33582201
                      },
                      {
                        "iteration": 212,
                        "learn": [
                          1.079390916
                        ],
                        "passed_time": 13.03185413,
                        "remaining_time": 48.15055961
                      },
                      {
                        "iteration": 213,
                        "learn": [
                          1.079307825
                        ],
                        "passed_time": 13.06165285,
                        "remaining_time": 47.97410812
                      },
                      {
                        "iteration": 214,
                        "learn": [
                          1.079234777
                        ],
                        "passed_time": 13.09780233,
                        "remaining_time": 47.8222085
                      },
                      {
                        "iteration": 215,
                        "learn": [
                          1.079148554
                        ],
                        "passed_time": 13.13019924,
                        "remaining_time": 47.65776021
                      },
                      {
                        "iteration": 216,
                        "learn": [
                          1.079076551
                        ],
                        "passed_time": 13.14670995,
                        "remaining_time": 47.43720686
                      },
                      {
                        "iteration": 217,
                        "learn": [
                          1.079000246
                        ],
                        "passed_time": 13.18434182,
                        "remaining_time": 47.29429039
                      },
                      {
                        "iteration": 218,
                        "learn": [
                          1.078925964
                        ],
                        "passed_time": 13.22050621,
                        "remaining_time": 47.14710207
                      },
                      {
                        "iteration": 219,
                        "learn": [
                          1.078847122
                        ],
                        "passed_time": 13.25458442,
                        "remaining_time": 46.99352659
                      },
                      {
                        "iteration": 220,
                        "learn": [
                          1.078768572
                        ],
                        "passed_time": 13.29494622,
                        "remaining_time": 46.86318147
                      },
                      {
                        "iteration": 221,
                        "learn": [
                          1.07868706
                        ],
                        "passed_time": 13.3310196,
                        "remaining_time": 46.71861825
                      },
                      {
                        "iteration": 222,
                        "learn": [
                          1.078612704
                        ],
                        "passed_time": 13.36861404,
                        "remaining_time": 46.58032784
                      },
                      {
                        "iteration": 223,
                        "learn": [
                          1.078530789
                        ],
                        "passed_time": 13.41505951,
                        "remaining_time": 46.47359902
                      },
                      {
                        "iteration": 224,
                        "learn": [
                          1.078450727
                        ],
                        "passed_time": 13.45007165,
                        "remaining_time": 46.32802457
                      },
                      {
                        "iteration": 225,
                        "learn": [
                          1.07838814
                        ],
                        "passed_time": 13.481667,
                        "remaining_time": 46.17172682
                      },
                      {
                        "iteration": 226,
                        "learn": [
                          1.078304524
                        ],
                        "passed_time": 13.51287518,
                        "remaining_time": 46.01520933
                      },
                      {
                        "iteration": 227,
                        "learn": [
                          1.078224107
                        ],
                        "passed_time": 13.54539375,
                        "remaining_time": 45.86422794
                      },
                      {
                        "iteration": 228,
                        "learn": [
                          1.078137931
                        ],
                        "passed_time": 13.57446803,
                        "remaining_time": 45.70268493
                      },
                      {
                        "iteration": 229,
                        "learn": [
                          1.07805191
                        ],
                        "passed_time": 13.6050984,
                        "remaining_time": 45.54750333
                      },
                      {
                        "iteration": 230,
                        "learn": [
                          1.077959939
                        ],
                        "passed_time": 13.64292015,
                        "remaining_time": 45.41734024
                      },
                      {
                        "iteration": 231,
                        "learn": [
                          1.077871284
                        ],
                        "passed_time": 13.67667342,
                        "remaining_time": 45.27450513
                      },
                      {
                        "iteration": 232,
                        "learn": [
                          1.077793227
                        ],
                        "passed_time": 13.71327489,
                        "remaining_time": 45.14198216
                      },
                      {
                        "iteration": 233,
                        "learn": [
                          1.077712972
                        ],
                        "passed_time": 13.75198777,
                        "remaining_time": 45.01719072
                      },
                      {
                        "iteration": 234,
                        "learn": [
                          1.077628525
                        ],
                        "passed_time": 13.78653089,
                        "remaining_time": 44.879558
                      },
                      {
                        "iteration": 235,
                        "learn": [
                          1.077548474
                        ],
                        "passed_time": 13.82163426,
                        "remaining_time": 44.74461262
                      },
                      {
                        "iteration": 236,
                        "learn": [
                          1.077470946
                        ],
                        "passed_time": 13.85016319,
                        "remaining_time": 44.58934394
                      },
                      {
                        "iteration": 237,
                        "learn": [
                          1.077389615
                        ],
                        "passed_time": 13.88620616,
                        "remaining_time": 44.45919786
                      },
                      {
                        "iteration": 238,
                        "learn": [
                          1.077309853
                        ],
                        "passed_time": 13.92550808,
                        "remaining_time": 44.34021609
                      },
                      {
                        "iteration": 239,
                        "learn": [
                          1.07722496
                        ],
                        "passed_time": 13.96104227,
                        "remaining_time": 44.2099672
                      },
                      {
                        "iteration": 240,
                        "learn": [
                          1.077141313
                        ],
                        "passed_time": 13.99132867,
                        "remaining_time": 44.06397701
                      },
                      {
                        "iteration": 241,
                        "learn": [
                          1.077064643
                        ],
                        "passed_time": 14.03701444,
                        "remaining_time": 43.96717748
                      },
                      {
                        "iteration": 242,
                        "learn": [
                          1.076995575
                        ],
                        "passed_time": 14.06118639,
                        "remaining_time": 43.80377818
                      },
                      {
                        "iteration": 243,
                        "learn": [
                          1.076908937
                        ],
                        "passed_time": 14.09770983,
                        "remaining_time": 43.67978949
                      },
                      {
                        "iteration": 244,
                        "learn": [
                          1.076825876
                        ],
                        "passed_time": 14.13661228,
                        "remaining_time": 43.56384602
                      },
                      {
                        "iteration": 245,
                        "learn": [
                          1.076747253
                        ],
                        "passed_time": 14.1683505,
                        "remaining_time": 43.42657023
                      },
                      {
                        "iteration": 246,
                        "learn": [
                          1.076668601
                        ],
                        "passed_time": 14.20440578,
                        "remaining_time": 43.30330993
                      },
                      {
                        "iteration": 247,
                        "learn": [
                          1.07659071
                        ],
                        "passed_time": 14.23762858,
                        "remaining_time": 43.17216407
                      },
                      {
                        "iteration": 248,
                        "learn": [
                          1.076509596
                        ],
                        "passed_time": 14.27424315,
                        "remaining_time": 43.05203455
                      },
                      {
                        "iteration": 249,
                        "learn": [
                          1.076421129
                        ],
                        "passed_time": 14.30267861,
                        "remaining_time": 42.90803584
                      },
                      {
                        "iteration": 250,
                        "learn": [
                          1.076333664
                        ],
                        "passed_time": 14.33558251,
                        "remaining_time": 42.77829204
                      },
                      {
                        "iteration": 251,
                        "learn": [
                          1.076251127
                        ],
                        "passed_time": 14.37390463,
                        "remaining_time": 42.66539945
                      },
                      {
                        "iteration": 252,
                        "learn": [
                          1.076174211
                        ],
                        "passed_time": 14.40519524,
                        "remaining_time": 42.53233536
                      },
                      {
                        "iteration": 253,
                        "learn": [
                          1.076095688
                        ],
                        "passed_time": 14.45774958,
                        "remaining_time": 42.46252436
                      },
                      {
                        "iteration": 254,
                        "learn": [
                          1.07600838
                        ],
                        "passed_time": 14.49268238,
                        "remaining_time": 42.34136617
                      },
                      {
                        "iteration": 255,
                        "learn": [
                          1.075919527
                        ],
                        "passed_time": 14.52489252,
                        "remaining_time": 42.21296887
                      },
                      {
                        "iteration": 256,
                        "learn": [
                          1.0758368
                        ],
                        "passed_time": 14.5558917,
                        "remaining_time": 42.08181918
                      },
                      {
                        "iteration": 257,
                        "learn": [
                          1.075763832
                        ],
                        "passed_time": 14.56656309,
                        "remaining_time": 41.89298377
                      },
                      {
                        "iteration": 258,
                        "learn": [
                          1.075711321
                        ],
                        "passed_time": 14.57334533,
                        "remaining_time": 41.69439727
                      },
                      {
                        "iteration": 259,
                        "learn": [
                          1.07563102
                        ],
                        "passed_time": 14.60109249,
                        "remaining_time": 41.55695556
                      },
                      {
                        "iteration": 260,
                        "learn": [
                          1.075552947
                        ],
                        "passed_time": 14.63454593,
                        "remaining_time": 41.43651126
                      },
                      {
                        "iteration": 261,
                        "learn": [
                          1.075464693
                        ],
                        "passed_time": 14.67001353,
                        "remaining_time": 41.32240453
                      },
                      {
                        "iteration": 262,
                        "learn": [
                          1.075376685
                        ],
                        "passed_time": 14.71021667,
                        "remaining_time": 41.22216611
                      },
                      {
                        "iteration": 263,
                        "learn": [
                          1.075293425
                        ],
                        "passed_time": 14.74988617,
                        "remaining_time": 41.12089477
                      },
                      {
                        "iteration": 264,
                        "learn": [
                          1.075221229
                        ],
                        "passed_time": 14.78265246,
                        "remaining_time": 41.00094172
                      },
                      {
                        "iteration": 265,
                        "learn": [
                          1.075144684
                        ],
                        "passed_time": 14.82004005,
                        "remaining_time": 40.89439622
                      },
                      {
                        "iteration": 266,
                        "learn": [
                          1.075063153
                        ],
                        "passed_time": 14.85196618,
                        "remaining_time": 40.77337532
                      },
                      {
                        "iteration": 267,
                        "learn": [
                          1.074994032
                        ],
                        "passed_time": 14.87431765,
                        "remaining_time": 40.62686762
                      },
                      {
                        "iteration": 268,
                        "learn": [
                          1.07491282
                        ],
                        "passed_time": 14.89973922,
                        "remaining_time": 40.4896259
                      },
                      {
                        "iteration": 269,
                        "learn": [
                          1.074832119
                        ],
                        "passed_time": 14.93867001,
                        "remaining_time": 40.38973743
                      },
                      {
                        "iteration": 270,
                        "learn": [
                          1.074751014
                        ],
                        "passed_time": 14.96531014,
                        "remaining_time": 40.25723649
                      },
                      {
                        "iteration": 271,
                        "learn": [
                          1.074682005
                        ],
                        "passed_time": 14.98775098,
                        "remaining_time": 40.11427469
                      },
                      {
                        "iteration": 272,
                        "learn": [
                          1.074596408
                        ],
                        "passed_time": 15.01512927,
                        "remaining_time": 39.98534424
                      },
                      {
                        "iteration": 273,
                        "learn": [
                          1.074517804
                        ],
                        "passed_time": 15.07434566,
                        "remaining_time": 39.94151442
                      },
                      {
                        "iteration": 274,
                        "learn": [
                          1.074437889
                        ],
                        "passed_time": 15.11321441,
                        "remaining_time": 39.84392889
                      },
                      {
                        "iteration": 275,
                        "learn": [
                          1.07436266
                        ],
                        "passed_time": 15.1501554,
                        "remaining_time": 39.741712
                      },
                      {
                        "iteration": 276,
                        "learn": [
                          1.07428659
                        ],
                        "passed_time": 15.18097879,
                        "remaining_time": 39.62399878
                      },
                      {
                        "iteration": 277,
                        "learn": [
                          1.074209853
                        ],
                        "passed_time": 15.21549274,
                        "remaining_time": 39.51649554
                      },
                      {
                        "iteration": 278,
                        "learn": [
                          1.074129931
                        ],
                        "passed_time": 15.25122068,
                        "remaining_time": 39.41265272
                      },
                      {
                        "iteration": 279,
                        "learn": [
                          1.074052589
                        ],
                        "passed_time": 15.28216545,
                        "remaining_time": 39.29699688
                      },
                      {
                        "iteration": 280,
                        "learn": [
                          1.073975196
                        ],
                        "passed_time": 15.30952243,
                        "remaining_time": 39.1727638
                      },
                      {
                        "iteration": 281,
                        "learn": [
                          1.073897455
                        ],
                        "passed_time": 15.34590182,
                        "remaining_time": 39.07218975
                      },
                      {
                        "iteration": 282,
                        "learn": [
                          1.073818667
                        ],
                        "passed_time": 15.38427662,
                        "remaining_time": 38.97712487
                      },
                      {
                        "iteration": 283,
                        "learn": [
                          1.073731312
                        ],
                        "passed_time": 15.41643952,
                        "remaining_time": 38.86679823
                      },
                      {
                        "iteration": 284,
                        "learn": [
                          1.073653947
                        ],
                        "passed_time": 15.46550512,
                        "remaining_time": 38.79942513
                      },
                      {
                        "iteration": 285,
                        "learn": [
                          1.073576288
                        ],
                        "passed_time": 15.49684944,
                        "remaining_time": 38.68793881
                      },
                      {
                        "iteration": 286,
                        "learn": [
                          1.073503407
                        ],
                        "passed_time": 15.53454991,
                        "remaining_time": 38.59280169
                      },
                      {
                        "iteration": 287,
                        "learn": [
                          1.073417084
                        ],
                        "passed_time": 15.57056119,
                        "remaining_time": 38.49388738
                      },
                      {
                        "iteration": 288,
                        "learn": [
                          1.073341126
                        ],
                        "passed_time": 15.59449258,
                        "remaining_time": 38.36568937
                      },
                      {
                        "iteration": 289,
                        "learn": [
                          1.073257499
                        ],
                        "passed_time": 15.6288008,
                        "remaining_time": 38.26361576
                      },
                      {
                        "iteration": 290,
                        "learn": [
                          1.073185049
                        ],
                        "passed_time": 15.66007359,
                        "remaining_time": 38.15461229
                      },
                      {
                        "iteration": 291,
                        "learn": [
                          1.073109753
                        ],
                        "passed_time": 15.6988918,
                        "remaining_time": 38.06443629
                      },
                      {
                        "iteration": 292,
                        "learn": [
                          1.073030862
                        ],
                        "passed_time": 15.72959958,
                        "remaining_time": 37.95504063
                      },
                      {
                        "iteration": 293,
                        "learn": [
                          1.072949577
                        ],
                        "passed_time": 15.75943522,
                        "remaining_time": 37.84408593
                      },
                      {
                        "iteration": 294,
                        "learn": [
                          1.072875201
                        ],
                        "passed_time": 15.79415657,
                        "remaining_time": 37.74535722
                      },
                      {
                        "iteration": 295,
                        "learn": [
                          1.072792653
                        ],
                        "passed_time": 15.82815821,
                        "remaining_time": 37.64534925
                      },
                      {
                        "iteration": 296,
                        "learn": [
                          1.072720993
                        ],
                        "passed_time": 15.86635955,
                        "remaining_time": 37.55572647
                      },
                      {
                        "iteration": 297,
                        "learn": [
                          1.072646561
                        ],
                        "passed_time": 15.89978378,
                        "remaining_time": 37.45519534
                      },
                      {
                        "iteration": 298,
                        "learn": [
                          1.072568041
                        ],
                        "passed_time": 15.93754836,
                        "remaining_time": 37.36528897
                      },
                      {
                        "iteration": 299,
                        "learn": [
                          1.07249893
                        ],
                        "passed_time": 15.94894809,
                        "remaining_time": 37.2142122
                      },
                      {
                        "iteration": 300,
                        "learn": [
                          1.072418514
                        ],
                        "passed_time": 15.9872226,
                        "remaining_time": 37.12647376
                      },
                      {
                        "iteration": 301,
                        "learn": [
                          1.072336103
                        ],
                        "passed_time": 16.0193352,
                        "remaining_time": 37.02482108
                      },
                      {
                        "iteration": 302,
                        "learn": [
                          1.072265425
                        ],
                        "passed_time": 16.05670737,
                        "remaining_time": 36.93572621
                      },
                      {
                        "iteration": 303,
                        "learn": [
                          1.072182327
                        ],
                        "passed_time": 16.11604189,
                        "remaining_time": 36.89725379
                      },
                      {
                        "iteration": 304,
                        "learn": [
                          1.072105667
                        ],
                        "passed_time": 16.12673847,
                        "remaining_time": 36.7478139
                      },
                      {
                        "iteration": 305,
                        "learn": [
                          1.072041455
                        ],
                        "passed_time": 16.13868603,
                        "remaining_time": 36.602118
                      },
                      {
                        "iteration": 306,
                        "learn": [
                          1.071974606
                        ],
                        "passed_time": 16.17144098,
                        "remaining_time": 36.50426254
                      },
                      {
                        "iteration": 307,
                        "learn": [
                          1.071894827
                        ],
                        "passed_time": 16.20786132,
                        "remaining_time": 36.41506505
                      },
                      {
                        "iteration": 308,
                        "learn": [
                          1.071827021
                        ],
                        "passed_time": 16.21881092,
                        "remaining_time": 36.26925032
                      },
                      {
                        "iteration": 309,
                        "learn": [
                          1.071751073
                        ],
                        "passed_time": 16.25312149,
                        "remaining_time": 36.17630268
                      },
                      {
                        "iteration": 310,
                        "learn": [
                          1.071672115
                        ],
                        "passed_time": 16.2872859,
                        "remaining_time": 36.08340832
                      },
                      {
                        "iteration": 311,
                        "learn": [
                          1.071587131
                        ],
                        "passed_time": 16.3207865,
                        "remaining_time": 35.98942664
                      },
                      {
                        "iteration": 312,
                        "learn": [
                          1.071516768
                        ],
                        "passed_time": 16.35199253,
                        "remaining_time": 35.89079511
                      },
                      {
                        "iteration": 313,
                        "learn": [
                          1.071447082
                        ],
                        "passed_time": 16.38885132,
                        "remaining_time": 35.8049427
                      },
                      {
                        "iteration": 314,
                        "learn": [
                          1.071386423
                        ],
                        "passed_time": 16.42187323,
                        "remaining_time": 35.71105765
                      },
                      {
                        "iteration": 315,
                        "learn": [
                          1.071317981
                        ],
                        "passed_time": 16.45228028,
                        "remaining_time": 35.61189782
                      },
                      {
                        "iteration": 316,
                        "learn": [
                          1.071242046
                        ],
                        "passed_time": 16.47229338,
                        "remaining_time": 35.49077721
                      },
                      {
                        "iteration": 317,
                        "learn": [
                          1.071170018
                        ],
                        "passed_time": 16.51484568,
                        "remaining_time": 35.4186313
                      },
                      {
                        "iteration": 318,
                        "learn": [
                          1.071090397
                        ],
                        "passed_time": 16.54502657,
                        "remaining_time": 35.32026047
                      },
                      {
                        "iteration": 319,
                        "learn": [
                          1.071024939
                        ],
                        "passed_time": 16.57898404,
                        "remaining_time": 35.2303411
                      },
                      {
                        "iteration": 320,
                        "learn": [
                          1.070954862
                        ],
                        "passed_time": 16.61560437,
                        "remaining_time": 35.14640302
                      },
                      {
                        "iteration": 321,
                        "learn": [
                          1.070874536
                        ],
                        "passed_time": 16.65017594,
                        "remaining_time": 35.05844498
                      },
                      {
                        "iteration": 322,
                        "learn": [
                          1.070790358
                        ],
                        "passed_time": 16.68524773,
                        "remaining_time": 34.97186599
                      },
                      {
                        "iteration": 323,
                        "learn": [
                          1.070712724
                        ],
                        "passed_time": 16.71911015,
                        "remaining_time": 34.88308168
                      },
                      {
                        "iteration": 324,
                        "learn": [
                          1.07063327
                        ],
                        "passed_time": 16.75512935,
                        "remaining_time": 34.79911481
                      },
                      {
                        "iteration": 325,
                        "learn": [
                          1.070558928
                        ],
                        "passed_time": 16.78339235,
                        "remaining_time": 34.69940627
                      },
                      {
                        "iteration": 326,
                        "learn": [
                          1.070488161
                        ],
                        "passed_time": 16.81977255,
                        "remaining_time": 34.61684076
                      },
                      {
                        "iteration": 327,
                        "learn": [
                          1.0704141
                        ],
                        "passed_time": 16.85761892,
                        "remaining_time": 34.53756071
                      },
                      {
                        "iteration": 328,
                        "learn": [
                          1.070343227
                        ],
                        "passed_time": 16.89448019,
                        "remaining_time": 34.45652342
                      },
                      {
                        "iteration": 329,
                        "learn": [
                          1.070272488
                        ],
                        "passed_time": 16.93396968,
                        "remaining_time": 34.38108996
                      },
                      {
                        "iteration": 330,
                        "learn": [
                          1.07019262
                        ],
                        "passed_time": 16.96668883,
                        "remaining_time": 34.29218982
                      },
                      {
                        "iteration": 331,
                        "learn": [
                          1.070118388
                        ],
                        "passed_time": 17.00122782,
                        "remaining_time": 34.20728971
                      },
                      {
                        "iteration": 332,
                        "learn": [
                          1.070047628
                        ],
                        "passed_time": 17.03413417,
                        "remaining_time": 34.1194219
                      },
                      {
                        "iteration": 333,
                        "learn": [
                          1.069971028
                        ],
                        "passed_time": 17.06992848,
                        "remaining_time": 34.03764182
                      },
                      {
                        "iteration": 334,
                        "learn": [
                          1.069899668
                        ],
                        "passed_time": 17.13151506,
                        "remaining_time": 34.00733586
                      },
                      {
                        "iteration": 335,
                        "learn": [
                          1.06982983
                        ],
                        "passed_time": 17.16853135,
                        "remaining_time": 33.92828815
                      },
                      {
                        "iteration": 336,
                        "learn": [
                          1.069754981
                        ],
                        "passed_time": 17.20446309,
                        "remaining_time": 33.84735616
                      },
                      {
                        "iteration": 337,
                        "learn": [
                          1.069675331
                        ],
                        "passed_time": 17.24340006,
                        "remaining_time": 33.77257646
                      },
                      {
                        "iteration": 338,
                        "learn": [
                          1.069596009
                        ],
                        "passed_time": 17.2776631,
                        "remaining_time": 33.68889471
                      },
                      {
                        "iteration": 339,
                        "learn": [
                          1.069524213
                        ],
                        "passed_time": 17.31412188,
                        "remaining_time": 33.60976601
                      },
                      {
                        "iteration": 340,
                        "learn": [
                          1.069450256
                        ],
                        "passed_time": 17.34630228,
                        "remaining_time": 33.52261936
                      },
                      {
                        "iteration": 341,
                        "learn": [
                          1.069382012
                        ],
                        "passed_time": 17.38352853,
                        "remaining_time": 33.44550225
                      },
                      {
                        "iteration": 342,
                        "learn": [
                          1.069295851
                        ],
                        "passed_time": 17.41920138,
                        "remaining_time": 33.36564229
                      },
                      {
                        "iteration": 343,
                        "learn": [
                          1.069222265
                        ],
                        "passed_time": 17.48284042,
                        "remaining_time": 33.3393701
                      },
                      {
                        "iteration": 344,
                        "learn": [
                          1.069154319
                        ],
                        "passed_time": 17.52514735,
                        "remaining_time": 33.2723812
                      },
                      {
                        "iteration": 345,
                        "learn": [
                          1.06908008
                        ],
                        "passed_time": 17.57565712,
                        "remaining_time": 33.22103977
                      },
                      {
                        "iteration": 346,
                        "learn": [
                          1.069007303
                        ],
                        "passed_time": 17.62087263,
                        "remaining_time": 33.15974014
                      },
                      {
                        "iteration": 347,
                        "learn": [
                          1.068932702
                        ],
                        "passed_time": 17.68276668,
                        "remaining_time": 33.12978125
                      },
                      {
                        "iteration": 348,
                        "learn": [
                          1.068858002
                        ],
                        "passed_time": 17.739364,
                        "remaining_time": 33.08975921
                      },
                      {
                        "iteration": 349,
                        "learn": [
                          1.068779256
                        ],
                        "passed_time": 17.81269675,
                        "remaining_time": 33.08072254
                      },
                      {
                        "iteration": 350,
                        "learn": [
                          1.068717868
                        ],
                        "passed_time": 17.82944708,
                        "remaining_time": 32.96669845
                      },
                      {
                        "iteration": 351,
                        "learn": [
                          1.068642352
                        ],
                        "passed_time": 17.88282697,
                        "remaining_time": 32.92065875
                      },
                      {
                        "iteration": 352,
                        "learn": [
                          1.06857632
                        ],
                        "passed_time": 17.94632151,
                        "remaining_time": 32.89311619
                      },
                      {
                        "iteration": 353,
                        "learn": [
                          1.068504696
                        ],
                        "passed_time": 18.00107559,
                        "remaining_time": 32.84942043
                      },
                      {
                        "iteration": 354,
                        "learn": [
                          1.068434378
                        ],
                        "passed_time": 18.06766275,
                        "remaining_time": 32.82716191
                      },
                      {
                        "iteration": 355,
                        "learn": [
                          1.068359989
                        ],
                        "passed_time": 18.14222366,
                        "remaining_time": 32.81907876
                      },
                      {
                        "iteration": 356,
                        "learn": [
                          1.068284845
                        ],
                        "passed_time": 18.19016125,
                        "remaining_time": 32.76267138
                      },
                      {
                        "iteration": 357,
                        "learn": [
                          1.068205682
                        ],
                        "passed_time": 18.26095972,
                        "remaining_time": 32.74730766
                      },
                      {
                        "iteration": 358,
                        "learn": [
                          1.068133301
                        ],
                        "passed_time": 18.31947907,
                        "remaining_time": 32.70971055
                      },
                      {
                        "iteration": 359,
                        "learn": [
                          1.068057354
                        ],
                        "passed_time": 18.39930862,
                        "remaining_time": 32.70988198
                      },
                      {
                        "iteration": 360,
                        "learn": [
                          1.067983793
                        ],
                        "passed_time": 18.47028803,
                        "remaining_time": 32.69394474
                      },
                      {
                        "iteration": 361,
                        "learn": [
                          1.067903707
                        ],
                        "passed_time": 18.53436825,
                        "remaining_time": 32.66554405
                      },
                      {
                        "iteration": 362,
                        "learn": [
                          1.067837585
                        ],
                        "passed_time": 18.60327222,
                        "remaining_time": 32.64541157
                      },
                      {
                        "iteration": 363,
                        "learn": [
                          1.067766652
                        ],
                        "passed_time": 18.65840266,
                        "remaining_time": 32.60094531
                      },
                      {
                        "iteration": 364,
                        "learn": [
                          1.067696099
                        ],
                        "passed_time": 18.72257129,
                        "remaining_time": 32.57214457
                      },
                      {
                        "iteration": 365,
                        "learn": [
                          1.067624055
                        ],
                        "passed_time": 18.78980644,
                        "remaining_time": 32.54846253
                      },
                      {
                        "iteration": 366,
                        "learn": [
                          1.06754967
                        ],
                        "passed_time": 18.8522971,
                        "remaining_time": 32.51635985
                      },
                      {
                        "iteration": 367,
                        "learn": [
                          1.067477183
                        ],
                        "passed_time": 18.9252838,
                        "remaining_time": 32.50211783
                      },
                      {
                        "iteration": 368,
                        "learn": [
                          1.067398965
                        ],
                        "passed_time": 18.99058191,
                        "remaining_time": 32.47440971
                      },
                      {
                        "iteration": 369,
                        "learn": [
                          1.067322557
                        ],
                        "passed_time": 19.06530631,
                        "remaining_time": 32.46254859
                      },
                      {
                        "iteration": 370,
                        "learn": [
                          1.067253331
                        ],
                        "passed_time": 19.11892105,
                        "remaining_time": 32.41455887
                      },
                      {
                        "iteration": 371,
                        "learn": [
                          1.067202904
                        ],
                        "passed_time": 19.15690527,
                        "remaining_time": 32.34015191
                      },
                      {
                        "iteration": 372,
                        "learn": [
                          1.067127805
                        ],
                        "passed_time": 19.23692017,
                        "remaining_time": 32.33659234
                      },
                      {
                        "iteration": 373,
                        "learn": [
                          1.06705799
                        ],
                        "passed_time": 19.30221895,
                        "remaining_time": 32.30799214
                      },
                      {
                        "iteration": 374,
                        "learn": [
                          1.066990154
                        ],
                        "passed_time": 19.37494294,
                        "remaining_time": 32.29157157
                      },
                      {
                        "iteration": 375,
                        "learn": [
                          1.066920739
                        ],
                        "passed_time": 19.43319806,
                        "remaining_time": 32.25083934
                      },
                      {
                        "iteration": 376,
                        "learn": [
                          1.066847755
                        ],
                        "passed_time": 19.50222987,
                        "remaining_time": 32.22782284
                      },
                      {
                        "iteration": 377,
                        "learn": [
                          1.066785253
                        ],
                        "passed_time": 19.52537456,
                        "remaining_time": 32.12905549
                      },
                      {
                        "iteration": 378,
                        "learn": [
                          1.066710622
                        ],
                        "passed_time": 19.59123743,
                        "remaining_time": 32.10068192
                      },
                      {
                        "iteration": 379,
                        "learn": [
                          1.066644938
                        ],
                        "passed_time": 19.61827638,
                        "remaining_time": 32.00876672
                      },
                      {
                        "iteration": 380,
                        "learn": [
                          1.066574208
                        ],
                        "passed_time": 19.67218867,
                        "remaining_time": 31.96085245
                      },
                      {
                        "iteration": 381,
                        "learn": [
                          1.066502007
                        ],
                        "passed_time": 19.71429769,
                        "remaining_time": 31.89381144
                      },
                      {
                        "iteration": 382,
                        "learn": [
                          1.066427766
                        ],
                        "passed_time": 19.77779893,
                        "remaining_time": 31.86136277
                      },
                      {
                        "iteration": 383,
                        "learn": [
                          1.06635338
                        ],
                        "passed_time": 19.84411481,
                        "remaining_time": 31.8332675
                      },
                      {
                        "iteration": 384,
                        "learn": [
                          1.066273649
                        ],
                        "passed_time": 19.90800147,
                        "remaining_time": 31.80109325
                      },
                      {
                        "iteration": 385,
                        "learn": [
                          1.066198176
                        ],
                        "passed_time": 19.97181197,
                        "remaining_time": 31.76863355
                      },
                      {
                        "iteration": 386,
                        "learn": [
                          1.066126713
                        ],
                        "passed_time": 20.04199698,
                        "remaining_time": 31.74610891
                      },
                      {
                        "iteration": 387,
                        "learn": [
                          1.066063557
                        ],
                        "passed_time": 20.06354402,
                        "remaining_time": 31.64662097
                      },
                      {
                        "iteration": 388,
                        "learn": [
                          1.065993284
                        ],
                        "passed_time": 20.13321387,
                        "remaining_time": 31.62311999
                      },
                      {
                        "iteration": 389,
                        "learn": [
                          1.065917571
                        ],
                        "passed_time": 20.22286104,
                        "remaining_time": 31.6306288
                      },
                      {
                        "iteration": 390,
                        "learn": [
                          1.065849197
                        ],
                        "passed_time": 20.28024173,
                        "remaining_time": 31.58738417
                      },
                      {
                        "iteration": 391,
                        "learn": [
                          1.065777642
                        ],
                        "passed_time": 20.34097423,
                        "remaining_time": 31.54926615
                      },
                      {
                        "iteration": 392,
                        "learn": [
                          1.065718194
                        ],
                        "passed_time": 20.3645627,
                        "remaining_time": 31.453663
                      },
                      {
                        "iteration": 393,
                        "learn": [
                          1.065646253
                        ],
                        "passed_time": 20.42305383,
                        "remaining_time": 31.41210818
                      },
                      {
                        "iteration": 394,
                        "learn": [
                          1.065574335
                        ],
                        "passed_time": 20.47885153,
                        "remaining_time": 31.36634221
                      },
                      {
                        "iteration": 395,
                        "learn": [
                          1.065508208
                        ],
                        "passed_time": 20.54295822,
                        "remaining_time": 31.3331989
                      },
                      {
                        "iteration": 396,
                        "learn": [
                          1.065438308
                        ],
                        "passed_time": 20.6001912,
                        "remaining_time": 31.28945918
                      },
                      {
                        "iteration": 397,
                        "learn": [
                          1.065367812
                        ],
                        "passed_time": 20.67358757,
                        "remaining_time": 31.2700998
                      },
                      {
                        "iteration": 398,
                        "learn": [
                          1.065301999
                        ],
                        "passed_time": 20.73867289,
                        "remaining_time": 31.23795089
                      },
                      {
                        "iteration": 399,
                        "learn": [
                          1.065233272
                        ],
                        "passed_time": 20.79230339,
                        "remaining_time": 31.18845508
                      },
                      {
                        "iteration": 400,
                        "learn": [
                          1.065160149
                        ],
                        "passed_time": 20.84986151,
                        "remaining_time": 31.14480559
                      },
                      {
                        "iteration": 401,
                        "learn": [
                          1.065084762
                        ],
                        "passed_time": 20.90323215,
                        "remaining_time": 31.09485778
                      },
                      {
                        "iteration": 402,
                        "learn": [
                          1.065006892
                        ],
                        "passed_time": 20.95813358,
                        "remaining_time": 31.04716067
                      },
                      {
                        "iteration": 403,
                        "learn": [
                          1.064940501
                        ],
                        "passed_time": 21.02298153,
                        "remaining_time": 31.01410147
                      },
                      {
                        "iteration": 404,
                        "learn": [
                          1.064864812
                        ],
                        "passed_time": 21.05672399,
                        "remaining_time": 30.93518709
                      },
                      {
                        "iteration": 405,
                        "learn": [
                          1.06479863
                        ],
                        "passed_time": 21.09095234,
                        "remaining_time": 30.85720614
                      },
                      {
                        "iteration": 406,
                        "learn": [
                          1.064731171
                        ],
                        "passed_time": 21.11944968,
                        "remaining_time": 30.77109007
                      },
                      {
                        "iteration": 407,
                        "learn": [
                          1.064664128
                        ],
                        "passed_time": 21.15675146,
                        "remaining_time": 30.69803153
                      },
                      {
                        "iteration": 408,
                        "learn": [
                          1.064606004
                        ],
                        "passed_time": 21.18706107,
                        "remaining_time": 30.61504423
                      },
                      {
                        "iteration": 409,
                        "learn": [
                          1.06453548
                        ],
                        "passed_time": 21.21758034,
                        "remaining_time": 30.53261562
                      },
                      {
                        "iteration": 410,
                        "learn": [
                          1.064468999
                        ],
                        "passed_time": 21.26980935,
                        "remaining_time": 30.4815516
                      },
                      {
                        "iteration": 411,
                        "learn": [
                          1.06439546
                        ],
                        "passed_time": 21.30591353,
                        "remaining_time": 30.40746883
                      },
                      {
                        "iteration": 412,
                        "learn": [
                          1.064327508
                        ],
                        "passed_time": 21.33936669,
                        "remaining_time": 30.32980205
                      },
                      {
                        "iteration": 413,
                        "learn": [
                          1.064248511
                        ],
                        "passed_time": 21.37274604,
                        "remaining_time": 30.2522444
                      },
                      {
                        "iteration": 414,
                        "learn": [
                          1.064164955
                        ],
                        "passed_time": 21.40922182,
                        "remaining_time": 30.17926449
                      },
                      {
                        "iteration": 415,
                        "learn": [
                          1.064088922
                        ],
                        "passed_time": 21.44081409,
                        "remaining_time": 30.0996044
                      },
                      {
                        "iteration": 416,
                        "learn": [
                          1.064020806
                        ],
                        "passed_time": 21.4777845,
                        "remaining_time": 30.02769392
                      },
                      {
                        "iteration": 417,
                        "learn": [
                          1.063947722
                        ],
                        "passed_time": 21.50653127,
                        "remaining_time": 29.94450048
                      },
                      {
                        "iteration": 418,
                        "learn": [
                          1.063878549
                        ],
                        "passed_time": 21.5415709,
                        "remaining_time": 29.87029282
                      },
                      {
                        "iteration": 419,
                        "learn": [
                          1.063807489
                        ],
                        "passed_time": 21.57371248,
                        "remaining_time": 29.79226961
                      },
                      {
                        "iteration": 420,
                        "learn": [
                          1.063739619
                        ],
                        "passed_time": 21.61026514,
                        "remaining_time": 29.72053092
                      },
                      {
                        "iteration": 421,
                        "learn": [
                          1.063673782
                        ],
                        "passed_time": 21.64620923,
                        "remaining_time": 29.64812544
                      },
                      {
                        "iteration": 422,
                        "learn": [
                          1.06361622
                        ],
                        "passed_time": 21.68578365,
                        "remaining_time": 29.58084436
                      },
                      {
                        "iteration": 423,
                        "learn": [
                          1.063547875
                        ],
                        "passed_time": 21.72573238,
                        "remaining_time": 29.51420247
                      },
                      {
                        "iteration": 424,
                        "learn": [
                          1.063475927
                        ],
                        "passed_time": 21.75925329,
                        "remaining_time": 29.43898975
                      },
                      {
                        "iteration": 425,
                        "learn": [
                          1.063403907
                        ],
                        "passed_time": 21.79584809,
                        "remaining_time": 29.36811456
                      },
                      {
                        "iteration": 426,
                        "learn": [
                          1.063336763
                        ],
                        "passed_time": 21.83015025,
                        "remaining_time": 29.2943234
                      },
                      {
                        "iteration": 427,
                        "learn": [
                          1.063266397
                        ],
                        "passed_time": 21.86599746,
                        "remaining_time": 29.22278166
                      },
                      {
                        "iteration": 428,
                        "learn": [
                          1.063193195
                        ],
                        "passed_time": 21.9064195,
                        "remaining_time": 29.15749542
                      },
                      {
                        "iteration": 429,
                        "learn": [
                          1.063119808
                        ],
                        "passed_time": 21.94577432,
                        "remaining_time": 29.09091014
                      },
                      {
                        "iteration": 430,
                        "learn": [
                          1.063054947
                        ],
                        "passed_time": 21.97693562,
                        "remaining_time": 29.01363426
                      },
                      {
                        "iteration": 431,
                        "learn": [
                          1.062986792
                        ],
                        "passed_time": 22.01301526,
                        "remaining_time": 28.94303858
                      },
                      {
                        "iteration": 432,
                        "learn": [
                          1.062921816
                        ],
                        "passed_time": 22.04485269,
                        "remaining_time": 28.86704728
                      },
                      {
                        "iteration": 433,
                        "learn": [
                          1.062846512
                        ],
                        "passed_time": 22.07497716,
                        "remaining_time": 28.78902551
                      },
                      {
                        "iteration": 434,
                        "learn": [
                          1.062775303
                        ],
                        "passed_time": 22.11027358,
                        "remaining_time": 28.71794155
                      },
                      {
                        "iteration": 435,
                        "learn": [
                          1.062706597
                        ],
                        "passed_time": 22.14224008,
                        "remaining_time": 28.64271423
                      },
                      {
                        "iteration": 436,
                        "learn": [
                          1.062629904
                        ],
                        "passed_time": 22.17860606,
                        "remaining_time": 28.57335289
                      },
                      {
                        "iteration": 437,
                        "learn": [
                          1.06255643
                        ],
                        "passed_time": 22.21204776,
                        "remaining_time": 28.50039005
                      },
                      {
                        "iteration": 438,
                        "learn": [
                          1.062490338
                        ],
                        "passed_time": 22.25706808,
                        "remaining_time": 28.44240363
                      },
                      {
                        "iteration": 439,
                        "learn": [
                          1.062425047
                        ],
                        "passed_time": 22.30818373,
                        "remaining_time": 28.39223383
                      },
                      {
                        "iteration": 440,
                        "learn": [
                          1.062361354
                        ],
                        "passed_time": 22.34300474,
                        "remaining_time": 28.3214051
                      },
                      {
                        "iteration": 441,
                        "learn": [
                          1.062304586
                        ],
                        "passed_time": 22.3548195,
                        "remaining_time": 28.22169521
                      },
                      {
                        "iteration": 442,
                        "learn": [
                          1.062244263
                        ],
                        "passed_time": 22.36635263,
                        "remaining_time": 28.12202802
                      },
                      {
                        "iteration": 443,
                        "learn": [
                          1.06217804
                        ],
                        "passed_time": 22.39748794,
                        "remaining_time": 28.04730472
                      },
                      {
                        "iteration": 444,
                        "learn": [
                          1.06210745
                        ],
                        "passed_time": 22.42776689,
                        "remaining_time": 27.97170926
                      },
                      {
                        "iteration": 445,
                        "learn": [
                          1.062038548
                        ],
                        "passed_time": 22.46128471,
                        "remaining_time": 27.9003402
                      },
                      {
                        "iteration": 446,
                        "learn": [
                          1.061974016
                        ],
                        "passed_time": 22.49537117,
                        "remaining_time": 27.82984398
                      },
                      {
                        "iteration": 447,
                        "learn": [
                          1.061908555
                        ],
                        "passed_time": 22.52775729,
                        "remaining_time": 27.75741524
                      },
                      {
                        "iteration": 448,
                        "learn": [
                          1.061842201
                        ],
                        "passed_time": 22.56709229,
                        "remaining_time": 27.69369232
                      },
                      {
                        "iteration": 449,
                        "learn": [
                          1.061776724
                        ],
                        "passed_time": 22.60201488,
                        "remaining_time": 27.62468485
                      },
                      {
                        "iteration": 450,
                        "learn": [
                          1.061703578
                        ],
                        "passed_time": 22.63891473,
                        "remaining_time": 27.55823544
                      },
                      {
                        "iteration": 451,
                        "learn": [
                          1.061638684
                        ],
                        "passed_time": 22.67435368,
                        "remaining_time": 27.49014561
                      },
                      {
                        "iteration": 452,
                        "learn": [
                          1.061568806
                        ],
                        "passed_time": 22.71621254,
                        "remaining_time": 27.429952
                      },
                      {
                        "iteration": 453,
                        "learn": [
                          1.06150411
                        ],
                        "passed_time": 22.75344431,
                        "remaining_time": 27.36427443
                      },
                      {
                        "iteration": 454,
                        "learn": [
                          1.061437256
                        ],
                        "passed_time": 22.79005262,
                        "remaining_time": 27.29797511
                      },
                      {
                        "iteration": 455,
                        "learn": [
                          1.061366294
                        ],
                        "passed_time": 22.82118556,
                        "remaining_time": 27.225274
                      },
                      {
                        "iteration": 456,
                        "learn": [
                          1.061300696
                        ],
                        "passed_time": 22.85196645,
                        "remaining_time": 27.15233651
                      },
                      {
                        "iteration": 457,
                        "learn": [
                          1.061232906
                        ],
                        "passed_time": 22.88352982,
                        "remaining_time": 27.08050909
                      },
                      {
                        "iteration": 458,
                        "learn": [
                          1.061166356
                        ],
                        "passed_time": 22.92046517,
                        "remaining_time": 27.0151888
                      },
                      {
                        "iteration": 459,
                        "learn": [
                          1.061099311
                        ],
                        "passed_time": 22.95411713,
                        "remaining_time": 26.9461375
                      },
                      {
                        "iteration": 460,
                        "learn": [
                          1.061030993
                        ],
                        "passed_time": 22.98776747,
                        "remaining_time": 26.87723789
                      },
                      {
                        "iteration": 461,
                        "learn": [
                          1.060965151
                        ],
                        "passed_time": 23.01833809,
                        "remaining_time": 26.80490453
                      },
                      {
                        "iteration": 462,
                        "learn": [
                          1.060888844
                        ],
                        "passed_time": 23.05669454,
                        "remaining_time": 26.74178179
                      },
                      {
                        "iteration": 463,
                        "learn": [
                          1.060820932
                        ],
                        "passed_time": 23.09386581,
                        "remaining_time": 26.67739671
                      },
                      {
                        "iteration": 464,
                        "learn": [
                          1.060756915
                        ],
                        "passed_time": 23.12324341,
                        "remaining_time": 26.60416178
                      },
                      {
                        "iteration": 465,
                        "learn": [
                          1.060685037
                        ],
                        "passed_time": 23.15981622,
                        "remaining_time": 26.53936022
                      },
                      {
                        "iteration": 466,
                        "learn": [
                          1.060624984
                        ],
                        "passed_time": 23.19410416,
                        "remaining_time": 26.47207177
                      },
                      {
                        "iteration": 467,
                        "learn": [
                          1.060557224
                        ],
                        "passed_time": 23.22998981,
                        "remaining_time": 26.40674055
                      },
                      {
                        "iteration": 468,
                        "learn": [
                          1.060479148
                        ],
                        "passed_time": 23.26752752,
                        "remaining_time": 26.34340536
                      },
                      {
                        "iteration": 469,
                        "learn": [
                          1.060410044
                        ],
                        "passed_time": 23.32328128,
                        "remaining_time": 26.30072144
                      },
                      {
                        "iteration": 470,
                        "learn": [
                          1.06034406
                        ],
                        "passed_time": 23.36028831,
                        "remaining_time": 26.23692679
                      },
                      {
                        "iteration": 471,
                        "learn": [
                          1.06027518
                        ],
                        "passed_time": 23.39118325,
                        "remaining_time": 26.16640838
                      },
                      {
                        "iteration": 472,
                        "learn": [
                          1.060209078
                        ],
                        "passed_time": 23.42555648,
                        "remaining_time": 26.09993291
                      },
                      {
                        "iteration": 473,
                        "learn": [
                          1.060139408
                        ],
                        "passed_time": 23.4576322,
                        "remaining_time": 26.03104332
                      },
                      {
                        "iteration": 474,
                        "learn": [
                          1.060081272
                        ],
                        "passed_time": 23.48631354,
                        "remaining_time": 25.95855707
                      },
                      {
                        "iteration": 475,
                        "learn": [
                          1.060018352
                        ],
                        "passed_time": 23.5146774,
                        "remaining_time": 25.88590537
                      },
                      {
                        "iteration": 476,
                        "learn": [
                          1.05994848
                        ],
                        "passed_time": 23.54838718,
                        "remaining_time": 25.81930083
                      },
                      {
                        "iteration": 477,
                        "learn": [
                          1.059874893
                        ],
                        "passed_time": 23.5779101,
                        "remaining_time": 25.74826165
                      },
                      {
                        "iteration": 478,
                        "learn": [
                          1.059809479
                        ],
                        "passed_time": 23.61529826,
                        "remaining_time": 25.68595072
                      },
                      {
                        "iteration": 479,
                        "learn": [
                          1.059740491
                        ],
                        "passed_time": 23.65124993,
                        "remaining_time": 25.62218742
                      },
                      {
                        "iteration": 480,
                        "learn": [
                          1.059678849
                        ],
                        "passed_time": 23.68535661,
                        "remaining_time": 25.55654902
                      },
                      {
                        "iteration": 481,
                        "learn": [
                          1.059615738
                        ],
                        "passed_time": 23.71884329,
                        "remaining_time": 25.49037516
                      },
                      {
                        "iteration": 482,
                        "learn": [
                          1.059551033
                        ],
                        "passed_time": 23.77211005,
                        "remaining_time": 25.4455091
                      },
                      {
                        "iteration": 483,
                        "learn": [
                          1.059481245
                        ],
                        "passed_time": 23.80645623,
                        "remaining_time": 25.3804368
                      },
                      {
                        "iteration": 484,
                        "learn": [
                          1.059417275
                        ],
                        "passed_time": 23.84003459,
                        "remaining_time": 25.3146759
                      },
                      {
                        "iteration": 485,
                        "learn": [
                          1.059344387
                        ],
                        "passed_time": 23.8760999,
                        "remaining_time": 25.25167767
                      },
                      {
                        "iteration": 486,
                        "learn": [
                          1.059271717
                        ],
                        "passed_time": 23.91527592,
                        "remaining_time": 25.19206684
                      },
                      {
                        "iteration": 487,
                        "learn": [
                          1.059198353
                        ],
                        "passed_time": 23.94751591,
                        "remaining_time": 25.1252626
                      },
                      {
                        "iteration": 488,
                        "learn": [
                          1.059131304
                        ],
                        "passed_time": 23.98417828,
                        "remaining_time": 25.06322106
                      },
                      {
                        "iteration": 489,
                        "learn": [
                          1.059065158
                        ],
                        "passed_time": 24.01776754,
                        "remaining_time": 24.99808458
                      },
                      {
                        "iteration": 490,
                        "learn": [
                          1.059001541
                        ],
                        "passed_time": 24.05111409,
                        "remaining_time": 24.93282499
                      },
                      {
                        "iteration": 491,
                        "learn": [
                          1.058943105
                        ],
                        "passed_time": 24.08791397,
                        "remaining_time": 24.87126077
                      },
                      {
                        "iteration": 492,
                        "learn": [
                          1.05888567
                        ],
                        "passed_time": 24.11765628,
                        "remaining_time": 24.80253901
                      },
                      {
                        "iteration": 493,
                        "learn": [
                          1.0588117
                        ],
                        "passed_time": 24.15233532,
                        "remaining_time": 24.73903172
                      },
                      {
                        "iteration": 494,
                        "learn": [
                          1.058742008
                        ],
                        "passed_time": 24.18489225,
                        "remaining_time": 24.67347594
                      },
                      {
                        "iteration": 495,
                        "learn": [
                          1.05867559
                        ],
                        "passed_time": 24.22015794,
                        "remaining_time": 24.61080565
                      },
                      {
                        "iteration": 496,
                        "learn": [
                          1.058611457
                        ],
                        "passed_time": 24.257758,
                        "remaining_time": 24.5506082
                      },
                      {
                        "iteration": 497,
                        "learn": [
                          1.058545535
                        ],
                        "passed_time": 24.28678861,
                        "remaining_time": 24.48186322
                      },
                      {
                        "iteration": 498,
                        "learn": [
                          1.058486387
                        ],
                        "passed_time": 24.34862928,
                        "remaining_time": 24.44621898
                      },
                      {
                        "iteration": 499,
                        "learn": [
                          1.058421146
                        ],
                        "passed_time": 24.384486,
                        "remaining_time": 24.384486
                      },
                      {
                        "iteration": 500,
                        "learn": [
                          1.058363847
                        ],
                        "passed_time": 24.39655341,
                        "remaining_time": 24.29916198
                      },
                      {
                        "iteration": 501,
                        "learn": [
                          1.058289345
                        ],
                        "passed_time": 24.4322408,
                        "remaining_time": 24.23756159
                      },
                      {
                        "iteration": 502,
                        "learn": [
                          1.058221912
                        ],
                        "passed_time": 24.46581381,
                        "remaining_time": 24.17397507
                      },
                      {
                        "iteration": 503,
                        "learn": [
                          1.058159134
                        ],
                        "passed_time": 24.4982032,
                        "remaining_time": 24.10934283
                      },
                      {
                        "iteration": 504,
                        "learn": [
                          1.058091842
                        ],
                        "passed_time": 24.53225818,
                        "remaining_time": 24.04647089
                      },
                      {
                        "iteration": 505,
                        "learn": [
                          1.058022835
                        ],
                        "passed_time": 24.56437114,
                        "remaining_time": 23.98181689
                      },
                      {
                        "iteration": 506,
                        "learn": [
                          1.057951322
                        ],
                        "passed_time": 24.59619407,
                        "remaining_time": 23.91700922
                      },
                      {
                        "iteration": 507,
                        "learn": [
                          1.057888294
                        ],
                        "passed_time": 24.63187944,
                        "remaining_time": 23.85607222
                      },
                      {
                        "iteration": 508,
                        "learn": [
                          1.057823497
                        ],
                        "passed_time": 24.66635473,
                        "remaining_time": 23.79406714
                      },
                      {
                        "iteration": 509,
                        "learn": [
                          1.057755649
                        ],
                        "passed_time": 24.69711309,
                        "remaining_time": 23.72859886
                      },
                      {
                        "iteration": 510,
                        "learn": [
                          1.057684503
                        ],
                        "passed_time": 24.73559987,
                        "remaining_time": 23.67066211
                      },
                      {
                        "iteration": 511,
                        "learn": [
                          1.057617305
                        ],
                        "passed_time": 24.78081751,
                        "remaining_time": 23.61921669
                      },
                      {
                        "iteration": 512,
                        "learn": [
                          1.057554482
                        ],
                        "passed_time": 24.82128227,
                        "remaining_time": 23.56328356
                      },
                      {
                        "iteration": 513,
                        "learn": [
                          1.057492412
                        ],
                        "passed_time": 24.85479621,
                        "remaining_time": 23.50083844
                      },
                      {
                        "iteration": 514,
                        "learn": [
                          1.057427687
                        ],
                        "passed_time": 24.87133999,
                        "remaining_time": 23.42252406
                      },
                      {
                        "iteration": 515,
                        "learn": [
                          1.057365629
                        ],
                        "passed_time": 24.90498339,
                        "remaining_time": 23.3604883
                      },
                      {
                        "iteration": 516,
                        "learn": [
                          1.057294713
                        ],
                        "passed_time": 24.94289414,
                        "remaining_time": 23.30254907
                      },
                      {
                        "iteration": 517,
                        "learn": [
                          1.057231516
                        ],
                        "passed_time": 24.97357956,
                        "remaining_time": 23.237964
                      },
                      {
                        "iteration": 518,
                        "learn": [
                          1.057165151
                        ],
                        "passed_time": 25.01084706,
                        "remaining_time": 23.1796097
                      },
                      {
                        "iteration": 519,
                        "learn": [
                          1.057099969
                        ],
                        "passed_time": 25.04833761,
                        "remaining_time": 23.12154241
                      },
                      {
                        "iteration": 520,
                        "learn": [
                          1.057037864
                        ],
                        "passed_time": 25.0806023,
                        "remaining_time": 23.05874952
                      },
                      {
                        "iteration": 521,
                        "learn": [
                          1.056964958
                        ],
                        "passed_time": 25.11370751,
                        "remaining_time": 22.99684328
                      },
                      {
                        "iteration": 522,
                        "learn": [
                          1.056900879
                        ],
                        "passed_time": 25.14964213,
                        "remaining_time": 22.93762771
                      },
                      {
                        "iteration": 523,
                        "learn": [
                          1.056833127
                        ],
                        "passed_time": 25.18559409,
                        "remaining_time": 22.87851677
                      },
                      {
                        "iteration": 524,
                        "learn": [
                          1.05676802
                        ],
                        "passed_time": 25.22119564,
                        "remaining_time": 22.819177
                      },
                      {
                        "iteration": 525,
                        "learn": [
                          1.056697531
                        ],
                        "passed_time": 25.2573042,
                        "remaining_time": 22.7603844
                      },
                      {
                        "iteration": 526,
                        "learn": [
                          1.056627197
                        ],
                        "passed_time": 25.29232985,
                        "remaining_time": 22.70070592
                      },
                      {
                        "iteration": 527,
                        "learn": [
                          1.056567733
                        ],
                        "passed_time": 25.35608005,
                        "remaining_time": 22.66679884
                      },
                      {
                        "iteration": 528,
                        "learn": [
                          1.05650308
                        ],
                        "passed_time": 25.39425804,
                        "remaining_time": 22.61001047
                      },
                      {
                        "iteration": 529,
                        "learn": [
                          1.056435957
                        ],
                        "passed_time": 25.42899517,
                        "remaining_time": 22.550241
                      },
                      {
                        "iteration": 530,
                        "learn": [
                          1.056371336
                        ],
                        "passed_time": 25.46370934,
                        "remaining_time": 22.49054554
                      },
                      {
                        "iteration": 531,
                        "learn": [
                          1.056310195
                        ],
                        "passed_time": 25.49259928,
                        "remaining_time": 22.42582042
                      },
                      {
                        "iteration": 532,
                        "learn": [
                          1.056241523
                        ],
                        "passed_time": 25.52365208,
                        "remaining_time": 22.36312481
                      },
                      {
                        "iteration": 533,
                        "learn": [
                          1.056174628
                        ],
                        "passed_time": 25.55975926,
                        "remaining_time": 22.30495846
                      },
                      {
                        "iteration": 534,
                        "learn": [
                          1.056109817
                        ],
                        "passed_time": 25.58984082,
                        "remaining_time": 22.24163735
                      },
                      {
                        "iteration": 535,
                        "learn": [
                          1.056043838
                        ],
                        "passed_time": 25.62708834,
                        "remaining_time": 22.18464364
                      },
                      {
                        "iteration": 536,
                        "learn": [
                          1.055973201
                        ],
                        "passed_time": 25.65795926,
                        "remaining_time": 22.12222558
                      },
                      {
                        "iteration": 537,
                        "learn": [
                          1.055895932
                        ],
                        "passed_time": 25.69202049,
                        "remaining_time": 22.06266444
                      },
                      {
                        "iteration": 538,
                        "learn": [
                          1.055833551
                        ],
                        "passed_time": 25.72946154,
                        "remaining_time": 22.00608863
                      },
                      {
                        "iteration": 539,
                        "learn": [
                          1.055771431
                        ],
                        "passed_time": 25.76724057,
                        "remaining_time": 21.9498716
                      },
                      {
                        "iteration": 540,
                        "learn": [
                          1.055694583
                        ],
                        "passed_time": 25.81042227,
                        "remaining_time": 21.89830651
                      },
                      {
                        "iteration": 541,
                        "learn": [
                          1.055626184
                        ],
                        "passed_time": 25.85127273,
                        "remaining_time": 21.84480241
                      },
                      {
                        "iteration": 542,
                        "learn": [
                          1.055559931
                        ],
                        "passed_time": 25.884126,
                        "remaining_time": 21.78461433
                      },
                      {
                        "iteration": 543,
                        "learn": [
                          1.055508081
                        ],
                        "passed_time": 25.89573635,
                        "remaining_time": 21.70672018
                      },
                      {
                        "iteration": 544,
                        "learn": [
                          1.055448203
                        ],
                        "passed_time": 25.93922658,
                        "remaining_time": 21.65568457
                      },
                      {
                        "iteration": 545,
                        "learn": [
                          1.055382124
                        ],
                        "passed_time": 25.97706247,
                        "remaining_time": 21.59997502
                      },
                      {
                        "iteration": 546,
                        "learn": [
                          1.055315702
                        ],
                        "passed_time": 26.01425642,
                        "remaining_time": 21.54379919
                      },
                      {
                        "iteration": 547,
                        "learn": [
                          1.05525743
                        ],
                        "passed_time": 26.04496116,
                        "remaining_time": 21.48234023
                      },
                      {
                        "iteration": 548,
                        "learn": [
                          1.055195287
                        ],
                        "passed_time": 26.08619685,
                        "remaining_time": 21.42964441
                      },
                      {
                        "iteration": 549,
                        "learn": [
                          1.055126719
                        ],
                        "passed_time": 26.12404849,
                        "remaining_time": 21.37422149
                      },
                      {
                        "iteration": 550,
                        "learn": [
                          1.055066309
                        ],
                        "passed_time": 26.1565257,
                        "remaining_time": 21.31448283
                      },
                      {
                        "iteration": 551,
                        "learn": [
                          1.055006457
                        ],
                        "passed_time": 26.19237469,
                        "remaining_time": 21.25757946
                      },
                      {
                        "iteration": 552,
                        "learn": [
                          1.054955011
                        ],
                        "passed_time": 26.22759621,
                        "remaining_time": 21.20024504
                      },
                      {
                        "iteration": 553,
                        "learn": [
                          1.054890808
                        ],
                        "passed_time": 26.25585763,
                        "remaining_time": 21.13738719
                      },
                      {
                        "iteration": 554,
                        "learn": [
                          1.054823016
                        ],
                        "passed_time": 26.28604127,
                        "remaining_time": 21.07619525
                      },
                      {
                        "iteration": 555,
                        "learn": [
                          1.054762412
                        ],
                        "passed_time": 26.32407516,
                        "remaining_time": 21.02138376
                      },
                      {
                        "iteration": 556,
                        "learn": [
                          1.054699358
                        ],
                        "passed_time": 26.39008081,
                        "remaining_time": 20.98887935
                      },
                      {
                        "iteration": 557,
                        "learn": [
                          1.054633958
                        ],
                        "passed_time": 26.42154216,
                        "remaining_time": 20.92889182
                      },
                      {
                        "iteration": 558,
                        "learn": [
                          1.054570429
                        ],
                        "passed_time": 26.45467191,
                        "remaining_time": 20.87032256
                      },
                      {
                        "iteration": 559,
                        "learn": [
                          1.054503254
                        ],
                        "passed_time": 26.48502298,
                        "remaining_time": 20.80966092
                      },
                      {
                        "iteration": 560,
                        "learn": [
                          1.054450929
                        ],
                        "passed_time": 26.49767392,
                        "remaining_time": 20.73525641
                      },
                      {
                        "iteration": 561,
                        "learn": [
                          1.054382663
                        ],
                        "passed_time": 26.52247484,
                        "remaining_time": 20.67054089
                      },
                      {
                        "iteration": 562,
                        "learn": [
                          1.054314635
                        ],
                        "passed_time": 26.55887021,
                        "remaining_time": 20.61496675
                      },
                      {
                        "iteration": 563,
                        "learn": [
                          1.054257917
                        ],
                        "passed_time": 26.5922366,
                        "remaining_time": 20.55711907
                      },
                      {
                        "iteration": 564,
                        "learn": [
                          1.054190697
                        ],
                        "passed_time": 26.62105018,
                        "remaining_time": 20.49585279
                      },
                      {
                        "iteration": 565,
                        "learn": [
                          1.054133609
                        ],
                        "passed_time": 26.66036445,
                        "remaining_time": 20.44275296
                      },
                      {
                        "iteration": 566,
                        "learn": [
                          1.054069952
                        ],
                        "passed_time": 26.69483605,
                        "remaining_time": 20.38600354
                      },
                      {
                        "iteration": 567,
                        "learn": [
                          1.054007899
                        ],
                        "passed_time": 26.728188,
                        "remaining_time": 20.32848102
                      },
                      {
                        "iteration": 568,
                        "learn": [
                          1.053946081
                        ],
                        "passed_time": 26.76100833,
                        "remaining_time": 20.27064075
                      },
                      {
                        "iteration": 569,
                        "learn": [
                          1.053885157
                        ],
                        "passed_time": 26.79941937,
                        "remaining_time": 20.21710584
                      },
                      {
                        "iteration": 570,
                        "learn": [
                          1.053818702
                        ],
                        "passed_time": 26.83830622,
                        "remaining_time": 20.16398138
                      },
                      {
                        "iteration": 571,
                        "learn": [
                          1.053758117
                        ],
                        "passed_time": 26.8813025,
                        "remaining_time": 20.11398159
                      },
                      {
                        "iteration": 572,
                        "learn": [
                          1.053698443
                        ],
                        "passed_time": 26.91843122,
                        "remaining_time": 20.05963374
                      },
                      {
                        "iteration": 573,
                        "learn": [
                          1.053639827
                        ],
                        "passed_time": 26.95075148,
                        "remaining_time": 20.00177723
                      },
                      {
                        "iteration": 574,
                        "learn": [
                          1.053579045
                        ],
                        "passed_time": 26.9869181,
                        "remaining_time": 19.94685251
                      },
                      {
                        "iteration": 575,
                        "learn": [
                          1.053514004
                        ],
                        "passed_time": 27.02498224,
                        "remaining_time": 19.8933897
                      },
                      {
                        "iteration": 576,
                        "learn": [
                          1.053453477
                        ],
                        "passed_time": 27.0580402,
                        "remaining_time": 19.83631023
                      },
                      {
                        "iteration": 577,
                        "learn": [
                          1.053384728
                        ],
                        "passed_time": 27.09054554,
                        "remaining_time": 19.77891041
                      },
                      {
                        "iteration": 578,
                        "learn": [
                          1.053328827
                        ],
                        "passed_time": 27.10225664,
                        "remaining_time": 19.70647676
                      },
                      {
                        "iteration": 579,
                        "learn": [
                          1.053262489
                        ],
                        "passed_time": 27.13062373,
                        "remaining_time": 19.64631374
                      },
                      {
                        "iteration": 580,
                        "learn": [
                          1.053203366
                        ],
                        "passed_time": 27.16343076,
                        "remaining_time": 19.58946212
                      },
                      {
                        "iteration": 581,
                        "learn": [
                          1.053143103
                        ],
                        "passed_time": 27.19831941,
                        "remaining_time": 19.53418817
                      },
                      {
                        "iteration": 582,
                        "learn": [
                          1.053076218
                        ],
                        "passed_time": 27.23536067,
                        "remaining_time": 19.48052384
                      },
                      {
                        "iteration": 583,
                        "learn": [
                          1.053014471
                        ],
                        "passed_time": 27.26975897,
                        "remaining_time": 19.42503379
                      },
                      {
                        "iteration": 584,
                        "learn": [
                          1.052954007
                        ],
                        "passed_time": 27.30397984,
                        "remaining_time": 19.36948997
                      },
                      {
                        "iteration": 585,
                        "learn": [
                          1.052890428
                        ],
                        "passed_time": 27.33912841,
                        "remaining_time": 19.31467434
                      },
                      {
                        "iteration": 586,
                        "learn": [
                          1.05283168
                        ],
                        "passed_time": 27.37472092,
                        "remaining_time": 19.26023806
                      },
                      {
                        "iteration": 587,
                        "learn": [
                          1.052775664
                        ],
                        "passed_time": 27.42485013,
                        "remaining_time": 19.21605145
                      },
                      {
                        "iteration": 588,
                        "learn": [
                          1.052713821
                        ],
                        "passed_time": 27.46071627,
                        "remaining_time": 19.161892
                      },
                      {
                        "iteration": 589,
                        "learn": [
                          1.052652522
                        ],
                        "passed_time": 27.49259378,
                        "remaining_time": 19.1050228
                      },
                      {
                        "iteration": 590,
                        "learn": [
                          1.0525908
                        ],
                        "passed_time": 27.54310622,
                        "remaining_time": 19.06113442
                      },
                      {
                        "iteration": 591,
                        "learn": [
                          1.052530456
                        ],
                        "passed_time": 27.57804541,
                        "remaining_time": 19.00649076
                      },
                      {
                        "iteration": 592,
                        "learn": [
                          1.052474673
                        ],
                        "passed_time": 27.61037047,
                        "remaining_time": 18.95011936
                      },
                      {
                        "iteration": 593,
                        "learn": [
                          1.052408018
                        ],
                        "passed_time": 27.6416747,
                        "remaining_time": 18.89313119
                      },
                      {
                        "iteration": 594,
                        "learn": [
                          1.05234472
                        ],
                        "passed_time": 27.67794371,
                        "remaining_time": 18.83960875
                      },
                      {
                        "iteration": 595,
                        "learn": [
                          1.052280092
                        ],
                        "passed_time": 27.71124772,
                        "remaining_time": 18.78413436
                      },
                      {
                        "iteration": 596,
                        "learn": [
                          1.052212585
                        ],
                        "passed_time": 27.74280655,
                        "remaining_time": 18.72755618
                      },
                      {
                        "iteration": 597,
                        "learn": [
                          1.052148372
                        ],
                        "passed_time": 27.78007799,
                        "remaining_time": 18.67490192
                      },
                      {
                        "iteration": 598,
                        "learn": [
                          1.052091453
                        ],
                        "passed_time": 27.81545813,
                        "remaining_time": 18.62103291
                      },
                      {
                        "iteration": 599,
                        "learn": [
                          1.052030901
                        ],
                        "passed_time": 27.84974264,
                        "remaining_time": 18.56649509
                      },
                      {
                        "iteration": 600,
                        "learn": [
                          1.051960168
                        ],
                        "passed_time": 27.90478387,
                        "remaining_time": 18.52580493
                      },
                      {
                        "iteration": 601,
                        "learn": [
                          1.051899573
                        ],
                        "passed_time": 27.94001765,
                        "remaining_time": 18.4719718
                      },
                      {
                        "iteration": 602,
                        "learn": [
                          1.051841947
                        ],
                        "passed_time": 27.97295814,
                        "remaining_time": 18.41669052
                      },
                      {
                        "iteration": 603,
                        "learn": [
                          1.05178234
                        ],
                        "passed_time": 28.00620257,
                        "remaining_time": 18.36168248
                      },
                      {
                        "iteration": 604,
                        "learn": [
                          1.051718244
                        ],
                        "passed_time": 28.04144579,
                        "remaining_time": 18.30805138
                      },
                      {
                        "iteration": 605,
                        "learn": [
                          1.051664604
                        ],
                        "passed_time": 28.07353587,
                        "remaining_time": 18.25243091
                      },
                      {
                        "iteration": 606,
                        "learn": [
                          1.051610245
                        ],
                        "passed_time": 28.10210722,
                        "remaining_time": 18.19460978
                      },
                      {
                        "iteration": 607,
                        "learn": [
                          1.051548663
                        ],
                        "passed_time": 28.13459767,
                        "remaining_time": 18.13941166
                      },
                      {
                        "iteration": 608,
                        "learn": [
                          1.051482447
                        ],
                        "passed_time": 28.16945802,
                        "remaining_time": 18.08580967
                      },
                      {
                        "iteration": 609,
                        "learn": [
                          1.05142338
                        ],
                        "passed_time": 28.20210539,
                        "remaining_time": 18.03085427
                      },
                      {
                        "iteration": 610,
                        "learn": [
                          1.051361107
                        ],
                        "passed_time": 28.23744805,
                        "remaining_time": 17.97768788
                      },
                      {
                        "iteration": 611,
                        "learn": [
                          1.051307504
                        ],
                        "passed_time": 28.268874,
                        "remaining_time": 17.92209659
                      },
                      {
                        "iteration": 612,
                        "learn": [
                          1.051244777
                        ],
                        "passed_time": 28.30355071,
                        "remaining_time": 17.86863642
                      },
                      {
                        "iteration": 613,
                        "learn": [
                          1.051194696
                        ],
                        "passed_time": 28.31945226,
                        "remaining_time": 17.80343416
                      },
                      {
                        "iteration": 614,
                        "learn": [
                          1.051129738
                        ],
                        "passed_time": 28.35341094,
                        "remaining_time": 17.74969628
                      },
                      {
                        "iteration": 615,
                        "learn": [
                          1.051073221
                        ],
                        "passed_time": 28.41213742,
                        "remaining_time": 17.71146229
                      },
                      {
                        "iteration": 616,
                        "learn": [
                          1.051015092
                        ],
                        "passed_time": 28.45120168,
                        "remaining_time": 17.66095663
                      },
                      {
                        "iteration": 617,
                        "learn": [
                          1.05096023
                        ],
                        "passed_time": 28.48517401,
                        "remaining_time": 17.60734057
                      },
                      {
                        "iteration": 618,
                        "learn": [
                          1.05090221
                        ],
                        "passed_time": 28.51525675,
                        "remaining_time": 17.5513939
                      },
                      {
                        "iteration": 619,
                        "learn": [
                          1.050841639
                        ],
                        "passed_time": 28.54505227,
                        "remaining_time": 17.49535462
                      },
                      {
                        "iteration": 620,
                        "learn": [
                          1.0507747
                        ],
                        "passed_time": 28.57928566,
                        "remaining_time": 17.44210832
                      },
                      {
                        "iteration": 621,
                        "learn": [
                          1.050713207
                        ],
                        "passed_time": 28.61132484,
                        "remaining_time": 17.38758969
                      },
                      {
                        "iteration": 622,
                        "learn": [
                          1.050651873
                        ],
                        "passed_time": 28.64537337,
                        "remaining_time": 17.33435917
                      },
                      {
                        "iteration": 623,
                        "learn": [
                          1.050589972
                        ],
                        "passed_time": 28.67988204,
                        "remaining_time": 17.28146738
                      },
                      {
                        "iteration": 624,
                        "learn": [
                          1.050527673
                        ],
                        "passed_time": 28.71688165,
                        "remaining_time": 17.23012899
                      },
                      {
                        "iteration": 625,
                        "learn": [
                          1.050462315
                        ],
                        "passed_time": 28.74671036,
                        "remaining_time": 17.17455219
                      },
                      {
                        "iteration": 626,
                        "learn": [
                          1.050400514
                        ],
                        "passed_time": 28.78028319,
                        "remaining_time": 17.12128489
                      },
                      {
                        "iteration": 627,
                        "learn": [
                          1.0503349
                        ],
                        "passed_time": 28.81468181,
                        "remaining_time": 17.06856948
                      },
                      {
                        "iteration": 628,
                        "learn": [
                          1.050273087
                        ],
                        "passed_time": 28.84617217,
                        "remaining_time": 17.01419694
                      },
                      {
                        "iteration": 629,
                        "learn": [
                          1.050214212
                        ],
                        "passed_time": 28.88007765,
                        "remaining_time": 16.96131544
                      },
                      {
                        "iteration": 630,
                        "learn": [
                          1.050149386
                        ],
                        "passed_time": 28.93005966,
                        "remaining_time": 16.91789543
                      },
                      {
                        "iteration": 631,
                        "learn": [
                          1.050093757
                        ],
                        "passed_time": 28.96649576,
                        "remaining_time": 16.86656715
                      },
                      {
                        "iteration": 632,
                        "learn": [
                          1.050040235
                        ],
                        "passed_time": 29.00220052,
                        "remaining_time": 16.81486191
                      },
                      {
                        "iteration": 633,
                        "learn": [
                          1.049978461
                        ],
                        "passed_time": 29.03280474,
                        "remaining_time": 16.76026267
                      },
                      {
                        "iteration": 634,
                        "learn": [
                          1.049917574
                        ],
                        "passed_time": 29.06744969,
                        "remaining_time": 16.70806163
                      },
                      {
                        "iteration": 635,
                        "learn": [
                          1.04986069
                        ],
                        "passed_time": 29.09842316,
                        "remaining_time": 16.65381452
                      },
                      {
                        "iteration": 636,
                        "learn": [
                          1.049802664
                        ],
                        "passed_time": 29.13367183,
                        "remaining_time": 16.60207672
                      },
                      {
                        "iteration": 637,
                        "learn": [
                          1.049741932
                        ],
                        "passed_time": 29.1688604,
                        "remaining_time": 16.55035653
                      },
                      {
                        "iteration": 638,
                        "learn": [
                          1.04967854
                        ],
                        "passed_time": 29.20351278,
                        "remaining_time": 16.49838516
                      },
                      {
                        "iteration": 639,
                        "learn": [
                          1.049623777
                        ],
                        "passed_time": 29.23785418,
                        "remaining_time": 16.44629298
                      },
                      {
                        "iteration": 640,
                        "learn": [
                          1.049568848
                        ],
                        "passed_time": 29.27142194,
                        "remaining_time": 16.3938229
                      },
                      {
                        "iteration": 641,
                        "learn": [
                          1.049514005
                        ],
                        "passed_time": 29.30227868,
                        "remaining_time": 16.33989995
                      },
                      {
                        "iteration": 642,
                        "learn": [
                          1.049452408
                        ],
                        "passed_time": 29.34264129,
                        "remaining_time": 16.2913265
                      },
                      {
                        "iteration": 643,
                        "learn": [
                          1.049394876
                        ],
                        "passed_time": 29.3796038,
                        "remaining_time": 16.24089899
                      },
                      {
                        "iteration": 644,
                        "learn": [
                          1.049333147
                        ],
                        "passed_time": 29.451108,
                        "remaining_time": 16.20952456
                      },
                      {
                        "iteration": 645,
                        "learn": [
                          1.049271718
                        ],
                        "passed_time": 29.48356739,
                        "remaining_time": 16.15662981
                      },
                      {
                        "iteration": 646,
                        "learn": [
                          1.049207514
                        ],
                        "passed_time": 29.52468749,
                        "remaining_time": 16.10852347
                      },
                      {
                        "iteration": 647,
                        "learn": [
                          1.049144148
                        ],
                        "passed_time": 29.56507735,
                        "remaining_time": 16.06004202
                      },
                      {
                        "iteration": 648,
                        "learn": [
                          1.049084273
                        ],
                        "passed_time": 29.59883761,
                        "remaining_time": 16.008
                      },
                      {
                        "iteration": 649,
                        "learn": [
                          1.04902929
                        ],
                        "passed_time": 29.62847792,
                        "remaining_time": 15.9537958
                      },
                      {
                        "iteration": 650,
                        "learn": [
                          1.048975575
                        ],
                        "passed_time": 29.64050562,
                        "remaining_time": 15.89022498
                      },
                      {
                        "iteration": 651,
                        "learn": [
                          1.048914036
                        ],
                        "passed_time": 29.67562362,
                        "remaining_time": 15.83913653
                      },
                      {
                        "iteration": 652,
                        "learn": [
                          1.04885925
                        ],
                        "passed_time": 29.71244646,
                        "remaining_time": 15.78900294
                      },
                      {
                        "iteration": 653,
                        "learn": [
                          1.048808393
                        ],
                        "passed_time": 29.74579321,
                        "remaining_time": 15.73707103
                      },
                      {
                        "iteration": 654,
                        "learn": [
                          1.048744523
                        ],
                        "passed_time": 29.78037065,
                        "remaining_time": 15.68584409
                      },
                      {
                        "iteration": 655,
                        "learn": [
                          1.048678305
                        ],
                        "passed_time": 29.81754915,
                        "remaining_time": 15.63603187
                      },
                      {
                        "iteration": 656,
                        "learn": [
                          1.048619343
                        ],
                        "passed_time": 29.84983709,
                        "remaining_time": 15.58370491
                      },
                      {
                        "iteration": 657,
                        "learn": [
                          1.048553283
                        ],
                        "passed_time": 29.88431295,
                        "remaining_time": 15.53257603
                      },
                      {
                        "iteration": 658,
                        "learn": [
                          1.048498207
                        ],
                        "passed_time": 29.92477121,
                        "remaining_time": 15.4845933
                      },
                      {
                        "iteration": 659,
                        "learn": [
                          1.048443122
                        ],
                        "passed_time": 29.95909787,
                        "remaining_time": 15.43347466
                      },
                      {
                        "iteration": 660,
                        "learn": [
                          1.048391272
                        ],
                        "passed_time": 29.99330189,
                        "remaining_time": 15.38234394
                      },
                      {
                        "iteration": 661,
                        "learn": [
                          1.048332125
                        ],
                        "passed_time": 30.02949194,
                        "remaining_time": 15.33227836
                      },
                      {
                        "iteration": 662,
                        "learn": [
                          1.048274713
                        ],
                        "passed_time": 30.05692097,
                        "remaining_time": 15.27780146
                      },
                      {
                        "iteration": 663,
                        "learn": [
                          1.048217256
                        ],
                        "passed_time": 30.09142615,
                        "remaining_time": 15.22698673
                      },
                      {
                        "iteration": 664,
                        "learn": [
                          1.048178817
                        ],
                        "passed_time": 30.09899225,
                        "remaining_time": 15.16265023
                      },
                      {
                        "iteration": 665,
                        "learn": [
                          1.048123599
                        ],
                        "passed_time": 30.13342398,
                        "remaining_time": 15.11195737
                      },
                      {
                        "iteration": 666,
                        "learn": [
                          1.048072067
                        ],
                        "passed_time": 30.16365675,
                        "remaining_time": 15.05921694
                      },
                      {
                        "iteration": 667,
                        "learn": [
                          1.048023568
                        ],
                        "passed_time": 30.18137058,
                        "remaining_time": 15.00032191
                      },
                      {
                        "iteration": 668,
                        "learn": [
                          1.047972319
                        ],
                        "passed_time": 30.20942095,
                        "remaining_time": 14.94666418
                      },
                      {
                        "iteration": 669,
                        "learn": [
                          1.047923306
                        ],
                        "passed_time": 30.24135716,
                        "remaining_time": 14.89499681
                      },
                      {
                        "iteration": 670,
                        "learn": [
                          1.047866203
                        ],
                        "passed_time": 30.27720286,
                        "remaining_time": 14.84530513
                      },
                      {
                        "iteration": 671,
                        "learn": [
                          1.047803345
                        ],
                        "passed_time": 30.31436991,
                        "remaining_time": 14.7962996
                      },
                      {
                        "iteration": 672,
                        "learn": [
                          1.047741715
                        ],
                        "passed_time": 30.34934006,
                        "remaining_time": 14.74626181
                      },
                      {
                        "iteration": 673,
                        "learn": [
                          1.047685603
                        ],
                        "passed_time": 30.38521471,
                        "remaining_time": 14.69670623
                      },
                      {
                        "iteration": 674,
                        "learn": [
                          1.047626309
                        ],
                        "passed_time": 30.45121844,
                        "remaining_time": 14.66169777
                      },
                      {
                        "iteration": 675,
                        "learn": [
                          1.04757178
                        ],
                        "passed_time": 30.48006898,
                        "remaining_time": 14.60879046
                      },
                      {
                        "iteration": 676,
                        "learn": [
                          1.04753567
                        ],
                        "passed_time": 30.48756328,
                        "remaining_time": 14.54576505
                      },
                      {
                        "iteration": 677,
                        "learn": [
                          1.04747386
                        ],
                        "passed_time": 30.52269614,
                        "remaining_time": 14.49602973
                      },
                      {
                        "iteration": 678,
                        "learn": [
                          1.047413142
                        ],
                        "passed_time": 30.55874367,
                        "remaining_time": 14.44676983
                      },
                      {
                        "iteration": 679,
                        "learn": [
                          1.047356919
                        ],
                        "passed_time": 30.59534073,
                        "remaining_time": 14.3978074
                      },
                      {
                        "iteration": 680,
                        "learn": [
                          1.047302143
                        ],
                        "passed_time": 30.63176646,
                        "remaining_time": 14.34880103
                      },
                      {
                        "iteration": 681,
                        "learn": [
                          1.04724782
                        ],
                        "passed_time": 30.66649741,
                        "remaining_time": 14.29904131
                      },
                      {
                        "iteration": 682,
                        "learn": [
                          1.047189421
                        ],
                        "passed_time": 30.69889676,
                        "remaining_time": 14.24824344
                      },
                      {
                        "iteration": 683,
                        "learn": [
                          1.047123327
                        ],
                        "passed_time": 30.73806064,
                        "remaining_time": 14.20062451
                      },
                      {
                        "iteration": 684,
                        "learn": [
                          1.047064555
                        ],
                        "passed_time": 30.76931939,
                        "remaining_time": 14.14939505
                      },
                      {
                        "iteration": 685,
                        "learn": [
                          1.047005332
                        ],
                        "passed_time": 30.80769425,
                        "remaining_time": 14.10148104
                      },
                      {
                        "iteration": 686,
                        "learn": [
                          1.046941671
                        ],
                        "passed_time": 30.83769489,
                        "remaining_time": 14.04977948
                      },
                      {
                        "iteration": 687,
                        "learn": [
                          1.046890228
                        ],
                        "passed_time": 30.8699937,
                        "remaining_time": 13.99918319
                      },
                      {
                        "iteration": 688,
                        "learn": [
                          1.046822253
                        ],
                        "passed_time": 30.90342191,
                        "remaining_time": 13.9491498
                      },
                      {
                        "iteration": 689,
                        "learn": [
                          1.046767216
                        ],
                        "passed_time": 30.93836578,
                        "remaining_time": 13.89984549
                      },
                      {
                        "iteration": 690,
                        "learn": [
                          1.046712147
                        ],
                        "passed_time": 30.97957918,
                        "remaining_time": 13.85338635
                      },
                      {
                        "iteration": 691,
                        "learn": [
                          1.046653445
                        ],
                        "passed_time": 31.02417776,
                        "remaining_time": 13.80844906
                      },
                      {
                        "iteration": 692,
                        "learn": [
                          1.046595886
                        ],
                        "passed_time": 31.07369322,
                        "remaining_time": 13.76569094
                      },
                      {
                        "iteration": 693,
                        "learn": [
                          1.046533194
                        ],
                        "passed_time": 31.13472612,
                        "remaining_time": 13.72799163
                      },
                      {
                        "iteration": 694,
                        "learn": [
                          1.046476727
                        ],
                        "passed_time": 31.18814903,
                        "remaining_time": 13.68688555
                      },
                      {
                        "iteration": 695,
                        "learn": [
                          1.046422745
                        ],
                        "passed_time": 31.24854901,
                        "remaining_time": 13.64879152
                      },
                      {
                        "iteration": 696,
                        "learn": [
                          1.046369707
                        ],
                        "passed_time": 31.30877104,
                        "remaining_time": 13.61055614
                      },
                      {
                        "iteration": 697,
                        "learn": [
                          1.046302487
                        ],
                        "passed_time": 31.3746698,
                        "remaining_time": 13.57471387
                      },
                      {
                        "iteration": 698,
                        "learn": [
                          1.046268772
                        ],
                        "passed_time": 31.3836044,
                        "remaining_time": 13.51425597
                      },
                      {
                        "iteration": 699,
                        "learn": [
                          1.046204693
                        ],
                        "passed_time": 31.4511914,
                        "remaining_time": 13.47908203
                      },
                      {
                        "iteration": 700,
                        "learn": [
                          1.046147053
                        ],
                        "passed_time": 31.54722861,
                        "remaining_time": 13.45595058
                      },
                      {
                        "iteration": 701,
                        "learn": [
                          1.046093241
                        ],
                        "passed_time": 31.62965521,
                        "remaining_time": 13.42683369
                      },
                      {
                        "iteration": 702,
                        "learn": [
                          1.04603952
                        ],
                        "passed_time": 31.69692676,
                        "remaining_time": 13.39116251
                      },
                      {
                        "iteration": 703,
                        "learn": [
                          1.045984906
                        ],
                        "passed_time": 31.76288623,
                        "remaining_time": 13.35484989
                      },
                      {
                        "iteration": 704,
                        "learn": [
                          1.045930506
                        ],
                        "passed_time": 31.8344741,
                        "remaining_time": 13.32080831
                      },
                      {
                        "iteration": 705,
                        "learn": [
                          1.045875276
                        ],
                        "passed_time": 31.91166396,
                        "remaining_time": 13.28899321
                      },
                      {
                        "iteration": 706,
                        "learn": [
                          1.045810219
                        ],
                        "passed_time": 31.97267703,
                        "remaining_time": 13.25034564
                      },
                      {
                        "iteration": 707,
                        "learn": [
                          1.045754469
                        ],
                        "passed_time": 32.03385375,
                        "remaining_time": 13.21170239
                      },
                      {
                        "iteration": 708,
                        "learn": [
                          1.045699163
                        ],
                        "passed_time": 32.09779226,
                        "remaining_time": 13.17412912
                      },
                      {
                        "iteration": 709,
                        "learn": [
                          1.045644549
                        ],
                        "passed_time": 32.16581138,
                        "remaining_time": 13.13814831
                      },
                      {
                        "iteration": 710,
                        "learn": [
                          1.045583495
                        ],
                        "passed_time": 32.23165769,
                        "remaining_time": 13.1011942
                      },
                      {
                        "iteration": 711,
                        "learn": [
                          1.045526165
                        ],
                        "passed_time": 32.29835324,
                        "remaining_time": 13.06450243
                      },
                      {
                        "iteration": 712,
                        "learn": [
                          1.045468593
                        ],
                        "passed_time": 32.35492807,
                        "remaining_time": 13.02365267
                      },
                      {
                        "iteration": 713,
                        "learn": [
                          1.045418363
                        ],
                        "passed_time": 32.42062711,
                        "remaining_time": 12.98641366
                      },
                      {
                        "iteration": 714,
                        "learn": [
                          1.045364201
                        ],
                        "passed_time": 32.47839019,
                        "remaining_time": 12.94593176
                      },
                      {
                        "iteration": 715,
                        "learn": [
                          1.04530978
                        ],
                        "passed_time": 32.56671594,
                        "remaining_time": 12.9175242
                      },
                      {
                        "iteration": 716,
                        "learn": [
                          1.045262161
                        ],
                        "passed_time": 32.65506434,
                        "remaining_time": 12.88895845
                      },
                      {
                        "iteration": 717,
                        "learn": [
                          1.045207104
                        ],
                        "passed_time": 32.71607549,
                        "remaining_time": 12.84948926
                      },
                      {
                        "iteration": 718,
                        "learn": [
                          1.045156234
                        ],
                        "passed_time": 32.78530786,
                        "remaining_time": 12.81317317
                      },
                      {
                        "iteration": 719,
                        "learn": [
                          1.045098438
                        ],
                        "passed_time": 32.85788519,
                        "remaining_time": 12.77806646
                      },
                      {
                        "iteration": 720,
                        "learn": [
                          1.045042712
                        ],
                        "passed_time": 32.91627275,
                        "remaining_time": 12.73736491
                      },
                      {
                        "iteration": 721,
                        "learn": [
                          1.044987253
                        ],
                        "passed_time": 32.98856763,
                        "remaining_time": 12.70196925
                      },
                      {
                        "iteration": 722,
                        "learn": [
                          1.044930712
                        ],
                        "passed_time": 33.0641976,
                        "remaining_time": 12.66774929
                      },
                      {
                        "iteration": 723,
                        "learn": [
                          1.044913741
                        ],
                        "passed_time": 33.07182377,
                        "remaining_time": 12.60749083
                      },
                      {
                        "iteration": 724,
                        "learn": [
                          1.044857627
                        ],
                        "passed_time": 33.14563968,
                        "remaining_time": 12.57248402
                      },
                      {
                        "iteration": 725,
                        "learn": [
                          1.044795979
                        ],
                        "passed_time": 33.19758042,
                        "remaining_time": 12.52911437
                      },
                      {
                        "iteration": 726,
                        "learn": [
                          1.044732821
                        ],
                        "passed_time": 33.26352951,
                        "remaining_time": 12.49098151
                      },
                      {
                        "iteration": 727,
                        "learn": [
                          1.044673959
                        ],
                        "passed_time": 33.34157022,
                        "remaining_time": 12.45728997
                      },
                      {
                        "iteration": 728,
                        "learn": [
                          1.04462953
                        ],
                        "passed_time": 33.41153723,
                        "remaining_time": 12.42047543
                      },
                      {
                        "iteration": 729,
                        "learn": [
                          1.04457249
                        ],
                        "passed_time": 33.48567262,
                        "remaining_time": 12.38511179
                      },
                      {
                        "iteration": 730,
                        "learn": [
                          1.044510394
                        ],
                        "passed_time": 33.55488934,
                        "remaining_time": 12.34783206
                      },
                      {
                        "iteration": 731,
                        "learn": [
                          1.044460585
                        ],
                        "passed_time": 33.63451407,
                        "remaining_time": 12.31427564
                      },
                      {
                        "iteration": 732,
                        "learn": [
                          1.044403743
                        ],
                        "passed_time": 33.72235646,
                        "remaining_time": 12.28358687
                      },
                      {
                        "iteration": 733,
                        "learn": [
                          1.044353913
                        ],
                        "passed_time": 33.76353471,
                        "remaining_time": 12.23583138
                      },
                      {
                        "iteration": 734,
                        "learn": [
                          1.044307454
                        ],
                        "passed_time": 33.77884096,
                        "remaining_time": 12.17876579
                      },
                      {
                        "iteration": 735,
                        "learn": [
                          1.044255
                        ],
                        "passed_time": 33.83397301,
                        "remaining_time": 12.13609901
                      },
                      {
                        "iteration": 736,
                        "learn": [
                          1.044204689
                        ],
                        "passed_time": 33.89081898,
                        "remaining_time": 12.09401003
                      },
                      {
                        "iteration": 737,
                        "learn": [
                          1.044147493
                        ],
                        "passed_time": 33.95415706,
                        "remaining_time": 12.05418584
                      },
                      {
                        "iteration": 738,
                        "learn": [
                          1.044099229
                        ],
                        "passed_time": 34.012027,
                        "remaining_time": 12.01236677
                      },
                      {
                        "iteration": 739,
                        "learn": [
                          1.044042592
                        ],
                        "passed_time": 34.0852248,
                        "remaining_time": 11.9758898
                      },
                      {
                        "iteration": 740,
                        "learn": [
                          1.04398229
                        ],
                        "passed_time": 34.15595115,
                        "remaining_time": 11.93844986
                      },
                      {
                        "iteration": 741,
                        "learn": [
                          1.043926894
                        ],
                        "passed_time": 34.21755916,
                        "remaining_time": 11.89774968
                      },
                      {
                        "iteration": 742,
                        "learn": [
                          1.043861323
                        ],
                        "passed_time": 34.2815658,
                        "remaining_time": 11.8578229
                      },
                      {
                        "iteration": 743,
                        "learn": [
                          1.043806569
                        ],
                        "passed_time": 34.33208586,
                        "remaining_time": 11.81319083
                      },
                      {
                        "iteration": 744,
                        "learn": [
                          1.043752102
                        ],
                        "passed_time": 34.40222694,
                        "remaining_time": 11.77525888
                      },
                      {
                        "iteration": 745,
                        "learn": [
                          1.043692056
                        ],
                        "passed_time": 34.46445418,
                        "remaining_time": 11.73454606
                      },
                      {
                        "iteration": 746,
                        "learn": [
                          1.043630744
                        ],
                        "passed_time": 34.52147335,
                        "remaining_time": 11.69201172
                      },
                      {
                        "iteration": 747,
                        "learn": [
                          1.04357187
                        ],
                        "passed_time": 34.58392973,
                        "remaining_time": 11.65127044
                      },
                      {
                        "iteration": 748,
                        "learn": [
                          1.043514361
                        ],
                        "passed_time": 34.64491176,
                        "remaining_time": 11.6099771
                      },
                      {
                        "iteration": 749,
                        "learn": [
                          1.043457788
                        ],
                        "passed_time": 34.67794031,
                        "remaining_time": 11.55931344
                      },
                      {
                        "iteration": 750,
                        "learn": [
                          1.043406734
                        ],
                        "passed_time": 34.74845777,
                        "remaining_time": 11.52112648
                      },
                      {
                        "iteration": 751,
                        "learn": [
                          1.043348446
                        ],
                        "passed_time": 34.78664404,
                        "remaining_time": 11.47219112
                      },
                      {
                        "iteration": 752,
                        "learn": [
                          1.043294942
                        ],
                        "passed_time": 34.8263375,
                        "remaining_time": 11.4237787
                      },
                      {
                        "iteration": 753,
                        "learn": [
                          1.043249134
                        ],
                        "passed_time": 34.83738339,
                        "remaining_time": 11.36604286
                      },
                      {
                        "iteration": 754,
                        "learn": [
                          1.043198243
                        ],
                        "passed_time": 34.87129029,
                        "remaining_time": 11.31584917
                      },
                      {
                        "iteration": 755,
                        "learn": [
                          1.043149019
                        ],
                        "passed_time": 34.90493704,
                        "remaining_time": 11.2656146
                      },
                      {
                        "iteration": 756,
                        "learn": [
                          1.043098285
                        ],
                        "passed_time": 34.93707854,
                        "remaining_time": 11.21494067
                      },
                      {
                        "iteration": 757,
                        "learn": [
                          1.04304174
                        ],
                        "passed_time": 34.97215367,
                        "remaining_time": 11.16525223
                      },
                      {
                        "iteration": 758,
                        "learn": [
                          1.042991265
                        ],
                        "passed_time": 35.00511135,
                        "remaining_time": 11.11492995
                      },
                      {
                        "iteration": 759,
                        "learn": [
                          1.042936324
                        ],
                        "passed_time": 35.04250772,
                        "remaining_time": 11.06605507
                      },
                      {
                        "iteration": 760,
                        "learn": [
                          1.042885028
                        ],
                        "passed_time": 35.07994028,
                        "remaining_time": 11.01722172
                      },
                      {
                        "iteration": 761,
                        "learn": [
                          1.04282158
                        ],
                        "passed_time": 35.11222499,
                        "remaining_time": 10.96681043
                      },
                      {
                        "iteration": 762,
                        "learn": [
                          1.042776984
                        ],
                        "passed_time": 35.15824305,
                        "remaining_time": 10.92071245
                      },
                      {
                        "iteration": 763,
                        "learn": [
                          1.042717596
                        ],
                        "passed_time": 35.19052649,
                        "remaining_time": 10.87037206
                      },
                      {
                        "iteration": 764,
                        "learn": [
                          1.042666777
                        ],
                        "passed_time": 35.22024037,
                        "remaining_time": 10.81928953
                      },
                      {
                        "iteration": 765,
                        "learn": [
                          1.042614849
                        ],
                        "passed_time": 35.25432079,
                        "remaining_time": 10.76959669
                      },
                      {
                        "iteration": 766,
                        "learn": [
                          1.042553938
                        ],
                        "passed_time": 35.29217342,
                        "remaining_time": 10.72109049
                      },
                      {
                        "iteration": 767,
                        "learn": [
                          1.042502748
                        ],
                        "passed_time": 35.32911604,
                        "remaining_time": 10.67233714
                      },
                      {
                        "iteration": 768,
                        "learn": [
                          1.042451694
                        ],
                        "passed_time": 35.36071411,
                        "remaining_time": 10.62200905
                      },
                      {
                        "iteration": 769,
                        "learn": [
                          1.04239619
                        ],
                        "passed_time": 35.39711471,
                        "remaining_time": 10.57316413
                      },
                      {
                        "iteration": 770,
                        "learn": [
                          1.042347269
                        ],
                        "passed_time": 35.43354044,
                        "remaining_time": 10.52435896
                      },
                      {
                        "iteration": 771,
                        "learn": [
                          1.042294658
                        ],
                        "passed_time": 35.45893571,
                        "remaining_time": 10.47232816
                      },
                      {
                        "iteration": 772,
                        "learn": [
                          1.042233181
                        ],
                        "passed_time": 35.49258814,
                        "remaining_time": 10.42279108
                      },
                      {
                        "iteration": 773,
                        "learn": [
                          1.042184068
                        ],
                        "passed_time": 35.52731004,
                        "remaining_time": 10.37360732
                      },
                      {
                        "iteration": 774,
                        "learn": [
                          1.04213113
                        ],
                        "passed_time": 35.56248953,
                        "remaining_time": 10.32459374
                      },
                      {
                        "iteration": 775,
                        "learn": [
                          1.042070678
                        ],
                        "passed_time": 35.59390831,
                        "remaining_time": 10.27453023
                      },
                      {
                        "iteration": 776,
                        "learn": [
                          1.042020031
                        ],
                        "passed_time": 35.6207364,
                        "remaining_time": 10.22319719
                      },
                      {
                        "iteration": 777,
                        "learn": [
                          1.041964413
                        ],
                        "passed_time": 35.6503477,
                        "remaining_time": 10.17272132
                      },
                      {
                        "iteration": 778,
                        "learn": [
                          1.041906774
                        ],
                        "passed_time": 35.68773352,
                        "remaining_time": 10.12450463
                      },
                      {
                        "iteration": 779,
                        "learn": [
                          1.041847078
                        ],
                        "passed_time": 35.74321477,
                        "remaining_time": 10.08141955
                      },
                      {
                        "iteration": 780,
                        "learn": [
                          1.041789556
                        ],
                        "passed_time": 35.8015138,
                        "remaining_time": 10.03909286
                      },
                      {
                        "iteration": 781,
                        "learn": [
                          1.041735596
                        ],
                        "passed_time": 35.83712625,
                        "remaining_time": 9.990400923
                      },
                      {
                        "iteration": 782,
                        "learn": [
                          1.041680146
                        ],
                        "passed_time": 35.87104326,
                        "remaining_time": 9.941272525
                      },
                      {
                        "iteration": 783,
                        "learn": [
                          1.041625441
                        ],
                        "passed_time": 35.90114914,
                        "remaining_time": 9.891132927
                      },
                      {
                        "iteration": 784,
                        "learn": [
                          1.041576477
                        ],
                        "passed_time": 35.91884676,
                        "remaining_time": 9.837645928
                      },
                      {
                        "iteration": 785,
                        "learn": [
                          1.041520128
                        ],
                        "passed_time": 35.95323355,
                        "remaining_time": 9.788793868
                      },
                      {
                        "iteration": 786,
                        "learn": [
                          1.041462578
                        ],
                        "passed_time": 35.99017246,
                        "remaining_time": 9.740669294
                      },
                      {
                        "iteration": 787,
                        "learn": [
                          1.04140916
                        ],
                        "passed_time": 36.02857456,
                        "remaining_time": 9.692966759
                      },
                      {
                        "iteration": 788,
                        "learn": [
                          1.041351625
                        ],
                        "passed_time": 36.06293233,
                        "remaining_time": 9.644206238
                      },
                      {
                        "iteration": 789,
                        "learn": [
                          1.041289698
                        ],
                        "passed_time": 36.09814507,
                        "remaining_time": 9.595709448
                      },
                      {
                        "iteration": 790,
                        "learn": [
                          1.041241823
                        ],
                        "passed_time": 36.12874646,
                        "remaining_time": 9.546027827
                      },
                      {
                        "iteration": 791,
                        "learn": [
                          1.041186954
                        ],
                        "passed_time": 36.17444945,
                        "remaining_time": 9.500360461
                      },
                      {
                        "iteration": 792,
                        "learn": [
                          1.041129269
                        ],
                        "passed_time": 36.21306548,
                        "remaining_time": 9.45284307
                      },
                      {
                        "iteration": 793,
                        "learn": [
                          1.041070766
                        ],
                        "passed_time": 36.24057089,
                        "remaining_time": 9.402465494
                      },
                      {
                        "iteration": 794,
                        "learn": [
                          1.041018005
                        ],
                        "passed_time": 36.2738064,
                        "remaining_time": 9.353623035
                      },
                      {
                        "iteration": 795,
                        "learn": [
                          1.040973192
                        ],
                        "passed_time": 36.31168586,
                        "remaining_time": 9.306009945
                      },
                      {
                        "iteration": 796,
                        "learn": [
                          1.040923901
                        ],
                        "passed_time": 36.34454264,
                        "remaining_time": 9.257141976
                      },
                      {
                        "iteration": 797,
                        "learn": [
                          1.040875644
                        ],
                        "passed_time": 36.37950115,
                        "remaining_time": 9.208846157
                      },
                      {
                        "iteration": 798,
                        "learn": [
                          1.040824672
                        ],
                        "passed_time": 36.41533589,
                        "remaining_time": 9.160804149
                      },
                      {
                        "iteration": 799,
                        "learn": [
                          1.040791957
                        ],
                        "passed_time": 36.42254726,
                        "remaining_time": 9.105636815
                      },
                      {
                        "iteration": 800,
                        "learn": [
                          1.040747018
                        ],
                        "passed_time": 36.4563013,
                        "remaining_time": 9.057183468
                      },
                      {
                        "iteration": 801,
                        "learn": [
                          1.040688897
                        ],
                        "passed_time": 36.49265397,
                        "remaining_time": 9.009408337
                      },
                      {
                        "iteration": 802,
                        "learn": [
                          1.040654675
                        ],
                        "passed_time": 36.49937928,
                        "remaining_time": 8.954393174
                      },
                      {
                        "iteration": 803,
                        "learn": [
                          1.040603093
                        ],
                        "passed_time": 36.52496647,
                        "remaining_time": 8.904096304
                      },
                      {
                        "iteration": 804,
                        "learn": [
                          1.040550028
                        ],
                        "passed_time": 36.55924855,
                        "remaining_time": 8.855967041
                      },
                      {
                        "iteration": 805,
                        "learn": [
                          1.040497355
                        ],
                        "passed_time": 36.59599851,
                        "remaining_time": 8.808466144
                      },
                      {
                        "iteration": 806,
                        "learn": [
                          1.040449884
                        ],
                        "passed_time": 36.63087935,
                        "remaining_time": 8.760544876
                      },
                      {
                        "iteration": 807,
                        "learn": [
                          1.040404915
                        ],
                        "passed_time": 36.66380763,
                        "remaining_time": 8.712191913
                      },
                      {
                        "iteration": 808,
                        "learn": [
                          1.040368288
                        ],
                        "passed_time": 36.69485112,
                        "remaining_time": 8.663432094
                      },
                      {
                        "iteration": 809,
                        "learn": [
                          1.040315239
                        ],
                        "passed_time": 36.73028974,
                        "remaining_time": 8.615746977
                      },
                      {
                        "iteration": 810,
                        "learn": [
                          1.040258748
                        ],
                        "passed_time": 36.79679444,
                        "remaining_time": 8.575331873
                      },
                      {
                        "iteration": 811,
                        "learn": [
                          1.040207882
                        ],
                        "passed_time": 36.84636819,
                        "remaining_time": 8.530932536
                      },
                      {
                        "iteration": 812,
                        "learn": [
                          1.040153841
                        ],
                        "passed_time": 36.8813672,
                        "remaining_time": 8.4831681
                      },
                      {
                        "iteration": 813,
                        "learn": [
                          1.040100508
                        ],
                        "passed_time": 36.91746453,
                        "remaining_time": 8.435685999
                      },
                      {
                        "iteration": 814,
                        "learn": [
                          1.040053047
                        ],
                        "passed_time": 36.95093011,
                        "remaining_time": 8.387634442
                      },
                      {
                        "iteration": 815,
                        "learn": [
                          1.04000552
                        ],
                        "passed_time": 36.98842457,
                        "remaining_time": 8.340527109
                      },
                      {
                        "iteration": 816,
                        "learn": [
                          1.039958371
                        ],
                        "passed_time": 37.02931759,
                        "remaining_time": 8.294204552
                      },
                      {
                        "iteration": 817,
                        "learn": [
                          1.03989164
                        ],
                        "passed_time": 37.06054881,
                        "remaining_time": 8.245745578
                      },
                      {
                        "iteration": 818,
                        "learn": [
                          1.039846549
                        ],
                        "passed_time": 37.09403614,
                        "remaining_time": 8.19782728
                      },
                      {
                        "iteration": 819,
                        "learn": [
                          1.039797153
                        ],
                        "passed_time": 37.13190921,
                        "remaining_time": 8.150906901
                      },
                      {
                        "iteration": 820,
                        "learn": [
                          1.039751229
                        ],
                        "passed_time": 37.17222378,
                        "remaining_time": 8.104540874
                      },
                      {
                        "iteration": 821,
                        "learn": [
                          1.039702862
                        ],
                        "passed_time": 37.21151438,
                        "remaining_time": 8.057967833
                      },
                      {
                        "iteration": 822,
                        "learn": [
                          1.039651521
                        ],
                        "passed_time": 37.23587861,
                        "remaining_time": 8.008202326
                      },
                      {
                        "iteration": 823,
                        "learn": [
                          1.039596575
                        ],
                        "passed_time": 37.27005802,
                        "remaining_time": 7.960594917
                      },
                      {
                        "iteration": 824,
                        "learn": [
                          1.039565465
                        ],
                        "passed_time": 37.27671299,
                        "remaining_time": 7.907181544
                      },
                      {
                        "iteration": 825,
                        "learn": [
                          1.03951061
                        ],
                        "passed_time": 37.31497798,
                        "remaining_time": 7.860540156
                      },
                      {
                        "iteration": 826,
                        "learn": [
                          1.039462712
                        ],
                        "passed_time": 37.34915054,
                        "remaining_time": 7.81306293
                      },
                      {
                        "iteration": 827,
                        "learn": [
                          1.039415345
                        ],
                        "passed_time": 37.38692865,
                        "remaining_time": 7.766366822
                      },
                      {
                        "iteration": 828,
                        "learn": [
                          1.039367368
                        ],
                        "passed_time": 37.42059451,
                        "remaining_time": 7.718843982
                      },
                      {
                        "iteration": 829,
                        "learn": [
                          1.03931778
                        ],
                        "passed_time": 37.44915016,
                        "remaining_time": 7.670307865
                      },
                      {
                        "iteration": 830,
                        "learn": [
                          1.039266544
                        ],
                        "passed_time": 37.4836298,
                        "remaining_time": 7.623024592
                      },
                      {
                        "iteration": 831,
                        "learn": [
                          1.039212493
                        ],
                        "passed_time": 37.51107586,
                        "remaining_time": 7.574351857
                      },
                      {
                        "iteration": 832,
                        "learn": [
                          1.039166849
                        ],
                        "passed_time": 37.54825082,
                        "remaining_time": 7.527680537
                      },
                      {
                        "iteration": 833,
                        "learn": [
                          1.03911863
                        ],
                        "passed_time": 37.58512687,
                        "remaining_time": 7.480972495
                      },
                      {
                        "iteration": 834,
                        "learn": [
                          1.039074444
                        ],
                        "passed_time": 37.62071089,
                        "remaining_time": 7.434032691
                      },
                      {
                        "iteration": 835,
                        "learn": [
                          1.039018387
                        ],
                        "passed_time": 37.65666919,
                        "remaining_time": 7.387193477
                      },
                      {
                        "iteration": 836,
                        "learn": [
                          1.038974778
                        ],
                        "passed_time": 37.66863699,
                        "remaining_time": 7.335708279
                      },
                      {
                        "iteration": 837,
                        "learn": [
                          1.038927341
                        ],
                        "passed_time": 37.69808211,
                        "remaining_time": 7.287696065
                      },
                      {
                        "iteration": 838,
                        "learn": [
                          1.038874256
                        ],
                        "passed_time": 37.73233556,
                        "remaining_time": 7.240650804
                      },
                      {
                        "iteration": 839,
                        "learn": [
                          1.038821472
                        ],
                        "passed_time": 37.78961236,
                        "remaining_time": 7.198021402
                      },
                      {
                        "iteration": 840,
                        "learn": [
                          1.038773174
                        ],
                        "passed_time": 37.84363626,
                        "remaining_time": 7.15474217
                      },
                      {
                        "iteration": 841,
                        "learn": [
                          1.038722371
                        ],
                        "passed_time": 37.87602418,
                        "remaining_time": 7.107377458
                      },
                      {
                        "iteration": 842,
                        "learn": [
                          1.038671259
                        ],
                        "passed_time": 37.91038164,
                        "remaining_time": 7.060415086
                      },
                      {
                        "iteration": 843,
                        "learn": [
                          1.038618628
                        ],
                        "passed_time": 37.94792201,
                        "remaining_time": 7.014070892
                      },
                      {
                        "iteration": 844,
                        "learn": [
                          1.038568269
                        ],
                        "passed_time": 37.98195948,
                        "remaining_time": 6.967104993
                      },
                      {
                        "iteration": 845,
                        "learn": [
                          1.038516319
                        ],
                        "passed_time": 38.01700913,
                        "remaining_time": 6.920353908
                      },
                      {
                        "iteration": 846,
                        "learn": [
                          1.038457932
                        ],
                        "passed_time": 38.05210095,
                        "remaining_time": 6.873638071
                      },
                      {
                        "iteration": 847,
                        "learn": [
                          1.038411745
                        ],
                        "passed_time": 38.08321422,
                        "remaining_time": 6.826236511
                      },
                      {
                        "iteration": 848,
                        "learn": [
                          1.038362505
                        ],
                        "passed_time": 38.11456674,
                        "remaining_time": 6.778915874
                      },
                      {
                        "iteration": 849,
                        "learn": [
                          1.038312912
                        ],
                        "passed_time": 38.14851068,
                        "remaining_time": 6.73209012
                      },
                      {
                        "iteration": 850,
                        "learn": [
                          1.038264781
                        ],
                        "passed_time": 38.18083755,
                        "remaining_time": 6.68501151
                      },
                      {
                        "iteration": 851,
                        "learn": [
                          1.038210758
                        ],
                        "passed_time": 38.22592965,
                        "remaining_time": 6.640184963
                      },
                      {
                        "iteration": 852,
                        "learn": [
                          1.038156388
                        ],
                        "passed_time": 38.25370946,
                        "remaining_time": 6.592374315
                      },
                      {
                        "iteration": 853,
                        "learn": [
                          1.03810658
                        ],
                        "passed_time": 38.27451503,
                        "remaining_time": 6.543418261
                      },
                      {
                        "iteration": 854,
                        "learn": [
                          1.038046743
                        ],
                        "passed_time": 38.30370992,
                        "remaining_time": 6.495950805
                      },
                      {
                        "iteration": 855,
                        "learn": [
                          1.03799026
                        ],
                        "passed_time": 38.33729939,
                        "remaining_time": 6.449265318
                      },
                      {
                        "iteration": 856,
                        "learn": [
                          1.037938656
                        ],
                        "passed_time": 38.37038155,
                        "remaining_time": 6.402525742
                      },
                      {
                        "iteration": 857,
                        "learn": [
                          1.037884311
                        ],
                        "passed_time": 38.40126279,
                        "remaining_time": 6.355453749
                      },
                      {
                        "iteration": 858,
                        "learn": [
                          1.03782723
                        ],
                        "passed_time": 38.4365898,
                        "remaining_time": 6.309149198
                      },
                      {
                        "iteration": 859,
                        "learn": [
                          1.037771546
                        ],
                        "passed_time": 38.47104489,
                        "remaining_time": 6.262728238
                      },
                      {
                        "iteration": 860,
                        "learn": [
                          1.037710023
                        ],
                        "passed_time": 38.50412125,
                        "remaining_time": 6.21611249
                      },
                      {
                        "iteration": 861,
                        "learn": [
                          1.037657084
                        ],
                        "passed_time": 38.54014285,
                        "remaining_time": 6.169999667
                      },
                      {
                        "iteration": 862,
                        "learn": [
                          1.037610946
                        ],
                        "passed_time": 38.57575357,
                        "remaining_time": 6.123845004
                      },
                      {
                        "iteration": 863,
                        "learn": [
                          1.037565473
                        ],
                        "passed_time": 38.61118209,
                        "remaining_time": 6.07768607
                      },
                      {
                        "iteration": 864,
                        "learn": [
                          1.037515321
                        ],
                        "passed_time": 38.64652721,
                        "remaining_time": 6.031538929
                      },
                      {
                        "iteration": 865,
                        "learn": [
                          1.037459025
                        ],
                        "passed_time": 38.68138131,
                        "remaining_time": 5.985340757
                      },
                      {
                        "iteration": 866,
                        "learn": [
                          1.037421087
                        ],
                        "passed_time": 38.69164861,
                        "remaining_time": 5.935397076
                      },
                      {
                        "iteration": 867,
                        "learn": [
                          1.03739099
                        ],
                        "passed_time": 38.69844174,
                        "remaining_time": 5.885016487
                      },
                      {
                        "iteration": 868,
                        "learn": [
                          1.037336422
                        ],
                        "passed_time": 38.7347281,
                        "remaining_time": 5.839182257
                      },
                      {
                        "iteration": 869,
                        "learn": [
                          1.037289097
                        ],
                        "passed_time": 38.76372936,
                        "remaining_time": 5.792281399
                      },
                      {
                        "iteration": 870,
                        "learn": [
                          1.03723709
                        ],
                        "passed_time": 38.81467279,
                        "remaining_time": 5.748671401
                      },
                      {
                        "iteration": 871,
                        "learn": [
                          1.037186719
                        ],
                        "passed_time": 38.86792345,
                        "remaining_time": 5.705383258
                      },
                      {
                        "iteration": 872,
                        "learn": [
                          1.037133335
                        ],
                        "passed_time": 38.89620816,
                        "remaining_time": 5.658440363
                      },
                      {
                        "iteration": 873,
                        "learn": [
                          1.037090463
                        ],
                        "passed_time": 38.92909119,
                        "remaining_time": 5.612203078
                      },
                      {
                        "iteration": 874,
                        "learn": [
                          1.037051617
                        ],
                        "passed_time": 38.9392687,
                        "remaining_time": 5.562752671
                      },
                      {
                        "iteration": 875,
                        "learn": [
                          1.037023778
                        ],
                        "passed_time": 38.94621868,
                        "remaining_time": 5.512935064
                      },
                      {
                        "iteration": 876,
                        "learn": [
                          1.036985751
                        ],
                        "passed_time": 38.98248723,
                        "remaining_time": 5.467327172
                      },
                      {
                        "iteration": 877,
                        "learn": [
                          1.036937649
                        ],
                        "passed_time": 39.0140556,
                        "remaining_time": 5.421087452
                      },
                      {
                        "iteration": 878,
                        "learn": [
                          1.03689076
                        ],
                        "passed_time": 39.04769967,
                        "remaining_time": 5.375166849
                      },
                      {
                        "iteration": 879,
                        "learn": [
                          1.036840728
                        ],
                        "passed_time": 39.08203557,
                        "remaining_time": 5.329368487
                      },
                      {
                        "iteration": 880,
                        "learn": [
                          1.036791584
                        ],
                        "passed_time": 39.11723385,
                        "remaining_time": 5.283712632
                      },
                      {
                        "iteration": 881,
                        "learn": [
                          1.036738212
                        ],
                        "passed_time": 39.15441289,
                        "remaining_time": 5.238345488
                      },
                      {
                        "iteration": 882,
                        "learn": [
                          1.036691279
                        ],
                        "passed_time": 39.18690889,
                        "remaining_time": 5.192376377
                      },
                      {
                        "iteration": 883,
                        "learn": [
                          1.036636022
                        ],
                        "passed_time": 39.22521017,
                        "remaining_time": 5.147199524
                      },
                      {
                        "iteration": 884,
                        "learn": [
                          1.036591773
                        ],
                        "passed_time": 39.24721631,
                        "remaining_time": 5.099920764
                      },
                      {
                        "iteration": 885,
                        "learn": [
                          1.036540672
                        ],
                        "passed_time": 39.27644385,
                        "remaining_time": 5.053628216
                      },
                      {
                        "iteration": 886,
                        "learn": [
                          1.036489473
                        ],
                        "passed_time": 39.31004133,
                        "remaining_time": 5.007930857
                      },
                      {
                        "iteration": 887,
                        "learn": [
                          1.036435444
                        ],
                        "passed_time": 39.34641433,
                        "remaining_time": 4.962610817
                      },
                      {
                        "iteration": 888,
                        "learn": [
                          1.03638808
                        ],
                        "passed_time": 39.38319295,
                        "remaining_time": 4.91736155
                      },
                      {
                        "iteration": 889,
                        "learn": [
                          1.03634951
                        ],
                        "passed_time": 39.39484916,
                        "remaining_time": 4.8690263
                      },
                      {
                        "iteration": 890,
                        "learn": [
                          1.036297527
                        ],
                        "passed_time": 39.42764729,
                        "remaining_time": 4.823359769
                      },
                      {
                        "iteration": 891,
                        "learn": [
                          1.036241815
                        ],
                        "passed_time": 39.46385792,
                        "remaining_time": 4.778135264
                      },
                      {
                        "iteration": 892,
                        "learn": [
                          1.036198548
                        ],
                        "passed_time": 39.49744346,
                        "remaining_time": 4.732616406
                      },
                      {
                        "iteration": 893,
                        "learn": [
                          1.03613916
                        ],
                        "passed_time": 39.5237448,
                        "remaining_time": 4.686260569
                      },
                      {
                        "iteration": 894,
                        "learn": [
                          1.036090219
                        ],
                        "passed_time": 39.55834457,
                        "remaining_time": 4.640923106
                      },
                      {
                        "iteration": 895,
                        "learn": [
                          1.03604007
                        ],
                        "passed_time": 39.59461011,
                        "remaining_time": 4.595802959
                      },
                      {
                        "iteration": 896,
                        "learn": [
                          1.035990542
                        ],
                        "passed_time": 39.63029355,
                        "remaining_time": 4.550635714
                      },
                      {
                        "iteration": 897,
                        "learn": [
                          1.035945178
                        ],
                        "passed_time": 39.66632109,
                        "remaining_time": 4.505528676
                      },
                      {
                        "iteration": 898,
                        "learn": [
                          1.035895493
                        ],
                        "passed_time": 39.70337545,
                        "remaining_time": 4.460557198
                      },
                      {
                        "iteration": 899,
                        "learn": [
                          1.035838435
                        ],
                        "passed_time": 39.73445954,
                        "remaining_time": 4.414939949
                      },
                      {
                        "iteration": 900,
                        "learn": [
                          1.035785906
                        ],
                        "passed_time": 39.76946448,
                        "remaining_time": 4.369785776
                      },
                      {
                        "iteration": 901,
                        "learn": [
                          1.035736592
                        ],
                        "passed_time": 39.80678177,
                        "remaining_time": 4.324905337
                      },
                      {
                        "iteration": 902,
                        "learn": [
                          1.035687739
                        ],
                        "passed_time": 39.86472073,
                        "remaining_time": 4.282256823
                      },
                      {
                        "iteration": 903,
                        "learn": [
                          1.035639043
                        ],
                        "passed_time": 39.92234732,
                        "remaining_time": 4.239541309
                      },
                      {
                        "iteration": 904,
                        "learn": [
                          1.035588612
                        ],
                        "passed_time": 39.95598984,
                        "remaining_time": 4.194275177
                      },
                      {
                        "iteration": 905,
                        "learn": [
                          1.035534267
                        ],
                        "passed_time": 39.98678461,
                        "remaining_time": 4.148739242
                      },
                      {
                        "iteration": 906,
                        "learn": [
                          1.035480945
                        ],
                        "passed_time": 40.02393494,
                        "remaining_time": 4.103887486
                      },
                      {
                        "iteration": 907,
                        "learn": [
                          1.035424733
                        ],
                        "passed_time": 40.05588778,
                        "remaining_time": 4.058526074
                      },
                      {
                        "iteration": 908,
                        "learn": [
                          1.035380507
                        ],
                        "passed_time": 40.08657204,
                        "remaining_time": 4.013067168
                      },
                      {
                        "iteration": 909,
                        "learn": [
                          1.035330781
                        ],
                        "passed_time": 40.12182231,
                        "remaining_time": 3.968092316
                      },
                      {
                        "iteration": 910,
                        "learn": [
                          1.035280607
                        ],
                        "passed_time": 40.15240764,
                        "remaining_time": 3.922683074
                      },
                      {
                        "iteration": 911,
                        "learn": [
                          1.035227902
                        ],
                        "passed_time": 40.18734473,
                        "remaining_time": 3.877726246
                      },
                      {
                        "iteration": 912,
                        "learn": [
                          1.035163772
                        ],
                        "passed_time": 40.22484334,
                        "remaining_time": 3.833035455
                      },
                      {
                        "iteration": 913,
                        "learn": [
                          1.035118182
                        ],
                        "passed_time": 40.24638445,
                        "remaining_time": 3.786858931
                      },
                      {
                        "iteration": 914,
                        "learn": [
                          1.035067095
                        ],
                        "passed_time": 40.28994247,
                        "remaining_time": 3.742781541
                      },
                      {
                        "iteration": 915,
                        "learn": [
                          1.035015829
                        ],
                        "passed_time": 40.31914732,
                        "remaining_time": 3.697389056
                      },
                      {
                        "iteration": 916,
                        "learn": [
                          1.034962547
                        ],
                        "passed_time": 40.35386345,
                        "remaining_time": 3.652530715
                      },
                      {
                        "iteration": 917,
                        "learn": [
                          1.034926508
                        ],
                        "passed_time": 40.38838027,
                        "remaining_time": 3.607676669
                      },
                      {
                        "iteration": 918,
                        "learn": [
                          1.034873921
                        ],
                        "passed_time": 40.42086703,
                        "remaining_time": 3.562666191
                      },
                      {
                        "iteration": 919,
                        "learn": [
                          1.034816233
                        ],
                        "passed_time": 40.45878326,
                        "remaining_time": 3.518155066
                      },
                      {
                        "iteration": 920,
                        "learn": [
                          1.034764937
                        ],
                        "passed_time": 40.48665161,
                        "remaining_time": 3.472796392
                      },
                      {
                        "iteration": 921,
                        "learn": [
                          1.034710952
                        ],
                        "passed_time": 40.52015028,
                        "remaining_time": 3.427951976
                      },
                      {
                        "iteration": 922,
                        "learn": [
                          1.03466692
                        ],
                        "passed_time": 40.54909729,
                        "remaining_time": 3.382752428
                      },
                      {
                        "iteration": 923,
                        "learn": [
                          1.034610912
                        ],
                        "passed_time": 40.58376293,
                        "remaining_time": 3.338058423
                      },
                      {
                        "iteration": 924,
                        "learn": [
                          1.03455473
                        ],
                        "passed_time": 40.61911505,
                        "remaining_time": 3.293441761
                      },
                      {
                        "iteration": 925,
                        "learn": [
                          1.034509238
                        ],
                        "passed_time": 40.65441774,
                        "remaining_time": 3.248841158
                      },
                      {
                        "iteration": 926,
                        "learn": [
                          1.034456275
                        ],
                        "passed_time": 40.6852543,
                        "remaining_time": 3.203908915
                      },
                      {
                        "iteration": 927,
                        "learn": [
                          1.034406498
                        ],
                        "passed_time": 40.72087148,
                        "remaining_time": 3.15937796
                      },
                      {
                        "iteration": 928,
                        "learn": [
                          1.034360584
                        ],
                        "passed_time": 40.757109,
                        "remaining_time": 3.114913605
                      },
                      {
                        "iteration": 929,
                        "learn": [
                          1.034311653
                        ],
                        "passed_time": 40.79279425,
                        "remaining_time": 3.070425374
                      },
                      {
                        "iteration": 930,
                        "learn": [
                          1.034263617
                        ],
                        "passed_time": 40.82661207,
                        "remaining_time": 3.025817651
                      },
                      {
                        "iteration": 931,
                        "learn": [
                          1.034211129
                        ],
                        "passed_time": 40.86158968,
                        "remaining_time": 2.981317702
                      },
                      {
                        "iteration": 932,
                        "learn": [
                          1.034165419
                        ],
                        "passed_time": 40.93810938,
                        "remaining_time": 2.93982136
                      },
                      {
                        "iteration": 933,
                        "learn": [
                          1.034114436
                        ],
                        "passed_time": 40.9743305,
                        "remaining_time": 2.89540237
                      },
                      {
                        "iteration": 934,
                        "learn": [
                          1.0340665
                        ],
                        "passed_time": 41.00626963,
                        "remaining_time": 2.850703237
                      },
                      {
                        "iteration": 935,
                        "learn": [
                          1.0340203
                        ],
                        "passed_time": 41.04333284,
                        "remaining_time": 2.806381733
                      },
                      {
                        "iteration": 936,
                        "learn": [
                          1.033967756
                        ],
                        "passed_time": 41.07846559,
                        "remaining_time": 2.761945926
                      },
                      {
                        "iteration": 937,
                        "learn": [
                          1.033926482
                        ],
                        "passed_time": 41.11031056,
                        "remaining_time": 2.717312639
                      },
                      {
                        "iteration": 938,
                        "learn": [
                          1.033878658
                        ],
                        "passed_time": 41.144241,
                        "remaining_time": 2.672842067
                      },
                      {
                        "iteration": 939,
                        "learn": [
                          1.033826728
                        ],
                        "passed_time": 41.18069566,
                        "remaining_time": 2.628555042
                      },
                      {
                        "iteration": 940,
                        "learn": [
                          1.033782841
                        ],
                        "passed_time": 41.21021681,
                        "remaining_time": 2.583849938
                      },
                      {
                        "iteration": 941,
                        "learn": [
                          1.033739785
                        ],
                        "passed_time": 41.24402503,
                        "remaining_time": 2.539441031
                      },
                      {
                        "iteration": 942,
                        "learn": [
                          1.033688467
                        ],
                        "passed_time": 41.28764816,
                        "remaining_time": 2.495647874
                      },
                      {
                        "iteration": 943,
                        "learn": [
                          1.033638855
                        ],
                        "passed_time": 41.32495476,
                        "remaining_time": 2.451480367
                      },
                      {
                        "iteration": 944,
                        "learn": [
                          1.033592471
                        ],
                        "passed_time": 41.35882891,
                        "remaining_time": 2.407127608
                      },
                      {
                        "iteration": 945,
                        "learn": [
                          1.033539289
                        ],
                        "passed_time": 41.39710617,
                        "remaining_time": 2.363048344
                      },
                      {
                        "iteration": 946,
                        "learn": [
                          1.033489832
                        ],
                        "passed_time": 41.43334393,
                        "remaining_time": 2.318867189
                      },
                      {
                        "iteration": 947,
                        "learn": [
                          1.033441692
                        ],
                        "passed_time": 41.46912883,
                        "remaining_time": 2.274677953
                      },
                      {
                        "iteration": 948,
                        "learn": [
                          1.0333925
                        ],
                        "passed_time": 41.50489111,
                        "remaining_time": 2.230505212
                      },
                      {
                        "iteration": 949,
                        "learn": [
                          1.033341708
                        ],
                        "passed_time": 41.53919234,
                        "remaining_time": 2.186273281
                      },
                      {
                        "iteration": 950,
                        "learn": [
                          1.03329586
                        ],
                        "passed_time": 41.56668378,
                        "remaining_time": 2.141711362
                      },
                      {
                        "iteration": 951,
                        "learn": [
                          1.033272215
                        ],
                        "passed_time": 41.57357314,
                        "remaining_time": 2.096146545
                      },
                      {
                        "iteration": 952,
                        "learn": [
                          1.033223604
                        ],
                        "passed_time": 41.60544152,
                        "remaining_time": 2.051894808
                      },
                      {
                        "iteration": 953,
                        "learn": [
                          1.033176852
                        ],
                        "passed_time": 41.63881703,
                        "remaining_time": 2.007741702
                      },
                      {
                        "iteration": 954,
                        "learn": [
                          1.033122635
                        ],
                        "passed_time": 41.6718942,
                        "remaining_time": 1.963597109
                      },
                      {
                        "iteration": 955,
                        "learn": [
                          1.033077674
                        ],
                        "passed_time": 41.70249546,
                        "remaining_time": 1.919361716
                      },
                      {
                        "iteration": 956,
                        "learn": [
                          1.033028991
                        ],
                        "passed_time": 41.7364786,
                        "remaining_time": 1.875306771
                      },
                      {
                        "iteration": 957,
                        "learn": [
                          1.032981298
                        ],
                        "passed_time": 41.77027014,
                        "remaining_time": 1.831264453
                      },
                      {
                        "iteration": 958,
                        "learn": [
                          1.032926566
                        ],
                        "passed_time": 41.80525526,
                        "remaining_time": 1.787294542
                      },
                      {
                        "iteration": 959,
                        "learn": [
                          1.032875765
                        ],
                        "passed_time": 41.84346247,
                        "remaining_time": 1.743477603
                      },
                      {
                        "iteration": 960,
                        "learn": [
                          1.032822447
                        ],
                        "passed_time": 41.87460175,
                        "remaining_time": 1.699385503
                      },
                      {
                        "iteration": 961,
                        "learn": [
                          1.032780046
                        ],
                        "passed_time": 42.14779369,
                        "remaining_time": 1.664881664
                      },
                      {
                        "iteration": 962,
                        "learn": [
                          1.032732676
                        ],
                        "passed_time": 42.20943731,
                        "remaining_time": 1.621754082
                      },
                      {
                        "iteration": 963,
                        "learn": [
                          1.032689678
                        ],
                        "passed_time": 42.24772906,
                        "remaining_time": 1.577716023
                      },
                      {
                        "iteration": 964,
                        "learn": [
                          1.032645667
                        ],
                        "passed_time": 42.28088122,
                        "remaining_time": 1.533503464
                      },
                      {
                        "iteration": 965,
                        "learn": [
                          1.032597289
                        ],
                        "passed_time": 42.32436455,
                        "remaining_time": 1.489677427
                      },
                      {
                        "iteration": 966,
                        "learn": [
                          1.03255773
                        ],
                        "passed_time": 42.34749713,
                        "remaining_time": 1.445157606
                      },
                      {
                        "iteration": 967,
                        "learn": [
                          1.032507253
                        ],
                        "passed_time": 42.3807353,
                        "remaining_time": 1.401016043
                      },
                      {
                        "iteration": 968,
                        "learn": [
                          1.03245572
                        ],
                        "passed_time": 42.41322295,
                        "remaining_time": 1.356872974
                      },
                      {
                        "iteration": 969,
                        "learn": [
                          1.032418758
                        ],
                        "passed_time": 42.4295355,
                        "remaining_time": 1.312253675
                      },
                      {
                        "iteration": 970,
                        "learn": [
                          1.032364186
                        ],
                        "passed_time": 42.4617407,
                        "remaining_time": 1.268167333
                      },
                      {
                        "iteration": 971,
                        "learn": [
                          1.03231513
                        ],
                        "passed_time": 42.49247993,
                        "remaining_time": 1.224063208
                      },
                      {
                        "iteration": 972,
                        "learn": [
                          1.032264426
                        ],
                        "passed_time": 42.52902826,
                        "remaining_time": 1.180147752
                      },
                      {
                        "iteration": 973,
                        "learn": [
                          1.032216095
                        ],
                        "passed_time": 42.56183254,
                        "remaining_time": 1.136147481
                      },
                      {
                        "iteration": 974,
                        "learn": [
                          1.032171187
                        ],
                        "passed_time": 42.59297906,
                        "remaining_time": 1.092127668
                      },
                      {
                        "iteration": 975,
                        "learn": [
                          1.032119389
                        ],
                        "passed_time": 42.62626199,
                        "remaining_time": 1.04818677
                      },
                      {
                        "iteration": 976,
                        "learn": [
                          1.032066623
                        ],
                        "passed_time": 42.65801993,
                        "remaining_time": 1.004231789
                      },
                      {
                        "iteration": 977,
                        "learn": [
                          1.032021062
                        ],
                        "passed_time": 42.69217163,
                        "remaining_time": 0.9603555991
                      },
                      {
                        "iteration": 978,
                        "learn": [
                          1.031975212
                        ],
                        "passed_time": 42.71858423,
                        "remaining_time": 0.9163332674
                      },
                      {
                        "iteration": 979,
                        "learn": [
                          1.031927835
                        ],
                        "passed_time": 42.74670522,
                        "remaining_time": 0.8723817392
                      },
                      {
                        "iteration": 980,
                        "learn": [
                          1.03187744
                        ],
                        "passed_time": 42.78565873,
                        "remaining_time": 0.8286722894
                      },
                      {
                        "iteration": 981,
                        "learn": [
                          1.031830702
                        ],
                        "passed_time": 42.82088983,
                        "remaining_time": 0.7849042942
                      },
                      {
                        "iteration": 982,
                        "learn": [
                          1.031794057
                        ],
                        "passed_time": 42.83342738,
                        "remaining_time": 0.740761206
                      },
                      {
                        "iteration": 983,
                        "learn": [
                          1.031747865
                        ],
                        "passed_time": 42.86357222,
                        "remaining_time": 0.696968654
                      },
                      {
                        "iteration": 984,
                        "learn": [
                          1.031706873
                        ],
                        "passed_time": 42.87971355,
                        "remaining_time": 0.6529905617
                      },
                      {
                        "iteration": 985,
                        "learn": [
                          1.031669779
                        ],
                        "passed_time": 42.89045413,
                        "remaining_time": 0.6089922493
                      },
                      {
                        "iteration": 986,
                        "learn": [
                          1.031625134
                        ],
                        "passed_time": 42.92872872,
                        "remaining_time": 0.5654239851
                      },
                      {
                        "iteration": 987,
                        "learn": [
                          1.031577772
                        ],
                        "passed_time": 42.95814758,
                        "remaining_time": 0.5217588774
                      },
                      {
                        "iteration": 988,
                        "learn": [
                          1.031530822
                        ],
                        "passed_time": 42.99212217,
                        "remaining_time": 0.4781732496
                      },
                      {
                        "iteration": 989,
                        "learn": [
                          1.031483804
                        ],
                        "passed_time": 43.01741757,
                        "remaining_time": 0.4345193694
                      },
                      {
                        "iteration": 990,
                        "learn": [
                          1.031435728
                        ],
                        "passed_time": 43.04402283,
                        "remaining_time": 0.3909144354
                      },
                      {
                        "iteration": 991,
                        "learn": [
                          1.031389305
                        ],
                        "passed_time": 43.08070896,
                        "remaining_time": 0.3474250722
                      },
                      {
                        "iteration": 992,
                        "learn": [
                          1.031335768
                        ],
                        "passed_time": 43.11374638,
                        "remaining_time": 0.3039236905
                      },
                      {
                        "iteration": 993,
                        "learn": [
                          1.031292708
                        ],
                        "passed_time": 43.14400645,
                        "remaining_time": 0.2604265983
                      },
                      {
                        "iteration": 994,
                        "learn": [
                          1.031243451
                        ],
                        "passed_time": 43.21474005,
                        "remaining_time": 0.2171594977
                      },
                      {
                        "iteration": 995,
                        "learn": [
                          1.031196781
                        ],
                        "passed_time": 43.25954588,
                        "remaining_time": 0.173733116
                      },
                      {
                        "iteration": 996,
                        "learn": [
                          1.031146071
                        ],
                        "passed_time": 43.29680794,
                        "remaining_time": 0.1302812676
                      },
                      {
                        "iteration": 997,
                        "learn": [
                          1.031094198
                        ],
                        "passed_time": 43.34629984,
                        "remaining_time": 0.08686633234
                      },
                      {
                        "iteration": 998,
                        "learn": [
                          1.031050888
                        ],
                        "passed_time": 43.37996478,
                        "remaining_time": 0.04342338816
                      },
                      {
                        "iteration": 999,
                        "learn": [
                          1.031003898
                        ],
                        "passed_time": 43.4153035,
                        "remaining_time": 0
                      }
                    ],
                    "meta": {
                      "iteration_count": 1000,
                      "launch_mode": "Train",
                      "learn_metrics": [
                        {
                          "best_value": "Min",
                          "name": "MultiClass"
                        }
                      ],
                      "learn_sets": [
                        "learn"
                      ],
                      "name": "experiment",
                      "parameters": "",
                      "test_metrics": [],
                      "test_sets": []
                    }
                  },
                  "passed_iterations": 999,
                  "total_iterations": 1000
                },
                "name": "catboost_info",
                "path": "catboost_info"
              }
            },
            "layout": "IPY_MODEL_15740dbc32444b1e9ba57f2313d18dc5"
          }
        }
      }
    }
  },
  "nbformat": 4,
  "nbformat_minor": 5
}
