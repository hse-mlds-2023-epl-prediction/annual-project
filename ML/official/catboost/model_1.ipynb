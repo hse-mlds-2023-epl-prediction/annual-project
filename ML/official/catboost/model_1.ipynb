{
 "cells": [
  {
   "cell_type": "code",
   "execution_count": 172,
   "metadata": {},
   "outputs": [],
   "source": [
    "import pandas as pd\n",
    "from catboost import CatBoostClassifier, Pool\n",
    "from sklearn.metrics import roc_auc_score as auc, accuracy_score\n",
    "from sklearn.model_selection import GridSearchCV\n",
    "import seaborn as sns\n",
    "import matplotlib.pyplot as plt\n",
    "from tqdm import tqdm\n",
    "import pickle\n",
    "\n",
    "import numpy as np\n",
    "\n",
    "from func import rm_high_corr_feat"
   ]
  },
  {
   "cell_type": "markdown",
   "metadata": {},
   "source": [
    "# Model 1 - Агрегированные данные по командам"
   ]
  },
  {
   "cell_type": "code",
   "execution_count": 173,
   "metadata": {},
   "outputs": [],
   "source": [
    "df = pd.read_csv('../prepare_data/data/df_res.csv')"
   ]
  },
  {
   "cell_type": "code",
   "execution_count": 174,
   "metadata": {},
   "outputs": [],
   "source": [
    "df = df[df['gameweek_compSeason_label'] > 2019]"
   ]
  },
  {
   "cell_type": "code",
   "execution_count": 175,
   "metadata": {},
   "outputs": [
    {
     "data": {
      "text/plain": [
       "array(['Wolverhampton Wanderers', 'Tottenham Hotspur',\n",
       "       'Nottingham Forest', 'Manchester City', 'Liverpool', 'Fulham',\n",
       "       'Crystal Palace', 'Aston Villa', 'Newcastle United',\n",
       "       'Manchester United', 'Everton', 'Chelsea', 'Burnley', 'Brentford',\n",
       "       'Bournemouth', 'Arsenal', 'West Ham United', 'Sheffield United',\n",
       "       'Southampton', 'Leicester City', 'Leeds United', 'Norwich City',\n",
       "       'Watford', 'West Bromwich Albion'], dtype=object)"
      ]
     },
     "execution_count": 175,
     "metadata": {},
     "output_type": "execute_result"
    }
   ],
   "source": [
    "df['teams_team_1_name'].unique()"
   ]
  },
  {
   "cell_type": "code",
   "execution_count": 176,
   "metadata": {},
   "outputs": [
    {
     "data": {
      "text/html": [
       "<div>\n",
       "<style scoped>\n",
       "    .dataframe tbody tr th:only-of-type {\n",
       "        vertical-align: middle;\n",
       "    }\n",
       "\n",
       "    .dataframe tbody tr th {\n",
       "        vertical-align: top;\n",
       "    }\n",
       "\n",
       "    .dataframe thead th {\n",
       "        text-align: right;\n",
       "    }\n",
       "</style>\n",
       "<table border=\"1\" class=\"dataframe\">\n",
       "  <thead>\n",
       "    <tr style=\"text-align: right;\">\n",
       "      <th></th>\n",
       "      <th>gameweek_gameweek</th>\n",
       "      <th>gameweek_compSeason_label</th>\n",
       "      <th>teams_team_1_name</th>\n",
       "      <th>teams_team_2_name</th>\n",
       "      <th>ground_name</th>\n",
       "      <th>team_1_hue</th>\n",
       "      <th>_accurate_back_zone_pass_team_1</th>\n",
       "      <th>_accurate_chipped_pass_team_1</th>\n",
       "      <th>_accurate_corners_intobox_team_1</th>\n",
       "      <th>_accurate_cross_team_1</th>\n",
       "      <th>...</th>\n",
       "      <th>_total_through_ball_lag_team2</th>\n",
       "      <th>_total_throws_lag_team2</th>\n",
       "      <th>_total_yel_card_lag_team2</th>\n",
       "      <th>_touches_lag_team2</th>\n",
       "      <th>_touches_in_opp_box_lag_team2</th>\n",
       "      <th>_unsuccessful_touch_lag_team2</th>\n",
       "      <th>_wins_lag_team2</th>\n",
       "      <th>_won_contest_lag_team2</th>\n",
       "      <th>_won_corners_lag_team2</th>\n",
       "      <th>_won_tackle_lag_team2</th>\n",
       "    </tr>\n",
       "  </thead>\n",
       "  <tbody>\n",
       "    <tr>\n",
       "      <th>0</th>\n",
       "      <td>20</td>\n",
       "      <td>2023</td>\n",
       "      <td>Wolverhampton Wanderers</td>\n",
       "      <td>Everton</td>\n",
       "      <td>Molineux Stadium</td>\n",
       "      <td>1</td>\n",
       "      <td>7582.25</td>\n",
       "      <td>832.750000</td>\n",
       "      <td>43.750000</td>\n",
       "      <td>160.250000</td>\n",
       "      <td>...</td>\n",
       "      <td>39.0</td>\n",
       "      <td>707.0</td>\n",
       "      <td>79.0</td>\n",
       "      <td>21481.0</td>\n",
       "      <td>786.0</td>\n",
       "      <td>605.0</td>\n",
       "      <td>8.0</td>\n",
       "      <td>303.0</td>\n",
       "      <td>175.0</td>\n",
       "      <td>424.0</td>\n",
       "    </tr>\n",
       "    <tr>\n",
       "      <th>1</th>\n",
       "      <td>20</td>\n",
       "      <td>2023</td>\n",
       "      <td>Tottenham Hotspur</td>\n",
       "      <td>Bournemouth</td>\n",
       "      <td>Tottenham Hotspur Stadium</td>\n",
       "      <td>1</td>\n",
       "      <td>8308.50</td>\n",
       "      <td>685.500000</td>\n",
       "      <td>41.750000</td>\n",
       "      <td>140.500000</td>\n",
       "      <td>...</td>\n",
       "      <td>49.0</td>\n",
       "      <td>706.0</td>\n",
       "      <td>69.0</td>\n",
       "      <td>21201.0</td>\n",
       "      <td>743.0</td>\n",
       "      <td>588.0</td>\n",
       "      <td>11.0</td>\n",
       "      <td>320.0</td>\n",
       "      <td>144.0</td>\n",
       "      <td>371.0</td>\n",
       "    </tr>\n",
       "    <tr>\n",
       "      <th>2</th>\n",
       "      <td>20</td>\n",
       "      <td>2023</td>\n",
       "      <td>Nottingham Forest</td>\n",
       "      <td>Manchester United</td>\n",
       "      <td>The City Ground</td>\n",
       "      <td>1</td>\n",
       "      <td>5016.00</td>\n",
       "      <td>601.000000</td>\n",
       "      <td>29.000000</td>\n",
       "      <td>104.000000</td>\n",
       "      <td>...</td>\n",
       "      <td>105.0</td>\n",
       "      <td>715.0</td>\n",
       "      <td>78.0</td>\n",
       "      <td>25964.0</td>\n",
       "      <td>1093.0</td>\n",
       "      <td>497.0</td>\n",
       "      <td>23.0</td>\n",
       "      <td>319.0</td>\n",
       "      <td>195.0</td>\n",
       "      <td>400.0</td>\n",
       "    </tr>\n",
       "    <tr>\n",
       "      <th>3</th>\n",
       "      <td>20</td>\n",
       "      <td>2023</td>\n",
       "      <td>Manchester City</td>\n",
       "      <td>Sheffield United</td>\n",
       "      <td>Etihad Stadium</td>\n",
       "      <td>1</td>\n",
       "      <td>10041.25</td>\n",
       "      <td>918.750000</td>\n",
       "      <td>65.750000</td>\n",
       "      <td>168.500000</td>\n",
       "      <td>...</td>\n",
       "      <td>NaN</td>\n",
       "      <td>NaN</td>\n",
       "      <td>NaN</td>\n",
       "      <td>NaN</td>\n",
       "      <td>NaN</td>\n",
       "      <td>NaN</td>\n",
       "      <td>NaN</td>\n",
       "      <td>NaN</td>\n",
       "      <td>NaN</td>\n",
       "      <td>NaN</td>\n",
       "    </tr>\n",
       "    <tr>\n",
       "      <th>4</th>\n",
       "      <td>20</td>\n",
       "      <td>2023</td>\n",
       "      <td>Liverpool</td>\n",
       "      <td>Newcastle United</td>\n",
       "      <td>Anfield</td>\n",
       "      <td>1</td>\n",
       "      <td>9401.25</td>\n",
       "      <td>967.750000</td>\n",
       "      <td>64.250000</td>\n",
       "      <td>195.500000</td>\n",
       "      <td>...</td>\n",
       "      <td>88.0</td>\n",
       "      <td>728.0</td>\n",
       "      <td>62.0</td>\n",
       "      <td>23410.0</td>\n",
       "      <td>1223.0</td>\n",
       "      <td>576.0</td>\n",
       "      <td>19.0</td>\n",
       "      <td>349.0</td>\n",
       "      <td>270.0</td>\n",
       "      <td>360.0</td>\n",
       "    </tr>\n",
       "    <tr>\n",
       "      <th>...</th>\n",
       "      <td>...</td>\n",
       "      <td>...</td>\n",
       "      <td>...</td>\n",
       "      <td>...</td>\n",
       "      <td>...</td>\n",
       "      <td>...</td>\n",
       "      <td>...</td>\n",
       "      <td>...</td>\n",
       "      <td>...</td>\n",
       "      <td>...</td>\n",
       "      <td>...</td>\n",
       "      <td>...</td>\n",
       "      <td>...</td>\n",
       "      <td>...</td>\n",
       "      <td>...</td>\n",
       "      <td>...</td>\n",
       "      <td>...</td>\n",
       "      <td>...</td>\n",
       "      <td>...</td>\n",
       "      <td>...</td>\n",
       "      <td>...</td>\n",
       "    </tr>\n",
       "    <tr>\n",
       "      <th>1181</th>\n",
       "      <td>19</td>\n",
       "      <td>2020</td>\n",
       "      <td>Manchester City</td>\n",
       "      <td>Aston Villa</td>\n",
       "      <td>Etihad Stadium</td>\n",
       "      <td>1</td>\n",
       "      <td>10041.25</td>\n",
       "      <td>918.750000</td>\n",
       "      <td>65.750000</td>\n",
       "      <td>168.500000</td>\n",
       "      <td>...</td>\n",
       "      <td>17.0</td>\n",
       "      <td>797.0</td>\n",
       "      <td>68.0</td>\n",
       "      <td>21368.0</td>\n",
       "      <td>726.0</td>\n",
       "      <td>546.0</td>\n",
       "      <td>9.0</td>\n",
       "      <td>352.0</td>\n",
       "      <td>201.0</td>\n",
       "      <td>291.0</td>\n",
       "    </tr>\n",
       "    <tr>\n",
       "      <th>1182</th>\n",
       "      <td>1</td>\n",
       "      <td>2020</td>\n",
       "      <td>Liverpool</td>\n",
       "      <td>Leeds United</td>\n",
       "      <td>Anfield</td>\n",
       "      <td>1</td>\n",
       "      <td>9401.25</td>\n",
       "      <td>967.750000</td>\n",
       "      <td>64.250000</td>\n",
       "      <td>195.500000</td>\n",
       "      <td>...</td>\n",
       "      <td>NaN</td>\n",
       "      <td>NaN</td>\n",
       "      <td>NaN</td>\n",
       "      <td>NaN</td>\n",
       "      <td>NaN</td>\n",
       "      <td>NaN</td>\n",
       "      <td>NaN</td>\n",
       "      <td>NaN</td>\n",
       "      <td>NaN</td>\n",
       "      <td>NaN</td>\n",
       "    </tr>\n",
       "    <tr>\n",
       "      <th>1183</th>\n",
       "      <td>1</td>\n",
       "      <td>2020</td>\n",
       "      <td>Fulham</td>\n",
       "      <td>Arsenal</td>\n",
       "      <td>Craven Cottage</td>\n",
       "      <td>0</td>\n",
       "      <td>7339.00</td>\n",
       "      <td>670.000000</td>\n",
       "      <td>53.000000</td>\n",
       "      <td>181.500000</td>\n",
       "      <td>...</td>\n",
       "      <td>67.0</td>\n",
       "      <td>756.0</td>\n",
       "      <td>86.0</td>\n",
       "      <td>25916.0</td>\n",
       "      <td>876.0</td>\n",
       "      <td>547.0</td>\n",
       "      <td>14.0</td>\n",
       "      <td>411.0</td>\n",
       "      <td>232.0</td>\n",
       "      <td>336.0</td>\n",
       "    </tr>\n",
       "    <tr>\n",
       "      <th>1184</th>\n",
       "      <td>1</td>\n",
       "      <td>2020</td>\n",
       "      <td>Crystal Palace</td>\n",
       "      <td>Southampton</td>\n",
       "      <td>Selhurst Park</td>\n",
       "      <td>1</td>\n",
       "      <td>6535.25</td>\n",
       "      <td>618.500000</td>\n",
       "      <td>46.000000</td>\n",
       "      <td>141.000000</td>\n",
       "      <td>...</td>\n",
       "      <td>27.0</td>\n",
       "      <td>950.0</td>\n",
       "      <td>53.0</td>\n",
       "      <td>23611.0</td>\n",
       "      <td>879.0</td>\n",
       "      <td>654.0</td>\n",
       "      <td>15.0</td>\n",
       "      <td>423.0</td>\n",
       "      <td>210.0</td>\n",
       "      <td>416.0</td>\n",
       "    </tr>\n",
       "    <tr>\n",
       "      <th>1185</th>\n",
       "      <td>18</td>\n",
       "      <td>2020</td>\n",
       "      <td>Burnley</td>\n",
       "      <td>Manchester United</td>\n",
       "      <td>Turf Moor</td>\n",
       "      <td>0</td>\n",
       "      <td>4121.00</td>\n",
       "      <td>636.666667</td>\n",
       "      <td>46.333333</td>\n",
       "      <td>165.333333</td>\n",
       "      <td>...</td>\n",
       "      <td>64.0</td>\n",
       "      <td>822.0</td>\n",
       "      <td>73.0</td>\n",
       "      <td>27360.0</td>\n",
       "      <td>965.0</td>\n",
       "      <td>559.0</td>\n",
       "      <td>18.0</td>\n",
       "      <td>447.0</td>\n",
       "      <td>204.0</td>\n",
       "      <td>333.0</td>\n",
       "    </tr>\n",
       "  </tbody>\n",
       "</table>\n",
       "<p>1186 rows × 846 columns</p>\n",
       "</div>"
      ],
      "text/plain": [
       "      gameweek_gameweek  gameweek_compSeason_label        teams_team_1_name  \\\n",
       "0                    20                       2023  Wolverhampton Wanderers   \n",
       "1                    20                       2023        Tottenham Hotspur   \n",
       "2                    20                       2023        Nottingham Forest   \n",
       "3                    20                       2023          Manchester City   \n",
       "4                    20                       2023                Liverpool   \n",
       "...                 ...                        ...                      ...   \n",
       "1181                 19                       2020          Manchester City   \n",
       "1182                  1                       2020                Liverpool   \n",
       "1183                  1                       2020                   Fulham   \n",
       "1184                  1                       2020           Crystal Palace   \n",
       "1185                 18                       2020                  Burnley   \n",
       "\n",
       "      teams_team_2_name                ground_name  team_1_hue  \\\n",
       "0               Everton           Molineux Stadium           1   \n",
       "1           Bournemouth  Tottenham Hotspur Stadium           1   \n",
       "2     Manchester United            The City Ground           1   \n",
       "3      Sheffield United             Etihad Stadium           1   \n",
       "4      Newcastle United                    Anfield           1   \n",
       "...                 ...                        ...         ...   \n",
       "1181        Aston Villa             Etihad Stadium           1   \n",
       "1182       Leeds United                    Anfield           1   \n",
       "1183            Arsenal             Craven Cottage           0   \n",
       "1184        Southampton              Selhurst Park           1   \n",
       "1185  Manchester United                  Turf Moor           0   \n",
       "\n",
       "      _accurate_back_zone_pass_team_1  _accurate_chipped_pass_team_1  \\\n",
       "0                             7582.25                     832.750000   \n",
       "1                             8308.50                     685.500000   \n",
       "2                             5016.00                     601.000000   \n",
       "3                            10041.25                     918.750000   \n",
       "4                             9401.25                     967.750000   \n",
       "...                               ...                            ...   \n",
       "1181                         10041.25                     918.750000   \n",
       "1182                          9401.25                     967.750000   \n",
       "1183                          7339.00                     670.000000   \n",
       "1184                          6535.25                     618.500000   \n",
       "1185                          4121.00                     636.666667   \n",
       "\n",
       "      _accurate_corners_intobox_team_1  _accurate_cross_team_1  ...  \\\n",
       "0                            43.750000              160.250000  ...   \n",
       "1                            41.750000              140.500000  ...   \n",
       "2                            29.000000              104.000000  ...   \n",
       "3                            65.750000              168.500000  ...   \n",
       "4                            64.250000              195.500000  ...   \n",
       "...                                ...                     ...  ...   \n",
       "1181                         65.750000              168.500000  ...   \n",
       "1182                         64.250000              195.500000  ...   \n",
       "1183                         53.000000              181.500000  ...   \n",
       "1184                         46.000000              141.000000  ...   \n",
       "1185                         46.333333              165.333333  ...   \n",
       "\n",
       "      _total_through_ball_lag_team2  _total_throws_lag_team2  \\\n",
       "0                              39.0                    707.0   \n",
       "1                              49.0                    706.0   \n",
       "2                             105.0                    715.0   \n",
       "3                               NaN                      NaN   \n",
       "4                              88.0                    728.0   \n",
       "...                             ...                      ...   \n",
       "1181                           17.0                    797.0   \n",
       "1182                            NaN                      NaN   \n",
       "1183                           67.0                    756.0   \n",
       "1184                           27.0                    950.0   \n",
       "1185                           64.0                    822.0   \n",
       "\n",
       "      _total_yel_card_lag_team2  _touches_lag_team2  \\\n",
       "0                          79.0             21481.0   \n",
       "1                          69.0             21201.0   \n",
       "2                          78.0             25964.0   \n",
       "3                           NaN                 NaN   \n",
       "4                          62.0             23410.0   \n",
       "...                         ...                 ...   \n",
       "1181                       68.0             21368.0   \n",
       "1182                        NaN                 NaN   \n",
       "1183                       86.0             25916.0   \n",
       "1184                       53.0             23611.0   \n",
       "1185                       73.0             27360.0   \n",
       "\n",
       "      _touches_in_opp_box_lag_team2  _unsuccessful_touch_lag_team2  \\\n",
       "0                             786.0                          605.0   \n",
       "1                             743.0                          588.0   \n",
       "2                            1093.0                          497.0   \n",
       "3                               NaN                            NaN   \n",
       "4                            1223.0                          576.0   \n",
       "...                             ...                            ...   \n",
       "1181                          726.0                          546.0   \n",
       "1182                            NaN                            NaN   \n",
       "1183                          876.0                          547.0   \n",
       "1184                          879.0                          654.0   \n",
       "1185                          965.0                          559.0   \n",
       "\n",
       "      _wins_lag_team2  _won_contest_lag_team2  _won_corners_lag_team2  \\\n",
       "0                 8.0                   303.0                   175.0   \n",
       "1                11.0                   320.0                   144.0   \n",
       "2                23.0                   319.0                   195.0   \n",
       "3                 NaN                     NaN                     NaN   \n",
       "4                19.0                   349.0                   270.0   \n",
       "...               ...                     ...                     ...   \n",
       "1181              9.0                   352.0                   201.0   \n",
       "1182              NaN                     NaN                     NaN   \n",
       "1183             14.0                   411.0                   232.0   \n",
       "1184             15.0                   423.0                   210.0   \n",
       "1185             18.0                   447.0                   204.0   \n",
       "\n",
       "      _won_tackle_lag_team2  \n",
       "0                     424.0  \n",
       "1                     371.0  \n",
       "2                     400.0  \n",
       "3                       NaN  \n",
       "4                     360.0  \n",
       "...                     ...  \n",
       "1181                  291.0  \n",
       "1182                    NaN  \n",
       "1183                  336.0  \n",
       "1184                  416.0  \n",
       "1185                  333.0  \n",
       "\n",
       "[1186 rows x 846 columns]"
      ]
     },
     "execution_count": 176,
     "metadata": {},
     "output_type": "execute_result"
    }
   ],
   "source": [
    "df"
   ]
  },
  {
   "cell_type": "code",
   "execution_count": 177,
   "metadata": {},
   "outputs": [],
   "source": [
    "n = 250\n",
    "\n",
    "train = df.iloc[n:, :]\n",
    "val = df.iloc[:n, :]\n",
    "\n",
    "y_train = train['team_1_hue']\n",
    "x_train = train.drop('team_1_hue', axis=1)\n",
    "\n",
    "y_val = val['team_1_hue']\n",
    "x_val = val.drop('team_1_hue', axis=1)"
   ]
  },
  {
   "cell_type": "code",
   "execution_count": 178,
   "metadata": {},
   "outputs": [],
   "source": [
    "cat = ['gameweek_gameweek',\t'gameweek_compSeason_label', 'teams_team_1_name', 'teams_team_2_name', 'ground_name']"
   ]
  },
  {
   "cell_type": "code",
   "execution_count": 179,
   "metadata": {},
   "outputs": [],
   "source": [
    "model_1 = CatBoostClassifier()\n"
   ]
  },
  {
   "cell_type": "code",
   "execution_count": 180,
   "metadata": {},
   "outputs": [
    {
     "data": {
      "text/plain": [
       "<catboost.core.CatBoostClassifier at 0x7f7b0279a7d0>"
      ]
     },
     "execution_count": 180,
     "metadata": {},
     "output_type": "execute_result"
    }
   ],
   "source": [
    "model_1.fit(x_train, y_train, cat_features=cat, verbose=False)\n"
   ]
  },
  {
   "cell_type": "code",
   "execution_count": 181,
   "metadata": {},
   "outputs": [],
   "source": [
    "pred = model_1.predict(x_val)\n",
    "pred_proba = model_1.predict_proba(x_val)\n",
    "y_val = y_val.to_numpy().reshape(-1, 1)"
   ]
  },
  {
   "cell_type": "code",
   "execution_count": 182,
   "metadata": {},
   "outputs": [],
   "source": [
    "pred = np.concatenate((y_val, pred, pred_proba), axis=1)\n",
    "df_pred = pd.DataFrame(pred, columns=['true', 'pred', '0_prob', '1_prob', '2_prob'])"
   ]
  },
  {
   "cell_type": "code",
   "execution_count": 183,
   "metadata": {},
   "outputs": [
    {
     "data": {
      "text/html": [
       "<div>\n",
       "<style scoped>\n",
       "    .dataframe tbody tr th:only-of-type {\n",
       "        vertical-align: middle;\n",
       "    }\n",
       "\n",
       "    .dataframe tbody tr th {\n",
       "        vertical-align: top;\n",
       "    }\n",
       "\n",
       "    .dataframe thead th {\n",
       "        text-align: right;\n",
       "    }\n",
       "</style>\n",
       "<table border=\"1\" class=\"dataframe\">\n",
       "  <thead>\n",
       "    <tr style=\"text-align: right;\">\n",
       "      <th></th>\n",
       "      <th>true</th>\n",
       "      <th>pred</th>\n",
       "      <th>0_prob</th>\n",
       "      <th>1_prob</th>\n",
       "      <th>2_prob</th>\n",
       "      <th>error</th>\n",
       "    </tr>\n",
       "  </thead>\n",
       "  <tbody>\n",
       "    <tr>\n",
       "      <th>0</th>\n",
       "      <td>1.0</td>\n",
       "      <td>1.0</td>\n",
       "      <td>0.183982</td>\n",
       "      <td>0.470830</td>\n",
       "      <td>0.345188</td>\n",
       "      <td>0</td>\n",
       "    </tr>\n",
       "    <tr>\n",
       "      <th>1</th>\n",
       "      <td>1.0</td>\n",
       "      <td>1.0</td>\n",
       "      <td>0.035249</td>\n",
       "      <td>0.902937</td>\n",
       "      <td>0.061814</td>\n",
       "      <td>0</td>\n",
       "    </tr>\n",
       "    <tr>\n",
       "      <th>2</th>\n",
       "      <td>1.0</td>\n",
       "      <td>0.0</td>\n",
       "      <td>0.489150</td>\n",
       "      <td>0.135777</td>\n",
       "      <td>0.375074</td>\n",
       "      <td>1</td>\n",
       "    </tr>\n",
       "    <tr>\n",
       "      <th>3</th>\n",
       "      <td>1.0</td>\n",
       "      <td>1.0</td>\n",
       "      <td>0.027990</td>\n",
       "      <td>0.930870</td>\n",
       "      <td>0.041140</td>\n",
       "      <td>0</td>\n",
       "    </tr>\n",
       "    <tr>\n",
       "      <th>4</th>\n",
       "      <td>1.0</td>\n",
       "      <td>1.0</td>\n",
       "      <td>0.082705</td>\n",
       "      <td>0.656125</td>\n",
       "      <td>0.261170</td>\n",
       "      <td>0</td>\n",
       "    </tr>\n",
       "  </tbody>\n",
       "</table>\n",
       "</div>"
      ],
      "text/plain": [
       "   true  pred    0_prob    1_prob    2_prob  error\n",
       "0   1.0   1.0  0.183982  0.470830  0.345188      0\n",
       "1   1.0   1.0  0.035249  0.902937  0.061814      0\n",
       "2   1.0   0.0  0.489150  0.135777  0.375074      1\n",
       "3   1.0   1.0  0.027990  0.930870  0.041140      0\n",
       "4   1.0   1.0  0.082705  0.656125  0.261170      0"
      ]
     },
     "execution_count": 183,
     "metadata": {},
     "output_type": "execute_result"
    }
   ],
   "source": [
    "df_pred['error'] = np.where(df_pred['true']==df_pred['pred'], 0, 1)\n",
    "\n",
    "df_pred.head()"
   ]
  },
  {
   "cell_type": "code",
   "execution_count": 184,
   "metadata": {},
   "outputs": [
    {
     "data": {
      "text/plain": [
       "110"
      ]
     },
     "execution_count": 184,
     "metadata": {},
     "output_type": "execute_result"
    }
   ],
   "source": [
    "df_pred['error'].sum()"
   ]
  },
  {
   "cell_type": "code",
   "execution_count": 185,
   "metadata": {},
   "outputs": [
    {
     "data": {
      "text/plain": [
       "(250, 6)"
      ]
     },
     "execution_count": 185,
     "metadata": {},
     "output_type": "execute_result"
    }
   ],
   "source": [
    "df_pred.shape"
   ]
  },
  {
   "cell_type": "code",
   "execution_count": 186,
   "metadata": {},
   "outputs": [
    {
     "data": {
      "text/plain": [
       "0.56"
      ]
     },
     "execution_count": 186,
     "metadata": {},
     "output_type": "execute_result"
    }
   ],
   "source": [
    "accuracy_score(df_pred['true'], df_pred['pred'])"
   ]
  },
  {
   "cell_type": "markdown",
   "metadata": {},
   "source": [
    "# Модели на датасетах с отбором признаков "
   ]
  },
  {
   "cell_type": "code",
   "execution_count": 187,
   "metadata": {},
   "outputs": [],
   "source": [
    "thrs = [i/100 for i in range(100, 10, -5)] # Список значений корреляций для удаления признаков"
   ]
  },
  {
   "cell_type": "code",
   "execution_count": 188,
   "metadata": {},
   "outputs": [
    {
     "data": {
      "text/html": [
       "<div>\n",
       "<style scoped>\n",
       "    .dataframe tbody tr th:only-of-type {\n",
       "        vertical-align: middle;\n",
       "    }\n",
       "\n",
       "    .dataframe tbody tr th {\n",
       "        vertical-align: top;\n",
       "    }\n",
       "\n",
       "    .dataframe thead th {\n",
       "        text-align: right;\n",
       "    }\n",
       "</style>\n",
       "<table border=\"1\" class=\"dataframe\">\n",
       "  <thead>\n",
       "    <tr style=\"text-align: right;\">\n",
       "      <th></th>\n",
       "      <th>gameweek_gameweek</th>\n",
       "      <th>gameweek_compSeason_label</th>\n",
       "      <th>teams_team_1_name</th>\n",
       "      <th>teams_team_2_name</th>\n",
       "      <th>ground_name</th>\n",
       "      <th>_accurate_back_zone_pass_team_1</th>\n",
       "      <th>_accurate_chipped_pass_team_1</th>\n",
       "      <th>_accurate_corners_intobox_team_1</th>\n",
       "      <th>_accurate_cross_team_1</th>\n",
       "      <th>_accurate_cross_nocorner_team_1</th>\n",
       "      <th>...</th>\n",
       "      <th>_total_through_ball_lag_team2</th>\n",
       "      <th>_total_throws_lag_team2</th>\n",
       "      <th>_total_yel_card_lag_team2</th>\n",
       "      <th>_touches_lag_team2</th>\n",
       "      <th>_touches_in_opp_box_lag_team2</th>\n",
       "      <th>_unsuccessful_touch_lag_team2</th>\n",
       "      <th>_wins_lag_team2</th>\n",
       "      <th>_won_contest_lag_team2</th>\n",
       "      <th>_won_corners_lag_team2</th>\n",
       "      <th>_won_tackle_lag_team2</th>\n",
       "    </tr>\n",
       "  </thead>\n",
       "  <tbody>\n",
       "    <tr>\n",
       "      <th>250</th>\n",
       "      <td>28</td>\n",
       "      <td>2022</td>\n",
       "      <td>Wolverhampton Wanderers</td>\n",
       "      <td>Leeds United</td>\n",
       "      <td>Molineux Stadium</td>\n",
       "      <td>7582.25</td>\n",
       "      <td>832.750000</td>\n",
       "      <td>43.750000</td>\n",
       "      <td>160.250000</td>\n",
       "      <td>118.250000</td>\n",
       "      <td>...</td>\n",
       "      <td>66.0</td>\n",
       "      <td>798.0</td>\n",
       "      <td>101.0</td>\n",
       "      <td>24043.0</td>\n",
       "      <td>836.0</td>\n",
       "      <td>676.0</td>\n",
       "      <td>9.0</td>\n",
       "      <td>339.0</td>\n",
       "      <td>171.0</td>\n",
       "      <td>436.0</td>\n",
       "    </tr>\n",
       "    <tr>\n",
       "      <th>251</th>\n",
       "      <td>28</td>\n",
       "      <td>2022</td>\n",
       "      <td>Southampton</td>\n",
       "      <td>Tottenham Hotspur</td>\n",
       "      <td>St. Mary's Stadium</td>\n",
       "      <td>6161.75</td>\n",
       "      <td>605.750000</td>\n",
       "      <td>46.000000</td>\n",
       "      <td>139.500000</td>\n",
       "      <td>94.500000</td>\n",
       "      <td>...</td>\n",
       "      <td>88.0</td>\n",
       "      <td>676.0</td>\n",
       "      <td>67.0</td>\n",
       "      <td>26225.0</td>\n",
       "      <td>927.0</td>\n",
       "      <td>588.0</td>\n",
       "      <td>22.0</td>\n",
       "      <td>375.0</td>\n",
       "      <td>195.0</td>\n",
       "      <td>349.0</td>\n",
       "    </tr>\n",
       "    <tr>\n",
       "      <th>252</th>\n",
       "      <td>28</td>\n",
       "      <td>2022</td>\n",
       "      <td>Nottingham Forest</td>\n",
       "      <td>Newcastle United</td>\n",
       "      <td>The City Ground</td>\n",
       "      <td>5016.00</td>\n",
       "      <td>601.000000</td>\n",
       "      <td>29.000000</td>\n",
       "      <td>104.000000</td>\n",
       "      <td>76.000000</td>\n",
       "      <td>...</td>\n",
       "      <td>31.0</td>\n",
       "      <td>743.0</td>\n",
       "      <td>79.0</td>\n",
       "      <td>19609.0</td>\n",
       "      <td>788.0</td>\n",
       "      <td>622.0</td>\n",
       "      <td>13.0</td>\n",
       "      <td>359.0</td>\n",
       "      <td>160.0</td>\n",
       "      <td>383.0</td>\n",
       "    </tr>\n",
       "    <tr>\n",
       "      <th>253</th>\n",
       "      <td>34</td>\n",
       "      <td>2022</td>\n",
       "      <td>Manchester City</td>\n",
       "      <td>West Ham United</td>\n",
       "      <td>Etihad Stadium</td>\n",
       "      <td>10041.25</td>\n",
       "      <td>918.750000</td>\n",
       "      <td>65.750000</td>\n",
       "      <td>168.500000</td>\n",
       "      <td>112.000000</td>\n",
       "      <td>...</td>\n",
       "      <td>29.0</td>\n",
       "      <td>770.0</td>\n",
       "      <td>47.0</td>\n",
       "      <td>23444.0</td>\n",
       "      <td>871.0</td>\n",
       "      <td>521.0</td>\n",
       "      <td>16.0</td>\n",
       "      <td>306.0</td>\n",
       "      <td>201.0</td>\n",
       "      <td>301.0</td>\n",
       "    </tr>\n",
       "    <tr>\n",
       "      <th>254</th>\n",
       "      <td>34</td>\n",
       "      <td>2022</td>\n",
       "      <td>Liverpool</td>\n",
       "      <td>Fulham</td>\n",
       "      <td>Anfield</td>\n",
       "      <td>9401.25</td>\n",
       "      <td>967.750000</td>\n",
       "      <td>64.250000</td>\n",
       "      <td>195.500000</td>\n",
       "      <td>132.000000</td>\n",
       "      <td>...</td>\n",
       "      <td>NaN</td>\n",
       "      <td>NaN</td>\n",
       "      <td>NaN</td>\n",
       "      <td>NaN</td>\n",
       "      <td>NaN</td>\n",
       "      <td>NaN</td>\n",
       "      <td>NaN</td>\n",
       "      <td>NaN</td>\n",
       "      <td>NaN</td>\n",
       "      <td>NaN</td>\n",
       "    </tr>\n",
       "    <tr>\n",
       "      <th>...</th>\n",
       "      <td>...</td>\n",
       "      <td>...</td>\n",
       "      <td>...</td>\n",
       "      <td>...</td>\n",
       "      <td>...</td>\n",
       "      <td>...</td>\n",
       "      <td>...</td>\n",
       "      <td>...</td>\n",
       "      <td>...</td>\n",
       "      <td>...</td>\n",
       "      <td>...</td>\n",
       "      <td>...</td>\n",
       "      <td>...</td>\n",
       "      <td>...</td>\n",
       "      <td>...</td>\n",
       "      <td>...</td>\n",
       "      <td>...</td>\n",
       "      <td>...</td>\n",
       "      <td>...</td>\n",
       "      <td>...</td>\n",
       "      <td>...</td>\n",
       "    </tr>\n",
       "    <tr>\n",
       "      <th>1181</th>\n",
       "      <td>19</td>\n",
       "      <td>2020</td>\n",
       "      <td>Manchester City</td>\n",
       "      <td>Aston Villa</td>\n",
       "      <td>Etihad Stadium</td>\n",
       "      <td>10041.25</td>\n",
       "      <td>918.750000</td>\n",
       "      <td>65.750000</td>\n",
       "      <td>168.500000</td>\n",
       "      <td>112.000000</td>\n",
       "      <td>...</td>\n",
       "      <td>17.0</td>\n",
       "      <td>797.0</td>\n",
       "      <td>68.0</td>\n",
       "      <td>21368.0</td>\n",
       "      <td>726.0</td>\n",
       "      <td>546.0</td>\n",
       "      <td>9.0</td>\n",
       "      <td>352.0</td>\n",
       "      <td>201.0</td>\n",
       "      <td>291.0</td>\n",
       "    </tr>\n",
       "    <tr>\n",
       "      <th>1182</th>\n",
       "      <td>1</td>\n",
       "      <td>2020</td>\n",
       "      <td>Liverpool</td>\n",
       "      <td>Leeds United</td>\n",
       "      <td>Anfield</td>\n",
       "      <td>9401.25</td>\n",
       "      <td>967.750000</td>\n",
       "      <td>64.250000</td>\n",
       "      <td>195.500000</td>\n",
       "      <td>132.000000</td>\n",
       "      <td>...</td>\n",
       "      <td>NaN</td>\n",
       "      <td>NaN</td>\n",
       "      <td>NaN</td>\n",
       "      <td>NaN</td>\n",
       "      <td>NaN</td>\n",
       "      <td>NaN</td>\n",
       "      <td>NaN</td>\n",
       "      <td>NaN</td>\n",
       "      <td>NaN</td>\n",
       "      <td>NaN</td>\n",
       "    </tr>\n",
       "    <tr>\n",
       "      <th>1183</th>\n",
       "      <td>1</td>\n",
       "      <td>2020</td>\n",
       "      <td>Fulham</td>\n",
       "      <td>Arsenal</td>\n",
       "      <td>Craven Cottage</td>\n",
       "      <td>7339.00</td>\n",
       "      <td>670.000000</td>\n",
       "      <td>53.000000</td>\n",
       "      <td>181.500000</td>\n",
       "      <td>132.500000</td>\n",
       "      <td>...</td>\n",
       "      <td>67.0</td>\n",
       "      <td>756.0</td>\n",
       "      <td>86.0</td>\n",
       "      <td>25916.0</td>\n",
       "      <td>876.0</td>\n",
       "      <td>547.0</td>\n",
       "      <td>14.0</td>\n",
       "      <td>411.0</td>\n",
       "      <td>232.0</td>\n",
       "      <td>336.0</td>\n",
       "    </tr>\n",
       "    <tr>\n",
       "      <th>1184</th>\n",
       "      <td>1</td>\n",
       "      <td>2020</td>\n",
       "      <td>Crystal Palace</td>\n",
       "      <td>Southampton</td>\n",
       "      <td>Selhurst Park</td>\n",
       "      <td>6535.25</td>\n",
       "      <td>618.500000</td>\n",
       "      <td>46.000000</td>\n",
       "      <td>141.000000</td>\n",
       "      <td>96.250000</td>\n",
       "      <td>...</td>\n",
       "      <td>27.0</td>\n",
       "      <td>950.0</td>\n",
       "      <td>53.0</td>\n",
       "      <td>23611.0</td>\n",
       "      <td>879.0</td>\n",
       "      <td>654.0</td>\n",
       "      <td>15.0</td>\n",
       "      <td>423.0</td>\n",
       "      <td>210.0</td>\n",
       "      <td>416.0</td>\n",
       "    </tr>\n",
       "    <tr>\n",
       "      <th>1185</th>\n",
       "      <td>18</td>\n",
       "      <td>2020</td>\n",
       "      <td>Burnley</td>\n",
       "      <td>Manchester United</td>\n",
       "      <td>Turf Moor</td>\n",
       "      <td>4121.00</td>\n",
       "      <td>636.666667</td>\n",
       "      <td>46.333333</td>\n",
       "      <td>165.333333</td>\n",
       "      <td>120.666667</td>\n",
       "      <td>...</td>\n",
       "      <td>64.0</td>\n",
       "      <td>822.0</td>\n",
       "      <td>73.0</td>\n",
       "      <td>27360.0</td>\n",
       "      <td>965.0</td>\n",
       "      <td>559.0</td>\n",
       "      <td>18.0</td>\n",
       "      <td>447.0</td>\n",
       "      <td>204.0</td>\n",
       "      <td>333.0</td>\n",
       "    </tr>\n",
       "  </tbody>\n",
       "</table>\n",
       "<p>936 rows × 845 columns</p>\n",
       "</div>"
      ],
      "text/plain": [
       "      gameweek_gameweek  gameweek_compSeason_label        teams_team_1_name  \\\n",
       "250                  28                       2022  Wolverhampton Wanderers   \n",
       "251                  28                       2022              Southampton   \n",
       "252                  28                       2022        Nottingham Forest   \n",
       "253                  34                       2022          Manchester City   \n",
       "254                  34                       2022                Liverpool   \n",
       "...                 ...                        ...                      ...   \n",
       "1181                 19                       2020          Manchester City   \n",
       "1182                  1                       2020                Liverpool   \n",
       "1183                  1                       2020                   Fulham   \n",
       "1184                  1                       2020           Crystal Palace   \n",
       "1185                 18                       2020                  Burnley   \n",
       "\n",
       "      teams_team_2_name         ground_name  _accurate_back_zone_pass_team_1  \\\n",
       "250        Leeds United    Molineux Stadium                          7582.25   \n",
       "251   Tottenham Hotspur  St. Mary's Stadium                          6161.75   \n",
       "252    Newcastle United     The City Ground                          5016.00   \n",
       "253     West Ham United      Etihad Stadium                         10041.25   \n",
       "254              Fulham             Anfield                          9401.25   \n",
       "...                 ...                 ...                              ...   \n",
       "1181        Aston Villa      Etihad Stadium                         10041.25   \n",
       "1182       Leeds United             Anfield                          9401.25   \n",
       "1183            Arsenal      Craven Cottage                          7339.00   \n",
       "1184        Southampton       Selhurst Park                          6535.25   \n",
       "1185  Manchester United           Turf Moor                          4121.00   \n",
       "\n",
       "      _accurate_chipped_pass_team_1  _accurate_corners_intobox_team_1  \\\n",
       "250                      832.750000                         43.750000   \n",
       "251                      605.750000                         46.000000   \n",
       "252                      601.000000                         29.000000   \n",
       "253                      918.750000                         65.750000   \n",
       "254                      967.750000                         64.250000   \n",
       "...                             ...                               ...   \n",
       "1181                     918.750000                         65.750000   \n",
       "1182                     967.750000                         64.250000   \n",
       "1183                     670.000000                         53.000000   \n",
       "1184                     618.500000                         46.000000   \n",
       "1185                     636.666667                         46.333333   \n",
       "\n",
       "      _accurate_cross_team_1  _accurate_cross_nocorner_team_1  ...  \\\n",
       "250               160.250000                       118.250000  ...   \n",
       "251               139.500000                        94.500000  ...   \n",
       "252               104.000000                        76.000000  ...   \n",
       "253               168.500000                       112.000000  ...   \n",
       "254               195.500000                       132.000000  ...   \n",
       "...                      ...                              ...  ...   \n",
       "1181              168.500000                       112.000000  ...   \n",
       "1182              195.500000                       132.000000  ...   \n",
       "1183              181.500000                       132.500000  ...   \n",
       "1184              141.000000                        96.250000  ...   \n",
       "1185              165.333333                       120.666667  ...   \n",
       "\n",
       "      _total_through_ball_lag_team2  _total_throws_lag_team2  \\\n",
       "250                            66.0                    798.0   \n",
       "251                            88.0                    676.0   \n",
       "252                            31.0                    743.0   \n",
       "253                            29.0                    770.0   \n",
       "254                             NaN                      NaN   \n",
       "...                             ...                      ...   \n",
       "1181                           17.0                    797.0   \n",
       "1182                            NaN                      NaN   \n",
       "1183                           67.0                    756.0   \n",
       "1184                           27.0                    950.0   \n",
       "1185                           64.0                    822.0   \n",
       "\n",
       "      _total_yel_card_lag_team2  _touches_lag_team2  \\\n",
       "250                       101.0             24043.0   \n",
       "251                        67.0             26225.0   \n",
       "252                        79.0             19609.0   \n",
       "253                        47.0             23444.0   \n",
       "254                         NaN                 NaN   \n",
       "...                         ...                 ...   \n",
       "1181                       68.0             21368.0   \n",
       "1182                        NaN                 NaN   \n",
       "1183                       86.0             25916.0   \n",
       "1184                       53.0             23611.0   \n",
       "1185                       73.0             27360.0   \n",
       "\n",
       "      _touches_in_opp_box_lag_team2  _unsuccessful_touch_lag_team2  \\\n",
       "250                           836.0                          676.0   \n",
       "251                           927.0                          588.0   \n",
       "252                           788.0                          622.0   \n",
       "253                           871.0                          521.0   \n",
       "254                             NaN                            NaN   \n",
       "...                             ...                            ...   \n",
       "1181                          726.0                          546.0   \n",
       "1182                            NaN                            NaN   \n",
       "1183                          876.0                          547.0   \n",
       "1184                          879.0                          654.0   \n",
       "1185                          965.0                          559.0   \n",
       "\n",
       "      _wins_lag_team2  _won_contest_lag_team2  _won_corners_lag_team2  \\\n",
       "250               9.0                   339.0                   171.0   \n",
       "251              22.0                   375.0                   195.0   \n",
       "252              13.0                   359.0                   160.0   \n",
       "253              16.0                   306.0                   201.0   \n",
       "254               NaN                     NaN                     NaN   \n",
       "...               ...                     ...                     ...   \n",
       "1181              9.0                   352.0                   201.0   \n",
       "1182              NaN                     NaN                     NaN   \n",
       "1183             14.0                   411.0                   232.0   \n",
       "1184             15.0                   423.0                   210.0   \n",
       "1185             18.0                   447.0                   204.0   \n",
       "\n",
       "      _won_tackle_lag_team2  \n",
       "250                   436.0  \n",
       "251                   349.0  \n",
       "252                   383.0  \n",
       "253                   301.0  \n",
       "254                     NaN  \n",
       "...                     ...  \n",
       "1181                  291.0  \n",
       "1182                    NaN  \n",
       "1183                  336.0  \n",
       "1184                  416.0  \n",
       "1185                  333.0  \n",
       "\n",
       "[936 rows x 845 columns]"
      ]
     },
     "execution_count": 188,
     "metadata": {},
     "output_type": "execute_result"
    }
   ],
   "source": [
    "x_train"
   ]
  },
  {
   "cell_type": "code",
   "execution_count": 189,
   "metadata": {},
   "outputs": [
    {
     "name": "stderr",
     "output_type": "stream",
     "text": [
      "100%|██████████| 18/18 [04:13<00:00, 14.08s/it]\n"
     ]
    }
   ],
   "source": [
    "acc_score_val, acc_score_train = [], []\n",
    "for thr in tqdm(thrs):\n",
    "\n",
    "    \n",
    "    df_temp = rm_high_corr_feat(df, thr, 6)\n",
    "\n",
    "\n",
    "    train = df_temp.iloc[n:, :]\n",
    "    val = df_temp.iloc[:n, :]\n",
    "\n",
    "    y_train = train['team_1_hue']\n",
    "    x_train = train.drop('team_1_hue', axis=1)\n",
    "\n",
    "    y_val = val['team_1_hue']\n",
    "    x_val = val.drop('team_1_hue', axis=1)\n",
    "\n",
    "    model_temp = CatBoostClassifier(iterations=2000, learning_rate=0.0005, loss_function='MultiClass')\n",
    "    model_temp.fit(x_train, y_train, cat_features=cat, verbose=False)\n",
    "\n",
    "    pred_temp = model_temp.predict(x_val)\n",
    "    pred_temp_train = model_temp.predict(x_train)\n",
    "\n",
    "    score_temp = accuracy_score(pred_temp, y_val)\n",
    "    score_temp_train = accuracy_score(pred_temp_train, y_train)\n",
    "\n",
    "    #print(f'thr: {thr}\\naccuracy: {np.round(score_temp, 3)}\\nпризнаков: {df_temp.shape[1]}\\n')\n",
    "\n",
    "    acc_score_val.append(score_temp)\n",
    "    acc_score_train.append(score_temp_train)\n"
   ]
  },
  {
   "cell_type": "code",
   "execution_count": 190,
   "metadata": {},
   "outputs": [
    {
     "data": {
      "text/plain": [
       "<Axes: xlabel='Корреляция', ylabel='Accuracy'>"
      ]
     },
     "execution_count": 190,
     "metadata": {},
     "output_type": "execute_result"
    },
    {
     "data": {
      "image/png": "[encoded data removed]",
      "text/plain": [
       "<Figure size 1500x700 with 1 Axes>"
      ]
     },
     "metadata": {},
     "output_type": "display_data"
    }
   ],
   "source": [
    "plt.figure(figsize=(15, 7))\n",
    "plt.xlabel('Корреляция')\n",
    "plt.ylabel('Accuracy')\n",
    "\n",
    "sns.lineplot(x=thrs, y=acc_score_val, label='val')\n",
    "sns.lineplot(x=thrs, y=acc_score_train, label='train')"
   ]
  },
  {
   "cell_type": "markdown",
   "metadata": {},
   "source": [
    "Возьмем датасет с отобранными признаки, где корреляция не выше 0.4 между признаками"
   ]
  },
  {
   "cell_type": "code",
   "execution_count": 191,
   "metadata": {},
   "outputs": [],
   "source": [
    "df_temp = rm_high_corr_feat(df, 0.65, 6)\n",
    "\n",
    "train = df_temp.iloc[n:, :]\n",
    "val = df_temp.iloc[:n, :]\n",
    "\n",
    "y_train = train['team_1_hue']\n",
    "x_train = train.drop('team_1_hue', axis=1)\n",
    "\n",
    "y_val = val['team_1_hue']\n",
    "x_val = val.drop('team_1_hue', axis=1)"
   ]
  },
  {
   "cell_type": "code",
   "execution_count": 192,
   "metadata": {},
   "outputs": [
    {
     "data": {
      "text/html": [
       "<div>\n",
       "<style scoped>\n",
       "    .dataframe tbody tr th:only-of-type {\n",
       "        vertical-align: middle;\n",
       "    }\n",
       "\n",
       "    .dataframe tbody tr th {\n",
       "        vertical-align: top;\n",
       "    }\n",
       "\n",
       "    .dataframe thead th {\n",
       "        text-align: right;\n",
       "    }\n",
       "</style>\n",
       "<table border=\"1\" class=\"dataframe\">\n",
       "  <thead>\n",
       "    <tr style=\"text-align: right;\">\n",
       "      <th></th>\n",
       "      <th>gameweek_gameweek</th>\n",
       "      <th>gameweek_compSeason_label</th>\n",
       "      <th>teams_team_1_name</th>\n",
       "      <th>teams_team_2_name</th>\n",
       "      <th>ground_name</th>\n",
       "      <th>team_1_hue</th>\n",
       "      <th>_accurate_back_zone_pass_team_1</th>\n",
       "      <th>_accurate_corners_intobox_team_1</th>\n",
       "      <th>_accurate_freekick_cross_team_1</th>\n",
       "      <th>_accurate_goal_kicks_team_1</th>\n",
       "      <th>...</th>\n",
       "      <th>_overrun_lag_team2</th>\n",
       "      <th>_own_goal_accrued_lag_team2</th>\n",
       "      <th>_penalty_conceded_lag_team2</th>\n",
       "      <th>_pts_dropped_winning_pos_lag_team2</th>\n",
       "      <th>_pts_gained_losing_pos_lag_team2</th>\n",
       "      <th>_second_yellow_lag_team2</th>\n",
       "      <th>_shield_ball_oop_lag_team2</th>\n",
       "      <th>_six_yard_block_lag_team2</th>\n",
       "      <th>_subs_goals_lag_team2</th>\n",
       "      <th>_total_red_card_lag_team2</th>\n",
       "    </tr>\n",
       "  </thead>\n",
       "  <tbody>\n",
       "    <tr>\n",
       "      <th>0</th>\n",
       "      <td>20</td>\n",
       "      <td>2023</td>\n",
       "      <td>Wolverhampton Wanderers</td>\n",
       "      <td>Everton</td>\n",
       "      <td>Molineux Stadium</td>\n",
       "      <td>1</td>\n",
       "      <td>7582.25</td>\n",
       "      <td>43.750000</td>\n",
       "      <td>16.500000</td>\n",
       "      <td>182.000000</td>\n",
       "      <td>...</td>\n",
       "      <td>41.0</td>\n",
       "      <td>2.000000</td>\n",
       "      <td>6.0</td>\n",
       "      <td>17.0</td>\n",
       "      <td>9.0</td>\n",
       "      <td>1.000000</td>\n",
       "      <td>24.0</td>\n",
       "      <td>14.0</td>\n",
       "      <td>2.000000</td>\n",
       "      <td>2.0</td>\n",
       "    </tr>\n",
       "    <tr>\n",
       "      <th>1</th>\n",
       "      <td>20</td>\n",
       "      <td>2023</td>\n",
       "      <td>Tottenham Hotspur</td>\n",
       "      <td>Bournemouth</td>\n",
       "      <td>Tottenham Hotspur Stadium</td>\n",
       "      <td>1</td>\n",
       "      <td>8308.50</td>\n",
       "      <td>41.750000</td>\n",
       "      <td>7.750000</td>\n",
       "      <td>217.000000</td>\n",
       "      <td>...</td>\n",
       "      <td>55.0</td>\n",
       "      <td>2.275362</td>\n",
       "      <td>7.0</td>\n",
       "      <td>15.0</td>\n",
       "      <td>12.0</td>\n",
       "      <td>1.581395</td>\n",
       "      <td>26.0</td>\n",
       "      <td>16.0</td>\n",
       "      <td>3.000000</td>\n",
       "      <td>2.5</td>\n",
       "    </tr>\n",
       "    <tr>\n",
       "      <th>2</th>\n",
       "      <td>20</td>\n",
       "      <td>2023</td>\n",
       "      <td>Nottingham Forest</td>\n",
       "      <td>Manchester United</td>\n",
       "      <td>The City Ground</td>\n",
       "      <td>1</td>\n",
       "      <td>5016.00</td>\n",
       "      <td>29.000000</td>\n",
       "      <td>15.000000</td>\n",
       "      <td>197.000000</td>\n",
       "      <td>...</td>\n",
       "      <td>29.0</td>\n",
       "      <td>2.000000</td>\n",
       "      <td>3.0</td>\n",
       "      <td>7.0</td>\n",
       "      <td>11.0</td>\n",
       "      <td>1.581395</td>\n",
       "      <td>34.0</td>\n",
       "      <td>14.0</td>\n",
       "      <td>7.000000</td>\n",
       "      <td>2.0</td>\n",
       "    </tr>\n",
       "    <tr>\n",
       "      <th>3</th>\n",
       "      <td>20</td>\n",
       "      <td>2023</td>\n",
       "      <td>Manchester City</td>\n",
       "      <td>Sheffield United</td>\n",
       "      <td>Etihad Stadium</td>\n",
       "      <td>1</td>\n",
       "      <td>10041.25</td>\n",
       "      <td>65.750000</td>\n",
       "      <td>11.500000</td>\n",
       "      <td>136.250000</td>\n",
       "      <td>...</td>\n",
       "      <td>NaN</td>\n",
       "      <td>NaN</td>\n",
       "      <td>NaN</td>\n",
       "      <td>NaN</td>\n",
       "      <td>NaN</td>\n",
       "      <td>NaN</td>\n",
       "      <td>NaN</td>\n",
       "      <td>NaN</td>\n",
       "      <td>NaN</td>\n",
       "      <td>NaN</td>\n",
       "    </tr>\n",
       "    <tr>\n",
       "      <th>4</th>\n",
       "      <td>20</td>\n",
       "      <td>2023</td>\n",
       "      <td>Liverpool</td>\n",
       "      <td>Newcastle United</td>\n",
       "      <td>Anfield</td>\n",
       "      <td>1</td>\n",
       "      <td>9401.25</td>\n",
       "      <td>64.250000</td>\n",
       "      <td>16.000000</td>\n",
       "      <td>177.250000</td>\n",
       "      <td>...</td>\n",
       "      <td>51.0</td>\n",
       "      <td>5.000000</td>\n",
       "      <td>5.0</td>\n",
       "      <td>11.0</td>\n",
       "      <td>14.0</td>\n",
       "      <td>1.581395</td>\n",
       "      <td>21.0</td>\n",
       "      <td>27.0</td>\n",
       "      <td>7.000000</td>\n",
       "      <td>2.0</td>\n",
       "    </tr>\n",
       "    <tr>\n",
       "      <th>...</th>\n",
       "      <td>...</td>\n",
       "      <td>...</td>\n",
       "      <td>...</td>\n",
       "      <td>...</td>\n",
       "      <td>...</td>\n",
       "      <td>...</td>\n",
       "      <td>...</td>\n",
       "      <td>...</td>\n",
       "      <td>...</td>\n",
       "      <td>...</td>\n",
       "      <td>...</td>\n",
       "      <td>...</td>\n",
       "      <td>...</td>\n",
       "      <td>...</td>\n",
       "      <td>...</td>\n",
       "      <td>...</td>\n",
       "      <td>...</td>\n",
       "      <td>...</td>\n",
       "      <td>...</td>\n",
       "      <td>...</td>\n",
       "      <td>...</td>\n",
       "    </tr>\n",
       "    <tr>\n",
       "      <th>1181</th>\n",
       "      <td>19</td>\n",
       "      <td>2020</td>\n",
       "      <td>Manchester City</td>\n",
       "      <td>Aston Villa</td>\n",
       "      <td>Etihad Stadium</td>\n",
       "      <td>1</td>\n",
       "      <td>10041.25</td>\n",
       "      <td>65.750000</td>\n",
       "      <td>11.500000</td>\n",
       "      <td>136.250000</td>\n",
       "      <td>...</td>\n",
       "      <td>70.0</td>\n",
       "      <td>1.000000</td>\n",
       "      <td>6.0</td>\n",
       "      <td>23.0</td>\n",
       "      <td>9.0</td>\n",
       "      <td>1.000000</td>\n",
       "      <td>22.0</td>\n",
       "      <td>21.0</td>\n",
       "      <td>4.285714</td>\n",
       "      <td>1.0</td>\n",
       "    </tr>\n",
       "    <tr>\n",
       "      <th>1182</th>\n",
       "      <td>1</td>\n",
       "      <td>2020</td>\n",
       "      <td>Liverpool</td>\n",
       "      <td>Leeds United</td>\n",
       "      <td>Anfield</td>\n",
       "      <td>1</td>\n",
       "      <td>9401.25</td>\n",
       "      <td>64.250000</td>\n",
       "      <td>16.000000</td>\n",
       "      <td>177.250000</td>\n",
       "      <td>...</td>\n",
       "      <td>NaN</td>\n",
       "      <td>NaN</td>\n",
       "      <td>NaN</td>\n",
       "      <td>NaN</td>\n",
       "      <td>NaN</td>\n",
       "      <td>NaN</td>\n",
       "      <td>NaN</td>\n",
       "      <td>NaN</td>\n",
       "      <td>NaN</td>\n",
       "      <td>NaN</td>\n",
       "    </tr>\n",
       "    <tr>\n",
       "      <th>1183</th>\n",
       "      <td>1</td>\n",
       "      <td>2020</td>\n",
       "      <td>Fulham</td>\n",
       "      <td>Arsenal</td>\n",
       "      <td>Craven Cottage</td>\n",
       "      <td>0</td>\n",
       "      <td>7339.00</td>\n",
       "      <td>53.000000</td>\n",
       "      <td>15.500000</td>\n",
       "      <td>199.000000</td>\n",
       "      <td>...</td>\n",
       "      <td>65.0</td>\n",
       "      <td>2.275362</td>\n",
       "      <td>8.0</td>\n",
       "      <td>21.0</td>\n",
       "      <td>18.0</td>\n",
       "      <td>1.000000</td>\n",
       "      <td>26.0</td>\n",
       "      <td>18.0</td>\n",
       "      <td>4.285714</td>\n",
       "      <td>5.0</td>\n",
       "    </tr>\n",
       "    <tr>\n",
       "      <th>1184</th>\n",
       "      <td>1</td>\n",
       "      <td>2020</td>\n",
       "      <td>Crystal Palace</td>\n",
       "      <td>Southampton</td>\n",
       "      <td>Selhurst Park</td>\n",
       "      <td>1</td>\n",
       "      <td>6535.25</td>\n",
       "      <td>46.000000</td>\n",
       "      <td>21.500000</td>\n",
       "      <td>168.500000</td>\n",
       "      <td>...</td>\n",
       "      <td>80.0</td>\n",
       "      <td>2.275362</td>\n",
       "      <td>4.0</td>\n",
       "      <td>17.0</td>\n",
       "      <td>13.0</td>\n",
       "      <td>1.000000</td>\n",
       "      <td>25.0</td>\n",
       "      <td>24.0</td>\n",
       "      <td>4.285714</td>\n",
       "      <td>4.0</td>\n",
       "    </tr>\n",
       "    <tr>\n",
       "      <th>1185</th>\n",
       "      <td>18</td>\n",
       "      <td>2020</td>\n",
       "      <td>Burnley</td>\n",
       "      <td>Manchester United</td>\n",
       "      <td>Turf Moor</td>\n",
       "      <td>0</td>\n",
       "      <td>4121.00</td>\n",
       "      <td>46.333333</td>\n",
       "      <td>19.666667</td>\n",
       "      <td>143.333333</td>\n",
       "      <td>...</td>\n",
       "      <td>78.0</td>\n",
       "      <td>2.000000</td>\n",
       "      <td>3.0</td>\n",
       "      <td>14.0</td>\n",
       "      <td>13.0</td>\n",
       "      <td>1.581395</td>\n",
       "      <td>19.0</td>\n",
       "      <td>16.0</td>\n",
       "      <td>4.285714</td>\n",
       "      <td>2.5</td>\n",
       "    </tr>\n",
       "  </tbody>\n",
       "</table>\n",
       "<p>1186 rows × 134 columns</p>\n",
       "</div>"
      ],
      "text/plain": [
       "      gameweek_gameweek  gameweek_compSeason_label        teams_team_1_name  \\\n",
       "0                    20                       2023  Wolverhampton Wanderers   \n",
       "1                    20                       2023        Tottenham Hotspur   \n",
       "2                    20                       2023        Nottingham Forest   \n",
       "3                    20                       2023          Manchester City   \n",
       "4                    20                       2023                Liverpool   \n",
       "...                 ...                        ...                      ...   \n",
       "1181                 19                       2020          Manchester City   \n",
       "1182                  1                       2020                Liverpool   \n",
       "1183                  1                       2020                   Fulham   \n",
       "1184                  1                       2020           Crystal Palace   \n",
       "1185                 18                       2020                  Burnley   \n",
       "\n",
       "      teams_team_2_name                ground_name  team_1_hue  \\\n",
       "0               Everton           Molineux Stadium           1   \n",
       "1           Bournemouth  Tottenham Hotspur Stadium           1   \n",
       "2     Manchester United            The City Ground           1   \n",
       "3      Sheffield United             Etihad Stadium           1   \n",
       "4      Newcastle United                    Anfield           1   \n",
       "...                 ...                        ...         ...   \n",
       "1181        Aston Villa             Etihad Stadium           1   \n",
       "1182       Leeds United                    Anfield           1   \n",
       "1183            Arsenal             Craven Cottage           0   \n",
       "1184        Southampton              Selhurst Park           1   \n",
       "1185  Manchester United                  Turf Moor           0   \n",
       "\n",
       "      _accurate_back_zone_pass_team_1  _accurate_corners_intobox_team_1  \\\n",
       "0                             7582.25                         43.750000   \n",
       "1                             8308.50                         41.750000   \n",
       "2                             5016.00                         29.000000   \n",
       "3                            10041.25                         65.750000   \n",
       "4                             9401.25                         64.250000   \n",
       "...                               ...                               ...   \n",
       "1181                         10041.25                         65.750000   \n",
       "1182                          9401.25                         64.250000   \n",
       "1183                          7339.00                         53.000000   \n",
       "1184                          6535.25                         46.000000   \n",
       "1185                          4121.00                         46.333333   \n",
       "\n",
       "      _accurate_freekick_cross_team_1  _accurate_goal_kicks_team_1  ...  \\\n",
       "0                           16.500000                   182.000000  ...   \n",
       "1                            7.750000                   217.000000  ...   \n",
       "2                           15.000000                   197.000000  ...   \n",
       "3                           11.500000                   136.250000  ...   \n",
       "4                           16.000000                   177.250000  ...   \n",
       "...                               ...                          ...  ...   \n",
       "1181                        11.500000                   136.250000  ...   \n",
       "1182                        16.000000                   177.250000  ...   \n",
       "1183                        15.500000                   199.000000  ...   \n",
       "1184                        21.500000                   168.500000  ...   \n",
       "1185                        19.666667                   143.333333  ...   \n",
       "\n",
       "      _overrun_lag_team2  _own_goal_accrued_lag_team2  \\\n",
       "0                   41.0                     2.000000   \n",
       "1                   55.0                     2.275362   \n",
       "2                   29.0                     2.000000   \n",
       "3                    NaN                          NaN   \n",
       "4                   51.0                     5.000000   \n",
       "...                  ...                          ...   \n",
       "1181                70.0                     1.000000   \n",
       "1182                 NaN                          NaN   \n",
       "1183                65.0                     2.275362   \n",
       "1184                80.0                     2.275362   \n",
       "1185                78.0                     2.000000   \n",
       "\n",
       "      _penalty_conceded_lag_team2  _pts_dropped_winning_pos_lag_team2  \\\n",
       "0                             6.0                                17.0   \n",
       "1                             7.0                                15.0   \n",
       "2                             3.0                                 7.0   \n",
       "3                             NaN                                 NaN   \n",
       "4                             5.0                                11.0   \n",
       "...                           ...                                 ...   \n",
       "1181                          6.0                                23.0   \n",
       "1182                          NaN                                 NaN   \n",
       "1183                          8.0                                21.0   \n",
       "1184                          4.0                                17.0   \n",
       "1185                          3.0                                14.0   \n",
       "\n",
       "      _pts_gained_losing_pos_lag_team2  _second_yellow_lag_team2  \\\n",
       "0                                  9.0                  1.000000   \n",
       "1                                 12.0                  1.581395   \n",
       "2                                 11.0                  1.581395   \n",
       "3                                  NaN                       NaN   \n",
       "4                                 14.0                  1.581395   \n",
       "...                                ...                       ...   \n",
       "1181                               9.0                  1.000000   \n",
       "1182                               NaN                       NaN   \n",
       "1183                              18.0                  1.000000   \n",
       "1184                              13.0                  1.000000   \n",
       "1185                              13.0                  1.581395   \n",
       "\n",
       "      _shield_ball_oop_lag_team2  _six_yard_block_lag_team2  \\\n",
       "0                           24.0                       14.0   \n",
       "1                           26.0                       16.0   \n",
       "2                           34.0                       14.0   \n",
       "3                            NaN                        NaN   \n",
       "4                           21.0                       27.0   \n",
       "...                          ...                        ...   \n",
       "1181                        22.0                       21.0   \n",
       "1182                         NaN                        NaN   \n",
       "1183                        26.0                       18.0   \n",
       "1184                        25.0                       24.0   \n",
       "1185                        19.0                       16.0   \n",
       "\n",
       "      _subs_goals_lag_team2  _total_red_card_lag_team2  \n",
       "0                  2.000000                        2.0  \n",
       "1                  3.000000                        2.5  \n",
       "2                  7.000000                        2.0  \n",
       "3                       NaN                        NaN  \n",
       "4                  7.000000                        2.0  \n",
       "...                     ...                        ...  \n",
       "1181               4.285714                        1.0  \n",
       "1182                    NaN                        NaN  \n",
       "1183               4.285714                        5.0  \n",
       "1184               4.285714                        4.0  \n",
       "1185               4.285714                        2.5  \n",
       "\n",
       "[1186 rows x 134 columns]"
      ]
     },
     "execution_count": 192,
     "metadata": {},
     "output_type": "execute_result"
    }
   ],
   "source": [
    "df_temp"
   ]
  },
  {
   "cell_type": "code",
   "execution_count": 193,
   "metadata": {},
   "outputs": [],
   "source": [
    "df_temp.to_csv('../prepare_data/data/df_temp_65.csv', index=False)"
   ]
  },
  {
   "cell_type": "code",
   "execution_count": 194,
   "metadata": {},
   "outputs": [
    {
     "data": {
      "application/vnd.jupyter.widget-view+json": {
       "model_id": "e69b050579b347d88f67908be387c922",
       "version_major": 2,
       "version_minor": 0
      },
      "text/plain": [
       "MetricVisualizer(layout=Layout(align_self='stretch', height='500px'))"
      ]
     },
     "metadata": {},
     "output_type": "display_data"
    },
    {
     "data": {
      "application/vnd.jupyter.widget-view+json": {
       "model_id": "b9c139ac3a244ce1a613eddd32f2af48",
       "version_major": 2,
       "version_minor": 0
      },
      "text/plain": [
       "MetricVisualizer(layout=Layout(align_self='stretch', height='500px'))"
      ]
     },
     "metadata": {},
     "output_type": "display_data"
    },
    {
     "data": {
      "application/vnd.jupyter.widget-view+json": {
       "model_id": "b7931d1644e744a29ba24ea05b720024",
       "version_major": 2,
       "version_minor": 0
      },
      "text/plain": [
       "MetricVisualizer(layout=Layout(align_self='stretch', height='500px'))"
      ]
     },
     "metadata": {},
     "output_type": "display_data"
    },
    {
     "data": {
      "application/vnd.jupyter.widget-view+json": {
       "model_id": "06996b08aa1a46e59e28a7abb2d9ed5f",
       "version_major": 2,
       "version_minor": 0
      },
      "text/plain": [
       "MetricVisualizer(layout=Layout(align_self='stretch', height='500px'))"
      ]
     },
     "metadata": {},
     "output_type": "display_data"
    },
    {
     "data": {
      "application/vnd.jupyter.widget-view+json": {
       "model_id": "6cec9e81dbe4426b83c96005e32b29bb",
       "version_major": 2,
       "version_minor": 0
      },
      "text/plain": [
       "MetricVisualizer(layout=Layout(align_self='stretch', height='500px'))"
      ]
     },
     "metadata": {},
     "output_type": "display_data"
    },
    {
     "data": {
      "application/vnd.jupyter.widget-view+json": {
       "model_id": "ffbd7d36b5534367ba4b1dc90dc0bce8",
       "version_major": 2,
       "version_minor": 0
      },
      "text/plain": [
       "MetricVisualizer(layout=Layout(align_self='stretch', height='500px'))"
      ]
     },
     "metadata": {},
     "output_type": "display_data"
    },
    {
     "data": {
      "application/vnd.jupyter.widget-view+json": {
       "model_id": "41fff2d4c1984295b3d357964a5b4c69",
       "version_major": 2,
       "version_minor": 0
      },
      "text/plain": [
       "MetricVisualizer(layout=Layout(align_self='stretch', height='500px'))"
      ]
     },
     "metadata": {},
     "output_type": "display_data"
    },
    {
     "data": {
      "application/vnd.jupyter.widget-view+json": {
       "model_id": "3c27bd2990f44c14a05237c61cac209b",
       "version_major": 2,
       "version_minor": 0
      },
      "text/plain": [
       "MetricVisualizer(layout=Layout(align_self='stretch', height='500px'))"
      ]
     },
     "metadata": {},
     "output_type": "display_data"
    },
    {
     "data": {
      "application/vnd.jupyter.widget-view+json": {
       "model_id": "890e77ccb430427da461edaa2115611f",
       "version_major": 2,
       "version_minor": 0
      },
      "text/plain": [
       "MetricVisualizer(layout=Layout(align_self='stretch', height='500px'))"
      ]
     },
     "metadata": {},
     "output_type": "display_data"
    },
    {
     "data": {
      "application/vnd.jupyter.widget-view+json": {
       "model_id": "f2d7f8a4285f483cb89ae4729142d090",
       "version_major": 2,
       "version_minor": 0
      },
      "text/plain": [
       "MetricVisualizer(layout=Layout(align_self='stretch', height='500px'))"
      ]
     },
     "metadata": {},
     "output_type": "display_data"
    },
    {
     "data": {
      "application/vnd.jupyter.widget-view+json": {
       "model_id": "513ff03e7a9448f9b7bba56af609cde8",
       "version_major": 2,
       "version_minor": 0
      },
      "text/plain": [
       "MetricVisualizer(layout=Layout(align_self='stretch', height='500px'))"
      ]
     },
     "metadata": {},
     "output_type": "display_data"
    },
    {
     "data": {
      "application/vnd.jupyter.widget-view+json": {
       "model_id": "2e5a315dea1141ca8da78252c6ce5c38",
       "version_major": 2,
       "version_minor": 0
      },
      "text/plain": [
       "MetricVisualizer(layout=Layout(align_self='stretch', height='500px'))"
      ]
     },
     "metadata": {},
     "output_type": "display_data"
    },
    {
     "data": {
      "application/vnd.jupyter.widget-view+json": {
       "model_id": "f3d015296bc046cb82cb24f207e07219",
       "version_major": 2,
       "version_minor": 0
      },
      "text/plain": [
       "MetricVisualizer(layout=Layout(align_self='stretch', height='500px'))"
      ]
     },
     "metadata": {},
     "output_type": "display_data"
    },
    {
     "data": {
      "application/vnd.jupyter.widget-view+json": {
       "model_id": "430e571a1c9b4b5d80534f5f1109da97",
       "version_major": 2,
       "version_minor": 0
      },
      "text/plain": [
       "MetricVisualizer(layout=Layout(align_self='stretch', height='500px'))"
      ]
     },
     "metadata": {},
     "output_type": "display_data"
    },
    {
     "data": {
      "application/vnd.jupyter.widget-view+json": {
       "model_id": "2ba24c49082d4eafa8036cbe63d96e41",
       "version_major": 2,
       "version_minor": 0
      },
      "text/plain": [
       "MetricVisualizer(layout=Layout(align_self='stretch', height='500px'))"
      ]
     },
     "metadata": {},
     "output_type": "display_data"
    },
    {
     "data": {
      "application/vnd.jupyter.widget-view+json": {
       "model_id": "88bab5a15f9e4a8e8eeacba299fab03c",
       "version_major": 2,
       "version_minor": 0
      },
      "text/plain": [
       "MetricVisualizer(layout=Layout(align_self='stretch', height='500px'))"
      ]
     },
     "metadata": {},
     "output_type": "display_data"
    },
    {
     "data": {
      "application/vnd.jupyter.widget-view+json": {
       "model_id": "3f1dca8a551b47e8adbd05019d5a64d9",
       "version_major": 2,
       "version_minor": 0
      },
      "text/plain": [
       "MetricVisualizer(layout=Layout(align_self='stretch', height='500px'))"
      ]
     },
     "metadata": {},
     "output_type": "display_data"
    },
    {
     "data": {
      "application/vnd.jupyter.widget-view+json": {
       "model_id": "82fd66edf11741f09efd0c3b9f210236",
       "version_major": 2,
       "version_minor": 0
      },
      "text/plain": [
       "MetricVisualizer(layout=Layout(align_self='stretch', height='500px'))"
      ]
     },
     "metadata": {},
     "output_type": "display_data"
    },
    {
     "data": {
      "application/vnd.jupyter.widget-view+json": {
       "model_id": "bcc0a610360545c2993abb05e8c7e8cd",
       "version_major": 2,
       "version_minor": 0
      },
      "text/plain": [
       "MetricVisualizer(layout=Layout(align_self='stretch', height='500px'))"
      ]
     },
     "metadata": {},
     "output_type": "display_data"
    },
    {
     "data": {
      "application/vnd.jupyter.widget-view+json": {
       "model_id": "50c3b6ac9ebe44988e68613bba6665bc",
       "version_major": 2,
       "version_minor": 0
      },
      "text/plain": [
       "MetricVisualizer(layout=Layout(align_self='stretch', height='500px'))"
      ]
     },
     "metadata": {},
     "output_type": "display_data"
    },
    {
     "data": {
      "application/vnd.jupyter.widget-view+json": {
       "model_id": "23293acde58347e4b23bd5cb0a597e1c",
       "version_major": 2,
       "version_minor": 0
      },
      "text/plain": [
       "MetricVisualizer(layout=Layout(align_self='stretch', height='500px'))"
      ]
     },
     "metadata": {},
     "output_type": "display_data"
    },
    {
     "data": {
      "application/vnd.jupyter.widget-view+json": {
       "model_id": "2e0c3988dbb841829bf64cd6c8666083",
       "version_major": 2,
       "version_minor": 0
      },
      "text/plain": [
       "MetricVisualizer(layout=Layout(align_self='stretch', height='500px'))"
      ]
     },
     "metadata": {},
     "output_type": "display_data"
    },
    {
     "data": {
      "application/vnd.jupyter.widget-view+json": {
       "model_id": "fb1f19c21fd34f23ab11bfc713b76465",
       "version_major": 2,
       "version_minor": 0
      },
      "text/plain": [
       "MetricVisualizer(layout=Layout(align_self='stretch', height='500px'))"
      ]
     },
     "metadata": {},
     "output_type": "display_data"
    },
    {
     "data": {
      "application/vnd.jupyter.widget-view+json": {
       "model_id": "c66b0b9204254c5d9ae5efbb15937469",
       "version_major": 2,
       "version_minor": 0
      },
      "text/plain": [
       "MetricVisualizer(layout=Layout(align_self='stretch', height='500px'))"
      ]
     },
     "metadata": {},
     "output_type": "display_data"
    },
    {
     "data": {
      "application/vnd.jupyter.widget-view+json": {
       "model_id": "053f443c64574af0b87f61052c2b6e6c",
       "version_major": 2,
       "version_minor": 0
      },
      "text/plain": [
       "MetricVisualizer(layout=Layout(align_self='stretch', height='500px'))"
      ]
     },
     "metadata": {},
     "output_type": "display_data"
    },
    {
     "data": {
      "application/vnd.jupyter.widget-view+json": {
       "model_id": "82271a2d1d8641aca778e8ed1b439942",
       "version_major": 2,
       "version_minor": 0
      },
      "text/plain": [
       "MetricVisualizer(layout=Layout(align_self='stretch', height='500px'))"
      ]
     },
     "metadata": {},
     "output_type": "display_data"
    },
    {
     "data": {
      "application/vnd.jupyter.widget-view+json": {
       "model_id": "aef2c69ae18f4dc190b0466e3408203e",
       "version_major": 2,
       "version_minor": 0
      },
      "text/plain": [
       "MetricVisualizer(layout=Layout(align_self='stretch', height='500px'))"
      ]
     },
     "metadata": {},
     "output_type": "display_data"
    },
    {
     "data": {
      "application/vnd.jupyter.widget-view+json": {
       "model_id": "74aaf0d75546449c9307f1825d706e16",
       "version_major": 2,
       "version_minor": 0
      },
      "text/plain": [
       "MetricVisualizer(layout=Layout(align_self='stretch', height='500px'))"
      ]
     },
     "metadata": {},
     "output_type": "display_data"
    },
    {
     "data": {
      "application/vnd.jupyter.widget-view+json": {
       "model_id": "8446f0e7580140e1ac5f1316e3da2778",
       "version_major": 2,
       "version_minor": 0
      },
      "text/plain": [
       "MetricVisualizer(layout=Layout(align_self='stretch', height='500px'))"
      ]
     },
     "metadata": {},
     "output_type": "display_data"
    },
    {
     "data": {
      "application/vnd.jupyter.widget-view+json": {
       "model_id": "c62e34e828f94bb1b08c359af17909a9",
       "version_major": 2,
       "version_minor": 0
      },
      "text/plain": [
       "MetricVisualizer(layout=Layout(align_self='stretch', height='500px'))"
      ]
     },
     "metadata": {},
     "output_type": "display_data"
    },
    {
     "data": {
      "application/vnd.jupyter.widget-view+json": {
       "model_id": "074e8a74f73e46ddabf112d58f8c8e5e",
       "version_major": 2,
       "version_minor": 0
      },
      "text/plain": [
       "MetricVisualizer(layout=Layout(align_self='stretch', height='500px'))"
      ]
     },
     "metadata": {},
     "output_type": "display_data"
    },
    {
     "data": {
      "application/vnd.jupyter.widget-view+json": {
       "model_id": "3a474cf097a944a5ab4e3f981a05d695",
       "version_major": 2,
       "version_minor": 0
      },
      "text/plain": [
       "MetricVisualizer(layout=Layout(align_self='stretch', height='500px'))"
      ]
     },
     "metadata": {},
     "output_type": "display_data"
    },
    {
     "data": {
      "application/vnd.jupyter.widget-view+json": {
       "model_id": "87b7f41224f84dfbb21d1cabdd95931e",
       "version_major": 2,
       "version_minor": 0
      },
      "text/plain": [
       "MetricVisualizer(layout=Layout(align_self='stretch', height='500px'))"
      ]
     },
     "metadata": {},
     "output_type": "display_data"
    },
    {
     "data": {
      "application/vnd.jupyter.widget-view+json": {
       "model_id": "baefc00a06f7476098b076e31455769a",
       "version_major": 2,
       "version_minor": 0
      },
      "text/plain": [
       "MetricVisualizer(layout=Layout(align_self='stretch', height='500px'))"
      ]
     },
     "metadata": {},
     "output_type": "display_data"
    },
    {
     "data": {
      "application/vnd.jupyter.widget-view+json": {
       "model_id": "546f172be617474a908e690deef0057f",
       "version_major": 2,
       "version_minor": 0
      },
      "text/plain": [
       "MetricVisualizer(layout=Layout(align_self='stretch', height='500px'))"
      ]
     },
     "metadata": {},
     "output_type": "display_data"
    },
    {
     "data": {
      "application/vnd.jupyter.widget-view+json": {
       "model_id": "4de82c427915461fa60a465068041580",
       "version_major": 2,
       "version_minor": 0
      },
      "text/plain": [
       "MetricVisualizer(layout=Layout(align_self='stretch', height='500px'))"
      ]
     },
     "metadata": {},
     "output_type": "display_data"
    },
    {
     "data": {
      "application/vnd.jupyter.widget-view+json": {
       "model_id": "11d5fa4135684034a2e10eaade03a7f0",
       "version_major": 2,
       "version_minor": 0
      },
      "text/plain": [
       "MetricVisualizer(layout=Layout(align_self='stretch', height='500px'))"
      ]
     },
     "metadata": {},
     "output_type": "display_data"
    },
    {
     "data": {
      "application/vnd.jupyter.widget-view+json": {
       "model_id": "ad5d539a60bf4c90b4d4c26cc04a5ab2",
       "version_major": 2,
       "version_minor": 0
      },
      "text/plain": [
       "MetricVisualizer(layout=Layout(align_self='stretch', height='500px'))"
      ]
     },
     "metadata": {},
     "output_type": "display_data"
    },
    {
     "data": {
      "application/vnd.jupyter.widget-view+json": {
       "model_id": "e5c418f958c34f218c5edef91d1c4ec5",
       "version_major": 2,
       "version_minor": 0
      },
      "text/plain": [
       "MetricVisualizer(layout=Layout(align_self='stretch', height='500px'))"
      ]
     },
     "metadata": {},
     "output_type": "display_data"
    },
    {
     "data": {
      "application/vnd.jupyter.widget-view+json": {
       "model_id": "bf4aba6dea49476ab6d31d6ae7c5a28f",
       "version_major": 2,
       "version_minor": 0
      },
      "text/plain": [
       "MetricVisualizer(layout=Layout(align_self='stretch', height='500px'))"
      ]
     },
     "metadata": {},
     "output_type": "display_data"
    },
    {
     "data": {
      "application/vnd.jupyter.widget-view+json": {
       "model_id": "7fc9cc1d1fe248ff90e087c0171619d0",
       "version_major": 2,
       "version_minor": 0
      },
      "text/plain": [
       "MetricVisualizer(layout=Layout(align_self='stretch', height='500px'))"
      ]
     },
     "metadata": {},
     "output_type": "display_data"
    },
    {
     "data": {
      "application/vnd.jupyter.widget-view+json": {
       "model_id": "82d679acab6b4999bb6ecf213d776655",
       "version_major": 2,
       "version_minor": 0
      },
      "text/plain": [
       "MetricVisualizer(layout=Layout(align_self='stretch', height='500px'))"
      ]
     },
     "metadata": {},
     "output_type": "display_data"
    },
    {
     "data": {
      "application/vnd.jupyter.widget-view+json": {
       "model_id": "f7ebfe98ec3f48169ba33a1d5f62fe56",
       "version_major": 2,
       "version_minor": 0
      },
      "text/plain": [
       "MetricVisualizer(layout=Layout(align_self='stretch', height='500px'))"
      ]
     },
     "metadata": {},
     "output_type": "display_data"
    },
    {
     "data": {
      "application/vnd.jupyter.widget-view+json": {
       "model_id": "94e3ddd3cd394620929612a2186be953",
       "version_major": 2,
       "version_minor": 0
      },
      "text/plain": [
       "MetricVisualizer(layout=Layout(align_self='stretch', height='500px'))"
      ]
     },
     "metadata": {},
     "output_type": "display_data"
    },
    {
     "data": {
      "application/vnd.jupyter.widget-view+json": {
       "model_id": "df2d87ff10994545ab6b319a36d08612",
       "version_major": 2,
       "version_minor": 0
      },
      "text/plain": [
       "MetricVisualizer(layout=Layout(align_self='stretch', height='500px'))"
      ]
     },
     "metadata": {},
     "output_type": "display_data"
    },
    {
     "data": {
      "application/vnd.jupyter.widget-view+json": {
       "model_id": "3cee388196b2410593bef51db2a6e986",
       "version_major": 2,
       "version_minor": 0
      },
      "text/plain": [
       "MetricVisualizer(layout=Layout(align_self='stretch', height='500px'))"
      ]
     },
     "metadata": {},
     "output_type": "display_data"
    },
    {
     "data": {
      "application/vnd.jupyter.widget-view+json": {
       "model_id": "92422b461f574339b6777e0495eeba4c",
       "version_major": 2,
       "version_minor": 0
      },
      "text/plain": [
       "MetricVisualizer(layout=Layout(align_self='stretch', height='500px'))"
      ]
     },
     "metadata": {},
     "output_type": "display_data"
    },
    {
     "data": {
      "application/vnd.jupyter.widget-view+json": {
       "model_id": "1cece515cece4f47b88c0e62130ca88f",
       "version_major": 2,
       "version_minor": 0
      },
      "text/plain": [
       "MetricVisualizer(layout=Layout(align_self='stretch', height='500px'))"
      ]
     },
     "metadata": {},
     "output_type": "display_data"
    },
    {
     "data": {
      "application/vnd.jupyter.widget-view+json": {
       "model_id": "ec8e686514844627bc7ba87ccbc3c991",
       "version_major": 2,
       "version_minor": 0
      },
      "text/plain": [
       "MetricVisualizer(layout=Layout(align_self='stretch', height='500px'))"
      ]
     },
     "metadata": {},
     "output_type": "display_data"
    },
    {
     "data": {
      "application/vnd.jupyter.widget-view+json": {
       "model_id": "fbf8a6a0d2d241ab9711ac37cf7e8ad4",
       "version_major": 2,
       "version_minor": 0
      },
      "text/plain": [
       "MetricVisualizer(layout=Layout(align_self='stretch', height='500px'))"
      ]
     },
     "metadata": {},
     "output_type": "display_data"
    },
    {
     "data": {
      "application/vnd.jupyter.widget-view+json": {
       "model_id": "2924371d59b2468581698a7e5e79b20f",
       "version_major": 2,
       "version_minor": 0
      },
      "text/plain": [
       "MetricVisualizer(layout=Layout(align_self='stretch', height='500px'))"
      ]
     },
     "metadata": {},
     "output_type": "display_data"
    },
    {
     "data": {
      "application/vnd.jupyter.widget-view+json": {
       "model_id": "c07283cef71540d3aa58c27f0e78765a",
       "version_major": 2,
       "version_minor": 0
      },
      "text/plain": [
       "MetricVisualizer(layout=Layout(align_self='stretch', height='500px'))"
      ]
     },
     "metadata": {},
     "output_type": "display_data"
    },
    {
     "data": {
      "application/vnd.jupyter.widget-view+json": {
       "model_id": "b863df2ab6a34f74ac37360a0addeaaf",
       "version_major": 2,
       "version_minor": 0
      },
      "text/plain": [
       "MetricVisualizer(layout=Layout(align_self='stretch', height='500px'))"
      ]
     },
     "metadata": {},
     "output_type": "display_data"
    },
    {
     "data": {
      "application/vnd.jupyter.widget-view+json": {
       "model_id": "4170280e01144e5b977908565bb3bcf8",
       "version_major": 2,
       "version_minor": 0
      },
      "text/plain": [
       "MetricVisualizer(layout=Layout(align_self='stretch', height='500px'))"
      ]
     },
     "metadata": {},
     "output_type": "display_data"
    },
    {
     "data": {
      "application/vnd.jupyter.widget-view+json": {
       "model_id": "a4f08c18b5ed4054a9e0e1e578131632",
       "version_major": 2,
       "version_minor": 0
      },
      "text/plain": [
       "MetricVisualizer(layout=Layout(align_self='stretch', height='500px'))"
      ]
     },
     "metadata": {},
     "output_type": "display_data"
    },
    {
     "data": {
      "application/vnd.jupyter.widget-view+json": {
       "model_id": "ba626628325a4bd98341357a4ee551eb",
       "version_major": 2,
       "version_minor": 0
      },
      "text/plain": [
       "MetricVisualizer(layout=Layout(align_self='stretch', height='500px'))"
      ]
     },
     "metadata": {},
     "output_type": "display_data"
    },
    {
     "data": {
      "application/vnd.jupyter.widget-view+json": {
       "model_id": "028d16e27659490390a77a55ffd5fdb4",
       "version_major": 2,
       "version_minor": 0
      },
      "text/plain": [
       "MetricVisualizer(layout=Layout(align_self='stretch', height='500px'))"
      ]
     },
     "metadata": {},
     "output_type": "display_data"
    },
    {
     "data": {
      "application/vnd.jupyter.widget-view+json": {
       "model_id": "784137f84b2e4da6936c39f7224ce822",
       "version_major": 2,
       "version_minor": 0
      },
      "text/plain": [
       "MetricVisualizer(layout=Layout(align_self='stretch', height='500px'))"
      ]
     },
     "metadata": {},
     "output_type": "display_data"
    },
    {
     "data": {
      "application/vnd.jupyter.widget-view+json": {
       "model_id": "b33f7e7493a24df7871685f29f1a0bd4",
       "version_major": 2,
       "version_minor": 0
      },
      "text/plain": [
       "MetricVisualizer(layout=Layout(align_self='stretch', height='500px'))"
      ]
     },
     "metadata": {},
     "output_type": "display_data"
    },
    {
     "data": {
      "application/vnd.jupyter.widget-view+json": {
       "model_id": "d82f7762950b4547ba15d1f6e7117396",
       "version_major": 2,
       "version_minor": 0
      },
      "text/plain": [
       "MetricVisualizer(layout=Layout(align_self='stretch', height='500px'))"
      ]
     },
     "metadata": {},
     "output_type": "display_data"
    },
    {
     "data": {
      "application/vnd.jupyter.widget-view+json": {
       "model_id": "fc4d96fd043c4552b39949c0236cfd01",
       "version_major": 2,
       "version_minor": 0
      },
      "text/plain": [
       "MetricVisualizer(layout=Layout(align_self='stretch', height='500px'))"
      ]
     },
     "metadata": {},
     "output_type": "display_data"
    },
    {
     "data": {
      "application/vnd.jupyter.widget-view+json": {
       "model_id": "b2b6392fbf774a2fa69a9808390ddfb5",
       "version_major": 2,
       "version_minor": 0
      },
      "text/plain": [
       "MetricVisualizer(layout=Layout(align_self='stretch', height='500px'))"
      ]
     },
     "metadata": {},
     "output_type": "display_data"
    },
    {
     "data": {
      "application/vnd.jupyter.widget-view+json": {
       "model_id": "523a001272794832b705b239542254f5",
       "version_major": 2,
       "version_minor": 0
      },
      "text/plain": [
       "MetricVisualizer(layout=Layout(align_self='stretch', height='500px'))"
      ]
     },
     "metadata": {},
     "output_type": "display_data"
    },
    {
     "data": {
      "application/vnd.jupyter.widget-view+json": {
       "model_id": "33a1dfe7ba124d9393bdbe003ea208a4",
       "version_major": 2,
       "version_minor": 0
      },
      "text/plain": [
       "MetricVisualizer(layout=Layout(align_self='stretch', height='500px'))"
      ]
     },
     "metadata": {},
     "output_type": "display_data"
    },
    {
     "data": {
      "application/vnd.jupyter.widget-view+json": {
       "model_id": "ab546eefd1044dd0b4942178a052f569",
       "version_major": 2,
       "version_minor": 0
      },
      "text/plain": [
       "MetricVisualizer(layout=Layout(align_self='stretch', height='500px'))"
      ]
     },
     "metadata": {},
     "output_type": "display_data"
    },
    {
     "data": {
      "application/vnd.jupyter.widget-view+json": {
       "model_id": "4a55e517cf4748b9ba06be2b369eaffa",
       "version_major": 2,
       "version_minor": 0
      },
      "text/plain": [
       "MetricVisualizer(layout=Layout(align_self='stretch', height='500px'))"
      ]
     },
     "metadata": {},
     "output_type": "display_data"
    },
    {
     "data": {
      "application/vnd.jupyter.widget-view+json": {
       "model_id": "9d91c580d45e495fa59e137285858eac",
       "version_major": 2,
       "version_minor": 0
      },
      "text/plain": [
       "MetricVisualizer(layout=Layout(align_self='stretch', height='500px'))"
      ]
     },
     "metadata": {},
     "output_type": "display_data"
    },
    {
     "data": {
      "application/vnd.jupyter.widget-view+json": {
       "model_id": "c24d6b4196c34ad3ad14df422c23cd88",
       "version_major": 2,
       "version_minor": 0
      },
      "text/plain": [
       "MetricVisualizer(layout=Layout(align_self='stretch', height='500px'))"
      ]
     },
     "metadata": {},
     "output_type": "display_data"
    },
    {
     "data": {
      "application/vnd.jupyter.widget-view+json": {
       "model_id": "7c93465eaa5b47d4bfa4bef6292fb3d3",
       "version_major": 2,
       "version_minor": 0
      },
      "text/plain": [
       "MetricVisualizer(layout=Layout(align_self='stretch', height='500px'))"
      ]
     },
     "metadata": {},
     "output_type": "display_data"
    },
    {
     "data": {
      "application/vnd.jupyter.widget-view+json": {
       "model_id": "0d1b030bb05942628a6ed5d5d74e901a",
       "version_major": 2,
       "version_minor": 0
      },
      "text/plain": [
       "MetricVisualizer(layout=Layout(align_self='stretch', height='500px'))"
      ]
     },
     "metadata": {},
     "output_type": "display_data"
    },
    {
     "data": {
      "application/vnd.jupyter.widget-view+json": {
       "model_id": "0345be63b5d64ff2a16e5b50f7b8ff50",
       "version_major": 2,
       "version_minor": 0
      },
      "text/plain": [
       "MetricVisualizer(layout=Layout(align_self='stretch', height='500px'))"
      ]
     },
     "metadata": {},
     "output_type": "display_data"
    },
    {
     "data": {
      "application/vnd.jupyter.widget-view+json": {
       "model_id": "f89d1472c5c142458a74f96c2fda68dd",
       "version_major": 2,
       "version_minor": 0
      },
      "text/plain": [
       "MetricVisualizer(layout=Layout(align_self='stretch', height='500px'))"
      ]
     },
     "metadata": {},
     "output_type": "display_data"
    },
    {
     "data": {
      "application/vnd.jupyter.widget-view+json": {
       "model_id": "626f8ab5e51b47a68604cc59897ee8c5",
       "version_major": 2,
       "version_minor": 0
      },
      "text/plain": [
       "MetricVisualizer(layout=Layout(align_self='stretch', height='500px'))"
      ]
     },
     "metadata": {},
     "output_type": "display_data"
    },
    {
     "data": {
      "application/vnd.jupyter.widget-view+json": {
       "model_id": "7bdf2c0428784e66bf58458e6aea2fdc",
       "version_major": 2,
       "version_minor": 0
      },
      "text/plain": [
       "MetricVisualizer(layout=Layout(align_self='stretch', height='500px'))"
      ]
     },
     "metadata": {},
     "output_type": "display_data"
    },
    {
     "data": {
      "application/vnd.jupyter.widget-view+json": {
       "model_id": "12e0a80452eb46e3822599bae57d6293",
       "version_major": 2,
       "version_minor": 0
      },
      "text/plain": [
       "MetricVisualizer(layout=Layout(align_self='stretch', height='500px'))"
      ]
     },
     "metadata": {},
     "output_type": "display_data"
    },
    {
     "data": {
      "application/vnd.jupyter.widget-view+json": {
       "model_id": "2bc5c5a7573b44af86063f881d343feb",
       "version_major": 2,
       "version_minor": 0
      },
      "text/plain": [
       "MetricVisualizer(layout=Layout(align_self='stretch', height='500px'))"
      ]
     },
     "metadata": {},
     "output_type": "display_data"
    },
    {
     "data": {
      "application/vnd.jupyter.widget-view+json": {
       "model_id": "de8f370ab16e47cca010c67c395f822f",
       "version_major": 2,
       "version_minor": 0
      },
      "text/plain": [
       "MetricVisualizer(layout=Layout(align_self='stretch', height='500px'))"
      ]
     },
     "metadata": {},
     "output_type": "display_data"
    },
    {
     "data": {
      "application/vnd.jupyter.widget-view+json": {
       "model_id": "63b46252e07440288665c66152c3ba52",
       "version_major": 2,
       "version_minor": 0
      },
      "text/plain": [
       "MetricVisualizer(layout=Layout(align_self='stretch', height='500px'))"
      ]
     },
     "metadata": {},
     "output_type": "display_data"
    },
    {
     "data": {
      "application/vnd.jupyter.widget-view+json": {
       "model_id": "ccbe4935f8914587a98a04411fc00856",
       "version_major": 2,
       "version_minor": 0
      },
      "text/plain": [
       "MetricVisualizer(layout=Layout(align_self='stretch', height='500px'))"
      ]
     },
     "metadata": {},
     "output_type": "display_data"
    },
    {
     "data": {
      "application/vnd.jupyter.widget-view+json": {
       "model_id": "78a1ec61396b41a5a5d250d2b2015a6e",
       "version_major": 2,
       "version_minor": 0
      },
      "text/plain": [
       "MetricVisualizer(layout=Layout(align_self='stretch', height='500px'))"
      ]
     },
     "metadata": {},
     "output_type": "display_data"
    },
    {
     "data": {
      "application/vnd.jupyter.widget-view+json": {
       "model_id": "5c6295a807cf48da9dce6c6e6e145c2b",
       "version_major": 2,
       "version_minor": 0
      },
      "text/plain": [
       "MetricVisualizer(layout=Layout(align_self='stretch', height='500px'))"
      ]
     },
     "metadata": {},
     "output_type": "display_data"
    },
    {
     "data": {
      "application/vnd.jupyter.widget-view+json": {
       "model_id": "0b7bf53e7c6a4afdb10b2b08d9a93cd7",
       "version_major": 2,
       "version_minor": 0
      },
      "text/plain": [
       "MetricVisualizer(layout=Layout(align_self='stretch', height='500px'))"
      ]
     },
     "metadata": {},
     "output_type": "display_data"
    },
    {
     "data": {
      "application/vnd.jupyter.widget-view+json": {
       "model_id": "02dfc1309a6f428691f040ce9fcd80d4",
       "version_major": 2,
       "version_minor": 0
      },
      "text/plain": [
       "MetricVisualizer(layout=Layout(align_self='stretch', height='500px'))"
      ]
     },
     "metadata": {},
     "output_type": "display_data"
    },
    {
     "data": {
      "application/vnd.jupyter.widget-view+json": {
       "model_id": "d754e48052bd4644a79c751853b6b4de",
       "version_major": 2,
       "version_minor": 0
      },
      "text/plain": [
       "MetricVisualizer(layout=Layout(align_self='stretch', height='500px'))"
      ]
     },
     "metadata": {},
     "output_type": "display_data"
    },
    {
     "data": {
      "application/vnd.jupyter.widget-view+json": {
       "model_id": "4d0239dc40d64de0b765fd420c43ca41",
       "version_major": 2,
       "version_minor": 0
      },
      "text/plain": [
       "MetricVisualizer(layout=Layout(align_self='stretch', height='500px'))"
      ]
     },
     "metadata": {},
     "output_type": "display_data"
    },
    {
     "data": {
      "application/vnd.jupyter.widget-view+json": {
       "model_id": "3cc1626b35464ab29312c6548730f9cc",
       "version_major": 2,
       "version_minor": 0
      },
      "text/plain": [
       "MetricVisualizer(layout=Layout(align_self='stretch', height='500px'))"
      ]
     },
     "metadata": {},
     "output_type": "display_data"
    },
    {
     "data": {
      "application/vnd.jupyter.widget-view+json": {
       "model_id": "2abff6a5c75b481d97b909b7de4032be",
       "version_major": 2,
       "version_minor": 0
      },
      "text/plain": [
       "MetricVisualizer(layout=Layout(align_self='stretch', height='500px'))"
      ]
     },
     "metadata": {},
     "output_type": "display_data"
    },
    {
     "data": {
      "application/vnd.jupyter.widget-view+json": {
       "model_id": "e216d89142024c64af0c1fa859531b2d",
       "version_major": 2,
       "version_minor": 0
      },
      "text/plain": [
       "MetricVisualizer(layout=Layout(align_self='stretch', height='500px'))"
      ]
     },
     "metadata": {},
     "output_type": "display_data"
    },
    {
     "data": {
      "application/vnd.jupyter.widget-view+json": {
       "model_id": "76d9765188a9409bb733f450c645a134",
       "version_major": 2,
       "version_minor": 0
      },
      "text/plain": [
       "MetricVisualizer(layout=Layout(align_self='stretch', height='500px'))"
      ]
     },
     "metadata": {},
     "output_type": "display_data"
    },
    {
     "data": {
      "application/vnd.jupyter.widget-view+json": {
       "model_id": "67f3fe2355ee421ebc7fd7cda448f8f4",
       "version_major": 2,
       "version_minor": 0
      },
      "text/plain": [
       "MetricVisualizer(layout=Layout(align_self='stretch', height='500px'))"
      ]
     },
     "metadata": {},
     "output_type": "display_data"
    },
    {
     "data": {
      "application/vnd.jupyter.widget-view+json": {
       "model_id": "4e381c1084214f6b8e6dca3c4698d9aa",
       "version_major": 2,
       "version_minor": 0
      },
      "text/plain": [
       "MetricVisualizer(layout=Layout(align_self='stretch', height='500px'))"
      ]
     },
     "metadata": {},
     "output_type": "display_data"
    },
    {
     "data": {
      "application/vnd.jupyter.widget-view+json": {
       "model_id": "bb9953d225934b7594baacc0b3fe8475",
       "version_major": 2,
       "version_minor": 0
      },
      "text/plain": [
       "MetricVisualizer(layout=Layout(align_self='stretch', height='500px'))"
      ]
     },
     "metadata": {},
     "output_type": "display_data"
    },
    {
     "data": {
      "application/vnd.jupyter.widget-view+json": {
       "model_id": "a9eb12a9eb674a2e90a0ae9b8ecf39e8",
       "version_major": 2,
       "version_minor": 0
      },
      "text/plain": [
       "MetricVisualizer(layout=Layout(align_self='stretch', height='500px'))"
      ]
     },
     "metadata": {},
     "output_type": "display_data"
    },
    {
     "data": {
      "application/vnd.jupyter.widget-view+json": {
       "model_id": "9e96a0d520e346b6a33a039eb3e8ad8f",
       "version_major": 2,
       "version_minor": 0
      },
      "text/plain": [
       "MetricVisualizer(layout=Layout(align_self='stretch', height='500px'))"
      ]
     },
     "metadata": {},
     "output_type": "display_data"
    },
    {
     "data": {
      "application/vnd.jupyter.widget-view+json": {
       "model_id": "3487d82d6dcd48e290939e1492f97904",
       "version_major": 2,
       "version_minor": 0
      },
      "text/plain": [
       "MetricVisualizer(layout=Layout(align_self='stretch', height='500px'))"
      ]
     },
     "metadata": {},
     "output_type": "display_data"
    },
    {
     "data": {
      "application/vnd.jupyter.widget-view+json": {
       "model_id": "c3db125a94c642299c72d8def1b2e2cf",
       "version_major": 2,
       "version_minor": 0
      },
      "text/plain": [
       "MetricVisualizer(layout=Layout(align_self='stretch', height='500px'))"
      ]
     },
     "metadata": {},
     "output_type": "display_data"
    },
    {
     "data": {
      "application/vnd.jupyter.widget-view+json": {
       "model_id": "bb4a48d281fb433082c57ffedc755a5a",
       "version_major": 2,
       "version_minor": 0
      },
      "text/plain": [
       "MetricVisualizer(layout=Layout(align_self='stretch', height='500px'))"
      ]
     },
     "metadata": {},
     "output_type": "display_data"
    },
    {
     "data": {
      "application/vnd.jupyter.widget-view+json": {
       "model_id": "2376a577761f480b84b9a2e9fdb3e5bd",
       "version_major": 2,
       "version_minor": 0
      },
      "text/plain": [
       "MetricVisualizer(layout=Layout(align_self='stretch', height='500px'))"
      ]
     },
     "metadata": {},
     "output_type": "display_data"
    },
    {
     "data": {
      "application/vnd.jupyter.widget-view+json": {
       "model_id": "466edef670204d9aa05eebce1fe676ad",
       "version_major": 2,
       "version_minor": 0
      },
      "text/plain": [
       "MetricVisualizer(layout=Layout(align_self='stretch', height='500px'))"
      ]
     },
     "metadata": {},
     "output_type": "display_data"
    },
    {
     "data": {
      "application/vnd.jupyter.widget-view+json": {
       "model_id": "375704af5c164f549b425c69d859505b",
       "version_major": 2,
       "version_minor": 0
      },
      "text/plain": [
       "MetricVisualizer(layout=Layout(align_self='stretch', height='500px'))"
      ]
     },
     "metadata": {},
     "output_type": "display_data"
    },
    {
     "data": {
      "application/vnd.jupyter.widget-view+json": {
       "model_id": "f46ac05dd6a644018ac1dc6ec93f1238",
       "version_major": 2,
       "version_minor": 0
      },
      "text/plain": [
       "MetricVisualizer(layout=Layout(align_self='stretch', height='500px'))"
      ]
     },
     "metadata": {},
     "output_type": "display_data"
    },
    {
     "data": {
      "application/vnd.jupyter.widget-view+json": {
       "model_id": "779912105c9c458692329d6c634ffd28",
       "version_major": 2,
       "version_minor": 0
      },
      "text/plain": [
       "MetricVisualizer(layout=Layout(align_self='stretch', height='500px'))"
      ]
     },
     "metadata": {},
     "output_type": "display_data"
    },
    {
     "data": {
      "application/vnd.jupyter.widget-view+json": {
       "model_id": "02a9f031c3084c55847995d41062b0e7",
       "version_major": 2,
       "version_minor": 0
      },
      "text/plain": [
       "MetricVisualizer(layout=Layout(align_self='stretch', height='500px'))"
      ]
     },
     "metadata": {},
     "output_type": "display_data"
    },
    {
     "data": {
      "application/vnd.jupyter.widget-view+json": {
       "model_id": "9c41fcb1a446473a87c6cabafdefbb4c",
       "version_major": 2,
       "version_minor": 0
      },
      "text/plain": [
       "MetricVisualizer(layout=Layout(align_self='stretch', height='500px'))"
      ]
     },
     "metadata": {},
     "output_type": "display_data"
    },
    {
     "data": {
      "application/vnd.jupyter.widget-view+json": {
       "model_id": "5edac47c1cfe4572959ee27b266c9d91",
       "version_major": 2,
       "version_minor": 0
      },
      "text/plain": [
       "MetricVisualizer(layout=Layout(align_self='stretch', height='500px'))"
      ]
     },
     "metadata": {},
     "output_type": "display_data"
    },
    {
     "data": {
      "application/vnd.jupyter.widget-view+json": {
       "model_id": "847cd845bd004182b77d04fdfa73b21d",
       "version_major": 2,
       "version_minor": 0
      },
      "text/plain": [
       "MetricVisualizer(layout=Layout(align_self='stretch', height='500px'))"
      ]
     },
     "metadata": {},
     "output_type": "display_data"
    },
    {
     "data": {
      "application/vnd.jupyter.widget-view+json": {
       "model_id": "9cd0fe9a5ed149da91fc2a6e02a74b4b",
       "version_major": 2,
       "version_minor": 0
      },
      "text/plain": [
       "MetricVisualizer(layout=Layout(align_self='stretch', height='500px'))"
      ]
     },
     "metadata": {},
     "output_type": "display_data"
    },
    {
     "data": {
      "application/vnd.jupyter.widget-view+json": {
       "model_id": "62854a33d81a41d698ddc5938cdbd3fd",
       "version_major": 2,
       "version_minor": 0
      },
      "text/plain": [
       "MetricVisualizer(layout=Layout(align_self='stretch', height='500px'))"
      ]
     },
     "metadata": {},
     "output_type": "display_data"
    },
    {
     "data": {
      "application/vnd.jupyter.widget-view+json": {
       "model_id": "fe67dd4144d045e5a405f3bdd6cd0643",
       "version_major": 2,
       "version_minor": 0
      },
      "text/plain": [
       "MetricVisualizer(layout=Layout(align_self='stretch', height='500px'))"
      ]
     },
     "metadata": {},
     "output_type": "display_data"
    },
    {
     "data": {
      "application/vnd.jupyter.widget-view+json": {
       "model_id": "1bac1f51cc244a1dbda552bc52a5eb82",
       "version_major": 2,
       "version_minor": 0
      },
      "text/plain": [
       "MetricVisualizer(layout=Layout(align_self='stretch', height='500px'))"
      ]
     },
     "metadata": {},
     "output_type": "display_data"
    },
    {
     "data": {
      "application/vnd.jupyter.widget-view+json": {
       "model_id": "997e11a34fd942d08d9d9818e29101b1",
       "version_major": 2,
       "version_minor": 0
      },
      "text/plain": [
       "MetricVisualizer(layout=Layout(align_self='stretch', height='500px'))"
      ]
     },
     "metadata": {},
     "output_type": "display_data"
    },
    {
     "data": {
      "application/vnd.jupyter.widget-view+json": {
       "model_id": "ded60479206d4ee08e76ef45c45f5275",
       "version_major": 2,
       "version_minor": 0
      },
      "text/plain": [
       "MetricVisualizer(layout=Layout(align_self='stretch', height='500px'))"
      ]
     },
     "metadata": {},
     "output_type": "display_data"
    },
    {
     "data": {
      "application/vnd.jupyter.widget-view+json": {
       "model_id": "77e37edfd8bc4dc4b9ab7a4804d9c842",
       "version_major": 2,
       "version_minor": 0
      },
      "text/plain": [
       "MetricVisualizer(layout=Layout(align_self='stretch', height='500px'))"
      ]
     },
     "metadata": {},
     "output_type": "display_data"
    },
    {
     "data": {
      "application/vnd.jupyter.widget-view+json": {
       "model_id": "00da14cfc3d640daa84c268ef608f6ca",
       "version_major": 2,
       "version_minor": 0
      },
      "text/plain": [
       "MetricVisualizer(layout=Layout(align_self='stretch', height='500px'))"
      ]
     },
     "metadata": {},
     "output_type": "display_data"
    },
    {
     "data": {
      "application/vnd.jupyter.widget-view+json": {
       "model_id": "a20b37c13b564bffb96eb26706c24963",
       "version_major": 2,
       "version_minor": 0
      },
      "text/plain": [
       "MetricVisualizer(layout=Layout(align_self='stretch', height='500px'))"
      ]
     },
     "metadata": {},
     "output_type": "display_data"
    },
    {
     "data": {
      "application/vnd.jupyter.widget-view+json": {
       "model_id": "556a3f4682a34e69abe8cee7a5667c70",
       "version_major": 2,
       "version_minor": 0
      },
      "text/plain": [
       "MetricVisualizer(layout=Layout(align_self='stretch', height='500px'))"
      ]
     },
     "metadata": {},
     "output_type": "display_data"
    },
    {
     "data": {
      "application/vnd.jupyter.widget-view+json": {
       "model_id": "6aa17fa9cda44ee887ba194411bdc769",
       "version_major": 2,
       "version_minor": 0
      },
      "text/plain": [
       "MetricVisualizer(layout=Layout(align_self='stretch', height='500px'))"
      ]
     },
     "metadata": {},
     "output_type": "display_data"
    },
    {
     "data": {
      "application/vnd.jupyter.widget-view+json": {
       "model_id": "6ec8f2e8347147779f35ea2c546a445c",
       "version_major": 2,
       "version_minor": 0
      },
      "text/plain": [
       "MetricVisualizer(layout=Layout(align_self='stretch', height='500px'))"
      ]
     },
     "metadata": {},
     "output_type": "display_data"
    },
    {
     "data": {
      "application/vnd.jupyter.widget-view+json": {
       "model_id": "f9abbbe5d47546e4ad779131187aa8f3",
       "version_major": 2,
       "version_minor": 0
      },
      "text/plain": [
       "MetricVisualizer(layout=Layout(align_self='stretch', height='500px'))"
      ]
     },
     "metadata": {},
     "output_type": "display_data"
    },
    {
     "data": {
      "application/vnd.jupyter.widget-view+json": {
       "model_id": "4b4abf567cce4931b85b598faaa86e56",
       "version_major": 2,
       "version_minor": 0
      },
      "text/plain": [
       "MetricVisualizer(layout=Layout(align_self='stretch', height='500px'))"
      ]
     },
     "metadata": {},
     "output_type": "display_data"
    },
    {
     "data": {
      "application/vnd.jupyter.widget-view+json": {
       "model_id": "e8b7840d624c4b1d846a0e6b5447773b",
       "version_major": 2,
       "version_minor": 0
      },
      "text/plain": [
       "MetricVisualizer(layout=Layout(align_self='stretch', height='500px'))"
      ]
     },
     "metadata": {},
     "output_type": "display_data"
    },
    {
     "name": "stdout",
     "output_type": "stream",
     "text": [
      "Лучшие параметры: {'depth': 6, 'l2_leaf_reg': 3, 'learning_rate': 0.001}\n",
      "Лучшая оценка точности: 0.5363807031516669\n"
     ]
    }
   ],
   "source": [
    "train_pool = Pool(x_train, label=y_train, cat_features=cat)\n",
    "val_pool = Pool(x_val, label=y_val, cat_features=cat)\n",
    "\n",
    "model = CatBoostClassifier(iterations=2000, loss_function='MultiClass')\n",
    "\n",
    "param_grid = {\n",
    "    'depth': [4, 6, 8],\n",
    "    'l2_leaf_reg': [3, 5, 7, 9],\n",
    "    'learning_rate': [0.001, 0.005],\n",
    "}\n",
    "\n",
    "grid_search = GridSearchCV(estimator=model, \n",
    "                           param_grid=param_grid, \n",
    "                           cv=None,                                                      \n",
    "                           )\n",
    "\n",
    "grid_search.fit(x_train, y_train, cat_features=cat, eval_set=(x_val, y_val), plot=True, verbose=False)\n",
    "\n",
    "print(\"Лучшие параметры:\", grid_search.best_params_)\n",
    "print(\"Лучшая оценка точности:\", grid_search.best_score_)"
   ]
  },
  {
   "cell_type": "code",
   "execution_count": 195,
   "metadata": {},
   "outputs": [
    {
     "name": "stdout",
     "output_type": "stream",
     "text": [
      "Лучшие параметры: {'depth': 6, 'l2_leaf_reg': 3, 'learning_rate': 0.001}\n"
     ]
    }
   ],
   "source": [
    "print(\"Лучшие параметры:\", grid_search.best_params_)"
   ]
  },
  {
   "cell_type": "code",
   "execution_count": 196,
   "metadata": {},
   "outputs": [
    {
     "data": {
      "application/vnd.jupyter.widget-view+json": {
       "model_id": "09a02d214d484b18b20f855c54fd828e",
       "version_major": 2,
       "version_minor": 0
      },
      "text/plain": [
       "MetricVisualizer(layout=Layout(align_self='stretch', height='500px'))"
      ]
     },
     "metadata": {},
     "output_type": "display_data"
    },
    {
     "data": {
      "text/plain": [
       "<catboost.core.CatBoostClassifier at 0x7f7b02114d60>"
      ]
     },
     "execution_count": 196,
     "metadata": {},
     "output_type": "execute_result"
    }
   ],
   "source": [
    "model = CatBoostClassifier(iterations=2000, learning_rate=0.0005, loss_function='MultiClass')\n",
    "\n",
    "model.fit(x_train, y_train, cat_features=cat, eval_set=(x_val, y_val),  verbose=False, plot=True)"
   ]
  },
  {
   "cell_type": "code",
   "execution_count": 201,
   "metadata": {},
   "outputs": [
    {
     "data": {
      "text/plain": [
       "0.584"
      ]
     },
     "execution_count": 201,
     "metadata": {},
     "output_type": "execute_result"
    }
   ],
   "source": [
    "accuracy_score(y_val, model.predict(x_val))\n"
   ]
  },
  {
   "cell_type": "markdown",
   "metadata": {},
   "source": [
    "## Data pickl"
   ]
  },
  {
   "cell_type": "code",
   "execution_count": 198,
   "metadata": {},
   "outputs": [],
   "source": [
    "name_cols = 'pickle/name_cols.pickle'\n",
    "\n",
    "col_pkl = list(df_temp.columns)\n",
    "col_pkl.remove('team_1_hue')\n",
    "\n",
    "with open(name_cols, 'wb') as file:\n",
    "    pickle.dump(col_pkl, file)\n"
   ]
  },
  {
   "cell_type": "code",
   "execution_count": 199,
   "metadata": {},
   "outputs": [],
   "source": [
    "model = CatBoostClassifier(iterations=2000, learning_rate=0.0005, loss_function='MultiClass', depth=4, l2_leaf_reg=6)\n",
    "model.fit(x_train, y_train, cat_features=cat, verbose=False)\n",
    "\n",
    "with open('pickle/catboost.pickle', 'wb') as file:\n",
    "    pickle.dump(model, file)"
   ]
  },
  {
   "cell_type": "code",
   "execution_count": 200,
   "metadata": {},
   "outputs": [
    {
     "data": {
      "text/html": [
       "<div>\n",
       "<style scoped>\n",
       "    .dataframe tbody tr th:only-of-type {\n",
       "        vertical-align: middle;\n",
       "    }\n",
       "\n",
       "    .dataframe tbody tr th {\n",
       "        vertical-align: top;\n",
       "    }\n",
       "\n",
       "    .dataframe thead th {\n",
       "        text-align: right;\n",
       "    }\n",
       "</style>\n",
       "<table border=\"1\" class=\"dataframe\">\n",
       "  <thead>\n",
       "    <tr style=\"text-align: right;\">\n",
       "      <th></th>\n",
       "      <th>gameweek_gameweek</th>\n",
       "      <th>gameweek_compSeason_label</th>\n",
       "      <th>teams_team_1_name</th>\n",
       "      <th>teams_team_2_name</th>\n",
       "      <th>ground_name</th>\n",
       "      <th>_accurate_back_zone_pass_team_1</th>\n",
       "      <th>_accurate_corners_intobox_team_1</th>\n",
       "      <th>_accurate_freekick_cross_team_1</th>\n",
       "      <th>_accurate_goal_kicks_team_1</th>\n",
       "      <th>_accurate_keeper_sweeper_team_1</th>\n",
       "      <th>...</th>\n",
       "      <th>_overrun_lag_team2</th>\n",
       "      <th>_own_goal_accrued_lag_team2</th>\n",
       "      <th>_penalty_conceded_lag_team2</th>\n",
       "      <th>_pts_dropped_winning_pos_lag_team2</th>\n",
       "      <th>_pts_gained_losing_pos_lag_team2</th>\n",
       "      <th>_second_yellow_lag_team2</th>\n",
       "      <th>_shield_ball_oop_lag_team2</th>\n",
       "      <th>_six_yard_block_lag_team2</th>\n",
       "      <th>_subs_goals_lag_team2</th>\n",
       "      <th>_total_red_card_lag_team2</th>\n",
       "    </tr>\n",
       "  </thead>\n",
       "  <tbody>\n",
       "    <tr>\n",
       "      <th>250</th>\n",
       "      <td>28</td>\n",
       "      <td>2022</td>\n",
       "      <td>Wolverhampton Wanderers</td>\n",
       "      <td>Leeds United</td>\n",
       "      <td>Molineux Stadium</td>\n",
       "      <td>7582.25</td>\n",
       "      <td>43.750000</td>\n",
       "      <td>16.500000</td>\n",
       "      <td>182.000000</td>\n",
       "      <td>13.00</td>\n",
       "      <td>...</td>\n",
       "      <td>50.0</td>\n",
       "      <td>2.275362</td>\n",
       "      <td>6.0</td>\n",
       "      <td>19.0</td>\n",
       "      <td>9.0</td>\n",
       "      <td>1.581395</td>\n",
       "      <td>17.0</td>\n",
       "      <td>14.0</td>\n",
       "      <td>4.285714</td>\n",
       "      <td>3.0</td>\n",
       "    </tr>\n",
       "    <tr>\n",
       "      <th>251</th>\n",
       "      <td>28</td>\n",
       "      <td>2022</td>\n",
       "      <td>Southampton</td>\n",
       "      <td>Tottenham Hotspur</td>\n",
       "      <td>St. Mary's Stadium</td>\n",
       "      <td>6161.75</td>\n",
       "      <td>46.000000</td>\n",
       "      <td>17.000000</td>\n",
       "      <td>140.250000</td>\n",
       "      <td>15.75</td>\n",
       "      <td>...</td>\n",
       "      <td>41.0</td>\n",
       "      <td>6.000000</td>\n",
       "      <td>3.0</td>\n",
       "      <td>7.0</td>\n",
       "      <td>14.0</td>\n",
       "      <td>1.000000</td>\n",
       "      <td>24.0</td>\n",
       "      <td>12.0</td>\n",
       "      <td>4.285714</td>\n",
       "      <td>1.0</td>\n",
       "    </tr>\n",
       "    <tr>\n",
       "      <th>252</th>\n",
       "      <td>28</td>\n",
       "      <td>2022</td>\n",
       "      <td>Nottingham Forest</td>\n",
       "      <td>Newcastle United</td>\n",
       "      <td>The City Ground</td>\n",
       "      <td>5016.00</td>\n",
       "      <td>29.000000</td>\n",
       "      <td>15.000000</td>\n",
       "      <td>197.000000</td>\n",
       "      <td>17.00</td>\n",
       "      <td>...</td>\n",
       "      <td>45.0</td>\n",
       "      <td>3.000000</td>\n",
       "      <td>6.0</td>\n",
       "      <td>24.0</td>\n",
       "      <td>14.0</td>\n",
       "      <td>1.000000</td>\n",
       "      <td>23.0</td>\n",
       "      <td>12.0</td>\n",
       "      <td>4.285714</td>\n",
       "      <td>2.0</td>\n",
       "    </tr>\n",
       "    <tr>\n",
       "      <th>253</th>\n",
       "      <td>34</td>\n",
       "      <td>2022</td>\n",
       "      <td>Manchester City</td>\n",
       "      <td>West Ham United</td>\n",
       "      <td>Etihad Stadium</td>\n",
       "      <td>10041.25</td>\n",
       "      <td>65.750000</td>\n",
       "      <td>11.500000</td>\n",
       "      <td>136.250000</td>\n",
       "      <td>17.00</td>\n",
       "      <td>...</td>\n",
       "      <td>40.0</td>\n",
       "      <td>3.000000</td>\n",
       "      <td>6.0</td>\n",
       "      <td>16.0</td>\n",
       "      <td>14.0</td>\n",
       "      <td>2.000000</td>\n",
       "      <td>18.0</td>\n",
       "      <td>16.0</td>\n",
       "      <td>4.285714</td>\n",
       "      <td>3.0</td>\n",
       "    </tr>\n",
       "    <tr>\n",
       "      <th>254</th>\n",
       "      <td>34</td>\n",
       "      <td>2022</td>\n",
       "      <td>Liverpool</td>\n",
       "      <td>Fulham</td>\n",
       "      <td>Anfield</td>\n",
       "      <td>9401.25</td>\n",
       "      <td>64.250000</td>\n",
       "      <td>16.000000</td>\n",
       "      <td>177.250000</td>\n",
       "      <td>31.00</td>\n",
       "      <td>...</td>\n",
       "      <td>NaN</td>\n",
       "      <td>NaN</td>\n",
       "      <td>NaN</td>\n",
       "      <td>NaN</td>\n",
       "      <td>NaN</td>\n",
       "      <td>NaN</td>\n",
       "      <td>NaN</td>\n",
       "      <td>NaN</td>\n",
       "      <td>NaN</td>\n",
       "      <td>NaN</td>\n",
       "    </tr>\n",
       "    <tr>\n",
       "      <th>...</th>\n",
       "      <td>...</td>\n",
       "      <td>...</td>\n",
       "      <td>...</td>\n",
       "      <td>...</td>\n",
       "      <td>...</td>\n",
       "      <td>...</td>\n",
       "      <td>...</td>\n",
       "      <td>...</td>\n",
       "      <td>...</td>\n",
       "      <td>...</td>\n",
       "      <td>...</td>\n",
       "      <td>...</td>\n",
       "      <td>...</td>\n",
       "      <td>...</td>\n",
       "      <td>...</td>\n",
       "      <td>...</td>\n",
       "      <td>...</td>\n",
       "      <td>...</td>\n",
       "      <td>...</td>\n",
       "      <td>...</td>\n",
       "      <td>...</td>\n",
       "    </tr>\n",
       "    <tr>\n",
       "      <th>1181</th>\n",
       "      <td>19</td>\n",
       "      <td>2020</td>\n",
       "      <td>Manchester City</td>\n",
       "      <td>Aston Villa</td>\n",
       "      <td>Etihad Stadium</td>\n",
       "      <td>10041.25</td>\n",
       "      <td>65.750000</td>\n",
       "      <td>11.500000</td>\n",
       "      <td>136.250000</td>\n",
       "      <td>17.00</td>\n",
       "      <td>...</td>\n",
       "      <td>70.0</td>\n",
       "      <td>1.000000</td>\n",
       "      <td>6.0</td>\n",
       "      <td>23.0</td>\n",
       "      <td>9.0</td>\n",
       "      <td>1.000000</td>\n",
       "      <td>22.0</td>\n",
       "      <td>21.0</td>\n",
       "      <td>4.285714</td>\n",
       "      <td>1.0</td>\n",
       "    </tr>\n",
       "    <tr>\n",
       "      <th>1182</th>\n",
       "      <td>1</td>\n",
       "      <td>2020</td>\n",
       "      <td>Liverpool</td>\n",
       "      <td>Leeds United</td>\n",
       "      <td>Anfield</td>\n",
       "      <td>9401.25</td>\n",
       "      <td>64.250000</td>\n",
       "      <td>16.000000</td>\n",
       "      <td>177.250000</td>\n",
       "      <td>31.00</td>\n",
       "      <td>...</td>\n",
       "      <td>NaN</td>\n",
       "      <td>NaN</td>\n",
       "      <td>NaN</td>\n",
       "      <td>NaN</td>\n",
       "      <td>NaN</td>\n",
       "      <td>NaN</td>\n",
       "      <td>NaN</td>\n",
       "      <td>NaN</td>\n",
       "      <td>NaN</td>\n",
       "      <td>NaN</td>\n",
       "    </tr>\n",
       "    <tr>\n",
       "      <th>1183</th>\n",
       "      <td>1</td>\n",
       "      <td>2020</td>\n",
       "      <td>Fulham</td>\n",
       "      <td>Arsenal</td>\n",
       "      <td>Craven Cottage</td>\n",
       "      <td>7339.00</td>\n",
       "      <td>53.000000</td>\n",
       "      <td>15.500000</td>\n",
       "      <td>199.000000</td>\n",
       "      <td>15.00</td>\n",
       "      <td>...</td>\n",
       "      <td>65.0</td>\n",
       "      <td>2.275362</td>\n",
       "      <td>8.0</td>\n",
       "      <td>21.0</td>\n",
       "      <td>18.0</td>\n",
       "      <td>1.000000</td>\n",
       "      <td>26.0</td>\n",
       "      <td>18.0</td>\n",
       "      <td>4.285714</td>\n",
       "      <td>5.0</td>\n",
       "    </tr>\n",
       "    <tr>\n",
       "      <th>1184</th>\n",
       "      <td>1</td>\n",
       "      <td>2020</td>\n",
       "      <td>Crystal Palace</td>\n",
       "      <td>Southampton</td>\n",
       "      <td>Selhurst Park</td>\n",
       "      <td>6535.25</td>\n",
       "      <td>46.000000</td>\n",
       "      <td>21.500000</td>\n",
       "      <td>168.500000</td>\n",
       "      <td>14.00</td>\n",
       "      <td>...</td>\n",
       "      <td>80.0</td>\n",
       "      <td>2.275362</td>\n",
       "      <td>4.0</td>\n",
       "      <td>17.0</td>\n",
       "      <td>13.0</td>\n",
       "      <td>1.000000</td>\n",
       "      <td>25.0</td>\n",
       "      <td>24.0</td>\n",
       "      <td>4.285714</td>\n",
       "      <td>4.0</td>\n",
       "    </tr>\n",
       "    <tr>\n",
       "      <th>1185</th>\n",
       "      <td>18</td>\n",
       "      <td>2020</td>\n",
       "      <td>Burnley</td>\n",
       "      <td>Manchester United</td>\n",
       "      <td>Turf Moor</td>\n",
       "      <td>4121.00</td>\n",
       "      <td>46.333333</td>\n",
       "      <td>19.666667</td>\n",
       "      <td>143.333333</td>\n",
       "      <td>25.00</td>\n",
       "      <td>...</td>\n",
       "      <td>78.0</td>\n",
       "      <td>2.000000</td>\n",
       "      <td>3.0</td>\n",
       "      <td>14.0</td>\n",
       "      <td>13.0</td>\n",
       "      <td>1.581395</td>\n",
       "      <td>19.0</td>\n",
       "      <td>16.0</td>\n",
       "      <td>4.285714</td>\n",
       "      <td>2.5</td>\n",
       "    </tr>\n",
       "  </tbody>\n",
       "</table>\n",
       "<p>936 rows × 133 columns</p>\n",
       "</div>"
      ],
      "text/plain": [
       "      gameweek_gameweek  gameweek_compSeason_label        teams_team_1_name  \\\n",
       "250                  28                       2022  Wolverhampton Wanderers   \n",
       "251                  28                       2022              Southampton   \n",
       "252                  28                       2022        Nottingham Forest   \n",
       "253                  34                       2022          Manchester City   \n",
       "254                  34                       2022                Liverpool   \n",
       "...                 ...                        ...                      ...   \n",
       "1181                 19                       2020          Manchester City   \n",
       "1182                  1                       2020                Liverpool   \n",
       "1183                  1                       2020                   Fulham   \n",
       "1184                  1                       2020           Crystal Palace   \n",
       "1185                 18                       2020                  Burnley   \n",
       "\n",
       "      teams_team_2_name         ground_name  _accurate_back_zone_pass_team_1  \\\n",
       "250        Leeds United    Molineux Stadium                          7582.25   \n",
       "251   Tottenham Hotspur  St. Mary's Stadium                          6161.75   \n",
       "252    Newcastle United     The City Ground                          5016.00   \n",
       "253     West Ham United      Etihad Stadium                         10041.25   \n",
       "254              Fulham             Anfield                          9401.25   \n",
       "...                 ...                 ...                              ...   \n",
       "1181        Aston Villa      Etihad Stadium                         10041.25   \n",
       "1182       Leeds United             Anfield                          9401.25   \n",
       "1183            Arsenal      Craven Cottage                          7339.00   \n",
       "1184        Southampton       Selhurst Park                          6535.25   \n",
       "1185  Manchester United           Turf Moor                          4121.00   \n",
       "\n",
       "      _accurate_corners_intobox_team_1  _accurate_freekick_cross_team_1  \\\n",
       "250                          43.750000                        16.500000   \n",
       "251                          46.000000                        17.000000   \n",
       "252                          29.000000                        15.000000   \n",
       "253                          65.750000                        11.500000   \n",
       "254                          64.250000                        16.000000   \n",
       "...                                ...                              ...   \n",
       "1181                         65.750000                        11.500000   \n",
       "1182                         64.250000                        16.000000   \n",
       "1183                         53.000000                        15.500000   \n",
       "1184                         46.000000                        21.500000   \n",
       "1185                         46.333333                        19.666667   \n",
       "\n",
       "      _accurate_goal_kicks_team_1  _accurate_keeper_sweeper_team_1  ...  \\\n",
       "250                    182.000000                            13.00  ...   \n",
       "251                    140.250000                            15.75  ...   \n",
       "252                    197.000000                            17.00  ...   \n",
       "253                    136.250000                            17.00  ...   \n",
       "254                    177.250000                            31.00  ...   \n",
       "...                           ...                              ...  ...   \n",
       "1181                   136.250000                            17.00  ...   \n",
       "1182                   177.250000                            31.00  ...   \n",
       "1183                   199.000000                            15.00  ...   \n",
       "1184                   168.500000                            14.00  ...   \n",
       "1185                   143.333333                            25.00  ...   \n",
       "\n",
       "      _overrun_lag_team2  _own_goal_accrued_lag_team2  \\\n",
       "250                 50.0                     2.275362   \n",
       "251                 41.0                     6.000000   \n",
       "252                 45.0                     3.000000   \n",
       "253                 40.0                     3.000000   \n",
       "254                  NaN                          NaN   \n",
       "...                  ...                          ...   \n",
       "1181                70.0                     1.000000   \n",
       "1182                 NaN                          NaN   \n",
       "1183                65.0                     2.275362   \n",
       "1184                80.0                     2.275362   \n",
       "1185                78.0                     2.000000   \n",
       "\n",
       "      _penalty_conceded_lag_team2  _pts_dropped_winning_pos_lag_team2  \\\n",
       "250                           6.0                                19.0   \n",
       "251                           3.0                                 7.0   \n",
       "252                           6.0                                24.0   \n",
       "253                           6.0                                16.0   \n",
       "254                           NaN                                 NaN   \n",
       "...                           ...                                 ...   \n",
       "1181                          6.0                                23.0   \n",
       "1182                          NaN                                 NaN   \n",
       "1183                          8.0                                21.0   \n",
       "1184                          4.0                                17.0   \n",
       "1185                          3.0                                14.0   \n",
       "\n",
       "      _pts_gained_losing_pos_lag_team2  _second_yellow_lag_team2  \\\n",
       "250                                9.0                  1.581395   \n",
       "251                               14.0                  1.000000   \n",
       "252                               14.0                  1.000000   \n",
       "253                               14.0                  2.000000   \n",
       "254                                NaN                       NaN   \n",
       "...                                ...                       ...   \n",
       "1181                               9.0                  1.000000   \n",
       "1182                               NaN                       NaN   \n",
       "1183                              18.0                  1.000000   \n",
       "1184                              13.0                  1.000000   \n",
       "1185                              13.0                  1.581395   \n",
       "\n",
       "      _shield_ball_oop_lag_team2  _six_yard_block_lag_team2  \\\n",
       "250                         17.0                       14.0   \n",
       "251                         24.0                       12.0   \n",
       "252                         23.0                       12.0   \n",
       "253                         18.0                       16.0   \n",
       "254                          NaN                        NaN   \n",
       "...                          ...                        ...   \n",
       "1181                        22.0                       21.0   \n",
       "1182                         NaN                        NaN   \n",
       "1183                        26.0                       18.0   \n",
       "1184                        25.0                       24.0   \n",
       "1185                        19.0                       16.0   \n",
       "\n",
       "      _subs_goals_lag_team2  _total_red_card_lag_team2  \n",
       "250                4.285714                        3.0  \n",
       "251                4.285714                        1.0  \n",
       "252                4.285714                        2.0  \n",
       "253                4.285714                        3.0  \n",
       "254                     NaN                        NaN  \n",
       "...                     ...                        ...  \n",
       "1181               4.285714                        1.0  \n",
       "1182                    NaN                        NaN  \n",
       "1183               4.285714                        5.0  \n",
       "1184               4.285714                        4.0  \n",
       "1185               4.285714                        2.5  \n",
       "\n",
       "[936 rows x 133 columns]"
      ]
     },
     "execution_count": 200,
     "metadata": {},
     "output_type": "execute_result"
    }
   ],
   "source": [
    "x_train"
   ]
  }
 ],
 "metadata": {
  "kernelspec": {
   "display_name": ".venv",
   "language": "python",
   "name": "python3"
  },
  "language_info": {
   "codemirror_mode": {
    "name": "ipython",
    "version": 3
   },
   "file_extension": ".py",
   "mimetype": "text/x-python",
   "name": "python",
   "nbconvert_exporter": "python",
   "pygments_lexer": "ipython3",
   "version": "3.10.12"
  }
 },
 "nbformat": 4,
 "nbformat_minor": 2
}
