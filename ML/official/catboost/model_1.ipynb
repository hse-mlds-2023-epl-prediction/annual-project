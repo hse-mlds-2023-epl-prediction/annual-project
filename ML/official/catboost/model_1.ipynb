{
 "cells": [
  {
   "cell_type": "code",
   "execution_count": 1,
   "metadata": {},
   "outputs": [],
   "source": [
    "import pandas as pd\n",
    "from catboost import CatBoostClassifier, Pool\n",
    "from sklearn.metrics import roc_auc_score as auc, accuracy_score\n",
    "from sklearn.model_selection import GridSearchCV\n",
    "import seaborn as sns\n",
    "import matplotlib.pyplot as plt\n",
    "from tqdm import tqdm\n",
    "import pickle\n",
    "\n",
    "import numpy as np\n",
    "\n",
    "from func import rm_high_corr_feat"
   ]
  },
  {
   "cell_type": "markdown",
   "metadata": {},
   "source": [
    "# Model 1 - Агрегированные данные по командам"
   ]
  },
  {
   "cell_type": "code",
   "execution_count": 2,
   "metadata": {},
   "outputs": [],
   "source": [
    "df = pd.read_csv('../prepare_data/data/df_res.csv')"
   ]
  },
  {
   "cell_type": "code",
   "execution_count": 3,
   "metadata": {},
   "outputs": [],
   "source": [
    "df = df[df['gameweek_compSeason_label'] > 2019]"
   ]
  },
  {
   "cell_type": "code",
   "execution_count": 4,
   "metadata": {},
   "outputs": [
    {
     "data": {
      "text/plain": [
       "array(['Wolverhampton Wanderers', 'Tottenham Hotspur',\n",
       "       'Nottingham Forest', 'Manchester City', 'Liverpool', 'Fulham',\n",
       "       'Crystal Palace', 'Aston Villa', 'Newcastle United',\n",
       "       'Manchester United', 'Everton', 'Chelsea', 'Burnley', 'Brentford',\n",
       "       'Bournemouth', 'Arsenal', 'West Ham United', 'Sheffield United',\n",
       "       'Southampton', 'Leicester City', 'Leeds United', 'Norwich City',\n",
       "       'Watford', 'West Bromwich Albion'], dtype=object)"
      ]
     },
     "execution_count": 4,
     "metadata": {},
     "output_type": "execute_result"
    }
   ],
   "source": [
    "df['teams_team_1_name'].unique()"
   ]
  },
  {
   "cell_type": "code",
   "execution_count": 5,
   "metadata": {},
   "outputs": [
    {
     "data": {
      "text/html": [
       "<div>\n",
       "<style scoped>\n",
       "    .dataframe tbody tr th:only-of-type {\n",
       "        vertical-align: middle;\n",
       "    }\n",
       "\n",
       "    .dataframe tbody tr th {\n",
       "        vertical-align: top;\n",
       "    }\n",
       "\n",
       "    .dataframe thead th {\n",
       "        text-align: right;\n",
       "    }\n",
       "</style>\n",
       "<table border=\"1\" class=\"dataframe\">\n",
       "  <thead>\n",
       "    <tr style=\"text-align: right;\">\n",
       "      <th></th>\n",
       "      <th>gameweek_gameweek</th>\n",
       "      <th>gameweek_compSeason_label</th>\n",
       "      <th>teams_team_1_name</th>\n",
       "      <th>teams_team_2_name</th>\n",
       "      <th>ground_name</th>\n",
       "      <th>team_1_hue</th>\n",
       "      <th>_accurate_back_zone_pass_team_1</th>\n",
       "      <th>_accurate_chipped_pass_team_1</th>\n",
       "      <th>_accurate_corners_intobox_team_1</th>\n",
       "      <th>_accurate_cross_team_1</th>\n",
       "      <th>...</th>\n",
       "      <th>_total_through_ball_lag_team2</th>\n",
       "      <th>_total_throws_lag_team2</th>\n",
       "      <th>_total_yel_card_lag_team2</th>\n",
       "      <th>_touches_lag_team2</th>\n",
       "      <th>_touches_in_opp_box_lag_team2</th>\n",
       "      <th>_unsuccessful_touch_lag_team2</th>\n",
       "      <th>_wins_lag_team2</th>\n",
       "      <th>_won_contest_lag_team2</th>\n",
       "      <th>_won_corners_lag_team2</th>\n",
       "      <th>_won_tackle_lag_team2</th>\n",
       "    </tr>\n",
       "  </thead>\n",
       "  <tbody>\n",
       "    <tr>\n",
       "      <th>0</th>\n",
       "      <td>20</td>\n",
       "      <td>2023</td>\n",
       "      <td>Wolverhampton Wanderers</td>\n",
       "      <td>Everton</td>\n",
       "      <td>Molineux Stadium</td>\n",
       "      <td>1</td>\n",
       "      <td>7582.25</td>\n",
       "      <td>832.750000</td>\n",
       "      <td>43.750000</td>\n",
       "      <td>160.250000</td>\n",
       "      <td>...</td>\n",
       "      <td>39.0</td>\n",
       "      <td>707.0</td>\n",
       "      <td>79.0</td>\n",
       "      <td>21481.0</td>\n",
       "      <td>786.0</td>\n",
       "      <td>605.0</td>\n",
       "      <td>8.0</td>\n",
       "      <td>303.0</td>\n",
       "      <td>175.0</td>\n",
       "      <td>424.0</td>\n",
       "    </tr>\n",
       "    <tr>\n",
       "      <th>1</th>\n",
       "      <td>20</td>\n",
       "      <td>2023</td>\n",
       "      <td>Tottenham Hotspur</td>\n",
       "      <td>Bournemouth</td>\n",
       "      <td>Tottenham Hotspur Stadium</td>\n",
       "      <td>1</td>\n",
       "      <td>8308.50</td>\n",
       "      <td>685.500000</td>\n",
       "      <td>41.750000</td>\n",
       "      <td>140.500000</td>\n",
       "      <td>...</td>\n",
       "      <td>49.0</td>\n",
       "      <td>706.0</td>\n",
       "      <td>69.0</td>\n",
       "      <td>21201.0</td>\n",
       "      <td>743.0</td>\n",
       "      <td>588.0</td>\n",
       "      <td>11.0</td>\n",
       "      <td>320.0</td>\n",
       "      <td>144.0</td>\n",
       "      <td>371.0</td>\n",
       "    </tr>\n",
       "    <tr>\n",
       "      <th>2</th>\n",
       "      <td>20</td>\n",
       "      <td>2023</td>\n",
       "      <td>Nottingham Forest</td>\n",
       "      <td>Manchester United</td>\n",
       "      <td>The City Ground</td>\n",
       "      <td>1</td>\n",
       "      <td>5016.00</td>\n",
       "      <td>601.000000</td>\n",
       "      <td>29.000000</td>\n",
       "      <td>104.000000</td>\n",
       "      <td>...</td>\n",
       "      <td>105.0</td>\n",
       "      <td>715.0</td>\n",
       "      <td>78.0</td>\n",
       "      <td>25964.0</td>\n",
       "      <td>1093.0</td>\n",
       "      <td>497.0</td>\n",
       "      <td>23.0</td>\n",
       "      <td>319.0</td>\n",
       "      <td>195.0</td>\n",
       "      <td>400.0</td>\n",
       "    </tr>\n",
       "    <tr>\n",
       "      <th>3</th>\n",
       "      <td>20</td>\n",
       "      <td>2023</td>\n",
       "      <td>Manchester City</td>\n",
       "      <td>Sheffield United</td>\n",
       "      <td>Etihad Stadium</td>\n",
       "      <td>1</td>\n",
       "      <td>10041.25</td>\n",
       "      <td>918.750000</td>\n",
       "      <td>65.750000</td>\n",
       "      <td>168.500000</td>\n",
       "      <td>...</td>\n",
       "      <td>NaN</td>\n",
       "      <td>NaN</td>\n",
       "      <td>NaN</td>\n",
       "      <td>NaN</td>\n",
       "      <td>NaN</td>\n",
       "      <td>NaN</td>\n",
       "      <td>NaN</td>\n",
       "      <td>NaN</td>\n",
       "      <td>NaN</td>\n",
       "      <td>NaN</td>\n",
       "    </tr>\n",
       "    <tr>\n",
       "      <th>4</th>\n",
       "      <td>20</td>\n",
       "      <td>2023</td>\n",
       "      <td>Liverpool</td>\n",
       "      <td>Newcastle United</td>\n",
       "      <td>Anfield</td>\n",
       "      <td>1</td>\n",
       "      <td>9401.25</td>\n",
       "      <td>967.750000</td>\n",
       "      <td>64.250000</td>\n",
       "      <td>195.500000</td>\n",
       "      <td>...</td>\n",
       "      <td>88.0</td>\n",
       "      <td>728.0</td>\n",
       "      <td>62.0</td>\n",
       "      <td>23410.0</td>\n",
       "      <td>1223.0</td>\n",
       "      <td>576.0</td>\n",
       "      <td>19.0</td>\n",
       "      <td>349.0</td>\n",
       "      <td>270.0</td>\n",
       "      <td>360.0</td>\n",
       "    </tr>\n",
       "    <tr>\n",
       "      <th>...</th>\n",
       "      <td>...</td>\n",
       "      <td>...</td>\n",
       "      <td>...</td>\n",
       "      <td>...</td>\n",
       "      <td>...</td>\n",
       "      <td>...</td>\n",
       "      <td>...</td>\n",
       "      <td>...</td>\n",
       "      <td>...</td>\n",
       "      <td>...</td>\n",
       "      <td>...</td>\n",
       "      <td>...</td>\n",
       "      <td>...</td>\n",
       "      <td>...</td>\n",
       "      <td>...</td>\n",
       "      <td>...</td>\n",
       "      <td>...</td>\n",
       "      <td>...</td>\n",
       "      <td>...</td>\n",
       "      <td>...</td>\n",
       "      <td>...</td>\n",
       "    </tr>\n",
       "    <tr>\n",
       "      <th>1181</th>\n",
       "      <td>19</td>\n",
       "      <td>2020</td>\n",
       "      <td>Manchester City</td>\n",
       "      <td>Aston Villa</td>\n",
       "      <td>Etihad Stadium</td>\n",
       "      <td>1</td>\n",
       "      <td>10041.25</td>\n",
       "      <td>918.750000</td>\n",
       "      <td>65.750000</td>\n",
       "      <td>168.500000</td>\n",
       "      <td>...</td>\n",
       "      <td>17.0</td>\n",
       "      <td>797.0</td>\n",
       "      <td>68.0</td>\n",
       "      <td>21368.0</td>\n",
       "      <td>726.0</td>\n",
       "      <td>546.0</td>\n",
       "      <td>9.0</td>\n",
       "      <td>352.0</td>\n",
       "      <td>201.0</td>\n",
       "      <td>291.0</td>\n",
       "    </tr>\n",
       "    <tr>\n",
       "      <th>1182</th>\n",
       "      <td>1</td>\n",
       "      <td>2020</td>\n",
       "      <td>Liverpool</td>\n",
       "      <td>Leeds United</td>\n",
       "      <td>Anfield</td>\n",
       "      <td>1</td>\n",
       "      <td>9401.25</td>\n",
       "      <td>967.750000</td>\n",
       "      <td>64.250000</td>\n",
       "      <td>195.500000</td>\n",
       "      <td>...</td>\n",
       "      <td>NaN</td>\n",
       "      <td>NaN</td>\n",
       "      <td>NaN</td>\n",
       "      <td>NaN</td>\n",
       "      <td>NaN</td>\n",
       "      <td>NaN</td>\n",
       "      <td>NaN</td>\n",
       "      <td>NaN</td>\n",
       "      <td>NaN</td>\n",
       "      <td>NaN</td>\n",
       "    </tr>\n",
       "    <tr>\n",
       "      <th>1183</th>\n",
       "      <td>1</td>\n",
       "      <td>2020</td>\n",
       "      <td>Fulham</td>\n",
       "      <td>Arsenal</td>\n",
       "      <td>Craven Cottage</td>\n",
       "      <td>0</td>\n",
       "      <td>7339.00</td>\n",
       "      <td>670.000000</td>\n",
       "      <td>53.000000</td>\n",
       "      <td>181.500000</td>\n",
       "      <td>...</td>\n",
       "      <td>67.0</td>\n",
       "      <td>756.0</td>\n",
       "      <td>86.0</td>\n",
       "      <td>25916.0</td>\n",
       "      <td>876.0</td>\n",
       "      <td>547.0</td>\n",
       "      <td>14.0</td>\n",
       "      <td>411.0</td>\n",
       "      <td>232.0</td>\n",
       "      <td>336.0</td>\n",
       "    </tr>\n",
       "    <tr>\n",
       "      <th>1184</th>\n",
       "      <td>1</td>\n",
       "      <td>2020</td>\n",
       "      <td>Crystal Palace</td>\n",
       "      <td>Southampton</td>\n",
       "      <td>Selhurst Park</td>\n",
       "      <td>1</td>\n",
       "      <td>6535.25</td>\n",
       "      <td>618.500000</td>\n",
       "      <td>46.000000</td>\n",
       "      <td>141.000000</td>\n",
       "      <td>...</td>\n",
       "      <td>27.0</td>\n",
       "      <td>950.0</td>\n",
       "      <td>53.0</td>\n",
       "      <td>23611.0</td>\n",
       "      <td>879.0</td>\n",
       "      <td>654.0</td>\n",
       "      <td>15.0</td>\n",
       "      <td>423.0</td>\n",
       "      <td>210.0</td>\n",
       "      <td>416.0</td>\n",
       "    </tr>\n",
       "    <tr>\n",
       "      <th>1185</th>\n",
       "      <td>18</td>\n",
       "      <td>2020</td>\n",
       "      <td>Burnley</td>\n",
       "      <td>Manchester United</td>\n",
       "      <td>Turf Moor</td>\n",
       "      <td>0</td>\n",
       "      <td>4121.00</td>\n",
       "      <td>636.666667</td>\n",
       "      <td>46.333333</td>\n",
       "      <td>165.333333</td>\n",
       "      <td>...</td>\n",
       "      <td>64.0</td>\n",
       "      <td>822.0</td>\n",
       "      <td>73.0</td>\n",
       "      <td>27360.0</td>\n",
       "      <td>965.0</td>\n",
       "      <td>559.0</td>\n",
       "      <td>18.0</td>\n",
       "      <td>447.0</td>\n",
       "      <td>204.0</td>\n",
       "      <td>333.0</td>\n",
       "    </tr>\n",
       "  </tbody>\n",
       "</table>\n",
       "<p>1186 rows × 846 columns</p>\n",
       "</div>"
      ],
      "text/plain": [
       "      gameweek_gameweek  gameweek_compSeason_label        teams_team_1_name  \\\n",
       "0                    20                       2023  Wolverhampton Wanderers   \n",
       "1                    20                       2023        Tottenham Hotspur   \n",
       "2                    20                       2023        Nottingham Forest   \n",
       "3                    20                       2023          Manchester City   \n",
       "4                    20                       2023                Liverpool   \n",
       "...                 ...                        ...                      ...   \n",
       "1181                 19                       2020          Manchester City   \n",
       "1182                  1                       2020                Liverpool   \n",
       "1183                  1                       2020                   Fulham   \n",
       "1184                  1                       2020           Crystal Palace   \n",
       "1185                 18                       2020                  Burnley   \n",
       "\n",
       "      teams_team_2_name                ground_name  team_1_hue  \\\n",
       "0               Everton           Molineux Stadium           1   \n",
       "1           Bournemouth  Tottenham Hotspur Stadium           1   \n",
       "2     Manchester United            The City Ground           1   \n",
       "3      Sheffield United             Etihad Stadium           1   \n",
       "4      Newcastle United                    Anfield           1   \n",
       "...                 ...                        ...         ...   \n",
       "1181        Aston Villa             Etihad Stadium           1   \n",
       "1182       Leeds United                    Anfield           1   \n",
       "1183            Arsenal             Craven Cottage           0   \n",
       "1184        Southampton              Selhurst Park           1   \n",
       "1185  Manchester United                  Turf Moor           0   \n",
       "\n",
       "      _accurate_back_zone_pass_team_1  _accurate_chipped_pass_team_1  \\\n",
       "0                             7582.25                     832.750000   \n",
       "1                             8308.50                     685.500000   \n",
       "2                             5016.00                     601.000000   \n",
       "3                            10041.25                     918.750000   \n",
       "4                             9401.25                     967.750000   \n",
       "...                               ...                            ...   \n",
       "1181                         10041.25                     918.750000   \n",
       "1182                          9401.25                     967.750000   \n",
       "1183                          7339.00                     670.000000   \n",
       "1184                          6535.25                     618.500000   \n",
       "1185                          4121.00                     636.666667   \n",
       "\n",
       "      _accurate_corners_intobox_team_1  _accurate_cross_team_1  ...  \\\n",
       "0                            43.750000              160.250000  ...   \n",
       "1                            41.750000              140.500000  ...   \n",
       "2                            29.000000              104.000000  ...   \n",
       "3                            65.750000              168.500000  ...   \n",
       "4                            64.250000              195.500000  ...   \n",
       "...                                ...                     ...  ...   \n",
       "1181                         65.750000              168.500000  ...   \n",
       "1182                         64.250000              195.500000  ...   \n",
       "1183                         53.000000              181.500000  ...   \n",
       "1184                         46.000000              141.000000  ...   \n",
       "1185                         46.333333              165.333333  ...   \n",
       "\n",
       "      _total_through_ball_lag_team2  _total_throws_lag_team2  \\\n",
       "0                              39.0                    707.0   \n",
       "1                              49.0                    706.0   \n",
       "2                             105.0                    715.0   \n",
       "3                               NaN                      NaN   \n",
       "4                              88.0                    728.0   \n",
       "...                             ...                      ...   \n",
       "1181                           17.0                    797.0   \n",
       "1182                            NaN                      NaN   \n",
       "1183                           67.0                    756.0   \n",
       "1184                           27.0                    950.0   \n",
       "1185                           64.0                    822.0   \n",
       "\n",
       "      _total_yel_card_lag_team2  _touches_lag_team2  \\\n",
       "0                          79.0             21481.0   \n",
       "1                          69.0             21201.0   \n",
       "2                          78.0             25964.0   \n",
       "3                           NaN                 NaN   \n",
       "4                          62.0             23410.0   \n",
       "...                         ...                 ...   \n",
       "1181                       68.0             21368.0   \n",
       "1182                        NaN                 NaN   \n",
       "1183                       86.0             25916.0   \n",
       "1184                       53.0             23611.0   \n",
       "1185                       73.0             27360.0   \n",
       "\n",
       "      _touches_in_opp_box_lag_team2  _unsuccessful_touch_lag_team2  \\\n",
       "0                             786.0                          605.0   \n",
       "1                             743.0                          588.0   \n",
       "2                            1093.0                          497.0   \n",
       "3                               NaN                            NaN   \n",
       "4                            1223.0                          576.0   \n",
       "...                             ...                            ...   \n",
       "1181                          726.0                          546.0   \n",
       "1182                            NaN                            NaN   \n",
       "1183                          876.0                          547.0   \n",
       "1184                          879.0                          654.0   \n",
       "1185                          965.0                          559.0   \n",
       "\n",
       "      _wins_lag_team2  _won_contest_lag_team2  _won_corners_lag_team2  \\\n",
       "0                 8.0                   303.0                   175.0   \n",
       "1                11.0                   320.0                   144.0   \n",
       "2                23.0                   319.0                   195.0   \n",
       "3                 NaN                     NaN                     NaN   \n",
       "4                19.0                   349.0                   270.0   \n",
       "...               ...                     ...                     ...   \n",
       "1181              9.0                   352.0                   201.0   \n",
       "1182              NaN                     NaN                     NaN   \n",
       "1183             14.0                   411.0                   232.0   \n",
       "1184             15.0                   423.0                   210.0   \n",
       "1185             18.0                   447.0                   204.0   \n",
       "\n",
       "      _won_tackle_lag_team2  \n",
       "0                     424.0  \n",
       "1                     371.0  \n",
       "2                     400.0  \n",
       "3                       NaN  \n",
       "4                     360.0  \n",
       "...                     ...  \n",
       "1181                  291.0  \n",
       "1182                    NaN  \n",
       "1183                  336.0  \n",
       "1184                  416.0  \n",
       "1185                  333.0  \n",
       "\n",
       "[1186 rows x 846 columns]"
      ]
     },
     "execution_count": 5,
     "metadata": {},
     "output_type": "execute_result"
    }
   ],
   "source": [
    "df"
   ]
  },
  {
   "cell_type": "code",
   "execution_count": 6,
   "metadata": {},
   "outputs": [],
   "source": [
    "n = 100\n",
    "\n",
    "train = df.iloc[n:, :]\n",
    "val = df.iloc[:n, :]\n",
    "\n",
    "y_train = train['team_1_hue']\n",
    "x_train = train.drop('team_1_hue', axis=1)\n",
    "\n",
    "y_val = val['team_1_hue']\n",
    "x_val = val.drop('team_1_hue', axis=1)"
   ]
  },
  {
   "cell_type": "code",
   "execution_count": 7,
   "metadata": {},
   "outputs": [],
   "source": [
    "cat = ['gameweek_gameweek',\t'gameweek_compSeason_label', 'teams_team_1_name', 'teams_team_2_name', 'ground_name']"
   ]
  },
  {
   "cell_type": "code",
   "execution_count": 8,
   "metadata": {},
   "outputs": [],
   "source": [
    "model_1 = CatBoostClassifier()\n"
   ]
  },
  {
   "cell_type": "code",
   "execution_count": 9,
   "metadata": {},
   "outputs": [
    {
     "data": {
      "text/plain": [
       "<catboost.core.CatBoostClassifier at 0x7f7bf59aa560>"
      ]
     },
     "execution_count": 9,
     "metadata": {},
     "output_type": "execute_result"
    }
   ],
   "source": [
    "model_1.fit(x_train, y_train, cat_features=cat, verbose=False)\n"
   ]
  },
  {
   "cell_type": "code",
   "execution_count": 10,
   "metadata": {},
   "outputs": [],
   "source": [
    "pred = model_1.predict(x_val)\n",
    "pred_proba = model_1.predict_proba(x_val)\n",
    "y_val = y_val.to_numpy().reshape(-1, 1)"
   ]
  },
  {
   "cell_type": "code",
   "execution_count": 11,
   "metadata": {},
   "outputs": [],
   "source": [
    "pred = np.concatenate((y_val, pred, pred_proba), axis=1)\n",
    "df_pred = pd.DataFrame(pred, columns=['true', 'pred', '0_prob', '1_prob', '2_prob'])"
   ]
  },
  {
   "cell_type": "code",
   "execution_count": 12,
   "metadata": {},
   "outputs": [
    {
     "data": {
      "text/html": [
       "<div>\n",
       "<style scoped>\n",
       "    .dataframe tbody tr th:only-of-type {\n",
       "        vertical-align: middle;\n",
       "    }\n",
       "\n",
       "    .dataframe tbody tr th {\n",
       "        vertical-align: top;\n",
       "    }\n",
       "\n",
       "    .dataframe thead th {\n",
       "        text-align: right;\n",
       "    }\n",
       "</style>\n",
       "<table border=\"1\" class=\"dataframe\">\n",
       "  <thead>\n",
       "    <tr style=\"text-align: right;\">\n",
       "      <th></th>\n",
       "      <th>true</th>\n",
       "      <th>pred</th>\n",
       "      <th>0_prob</th>\n",
       "      <th>1_prob</th>\n",
       "      <th>2_prob</th>\n",
       "      <th>error</th>\n",
       "    </tr>\n",
       "  </thead>\n",
       "  <tbody>\n",
       "    <tr>\n",
       "      <th>0</th>\n",
       "      <td>1.0</td>\n",
       "      <td>1.0</td>\n",
       "      <td>0.123565</td>\n",
       "      <td>0.616682</td>\n",
       "      <td>0.259753</td>\n",
       "      <td>0</td>\n",
       "    </tr>\n",
       "    <tr>\n",
       "      <th>1</th>\n",
       "      <td>1.0</td>\n",
       "      <td>1.0</td>\n",
       "      <td>0.044057</td>\n",
       "      <td>0.928870</td>\n",
       "      <td>0.027074</td>\n",
       "      <td>0</td>\n",
       "    </tr>\n",
       "    <tr>\n",
       "      <th>2</th>\n",
       "      <td>1.0</td>\n",
       "      <td>0.0</td>\n",
       "      <td>0.497876</td>\n",
       "      <td>0.254441</td>\n",
       "      <td>0.247683</td>\n",
       "      <td>1</td>\n",
       "    </tr>\n",
       "    <tr>\n",
       "      <th>3</th>\n",
       "      <td>1.0</td>\n",
       "      <td>1.0</td>\n",
       "      <td>0.014365</td>\n",
       "      <td>0.967856</td>\n",
       "      <td>0.017778</td>\n",
       "      <td>0</td>\n",
       "    </tr>\n",
       "    <tr>\n",
       "      <th>4</th>\n",
       "      <td>1.0</td>\n",
       "      <td>1.0</td>\n",
       "      <td>0.048161</td>\n",
       "      <td>0.834329</td>\n",
       "      <td>0.117511</td>\n",
       "      <td>0</td>\n",
       "    </tr>\n",
       "  </tbody>\n",
       "</table>\n",
       "</div>"
      ],
      "text/plain": [
       "   true  pred    0_prob    1_prob    2_prob  error\n",
       "0   1.0   1.0  0.123565  0.616682  0.259753      0\n",
       "1   1.0   1.0  0.044057  0.928870  0.027074      0\n",
       "2   1.0   0.0  0.497876  0.254441  0.247683      1\n",
       "3   1.0   1.0  0.014365  0.967856  0.017778      0\n",
       "4   1.0   1.0  0.048161  0.834329  0.117511      0"
      ]
     },
     "execution_count": 12,
     "metadata": {},
     "output_type": "execute_result"
    }
   ],
   "source": [
    "df_pred['error'] = np.where(df_pred['true']==df_pred['pred'], 0, 1)\n",
    "\n",
    "df_pred.head()"
   ]
  },
  {
   "cell_type": "code",
   "execution_count": 13,
   "metadata": {},
   "outputs": [
    {
     "data": {
      "text/plain": [
       "54"
      ]
     },
     "execution_count": 13,
     "metadata": {},
     "output_type": "execute_result"
    }
   ],
   "source": [
    "df_pred['error'].sum()"
   ]
  },
  {
   "cell_type": "code",
   "execution_count": 14,
   "metadata": {},
   "outputs": [
    {
     "data": {
      "text/plain": [
       "(100, 6)"
      ]
     },
     "execution_count": 14,
     "metadata": {},
     "output_type": "execute_result"
    }
   ],
   "source": [
    "df_pred.shape"
   ]
  },
  {
   "cell_type": "code",
   "execution_count": 15,
   "metadata": {},
   "outputs": [
    {
     "data": {
      "text/plain": [
       "0.46"
      ]
     },
     "execution_count": 15,
     "metadata": {},
     "output_type": "execute_result"
    }
   ],
   "source": [
    "accuracy_score(df_pred['true'], df_pred['pred'])"
   ]
  },
  {
   "cell_type": "markdown",
   "metadata": {},
   "source": [
    "# Модели на датасетах с отбором признаков "
   ]
  },
  {
   "cell_type": "code",
   "execution_count": 16,
   "metadata": {},
   "outputs": [],
   "source": [
    "thrs = [i/100 for i in range(100, 10, -5)] # Список значений корреляций для удаления признаков"
   ]
  },
  {
   "cell_type": "code",
   "execution_count": 17,
   "metadata": {},
   "outputs": [
    {
     "name": "stderr",
     "output_type": "stream",
     "text": [
      "100%|██████████| 18/18 [04:26<00:00, 14.78s/it]\n"
     ]
    }
   ],
   "source": [
    "acc_score_val, acc_score_train = [], []\n",
    "for thr in tqdm(thrs):\n",
    "\n",
    "    \n",
    "    df_temp = rm_high_corr_feat(df, thr, 6)\n",
    "\n",
    "\n",
    "    train = df_temp.iloc[n:, :]\n",
    "    val = df_temp.iloc[:n, :]\n",
    "\n",
    "    y_train = train['team_1_hue']\n",
    "    x_train = train.drop('team_1_hue', axis=1)\n",
    "\n",
    "    y_val = val['team_1_hue']\n",
    "    x_val = val.drop('team_1_hue', axis=1)\n",
    "\n",
    "    model_temp = CatBoostClassifier(iterations=2000, learning_rate=0.0005, loss_function='MultiClass')\n",
    "    model_temp.fit(x_train, y_train, cat_features=cat, verbose=False)\n",
    "\n",
    "    pred_temp = model_temp.predict(x_val)\n",
    "    pred_temp_train = model_temp.predict(x_train)\n",
    "\n",
    "    score_temp = accuracy_score(pred_temp, y_val)\n",
    "    score_temp_train = accuracy_score(pred_temp_train, y_train)\n",
    "\n",
    "    #print(f'thr: {thr}\\naccuracy: {np.round(score_temp, 3)}\\nпризнаков: {df_temp.shape[1]}\\n')\n",
    "\n",
    "    acc_score_val.append(score_temp)\n",
    "    acc_score_train.append(score_temp_train)\n"
   ]
  },
  {
   "cell_type": "code",
   "execution_count": 18,
   "metadata": {},
   "outputs": [
    {
     "data": {
      "text/plain": [
       "<Axes: xlabel='Корреляция', ylabel='Accuracy'>"
      ]
     },
     "execution_count": 18,
     "metadata": {},
     "output_type": "execute_result"
    },
    {
     "data": {
      "image/png": "[encoded data removed]",
      "text/plain": [
       "<Figure size 1500x700 with 1 Axes>"
      ]
     },
     "metadata": {},
     "output_type": "display_data"
    }
   ],
   "source": [
    "plt.figure(figsize=(15, 7))\n",
    "plt.xlabel('Корреляция')\n",
    "plt.ylabel('Accuracy')\n",
    "\n",
    "sns.lineplot(x=thrs, y=acc_score_val, label='val')\n",
    "sns.lineplot(x=thrs, y=acc_score_train, label='train')"
   ]
  },
  {
   "cell_type": "markdown",
   "metadata": {},
   "source": [
    "Возьмем датасет с отобранными признаки, где корреляция не выше 0.4 между признаками"
   ]
  },
  {
   "cell_type": "code",
   "execution_count": 19,
   "metadata": {},
   "outputs": [],
   "source": [
    "df_temp = rm_high_corr_feat(df, 0.65, 6)\n",
    "\n",
    "train = df_temp.iloc[n:, :]\n",
    "val = df_temp.iloc[:n, :]\n",
    "\n",
    "y_train = train['team_1_hue']\n",
    "x_train = train.drop('team_1_hue', axis=1)\n",
    "\n",
    "y_val = val['team_1_hue']\n",
    "x_val = val.drop('team_1_hue', axis=1)"
   ]
  },
  {
   "cell_type": "code",
   "execution_count": 20,
   "metadata": {},
   "outputs": [
    {
     "data": {
      "text/html": [
       "<div>\n",
       "<style scoped>\n",
       "    .dataframe tbody tr th:only-of-type {\n",
       "        vertical-align: middle;\n",
       "    }\n",
       "\n",
       "    .dataframe tbody tr th {\n",
       "        vertical-align: top;\n",
       "    }\n",
       "\n",
       "    .dataframe thead th {\n",
       "        text-align: right;\n",
       "    }\n",
       "</style>\n",
       "<table border=\"1\" class=\"dataframe\">\n",
       "  <thead>\n",
       "    <tr style=\"text-align: right;\">\n",
       "      <th></th>\n",
       "      <th>gameweek_gameweek</th>\n",
       "      <th>gameweek_compSeason_label</th>\n",
       "      <th>teams_team_1_name</th>\n",
       "      <th>teams_team_2_name</th>\n",
       "      <th>ground_name</th>\n",
       "      <th>team_1_hue</th>\n",
       "      <th>_accurate_back_zone_pass_team_1</th>\n",
       "      <th>_accurate_corners_intobox_team_1</th>\n",
       "      <th>_accurate_freekick_cross_team_1</th>\n",
       "      <th>_accurate_goal_kicks_team_1</th>\n",
       "      <th>...</th>\n",
       "      <th>_overrun_lag_team2</th>\n",
       "      <th>_own_goal_accrued_lag_team2</th>\n",
       "      <th>_penalty_conceded_lag_team2</th>\n",
       "      <th>_pts_dropped_winning_pos_lag_team2</th>\n",
       "      <th>_pts_gained_losing_pos_lag_team2</th>\n",
       "      <th>_second_yellow_lag_team2</th>\n",
       "      <th>_shield_ball_oop_lag_team2</th>\n",
       "      <th>_six_yard_block_lag_team2</th>\n",
       "      <th>_subs_goals_lag_team2</th>\n",
       "      <th>_total_red_card_lag_team2</th>\n",
       "    </tr>\n",
       "  </thead>\n",
       "  <tbody>\n",
       "    <tr>\n",
       "      <th>0</th>\n",
       "      <td>20</td>\n",
       "      <td>2023</td>\n",
       "      <td>Wolverhampton Wanderers</td>\n",
       "      <td>Everton</td>\n",
       "      <td>Molineux Stadium</td>\n",
       "      <td>1</td>\n",
       "      <td>7582.25</td>\n",
       "      <td>43.750000</td>\n",
       "      <td>16.500000</td>\n",
       "      <td>182.000000</td>\n",
       "      <td>...</td>\n",
       "      <td>41.0</td>\n",
       "      <td>2.000000</td>\n",
       "      <td>6.0</td>\n",
       "      <td>17.0</td>\n",
       "      <td>9.0</td>\n",
       "      <td>1.000000</td>\n",
       "      <td>24.0</td>\n",
       "      <td>14.0</td>\n",
       "      <td>2.000000</td>\n",
       "      <td>2.0</td>\n",
       "    </tr>\n",
       "    <tr>\n",
       "      <th>1</th>\n",
       "      <td>20</td>\n",
       "      <td>2023</td>\n",
       "      <td>Tottenham Hotspur</td>\n",
       "      <td>Bournemouth</td>\n",
       "      <td>Tottenham Hotspur Stadium</td>\n",
       "      <td>1</td>\n",
       "      <td>8308.50</td>\n",
       "      <td>41.750000</td>\n",
       "      <td>7.750000</td>\n",
       "      <td>217.000000</td>\n",
       "      <td>...</td>\n",
       "      <td>55.0</td>\n",
       "      <td>2.275362</td>\n",
       "      <td>7.0</td>\n",
       "      <td>15.0</td>\n",
       "      <td>12.0</td>\n",
       "      <td>1.581395</td>\n",
       "      <td>26.0</td>\n",
       "      <td>16.0</td>\n",
       "      <td>3.000000</td>\n",
       "      <td>2.5</td>\n",
       "    </tr>\n",
       "    <tr>\n",
       "      <th>2</th>\n",
       "      <td>20</td>\n",
       "      <td>2023</td>\n",
       "      <td>Nottingham Forest</td>\n",
       "      <td>Manchester United</td>\n",
       "      <td>The City Ground</td>\n",
       "      <td>1</td>\n",
       "      <td>5016.00</td>\n",
       "      <td>29.000000</td>\n",
       "      <td>15.000000</td>\n",
       "      <td>197.000000</td>\n",
       "      <td>...</td>\n",
       "      <td>29.0</td>\n",
       "      <td>2.000000</td>\n",
       "      <td>3.0</td>\n",
       "      <td>7.0</td>\n",
       "      <td>11.0</td>\n",
       "      <td>1.581395</td>\n",
       "      <td>34.0</td>\n",
       "      <td>14.0</td>\n",
       "      <td>7.000000</td>\n",
       "      <td>2.0</td>\n",
       "    </tr>\n",
       "    <tr>\n",
       "      <th>3</th>\n",
       "      <td>20</td>\n",
       "      <td>2023</td>\n",
       "      <td>Manchester City</td>\n",
       "      <td>Sheffield United</td>\n",
       "      <td>Etihad Stadium</td>\n",
       "      <td>1</td>\n",
       "      <td>10041.25</td>\n",
       "      <td>65.750000</td>\n",
       "      <td>11.500000</td>\n",
       "      <td>136.250000</td>\n",
       "      <td>...</td>\n",
       "      <td>NaN</td>\n",
       "      <td>NaN</td>\n",
       "      <td>NaN</td>\n",
       "      <td>NaN</td>\n",
       "      <td>NaN</td>\n",
       "      <td>NaN</td>\n",
       "      <td>NaN</td>\n",
       "      <td>NaN</td>\n",
       "      <td>NaN</td>\n",
       "      <td>NaN</td>\n",
       "    </tr>\n",
       "    <tr>\n",
       "      <th>4</th>\n",
       "      <td>20</td>\n",
       "      <td>2023</td>\n",
       "      <td>Liverpool</td>\n",
       "      <td>Newcastle United</td>\n",
       "      <td>Anfield</td>\n",
       "      <td>1</td>\n",
       "      <td>9401.25</td>\n",
       "      <td>64.250000</td>\n",
       "      <td>16.000000</td>\n",
       "      <td>177.250000</td>\n",
       "      <td>...</td>\n",
       "      <td>51.0</td>\n",
       "      <td>5.000000</td>\n",
       "      <td>5.0</td>\n",
       "      <td>11.0</td>\n",
       "      <td>14.0</td>\n",
       "      <td>1.581395</td>\n",
       "      <td>21.0</td>\n",
       "      <td>27.0</td>\n",
       "      <td>7.000000</td>\n",
       "      <td>2.0</td>\n",
       "    </tr>\n",
       "    <tr>\n",
       "      <th>...</th>\n",
       "      <td>...</td>\n",
       "      <td>...</td>\n",
       "      <td>...</td>\n",
       "      <td>...</td>\n",
       "      <td>...</td>\n",
       "      <td>...</td>\n",
       "      <td>...</td>\n",
       "      <td>...</td>\n",
       "      <td>...</td>\n",
       "      <td>...</td>\n",
       "      <td>...</td>\n",
       "      <td>...</td>\n",
       "      <td>...</td>\n",
       "      <td>...</td>\n",
       "      <td>...</td>\n",
       "      <td>...</td>\n",
       "      <td>...</td>\n",
       "      <td>...</td>\n",
       "      <td>...</td>\n",
       "      <td>...</td>\n",
       "      <td>...</td>\n",
       "    </tr>\n",
       "    <tr>\n",
       "      <th>1181</th>\n",
       "      <td>19</td>\n",
       "      <td>2020</td>\n",
       "      <td>Manchester City</td>\n",
       "      <td>Aston Villa</td>\n",
       "      <td>Etihad Stadium</td>\n",
       "      <td>1</td>\n",
       "      <td>10041.25</td>\n",
       "      <td>65.750000</td>\n",
       "      <td>11.500000</td>\n",
       "      <td>136.250000</td>\n",
       "      <td>...</td>\n",
       "      <td>70.0</td>\n",
       "      <td>1.000000</td>\n",
       "      <td>6.0</td>\n",
       "      <td>23.0</td>\n",
       "      <td>9.0</td>\n",
       "      <td>1.000000</td>\n",
       "      <td>22.0</td>\n",
       "      <td>21.0</td>\n",
       "      <td>4.285714</td>\n",
       "      <td>1.0</td>\n",
       "    </tr>\n",
       "    <tr>\n",
       "      <th>1182</th>\n",
       "      <td>1</td>\n",
       "      <td>2020</td>\n",
       "      <td>Liverpool</td>\n",
       "      <td>Leeds United</td>\n",
       "      <td>Anfield</td>\n",
       "      <td>1</td>\n",
       "      <td>9401.25</td>\n",
       "      <td>64.250000</td>\n",
       "      <td>16.000000</td>\n",
       "      <td>177.250000</td>\n",
       "      <td>...</td>\n",
       "      <td>NaN</td>\n",
       "      <td>NaN</td>\n",
       "      <td>NaN</td>\n",
       "      <td>NaN</td>\n",
       "      <td>NaN</td>\n",
       "      <td>NaN</td>\n",
       "      <td>NaN</td>\n",
       "      <td>NaN</td>\n",
       "      <td>NaN</td>\n",
       "      <td>NaN</td>\n",
       "    </tr>\n",
       "    <tr>\n",
       "      <th>1183</th>\n",
       "      <td>1</td>\n",
       "      <td>2020</td>\n",
       "      <td>Fulham</td>\n",
       "      <td>Arsenal</td>\n",
       "      <td>Craven Cottage</td>\n",
       "      <td>0</td>\n",
       "      <td>7339.00</td>\n",
       "      <td>53.000000</td>\n",
       "      <td>15.500000</td>\n",
       "      <td>199.000000</td>\n",
       "      <td>...</td>\n",
       "      <td>65.0</td>\n",
       "      <td>2.275362</td>\n",
       "      <td>8.0</td>\n",
       "      <td>21.0</td>\n",
       "      <td>18.0</td>\n",
       "      <td>1.000000</td>\n",
       "      <td>26.0</td>\n",
       "      <td>18.0</td>\n",
       "      <td>4.285714</td>\n",
       "      <td>5.0</td>\n",
       "    </tr>\n",
       "    <tr>\n",
       "      <th>1184</th>\n",
       "      <td>1</td>\n",
       "      <td>2020</td>\n",
       "      <td>Crystal Palace</td>\n",
       "      <td>Southampton</td>\n",
       "      <td>Selhurst Park</td>\n",
       "      <td>1</td>\n",
       "      <td>6535.25</td>\n",
       "      <td>46.000000</td>\n",
       "      <td>21.500000</td>\n",
       "      <td>168.500000</td>\n",
       "      <td>...</td>\n",
       "      <td>80.0</td>\n",
       "      <td>2.275362</td>\n",
       "      <td>4.0</td>\n",
       "      <td>17.0</td>\n",
       "      <td>13.0</td>\n",
       "      <td>1.000000</td>\n",
       "      <td>25.0</td>\n",
       "      <td>24.0</td>\n",
       "      <td>4.285714</td>\n",
       "      <td>4.0</td>\n",
       "    </tr>\n",
       "    <tr>\n",
       "      <th>1185</th>\n",
       "      <td>18</td>\n",
       "      <td>2020</td>\n",
       "      <td>Burnley</td>\n",
       "      <td>Manchester United</td>\n",
       "      <td>Turf Moor</td>\n",
       "      <td>0</td>\n",
       "      <td>4121.00</td>\n",
       "      <td>46.333333</td>\n",
       "      <td>19.666667</td>\n",
       "      <td>143.333333</td>\n",
       "      <td>...</td>\n",
       "      <td>78.0</td>\n",
       "      <td>2.000000</td>\n",
       "      <td>3.0</td>\n",
       "      <td>14.0</td>\n",
       "      <td>13.0</td>\n",
       "      <td>1.581395</td>\n",
       "      <td>19.0</td>\n",
       "      <td>16.0</td>\n",
       "      <td>4.285714</td>\n",
       "      <td>2.5</td>\n",
       "    </tr>\n",
       "  </tbody>\n",
       "</table>\n",
       "<p>1186 rows × 134 columns</p>\n",
       "</div>"
      ],
      "text/plain": [
       "      gameweek_gameweek  gameweek_compSeason_label        teams_team_1_name  \\\n",
       "0                    20                       2023  Wolverhampton Wanderers   \n",
       "1                    20                       2023        Tottenham Hotspur   \n",
       "2                    20                       2023        Nottingham Forest   \n",
       "3                    20                       2023          Manchester City   \n",
       "4                    20                       2023                Liverpool   \n",
       "...                 ...                        ...                      ...   \n",
       "1181                 19                       2020          Manchester City   \n",
       "1182                  1                       2020                Liverpool   \n",
       "1183                  1                       2020                   Fulham   \n",
       "1184                  1                       2020           Crystal Palace   \n",
       "1185                 18                       2020                  Burnley   \n",
       "\n",
       "      teams_team_2_name                ground_name  team_1_hue  \\\n",
       "0               Everton           Molineux Stadium           1   \n",
       "1           Bournemouth  Tottenham Hotspur Stadium           1   \n",
       "2     Manchester United            The City Ground           1   \n",
       "3      Sheffield United             Etihad Stadium           1   \n",
       "4      Newcastle United                    Anfield           1   \n",
       "...                 ...                        ...         ...   \n",
       "1181        Aston Villa             Etihad Stadium           1   \n",
       "1182       Leeds United                    Anfield           1   \n",
       "1183            Arsenal             Craven Cottage           0   \n",
       "1184        Southampton              Selhurst Park           1   \n",
       "1185  Manchester United                  Turf Moor           0   \n",
       "\n",
       "      _accurate_back_zone_pass_team_1  _accurate_corners_intobox_team_1  \\\n",
       "0                             7582.25                         43.750000   \n",
       "1                             8308.50                         41.750000   \n",
       "2                             5016.00                         29.000000   \n",
       "3                            10041.25                         65.750000   \n",
       "4                             9401.25                         64.250000   \n",
       "...                               ...                               ...   \n",
       "1181                         10041.25                         65.750000   \n",
       "1182                          9401.25                         64.250000   \n",
       "1183                          7339.00                         53.000000   \n",
       "1184                          6535.25                         46.000000   \n",
       "1185                          4121.00                         46.333333   \n",
       "\n",
       "      _accurate_freekick_cross_team_1  _accurate_goal_kicks_team_1  ...  \\\n",
       "0                           16.500000                   182.000000  ...   \n",
       "1                            7.750000                   217.000000  ...   \n",
       "2                           15.000000                   197.000000  ...   \n",
       "3                           11.500000                   136.250000  ...   \n",
       "4                           16.000000                   177.250000  ...   \n",
       "...                               ...                          ...  ...   \n",
       "1181                        11.500000                   136.250000  ...   \n",
       "1182                        16.000000                   177.250000  ...   \n",
       "1183                        15.500000                   199.000000  ...   \n",
       "1184                        21.500000                   168.500000  ...   \n",
       "1185                        19.666667                   143.333333  ...   \n",
       "\n",
       "      _overrun_lag_team2  _own_goal_accrued_lag_team2  \\\n",
       "0                   41.0                     2.000000   \n",
       "1                   55.0                     2.275362   \n",
       "2                   29.0                     2.000000   \n",
       "3                    NaN                          NaN   \n",
       "4                   51.0                     5.000000   \n",
       "...                  ...                          ...   \n",
       "1181                70.0                     1.000000   \n",
       "1182                 NaN                          NaN   \n",
       "1183                65.0                     2.275362   \n",
       "1184                80.0                     2.275362   \n",
       "1185                78.0                     2.000000   \n",
       "\n",
       "      _penalty_conceded_lag_team2  _pts_dropped_winning_pos_lag_team2  \\\n",
       "0                             6.0                                17.0   \n",
       "1                             7.0                                15.0   \n",
       "2                             3.0                                 7.0   \n",
       "3                             NaN                                 NaN   \n",
       "4                             5.0                                11.0   \n",
       "...                           ...                                 ...   \n",
       "1181                          6.0                                23.0   \n",
       "1182                          NaN                                 NaN   \n",
       "1183                          8.0                                21.0   \n",
       "1184                          4.0                                17.0   \n",
       "1185                          3.0                                14.0   \n",
       "\n",
       "      _pts_gained_losing_pos_lag_team2  _second_yellow_lag_team2  \\\n",
       "0                                  9.0                  1.000000   \n",
       "1                                 12.0                  1.581395   \n",
       "2                                 11.0                  1.581395   \n",
       "3                                  NaN                       NaN   \n",
       "4                                 14.0                  1.581395   \n",
       "...                                ...                       ...   \n",
       "1181                               9.0                  1.000000   \n",
       "1182                               NaN                       NaN   \n",
       "1183                              18.0                  1.000000   \n",
       "1184                              13.0                  1.000000   \n",
       "1185                              13.0                  1.581395   \n",
       "\n",
       "      _shield_ball_oop_lag_team2  _six_yard_block_lag_team2  \\\n",
       "0                           24.0                       14.0   \n",
       "1                           26.0                       16.0   \n",
       "2                           34.0                       14.0   \n",
       "3                            NaN                        NaN   \n",
       "4                           21.0                       27.0   \n",
       "...                          ...                        ...   \n",
       "1181                        22.0                       21.0   \n",
       "1182                         NaN                        NaN   \n",
       "1183                        26.0                       18.0   \n",
       "1184                        25.0                       24.0   \n",
       "1185                        19.0                       16.0   \n",
       "\n",
       "      _subs_goals_lag_team2  _total_red_card_lag_team2  \n",
       "0                  2.000000                        2.0  \n",
       "1                  3.000000                        2.5  \n",
       "2                  7.000000                        2.0  \n",
       "3                       NaN                        NaN  \n",
       "4                  7.000000                        2.0  \n",
       "...                     ...                        ...  \n",
       "1181               4.285714                        1.0  \n",
       "1182                    NaN                        NaN  \n",
       "1183               4.285714                        5.0  \n",
       "1184               4.285714                        4.0  \n",
       "1185               4.285714                        2.5  \n",
       "\n",
       "[1186 rows x 134 columns]"
      ]
     },
     "execution_count": 20,
     "metadata": {},
     "output_type": "execute_result"
    }
   ],
   "source": [
    "df_temp"
   ]
  },
  {
   "cell_type": "code",
   "execution_count": 21,
   "metadata": {},
   "outputs": [],
   "source": [
    "df_temp.to_csv('../prepare_data/data/df_temp_65.csv', index=False)"
   ]
  },
  {
   "cell_type": "code",
   "execution_count": 57,
   "metadata": {},
   "outputs": [
    {
     "data": {
      "application/vnd.jupyter.widget-view+json": {
       "model_id": "73b39449d5e34293ba8b70979f1408ae",
       "version_major": 2,
       "version_minor": 0
      },
      "text/plain": [
       "MetricVisualizer(layout=Layout(align_self='stretch', height='500px'))"
      ]
     },
     "metadata": {},
     "output_type": "display_data"
    },
    {
     "data": {
      "application/vnd.jupyter.widget-view+json": {
       "model_id": "9bac1e9370594b31a31bac89ac29db00",
       "version_major": 2,
       "version_minor": 0
      },
      "text/plain": [
       "MetricVisualizer(layout=Layout(align_self='stretch', height='500px'))"
      ]
     },
     "metadata": {},
     "output_type": "display_data"
    },
    {
     "data": {
      "application/vnd.jupyter.widget-view+json": {
       "model_id": "126026eb04d14ec18176dde770f7bb06",
       "version_major": 2,
       "version_minor": 0
      },
      "text/plain": [
       "MetricVisualizer(layout=Layout(align_self='stretch', height='500px'))"
      ]
     },
     "metadata": {},
     "output_type": "display_data"
    },
    {
     "data": {
      "application/vnd.jupyter.widget-view+json": {
       "model_id": "a67310e319da45f0bac51aaef60bc85d",
       "version_major": 2,
       "version_minor": 0
      },
      "text/plain": [
       "MetricVisualizer(layout=Layout(align_self='stretch', height='500px'))"
      ]
     },
     "metadata": {},
     "output_type": "display_data"
    },
    {
     "data": {
      "application/vnd.jupyter.widget-view+json": {
       "model_id": "d8b25eb296e14a98af1fe686ffbe7322",
       "version_major": 2,
       "version_minor": 0
      },
      "text/plain": [
       "MetricVisualizer(layout=Layout(align_self='stretch', height='500px'))"
      ]
     },
     "metadata": {},
     "output_type": "display_data"
    },
    {
     "data": {
      "application/vnd.jupyter.widget-view+json": {
       "model_id": "53463dbf0e3e4a56862314e89efb31d9",
       "version_major": 2,
       "version_minor": 0
      },
      "text/plain": [
       "MetricVisualizer(layout=Layout(align_self='stretch', height='500px'))"
      ]
     },
     "metadata": {},
     "output_type": "display_data"
    },
    {
     "data": {
      "application/vnd.jupyter.widget-view+json": {
       "model_id": "57558fa90625463b998f3ce500a7b480",
       "version_major": 2,
       "version_minor": 0
      },
      "text/plain": [
       "MetricVisualizer(layout=Layout(align_self='stretch', height='500px'))"
      ]
     },
     "metadata": {},
     "output_type": "display_data"
    },
    {
     "data": {
      "application/vnd.jupyter.widget-view+json": {
       "model_id": "8e8b53c8f92841bb97506fb489e2d2de",
       "version_major": 2,
       "version_minor": 0
      },
      "text/plain": [
       "MetricVisualizer(layout=Layout(align_self='stretch', height='500px'))"
      ]
     },
     "metadata": {},
     "output_type": "display_data"
    },
    {
     "data": {
      "application/vnd.jupyter.widget-view+json": {
       "model_id": "96318182390b4509ac911c218e58ef69",
       "version_major": 2,
       "version_minor": 0
      },
      "text/plain": [
       "MetricVisualizer(layout=Layout(align_self='stretch', height='500px'))"
      ]
     },
     "metadata": {},
     "output_type": "display_data"
    },
    {
     "data": {
      "application/vnd.jupyter.widget-view+json": {
       "model_id": "e31f266c77ac42acbb967f4c42d164f4",
       "version_major": 2,
       "version_minor": 0
      },
      "text/plain": [
       "MetricVisualizer(layout=Layout(align_self='stretch', height='500px'))"
      ]
     },
     "metadata": {},
     "output_type": "display_data"
    },
    {
     "data": {
      "application/vnd.jupyter.widget-view+json": {
       "model_id": "59007224d8a940f0a349c865e64df5e4",
       "version_major": 2,
       "version_minor": 0
      },
      "text/plain": [
       "MetricVisualizer(layout=Layout(align_self='stretch', height='500px'))"
      ]
     },
     "metadata": {},
     "output_type": "display_data"
    },
    {
     "data": {
      "application/vnd.jupyter.widget-view+json": {
       "model_id": "dfec62ddcfe14c8890ec407c453bfc0c",
       "version_major": 2,
       "version_minor": 0
      },
      "text/plain": [
       "MetricVisualizer(layout=Layout(align_self='stretch', height='500px'))"
      ]
     },
     "metadata": {},
     "output_type": "display_data"
    },
    {
     "data": {
      "application/vnd.jupyter.widget-view+json": {
       "model_id": "1e4c657bbfa248e7a63540194fddbef7",
       "version_major": 2,
       "version_minor": 0
      },
      "text/plain": [
       "MetricVisualizer(layout=Layout(align_self='stretch', height='500px'))"
      ]
     },
     "metadata": {},
     "output_type": "display_data"
    },
    {
     "data": {
      "application/vnd.jupyter.widget-view+json": {
       "model_id": "f1e30f36cd04462d837f206e389e4665",
       "version_major": 2,
       "version_minor": 0
      },
      "text/plain": [
       "MetricVisualizer(layout=Layout(align_self='stretch', height='500px'))"
      ]
     },
     "metadata": {},
     "output_type": "display_data"
    },
    {
     "data": {
      "application/vnd.jupyter.widget-view+json": {
       "model_id": "57146105274443eaa1a8b0939dcaeddd",
       "version_major": 2,
       "version_minor": 0
      },
      "text/plain": [
       "MetricVisualizer(layout=Layout(align_self='stretch', height='500px'))"
      ]
     },
     "metadata": {},
     "output_type": "display_data"
    },
    {
     "data": {
      "application/vnd.jupyter.widget-view+json": {
       "model_id": "f2640c665f144e51a202d5aec917a658",
       "version_major": 2,
       "version_minor": 0
      },
      "text/plain": [
       "MetricVisualizer(layout=Layout(align_self='stretch', height='500px'))"
      ]
     },
     "metadata": {},
     "output_type": "display_data"
    },
    {
     "data": {
      "application/vnd.jupyter.widget-view+json": {
       "model_id": "6aeb7e4e2a484226ad996b994eae5c83",
       "version_major": 2,
       "version_minor": 0
      },
      "text/plain": [
       "MetricVisualizer(layout=Layout(align_self='stretch', height='500px'))"
      ]
     },
     "metadata": {},
     "output_type": "display_data"
    },
    {
     "data": {
      "application/vnd.jupyter.widget-view+json": {
       "model_id": "80522078065f4a759a2b81dc26a31147",
       "version_major": 2,
       "version_minor": 0
      },
      "text/plain": [
       "MetricVisualizer(layout=Layout(align_self='stretch', height='500px'))"
      ]
     },
     "metadata": {},
     "output_type": "display_data"
    },
    {
     "data": {
      "application/vnd.jupyter.widget-view+json": {
       "model_id": "b94ef8e816f3463ea6fa3c27edebeb77",
       "version_major": 2,
       "version_minor": 0
      },
      "text/plain": [
       "MetricVisualizer(layout=Layout(align_self='stretch', height='500px'))"
      ]
     },
     "metadata": {},
     "output_type": "display_data"
    },
    {
     "data": {
      "application/vnd.jupyter.widget-view+json": {
       "model_id": "fb8b14bcc7da4989b135fc7a2963fdc3",
       "version_major": 2,
       "version_minor": 0
      },
      "text/plain": [
       "MetricVisualizer(layout=Layout(align_self='stretch', height='500px'))"
      ]
     },
     "metadata": {},
     "output_type": "display_data"
    },
    {
     "data": {
      "application/vnd.jupyter.widget-view+json": {
       "model_id": "1c05120460fa4b3a93275d4ba6c8e4cd",
       "version_major": 2,
       "version_minor": 0
      },
      "text/plain": [
       "MetricVisualizer(layout=Layout(align_self='stretch', height='500px'))"
      ]
     },
     "metadata": {},
     "output_type": "display_data"
    },
    {
     "data": {
      "application/vnd.jupyter.widget-view+json": {
       "model_id": "481b6980b9b44bdeb39a31e778e79e85",
       "version_major": 2,
       "version_minor": 0
      },
      "text/plain": [
       "MetricVisualizer(layout=Layout(align_self='stretch', height='500px'))"
      ]
     },
     "metadata": {},
     "output_type": "display_data"
    },
    {
     "data": {
      "application/vnd.jupyter.widget-view+json": {
       "model_id": "8280e7e6a3f547c7b8b2d4efc522fa12",
       "version_major": 2,
       "version_minor": 0
      },
      "text/plain": [
       "MetricVisualizer(layout=Layout(align_self='stretch', height='500px'))"
      ]
     },
     "metadata": {},
     "output_type": "display_data"
    },
    {
     "data": {
      "application/vnd.jupyter.widget-view+json": {
       "model_id": "9ed8404dfd1c45dbb916f008a4f0cc85",
       "version_major": 2,
       "version_minor": 0
      },
      "text/plain": [
       "MetricVisualizer(layout=Layout(align_self='stretch', height='500px'))"
      ]
     },
     "metadata": {},
     "output_type": "display_data"
    },
    {
     "data": {
      "application/vnd.jupyter.widget-view+json": {
       "model_id": "3610dc0e52c340e6a6cc1af6e0f2cef3",
       "version_major": 2,
       "version_minor": 0
      },
      "text/plain": [
       "MetricVisualizer(layout=Layout(align_self='stretch', height='500px'))"
      ]
     },
     "metadata": {},
     "output_type": "display_data"
    },
    {
     "data": {
      "application/vnd.jupyter.widget-view+json": {
       "model_id": "c7aac846165d4445941f221c19b8f6ac",
       "version_major": 2,
       "version_minor": 0
      },
      "text/plain": [
       "MetricVisualizer(layout=Layout(align_self='stretch', height='500px'))"
      ]
     },
     "metadata": {},
     "output_type": "display_data"
    },
    {
     "data": {
      "application/vnd.jupyter.widget-view+json": {
       "model_id": "04cf66ba4ec64131aff01e9dff9098b0",
       "version_major": 2,
       "version_minor": 0
      },
      "text/plain": [
       "MetricVisualizer(layout=Layout(align_self='stretch', height='500px'))"
      ]
     },
     "metadata": {},
     "output_type": "display_data"
    },
    {
     "data": {
      "application/vnd.jupyter.widget-view+json": {
       "model_id": "e64df84c5f6748bfa92ccd5f9ecc4351",
       "version_major": 2,
       "version_minor": 0
      },
      "text/plain": [
       "MetricVisualizer(layout=Layout(align_self='stretch', height='500px'))"
      ]
     },
     "metadata": {},
     "output_type": "display_data"
    },
    {
     "data": {
      "application/vnd.jupyter.widget-view+json": {
       "model_id": "79f4ee646ede4e87a3c3d6f81f27aa1b",
       "version_major": 2,
       "version_minor": 0
      },
      "text/plain": [
       "MetricVisualizer(layout=Layout(align_self='stretch', height='500px'))"
      ]
     },
     "metadata": {},
     "output_type": "display_data"
    },
    {
     "data": {
      "application/vnd.jupyter.widget-view+json": {
       "model_id": "d221795d17814c13b1f1f0c27bf9bcc9",
       "version_major": 2,
       "version_minor": 0
      },
      "text/plain": [
       "MetricVisualizer(layout=Layout(align_self='stretch', height='500px'))"
      ]
     },
     "metadata": {},
     "output_type": "display_data"
    },
    {
     "data": {
      "application/vnd.jupyter.widget-view+json": {
       "model_id": "a33394fb46514efd94a733f2894faa2b",
       "version_major": 2,
       "version_minor": 0
      },
      "text/plain": [
       "MetricVisualizer(layout=Layout(align_self='stretch', height='500px'))"
      ]
     },
     "metadata": {},
     "output_type": "display_data"
    },
    {
     "data": {
      "application/vnd.jupyter.widget-view+json": {
       "model_id": "d306732a7114439b81becfec2123d710",
       "version_major": 2,
       "version_minor": 0
      },
      "text/plain": [
       "MetricVisualizer(layout=Layout(align_self='stretch', height='500px'))"
      ]
     },
     "metadata": {},
     "output_type": "display_data"
    },
    {
     "data": {
      "application/vnd.jupyter.widget-view+json": {
       "model_id": "4f7ad70396a74d4d9b865bc9fcb8b988",
       "version_major": 2,
       "version_minor": 0
      },
      "text/plain": [
       "MetricVisualizer(layout=Layout(align_self='stretch', height='500px'))"
      ]
     },
     "metadata": {},
     "output_type": "display_data"
    },
    {
     "data": {
      "application/vnd.jupyter.widget-view+json": {
       "model_id": "f6e7c63fab074ed6a89c137bc88a12ee",
       "version_major": 2,
       "version_minor": 0
      },
      "text/plain": [
       "MetricVisualizer(layout=Layout(align_self='stretch', height='500px'))"
      ]
     },
     "metadata": {},
     "output_type": "display_data"
    },
    {
     "data": {
      "application/vnd.jupyter.widget-view+json": {
       "model_id": "3c7af67629f243bea067e4d90f8b0a89",
       "version_major": 2,
       "version_minor": 0
      },
      "text/plain": [
       "MetricVisualizer(layout=Layout(align_self='stretch', height='500px'))"
      ]
     },
     "metadata": {},
     "output_type": "display_data"
    },
    {
     "data": {
      "application/vnd.jupyter.widget-view+json": {
       "model_id": "6b8528a5db9d4e729b1538c077b1c713",
       "version_major": 2,
       "version_minor": 0
      },
      "text/plain": [
       "MetricVisualizer(layout=Layout(align_self='stretch', height='500px'))"
      ]
     },
     "metadata": {},
     "output_type": "display_data"
    },
    {
     "data": {
      "application/vnd.jupyter.widget-view+json": {
       "model_id": "0ccddc8ebe5c4c86a27d1708fd5348b8",
       "version_major": 2,
       "version_minor": 0
      },
      "text/plain": [
       "MetricVisualizer(layout=Layout(align_self='stretch', height='500px'))"
      ]
     },
     "metadata": {},
     "output_type": "display_data"
    },
    {
     "data": {
      "application/vnd.jupyter.widget-view+json": {
       "model_id": "ba7edbfcf897447f9c0125026064c083",
       "version_major": 2,
       "version_minor": 0
      },
      "text/plain": [
       "MetricVisualizer(layout=Layout(align_self='stretch', height='500px'))"
      ]
     },
     "metadata": {},
     "output_type": "display_data"
    },
    {
     "data": {
      "application/vnd.jupyter.widget-view+json": {
       "model_id": "d9173036c640464d8f2475a16465c82c",
       "version_major": 2,
       "version_minor": 0
      },
      "text/plain": [
       "MetricVisualizer(layout=Layout(align_self='stretch', height='500px'))"
      ]
     },
     "metadata": {},
     "output_type": "display_data"
    },
    {
     "data": {
      "application/vnd.jupyter.widget-view+json": {
       "model_id": "7c5a608a765d45e1940730dd74d356c4",
       "version_major": 2,
       "version_minor": 0
      },
      "text/plain": [
       "MetricVisualizer(layout=Layout(align_self='stretch', height='500px'))"
      ]
     },
     "metadata": {},
     "output_type": "display_data"
    },
    {
     "data": {
      "application/vnd.jupyter.widget-view+json": {
       "model_id": "0ac75a6f57af4426a52c43208291b8fd",
       "version_major": 2,
       "version_minor": 0
      },
      "text/plain": [
       "MetricVisualizer(layout=Layout(align_self='stretch', height='500px'))"
      ]
     },
     "metadata": {},
     "output_type": "display_data"
    },
    {
     "data": {
      "application/vnd.jupyter.widget-view+json": {
       "model_id": "f3bd5e90373d4701bd913dc0777bf606",
       "version_major": 2,
       "version_minor": 0
      },
      "text/plain": [
       "MetricVisualizer(layout=Layout(align_self='stretch', height='500px'))"
      ]
     },
     "metadata": {},
     "output_type": "display_data"
    },
    {
     "data": {
      "application/vnd.jupyter.widget-view+json": {
       "model_id": "0b84cdb1261f4c18b294f5f1332c20fc",
       "version_major": 2,
       "version_minor": 0
      },
      "text/plain": [
       "MetricVisualizer(layout=Layout(align_self='stretch', height='500px'))"
      ]
     },
     "metadata": {},
     "output_type": "display_data"
    },
    {
     "data": {
      "application/vnd.jupyter.widget-view+json": {
       "model_id": "cacb4cc3b0a947c191a615697979f9bd",
       "version_major": 2,
       "version_minor": 0
      },
      "text/plain": [
       "MetricVisualizer(layout=Layout(align_self='stretch', height='500px'))"
      ]
     },
     "metadata": {},
     "output_type": "display_data"
    },
    {
     "data": {
      "application/vnd.jupyter.widget-view+json": {
       "model_id": "69e55aec97374ab5a66c4fb5bc793497",
       "version_major": 2,
       "version_minor": 0
      },
      "text/plain": [
       "MetricVisualizer(layout=Layout(align_self='stretch', height='500px'))"
      ]
     },
     "metadata": {},
     "output_type": "display_data"
    },
    {
     "data": {
      "application/vnd.jupyter.widget-view+json": {
       "model_id": "7258d377be4f451aa2aca670822f9094",
       "version_major": 2,
       "version_minor": 0
      },
      "text/plain": [
       "MetricVisualizer(layout=Layout(align_self='stretch', height='500px'))"
      ]
     },
     "metadata": {},
     "output_type": "display_data"
    },
    {
     "data": {
      "application/vnd.jupyter.widget-view+json": {
       "model_id": "3e1460ae9cf74d828f765993223d2b32",
       "version_major": 2,
       "version_minor": 0
      },
      "text/plain": [
       "MetricVisualizer(layout=Layout(align_self='stretch', height='500px'))"
      ]
     },
     "metadata": {},
     "output_type": "display_data"
    },
    {
     "data": {
      "application/vnd.jupyter.widget-view+json": {
       "model_id": "1df7d1b6cdcc486280161c9c64c45bd9",
       "version_major": 2,
       "version_minor": 0
      },
      "text/plain": [
       "MetricVisualizer(layout=Layout(align_self='stretch', height='500px'))"
      ]
     },
     "metadata": {},
     "output_type": "display_data"
    },
    {
     "data": {
      "application/vnd.jupyter.widget-view+json": {
       "model_id": "9d917060d6ed4f379d5fbdb5c885d166",
       "version_major": 2,
       "version_minor": 0
      },
      "text/plain": [
       "MetricVisualizer(layout=Layout(align_self='stretch', height='500px'))"
      ]
     },
     "metadata": {},
     "output_type": "display_data"
    },
    {
     "data": {
      "application/vnd.jupyter.widget-view+json": {
       "model_id": "e712816267154f18acb1c5acdfd91b94",
       "version_major": 2,
       "version_minor": 0
      },
      "text/plain": [
       "MetricVisualizer(layout=Layout(align_self='stretch', height='500px'))"
      ]
     },
     "metadata": {},
     "output_type": "display_data"
    },
    {
     "data": {
      "application/vnd.jupyter.widget-view+json": {
       "model_id": "fe0869fc25a34122a4ef508d32bac895",
       "version_major": 2,
       "version_minor": 0
      },
      "text/plain": [
       "MetricVisualizer(layout=Layout(align_self='stretch', height='500px'))"
      ]
     },
     "metadata": {},
     "output_type": "display_data"
    },
    {
     "data": {
      "application/vnd.jupyter.widget-view+json": {
       "model_id": "c3c9f35684734212a4a369baf856dc15",
       "version_major": 2,
       "version_minor": 0
      },
      "text/plain": [
       "MetricVisualizer(layout=Layout(align_self='stretch', height='500px'))"
      ]
     },
     "metadata": {},
     "output_type": "display_data"
    },
    {
     "data": {
      "application/vnd.jupyter.widget-view+json": {
       "model_id": "685fde7fe91f43a4964b8d6493d2abef",
       "version_major": 2,
       "version_minor": 0
      },
      "text/plain": [
       "MetricVisualizer(layout=Layout(align_self='stretch', height='500px'))"
      ]
     },
     "metadata": {},
     "output_type": "display_data"
    },
    {
     "data": {
      "application/vnd.jupyter.widget-view+json": {
       "model_id": "cea3088eb55249e192e413a5bc4d60ba",
       "version_major": 2,
       "version_minor": 0
      },
      "text/plain": [
       "MetricVisualizer(layout=Layout(align_self='stretch', height='500px'))"
      ]
     },
     "metadata": {},
     "output_type": "display_data"
    },
    {
     "data": {
      "application/vnd.jupyter.widget-view+json": {
       "model_id": "e70cf2b02b2544d89a835dc71c27919b",
       "version_major": 2,
       "version_minor": 0
      },
      "text/plain": [
       "MetricVisualizer(layout=Layout(align_self='stretch', height='500px'))"
      ]
     },
     "metadata": {},
     "output_type": "display_data"
    },
    {
     "data": {
      "application/vnd.jupyter.widget-view+json": {
       "model_id": "f7daa1fbfaef4a23827795b6deea0954",
       "version_major": 2,
       "version_minor": 0
      },
      "text/plain": [
       "MetricVisualizer(layout=Layout(align_self='stretch', height='500px'))"
      ]
     },
     "metadata": {},
     "output_type": "display_data"
    },
    {
     "data": {
      "application/vnd.jupyter.widget-view+json": {
       "model_id": "9d4903ef2d90409fa2b27a26e966385c",
       "version_major": 2,
       "version_minor": 0
      },
      "text/plain": [
       "MetricVisualizer(layout=Layout(align_self='stretch', height='500px'))"
      ]
     },
     "metadata": {},
     "output_type": "display_data"
    },
    {
     "data": {
      "application/vnd.jupyter.widget-view+json": {
       "model_id": "39180a77ba18426cb799cb9c23eb5531",
       "version_major": 2,
       "version_minor": 0
      },
      "text/plain": [
       "MetricVisualizer(layout=Layout(align_self='stretch', height='500px'))"
      ]
     },
     "metadata": {},
     "output_type": "display_data"
    },
    {
     "data": {
      "application/vnd.jupyter.widget-view+json": {
       "model_id": "7ffdf1ca50924612b2e581bfe4960008",
       "version_major": 2,
       "version_minor": 0
      },
      "text/plain": [
       "MetricVisualizer(layout=Layout(align_self='stretch', height='500px'))"
      ]
     },
     "metadata": {},
     "output_type": "display_data"
    },
    {
     "data": {
      "application/vnd.jupyter.widget-view+json": {
       "model_id": "b86059e02ee446ac8bbe965d4be899b2",
       "version_major": 2,
       "version_minor": 0
      },
      "text/plain": [
       "MetricVisualizer(layout=Layout(align_self='stretch', height='500px'))"
      ]
     },
     "metadata": {},
     "output_type": "display_data"
    },
    {
     "data": {
      "application/vnd.jupyter.widget-view+json": {
       "model_id": "5b95a7c91f684ca88aefabc359887f50",
       "version_major": 2,
       "version_minor": 0
      },
      "text/plain": [
       "MetricVisualizer(layout=Layout(align_self='stretch', height='500px'))"
      ]
     },
     "metadata": {},
     "output_type": "display_data"
    },
    {
     "data": {
      "application/vnd.jupyter.widget-view+json": {
       "model_id": "5f42533e1b0f4bfaa81f29a5f1f52381",
       "version_major": 2,
       "version_minor": 0
      },
      "text/plain": [
       "MetricVisualizer(layout=Layout(align_self='stretch', height='500px'))"
      ]
     },
     "metadata": {},
     "output_type": "display_data"
    },
    {
     "data": {
      "application/vnd.jupyter.widget-view+json": {
       "model_id": "e53abc0fa80943bbbaa5aa53156630dc",
       "version_major": 2,
       "version_minor": 0
      },
      "text/plain": [
       "MetricVisualizer(layout=Layout(align_self='stretch', height='500px'))"
      ]
     },
     "metadata": {},
     "output_type": "display_data"
    },
    {
     "data": {
      "application/vnd.jupyter.widget-view+json": {
       "model_id": "a38edaa4e78d4fc698b76c358a0b4755",
       "version_major": 2,
       "version_minor": 0
      },
      "text/plain": [
       "MetricVisualizer(layout=Layout(align_self='stretch', height='500px'))"
      ]
     },
     "metadata": {},
     "output_type": "display_data"
    },
    {
     "data": {
      "application/vnd.jupyter.widget-view+json": {
       "model_id": "2f26b49011d14ce6b39b22078071c13f",
       "version_major": 2,
       "version_minor": 0
      },
      "text/plain": [
       "MetricVisualizer(layout=Layout(align_self='stretch', height='500px'))"
      ]
     },
     "metadata": {},
     "output_type": "display_data"
    },
    {
     "data": {
      "application/vnd.jupyter.widget-view+json": {
       "model_id": "135182027e11422eab55e33e98a652a8",
       "version_major": 2,
       "version_minor": 0
      },
      "text/plain": [
       "MetricVisualizer(layout=Layout(align_self='stretch', height='500px'))"
      ]
     },
     "metadata": {},
     "output_type": "display_data"
    },
    {
     "data": {
      "application/vnd.jupyter.widget-view+json": {
       "model_id": "970901949ea44d1e9fbc88426de687aa",
       "version_major": 2,
       "version_minor": 0
      },
      "text/plain": [
       "MetricVisualizer(layout=Layout(align_self='stretch', height='500px'))"
      ]
     },
     "metadata": {},
     "output_type": "display_data"
    },
    {
     "data": {
      "application/vnd.jupyter.widget-view+json": {
       "model_id": "f202f05061d94e14a07adc9cbbc79779",
       "version_major": 2,
       "version_minor": 0
      },
      "text/plain": [
       "MetricVisualizer(layout=Layout(align_self='stretch', height='500px'))"
      ]
     },
     "metadata": {},
     "output_type": "display_data"
    },
    {
     "data": {
      "application/vnd.jupyter.widget-view+json": {
       "model_id": "b747eb0754f2479d8c5ff8146d5cbb3f",
       "version_major": 2,
       "version_minor": 0
      },
      "text/plain": [
       "MetricVisualizer(layout=Layout(align_self='stretch', height='500px'))"
      ]
     },
     "metadata": {},
     "output_type": "display_data"
    },
    {
     "data": {
      "application/vnd.jupyter.widget-view+json": {
       "model_id": "6e8c45017361463f99130918c4008ea0",
       "version_major": 2,
       "version_minor": 0
      },
      "text/plain": [
       "MetricVisualizer(layout=Layout(align_self='stretch', height='500px'))"
      ]
     },
     "metadata": {},
     "output_type": "display_data"
    },
    {
     "data": {
      "application/vnd.jupyter.widget-view+json": {
       "model_id": "64620d9e710547f09dbad05ceb1caf2f",
       "version_major": 2,
       "version_minor": 0
      },
      "text/plain": [
       "MetricVisualizer(layout=Layout(align_self='stretch', height='500px'))"
      ]
     },
     "metadata": {},
     "output_type": "display_data"
    },
    {
     "data": {
      "application/vnd.jupyter.widget-view+json": {
       "model_id": "5079621277af4d4995ad62a305a08aa8",
       "version_major": 2,
       "version_minor": 0
      },
      "text/plain": [
       "MetricVisualizer(layout=Layout(align_self='stretch', height='500px'))"
      ]
     },
     "metadata": {},
     "output_type": "display_data"
    },
    {
     "data": {
      "application/vnd.jupyter.widget-view+json": {
       "model_id": "fa3bf3936acf4a4bb85db20afa9ce407",
       "version_major": 2,
       "version_minor": 0
      },
      "text/plain": [
       "MetricVisualizer(layout=Layout(align_self='stretch', height='500px'))"
      ]
     },
     "metadata": {},
     "output_type": "display_data"
    },
    {
     "data": {
      "application/vnd.jupyter.widget-view+json": {
       "model_id": "54e9abbb9dd0404d8cae87e82c057321",
       "version_major": 2,
       "version_minor": 0
      },
      "text/plain": [
       "MetricVisualizer(layout=Layout(align_self='stretch', height='500px'))"
      ]
     },
     "metadata": {},
     "output_type": "display_data"
    },
    {
     "data": {
      "application/vnd.jupyter.widget-view+json": {
       "model_id": "64ed5bc6bf7447f288758068a3af5960",
       "version_major": 2,
       "version_minor": 0
      },
      "text/plain": [
       "MetricVisualizer(layout=Layout(align_self='stretch', height='500px'))"
      ]
     },
     "metadata": {},
     "output_type": "display_data"
    },
    {
     "data": {
      "application/vnd.jupyter.widget-view+json": {
       "model_id": "89c25929136141ae92fa63e329d66c33",
       "version_major": 2,
       "version_minor": 0
      },
      "text/plain": [
       "MetricVisualizer(layout=Layout(align_self='stretch', height='500px'))"
      ]
     },
     "metadata": {},
     "output_type": "display_data"
    },
    {
     "data": {
      "application/vnd.jupyter.widget-view+json": {
       "model_id": "2fa571a5264841eb96ed7a24a1172e20",
       "version_major": 2,
       "version_minor": 0
      },
      "text/plain": [
       "MetricVisualizer(layout=Layout(align_self='stretch', height='500px'))"
      ]
     },
     "metadata": {},
     "output_type": "display_data"
    },
    {
     "data": {
      "application/vnd.jupyter.widget-view+json": {
       "model_id": "8e0304479806489fba438b5eeda98dc4",
       "version_major": 2,
       "version_minor": 0
      },
      "text/plain": [
       "MetricVisualizer(layout=Layout(align_self='stretch', height='500px'))"
      ]
     },
     "metadata": {},
     "output_type": "display_data"
    },
    {
     "data": {
      "application/vnd.jupyter.widget-view+json": {
       "model_id": "352e95589d714c129e77a2b6e686fd33",
       "version_major": 2,
       "version_minor": 0
      },
      "text/plain": [
       "MetricVisualizer(layout=Layout(align_self='stretch', height='500px'))"
      ]
     },
     "metadata": {},
     "output_type": "display_data"
    },
    {
     "data": {
      "application/vnd.jupyter.widget-view+json": {
       "model_id": "a422bbc69ec7498f8af0e7dadc89e9fd",
       "version_major": 2,
       "version_minor": 0
      },
      "text/plain": [
       "MetricVisualizer(layout=Layout(align_self='stretch', height='500px'))"
      ]
     },
     "metadata": {},
     "output_type": "display_data"
    },
    {
     "data": {
      "application/vnd.jupyter.widget-view+json": {
       "model_id": "190607e8f2c54926a63effaeee0241a9",
       "version_major": 2,
       "version_minor": 0
      },
      "text/plain": [
       "MetricVisualizer(layout=Layout(align_self='stretch', height='500px'))"
      ]
     },
     "metadata": {},
     "output_type": "display_data"
    },
    {
     "data": {
      "application/vnd.jupyter.widget-view+json": {
       "model_id": "895dec7401ac46fbaff8a85026b3036b",
       "version_major": 2,
       "version_minor": 0
      },
      "text/plain": [
       "MetricVisualizer(layout=Layout(align_self='stretch', height='500px'))"
      ]
     },
     "metadata": {},
     "output_type": "display_data"
    },
    {
     "data": {
      "application/vnd.jupyter.widget-view+json": {
       "model_id": "cac39fab3312425f8873a73c45fca53e",
       "version_major": 2,
       "version_minor": 0
      },
      "text/plain": [
       "MetricVisualizer(layout=Layout(align_self='stretch', height='500px'))"
      ]
     },
     "metadata": {},
     "output_type": "display_data"
    },
    {
     "data": {
      "application/vnd.jupyter.widget-view+json": {
       "model_id": "2dd8d0fa3d3a499d9458e915eb9441f1",
       "version_major": 2,
       "version_minor": 0
      },
      "text/plain": [
       "MetricVisualizer(layout=Layout(align_self='stretch', height='500px'))"
      ]
     },
     "metadata": {},
     "output_type": "display_data"
    },
    {
     "data": {
      "application/vnd.jupyter.widget-view+json": {
       "model_id": "2ebfd96701dd474db485fdc1ec4b82e7",
       "version_major": 2,
       "version_minor": 0
      },
      "text/plain": [
       "MetricVisualizer(layout=Layout(align_self='stretch', height='500px'))"
      ]
     },
     "metadata": {},
     "output_type": "display_data"
    },
    {
     "data": {
      "application/vnd.jupyter.widget-view+json": {
       "model_id": "7bae295346f24e44bff0cf505fc53cc6",
       "version_major": 2,
       "version_minor": 0
      },
      "text/plain": [
       "MetricVisualizer(layout=Layout(align_self='stretch', height='500px'))"
      ]
     },
     "metadata": {},
     "output_type": "display_data"
    },
    {
     "data": {
      "application/vnd.jupyter.widget-view+json": {
       "model_id": "1c5ce89fb9e34a31acba4dbbf0696dfb",
       "version_major": 2,
       "version_minor": 0
      },
      "text/plain": [
       "MetricVisualizer(layout=Layout(align_self='stretch', height='500px'))"
      ]
     },
     "metadata": {},
     "output_type": "display_data"
    },
    {
     "data": {
      "application/vnd.jupyter.widget-view+json": {
       "model_id": "792b8ef1dc574372a10d62efbb6c2936",
       "version_major": 2,
       "version_minor": 0
      },
      "text/plain": [
       "MetricVisualizer(layout=Layout(align_self='stretch', height='500px'))"
      ]
     },
     "metadata": {},
     "output_type": "display_data"
    },
    {
     "data": {
      "application/vnd.jupyter.widget-view+json": {
       "model_id": "d43fba331f4848689c7950ad6b0c63e5",
       "version_major": 2,
       "version_minor": 0
      },
      "text/plain": [
       "MetricVisualizer(layout=Layout(align_self='stretch', height='500px'))"
      ]
     },
     "metadata": {},
     "output_type": "display_data"
    },
    {
     "data": {
      "application/vnd.jupyter.widget-view+json": {
       "model_id": "a982c4f1e1ce40ff9f235359fdc0bf33",
       "version_major": 2,
       "version_minor": 0
      },
      "text/plain": [
       "MetricVisualizer(layout=Layout(align_self='stretch', height='500px'))"
      ]
     },
     "metadata": {},
     "output_type": "display_data"
    },
    {
     "data": {
      "application/vnd.jupyter.widget-view+json": {
       "model_id": "ef20dec358af4e79aa2a065a44f65074",
       "version_major": 2,
       "version_minor": 0
      },
      "text/plain": [
       "MetricVisualizer(layout=Layout(align_self='stretch', height='500px'))"
      ]
     },
     "metadata": {},
     "output_type": "display_data"
    },
    {
     "data": {
      "application/vnd.jupyter.widget-view+json": {
       "model_id": "4f04a81e05634371bf6b864675e9e35f",
       "version_major": 2,
       "version_minor": 0
      },
      "text/plain": [
       "MetricVisualizer(layout=Layout(align_self='stretch', height='500px'))"
      ]
     },
     "metadata": {},
     "output_type": "display_data"
    },
    {
     "data": {
      "application/vnd.jupyter.widget-view+json": {
       "model_id": "7c49247928434c808ba2b6a22e22422b",
       "version_major": 2,
       "version_minor": 0
      },
      "text/plain": [
       "MetricVisualizer(layout=Layout(align_self='stretch', height='500px'))"
      ]
     },
     "metadata": {},
     "output_type": "display_data"
    },
    {
     "data": {
      "application/vnd.jupyter.widget-view+json": {
       "model_id": "d647e13b6fb54c91b62886966d5905f6",
       "version_major": 2,
       "version_minor": 0
      },
      "text/plain": [
       "MetricVisualizer(layout=Layout(align_self='stretch', height='500px'))"
      ]
     },
     "metadata": {},
     "output_type": "display_data"
    },
    {
     "data": {
      "application/vnd.jupyter.widget-view+json": {
       "model_id": "a1352239852b4d8ebd273873f90131cd",
       "version_major": 2,
       "version_minor": 0
      },
      "text/plain": [
       "MetricVisualizer(layout=Layout(align_self='stretch', height='500px'))"
      ]
     },
     "metadata": {},
     "output_type": "display_data"
    },
    {
     "data": {
      "application/vnd.jupyter.widget-view+json": {
       "model_id": "f59927043ee649c68624aa5c9bc48dd5",
       "version_major": 2,
       "version_minor": 0
      },
      "text/plain": [
       "MetricVisualizer(layout=Layout(align_self='stretch', height='500px'))"
      ]
     },
     "metadata": {},
     "output_type": "display_data"
    },
    {
     "data": {
      "application/vnd.jupyter.widget-view+json": {
       "model_id": "9bf1d2a8691e48ae9941efe08f3737d0",
       "version_major": 2,
       "version_minor": 0
      },
      "text/plain": [
       "MetricVisualizer(layout=Layout(align_self='stretch', height='500px'))"
      ]
     },
     "metadata": {},
     "output_type": "display_data"
    },
    {
     "data": {
      "application/vnd.jupyter.widget-view+json": {
       "model_id": "40070d37f3d44cfdb8756ca3a0f27798",
       "version_major": 2,
       "version_minor": 0
      },
      "text/plain": [
       "MetricVisualizer(layout=Layout(align_self='stretch', height='500px'))"
      ]
     },
     "metadata": {},
     "output_type": "display_data"
    },
    {
     "data": {
      "application/vnd.jupyter.widget-view+json": {
       "model_id": "78b0945d3d01481bb4edc558d6243ede",
       "version_major": 2,
       "version_minor": 0
      },
      "text/plain": [
       "MetricVisualizer(layout=Layout(align_self='stretch', height='500px'))"
      ]
     },
     "metadata": {},
     "output_type": "display_data"
    },
    {
     "data": {
      "application/vnd.jupyter.widget-view+json": {
       "model_id": "d7540b6fc7b0405a89090dcbbf5a4928",
       "version_major": 2,
       "version_minor": 0
      },
      "text/plain": [
       "MetricVisualizer(layout=Layout(align_self='stretch', height='500px'))"
      ]
     },
     "metadata": {},
     "output_type": "display_data"
    },
    {
     "data": {
      "application/vnd.jupyter.widget-view+json": {
       "model_id": "8af78981e4e5477ca8af4fee3b168b97",
       "version_major": 2,
       "version_minor": 0
      },
      "text/plain": [
       "MetricVisualizer(layout=Layout(align_self='stretch', height='500px'))"
      ]
     },
     "metadata": {},
     "output_type": "display_data"
    },
    {
     "data": {
      "application/vnd.jupyter.widget-view+json": {
       "model_id": "82e57108e3394ab592c21ad71b7c55eb",
       "version_major": 2,
       "version_minor": 0
      },
      "text/plain": [
       "MetricVisualizer(layout=Layout(align_self='stretch', height='500px'))"
      ]
     },
     "metadata": {},
     "output_type": "display_data"
    },
    {
     "data": {
      "application/vnd.jupyter.widget-view+json": {
       "model_id": "86440a1e204445808c1923f2662f4dd6",
       "version_major": 2,
       "version_minor": 0
      },
      "text/plain": [
       "MetricVisualizer(layout=Layout(align_self='stretch', height='500px'))"
      ]
     },
     "metadata": {},
     "output_type": "display_data"
    },
    {
     "data": {
      "application/vnd.jupyter.widget-view+json": {
       "model_id": "56884340c5c94aeb9810f1d7be48f1bf",
       "version_major": 2,
       "version_minor": 0
      },
      "text/plain": [
       "MetricVisualizer(layout=Layout(align_self='stretch', height='500px'))"
      ]
     },
     "metadata": {},
     "output_type": "display_data"
    },
    {
     "data": {
      "application/vnd.jupyter.widget-view+json": {
       "model_id": "13bcc773dd134181bf05f78992a80a5a",
       "version_major": 2,
       "version_minor": 0
      },
      "text/plain": [
       "MetricVisualizer(layout=Layout(align_self='stretch', height='500px'))"
      ]
     },
     "metadata": {},
     "output_type": "display_data"
    },
    {
     "data": {
      "application/vnd.jupyter.widget-view+json": {
       "model_id": "e354da992318445684bea9bc93edd14f",
       "version_major": 2,
       "version_minor": 0
      },
      "text/plain": [
       "MetricVisualizer(layout=Layout(align_self='stretch', height='500px'))"
      ]
     },
     "metadata": {},
     "output_type": "display_data"
    },
    {
     "data": {
      "application/vnd.jupyter.widget-view+json": {
       "model_id": "bac9884fff48472fa2878e3441b27cf9",
       "version_major": 2,
       "version_minor": 0
      },
      "text/plain": [
       "MetricVisualizer(layout=Layout(align_self='stretch', height='500px'))"
      ]
     },
     "metadata": {},
     "output_type": "display_data"
    },
    {
     "data": {
      "application/vnd.jupyter.widget-view+json": {
       "model_id": "5af9db48e1134a9dbb496baf6802b5fa",
       "version_major": 2,
       "version_minor": 0
      },
      "text/plain": [
       "MetricVisualizer(layout=Layout(align_self='stretch', height='500px'))"
      ]
     },
     "metadata": {},
     "output_type": "display_data"
    },
    {
     "data": {
      "application/vnd.jupyter.widget-view+json": {
       "model_id": "11e06333197e48ecbb6114364cd53e0d",
       "version_major": 2,
       "version_minor": 0
      },
      "text/plain": [
       "MetricVisualizer(layout=Layout(align_self='stretch', height='500px'))"
      ]
     },
     "metadata": {},
     "output_type": "display_data"
    },
    {
     "data": {
      "application/vnd.jupyter.widget-view+json": {
       "model_id": "f55a73699be54120985cefb8f5afd36a",
       "version_major": 2,
       "version_minor": 0
      },
      "text/plain": [
       "MetricVisualizer(layout=Layout(align_self='stretch', height='500px'))"
      ]
     },
     "metadata": {},
     "output_type": "display_data"
    },
    {
     "data": {
      "application/vnd.jupyter.widget-view+json": {
       "model_id": "72396e29aaa34a3cb5378cfb339acb2e",
       "version_major": 2,
       "version_minor": 0
      },
      "text/plain": [
       "MetricVisualizer(layout=Layout(align_self='stretch', height='500px'))"
      ]
     },
     "metadata": {},
     "output_type": "display_data"
    },
    {
     "data": {
      "application/vnd.jupyter.widget-view+json": {
       "model_id": "c3cb22f205254a3e8d6798d2423f0bcc",
       "version_major": 2,
       "version_minor": 0
      },
      "text/plain": [
       "MetricVisualizer(layout=Layout(align_self='stretch', height='500px'))"
      ]
     },
     "metadata": {},
     "output_type": "display_data"
    },
    {
     "data": {
      "application/vnd.jupyter.widget-view+json": {
       "model_id": "3f43ad773cc64e0688f641402055c3a9",
       "version_major": 2,
       "version_minor": 0
      },
      "text/plain": [
       "MetricVisualizer(layout=Layout(align_self='stretch', height='500px'))"
      ]
     },
     "metadata": {},
     "output_type": "display_data"
    },
    {
     "data": {
      "application/vnd.jupyter.widget-view+json": {
       "model_id": "a8fa09be18cc4002b62ace2712a80c15",
       "version_major": 2,
       "version_minor": 0
      },
      "text/plain": [
       "MetricVisualizer(layout=Layout(align_self='stretch', height='500px'))"
      ]
     },
     "metadata": {},
     "output_type": "display_data"
    },
    {
     "data": {
      "application/vnd.jupyter.widget-view+json": {
       "model_id": "dbf6ca903c1b4691baed42fb358f9d1d",
       "version_major": 2,
       "version_minor": 0
      },
      "text/plain": [
       "MetricVisualizer(layout=Layout(align_self='stretch', height='500px'))"
      ]
     },
     "metadata": {},
     "output_type": "display_data"
    },
    {
     "data": {
      "application/vnd.jupyter.widget-view+json": {
       "model_id": "ce0e81efcb2f4373a53a7a5531b53406",
       "version_major": 2,
       "version_minor": 0
      },
      "text/plain": [
       "MetricVisualizer(layout=Layout(align_self='stretch', height='500px'))"
      ]
     },
     "metadata": {},
     "output_type": "display_data"
    },
    {
     "data": {
      "application/vnd.jupyter.widget-view+json": {
       "model_id": "b5f4281fbb624a908b92c7bc746c8d93",
       "version_major": 2,
       "version_minor": 0
      },
      "text/plain": [
       "MetricVisualizer(layout=Layout(align_self='stretch', height='500px'))"
      ]
     },
     "metadata": {},
     "output_type": "display_data"
    },
    {
     "data": {
      "application/vnd.jupyter.widget-view+json": {
       "model_id": "01d7864690014fb1bccc943e5ae24df4",
       "version_major": 2,
       "version_minor": 0
      },
      "text/plain": [
       "MetricVisualizer(layout=Layout(align_self='stretch', height='500px'))"
      ]
     },
     "metadata": {},
     "output_type": "display_data"
    },
    {
     "data": {
      "application/vnd.jupyter.widget-view+json": {
       "model_id": "84782ed192084e4fb1a81d55cdca5b7e",
       "version_major": 2,
       "version_minor": 0
      },
      "text/plain": [
       "MetricVisualizer(layout=Layout(align_self='stretch', height='500px'))"
      ]
     },
     "metadata": {},
     "output_type": "display_data"
    },
    {
     "data": {
      "application/vnd.jupyter.widget-view+json": {
       "model_id": "1d9479cd41b0479eb73902b59e9e9c47",
       "version_major": 2,
       "version_minor": 0
      },
      "text/plain": [
       "MetricVisualizer(layout=Layout(align_self='stretch', height='500px'))"
      ]
     },
     "metadata": {},
     "output_type": "display_data"
    },
    {
     "data": {
      "application/vnd.jupyter.widget-view+json": {
       "model_id": "d881a42592fd4459859934ca3a179eeb",
       "version_major": 2,
       "version_minor": 0
      },
      "text/plain": [
       "MetricVisualizer(layout=Layout(align_self='stretch', height='500px'))"
      ]
     },
     "metadata": {},
     "output_type": "display_data"
    },
    {
     "name": "stdout",
     "output_type": "stream",
     "text": [
      "Лучшие параметры: {'depth': 8, 'l2_leaf_reg': 3, 'learning_rate': 0.005}\n",
      "Лучшая оценка точности: 0.5506320551304273\n"
     ]
    }
   ],
   "source": [
    "train_pool = Pool(x_train, label=y_train, cat_features=cat)\n",
    "val_pool = Pool(x_val, label=y_val, cat_features=cat)\n",
    "\n",
    "model = CatBoostClassifier(iterations=2000, loss_function='MultiClass')\n",
    "\n",
    "param_grid = {\n",
    "    'depth': [4, 6, 8],\n",
    "    'l2_leaf_reg': [3, 5, 7, 9],\n",
    "    'learning_rate': [0.001, 0.005],\n",
    "}\n",
    "\n",
    "grid_search = GridSearchCV(estimator=model, \n",
    "                           param_grid=param_grid, \n",
    "                           scoring='accuracy', \n",
    "                           cv=None,\n",
    "                                                      \n",
    "                           )\n",
    "\n",
    "grid_search.fit(x_train, y_train, cat_features=cat, eval_set=(x_val, y_val), plot=True, verbose=False)\n",
    "\n",
    "print(\"Лучшие параметры:\", grid_search.best_params_)\n",
    "print(\"Лучшая оценка точности:\", grid_search.best_score_)"
   ]
  },
  {
   "cell_type": "code",
   "execution_count": 62,
   "metadata": {},
   "outputs": [
    {
     "name": "stdout",
     "output_type": "stream",
     "text": [
      "Лучшие параметры: {'depth': 8, 'l2_leaf_reg': 3, 'learning_rate': 0.005}\n"
     ]
    }
   ],
   "source": [
    "print(\"Лучшие параметры:\", grid_search.best_params_)"
   ]
  },
  {
   "cell_type": "code",
   "execution_count": 63,
   "metadata": {},
   "outputs": [
    {
     "data": {
      "application/vnd.jupyter.widget-view+json": {
       "model_id": "ae71bc204ea24f5798a46962630dbae6",
       "version_major": 2,
       "version_minor": 0
      },
      "text/plain": [
       "MetricVisualizer(layout=Layout(align_self='stretch', height='500px'))"
      ]
     },
     "metadata": {},
     "output_type": "display_data"
    },
    {
     "data": {
      "text/plain": [
       "<catboost.core.CatBoostClassifier at 0x7f7b13adc640>"
      ]
     },
     "execution_count": 63,
     "metadata": {},
     "output_type": "execute_result"
    }
   ],
   "source": [
    "model = CatBoostClassifier(**grid_search.best_params_)\n",
    "\n",
    "model.fit(x_train, y_train, cat_features=cat, eval_set=(x_val, y_val), plot=True, verbose=False)"
   ]
  },
  {
   "cell_type": "code",
   "execution_count": 64,
   "metadata": {},
   "outputs": [
    {
     "data": {
      "text/plain": [
       "0.56"
      ]
     },
     "execution_count": 64,
     "metadata": {},
     "output_type": "execute_result"
    }
   ],
   "source": [
    "accuracy_score(y_val, model.predict(x_val))\n"
   ]
  },
  {
   "cell_type": "markdown",
   "metadata": {},
   "source": [
    "## Data pickl"
   ]
  },
  {
   "cell_type": "code",
   "execution_count": 55,
   "metadata": {},
   "outputs": [],
   "source": [
    "name_cols = 'pickle/name_cols.pickle'\n",
    "\n",
    "col_pkl = list(df_temp.columns)\n",
    "col_pkl.remove('team_1_hue')\n",
    "\n",
    "with open(name_cols, 'wb') as file:\n",
    "    pickle.dump(col_pkl, file)\n"
   ]
  },
  {
   "cell_type": "code",
   "execution_count": 54,
   "metadata": {},
   "outputs": [],
   "source": [
    "model = CatBoostClassifier(iterations=2000, learning_rate=0.0005, loss_function='MultiClass', depth=4, l2_leaf_reg=6)\n",
    "model.fit(x_train, y_train, cat_features=cat, verbose=False)\n",
    "\n",
    "with open('pickle/catboost.pickle', 'wb') as file:\n",
    "    pickle.dump(model, file)"
   ]
  },
  {
   "cell_type": "code",
   "execution_count": null,
   "metadata": {},
   "outputs": [
    {
     "data": {
      "text/html": [
       "<div>\n",
       "<style scoped>\n",
       "    .dataframe tbody tr th:only-of-type {\n",
       "        vertical-align: middle;\n",
       "    }\n",
       "\n",
       "    .dataframe tbody tr th {\n",
       "        vertical-align: top;\n",
       "    }\n",
       "\n",
       "    .dataframe thead th {\n",
       "        text-align: right;\n",
       "    }\n",
       "</style>\n",
       "<table border=\"1\" class=\"dataframe\">\n",
       "  <thead>\n",
       "    <tr style=\"text-align: right;\">\n",
       "      <th></th>\n",
       "      <th>gameweek_gameweek</th>\n",
       "      <th>gameweek_compSeason_label</th>\n",
       "      <th>teams_team_1_name</th>\n",
       "      <th>teams_team_2_name</th>\n",
       "      <th>ground_name</th>\n",
       "      <th>_accurate_back_zone_pass_team_1</th>\n",
       "      <th>_accurate_freekick_cross_team_1</th>\n",
       "      <th>_accurate_goal_kicks_team_1</th>\n",
       "      <th>_accurate_keeper_sweeper_team_1</th>\n",
       "      <th>_accurate_keeper_throws_team_1</th>\n",
       "      <th>...</th>\n",
       "      <th>_goal_fastbreak_lag_team2</th>\n",
       "      <th>_hand_ball_lag_team2</th>\n",
       "      <th>_last_man_tackle_lag_team2</th>\n",
       "      <th>_overrun_lag_team2</th>\n",
       "      <th>_own_goal_accrued_lag_team2</th>\n",
       "      <th>_penalty_conceded_lag_team2</th>\n",
       "      <th>_pts_gained_losing_pos_lag_team2</th>\n",
       "      <th>_second_yellow_lag_team2</th>\n",
       "      <th>_shield_ball_oop_lag_team2</th>\n",
       "      <th>_total_red_card_lag_team2</th>\n",
       "    </tr>\n",
       "  </thead>\n",
       "  <tbody>\n",
       "    <tr>\n",
       "      <th>100</th>\n",
       "      <td>8</td>\n",
       "      <td>2023</td>\n",
       "      <td>Crystal Palace</td>\n",
       "      <td>Nottingham Forest</td>\n",
       "      <td>Selhurst Park</td>\n",
       "      <td>6535.25</td>\n",
       "      <td>21.500000</td>\n",
       "      <td>168.500000</td>\n",
       "      <td>14.00</td>\n",
       "      <td>184.75</td>\n",
       "      <td>...</td>\n",
       "      <td>3.0</td>\n",
       "      <td>19.0</td>\n",
       "      <td>5.0</td>\n",
       "      <td>43.0</td>\n",
       "      <td>2.000000</td>\n",
       "      <td>9.0</td>\n",
       "      <td>9.0</td>\n",
       "      <td>1.581395</td>\n",
       "      <td>21.0</td>\n",
       "      <td>2.5</td>\n",
       "    </tr>\n",
       "    <tr>\n",
       "      <th>101</th>\n",
       "      <td>8</td>\n",
       "      <td>2023</td>\n",
       "      <td>Burnley</td>\n",
       "      <td>Chelsea</td>\n",
       "      <td>Turf Moor</td>\n",
       "      <td>4121.00</td>\n",
       "      <td>19.666667</td>\n",
       "      <td>143.333333</td>\n",
       "      <td>25.00</td>\n",
       "      <td>155.00</td>\n",
       "      <td>...</td>\n",
       "      <td>1.0</td>\n",
       "      <td>16.0</td>\n",
       "      <td>6.0</td>\n",
       "      <td>48.0</td>\n",
       "      <td>1.000000</td>\n",
       "      <td>1.0</td>\n",
       "      <td>8.0</td>\n",
       "      <td>2.000000</td>\n",
       "      <td>29.0</td>\n",
       "      <td>3.0</td>\n",
       "    </tr>\n",
       "    <tr>\n",
       "      <th>102</th>\n",
       "      <td>8</td>\n",
       "      <td>2023</td>\n",
       "      <td>Arsenal</td>\n",
       "      <td>Manchester City</td>\n",
       "      <td>Emirates Stadium</td>\n",
       "      <td>8158.50</td>\n",
       "      <td>10.750000</td>\n",
       "      <td>152.000000</td>\n",
       "      <td>16.25</td>\n",
       "      <td>194.50</td>\n",
       "      <td>...</td>\n",
       "      <td>7.0</td>\n",
       "      <td>12.0</td>\n",
       "      <td>2.0</td>\n",
       "      <td>26.0</td>\n",
       "      <td>2.000000</td>\n",
       "      <td>3.0</td>\n",
       "      <td>10.0</td>\n",
       "      <td>1.581395</td>\n",
       "      <td>15.0</td>\n",
       "      <td>1.0</td>\n",
       "    </tr>\n",
       "    <tr>\n",
       "      <th>103</th>\n",
       "      <td>7</td>\n",
       "      <td>2023</td>\n",
       "      <td>Wolverhampton Wanderers</td>\n",
       "      <td>Manchester City</td>\n",
       "      <td>Molineux Stadium</td>\n",
       "      <td>7582.25</td>\n",
       "      <td>16.500000</td>\n",
       "      <td>182.000000</td>\n",
       "      <td>13.00</td>\n",
       "      <td>170.75</td>\n",
       "      <td>...</td>\n",
       "      <td>7.0</td>\n",
       "      <td>12.0</td>\n",
       "      <td>2.0</td>\n",
       "      <td>26.0</td>\n",
       "      <td>2.000000</td>\n",
       "      <td>3.0</td>\n",
       "      <td>10.0</td>\n",
       "      <td>1.581395</td>\n",
       "      <td>15.0</td>\n",
       "      <td>1.0</td>\n",
       "    </tr>\n",
       "    <tr>\n",
       "      <th>104</th>\n",
       "      <td>7</td>\n",
       "      <td>2023</td>\n",
       "      <td>West Ham United</td>\n",
       "      <td>Sheffield United</td>\n",
       "      <td>London Stadium</td>\n",
       "      <td>5829.50</td>\n",
       "      <td>13.750000</td>\n",
       "      <td>185.250000</td>\n",
       "      <td>7.50</td>\n",
       "      <td>155.50</td>\n",
       "      <td>...</td>\n",
       "      <td>NaN</td>\n",
       "      <td>NaN</td>\n",
       "      <td>NaN</td>\n",
       "      <td>NaN</td>\n",
       "      <td>NaN</td>\n",
       "      <td>NaN</td>\n",
       "      <td>NaN</td>\n",
       "      <td>NaN</td>\n",
       "      <td>NaN</td>\n",
       "      <td>NaN</td>\n",
       "    </tr>\n",
       "    <tr>\n",
       "      <th>...</th>\n",
       "      <td>...</td>\n",
       "      <td>...</td>\n",
       "      <td>...</td>\n",
       "      <td>...</td>\n",
       "      <td>...</td>\n",
       "      <td>...</td>\n",
       "      <td>...</td>\n",
       "      <td>...</td>\n",
       "      <td>...</td>\n",
       "      <td>...</td>\n",
       "      <td>...</td>\n",
       "      <td>...</td>\n",
       "      <td>...</td>\n",
       "      <td>...</td>\n",
       "      <td>...</td>\n",
       "      <td>...</td>\n",
       "      <td>...</td>\n",
       "      <td>...</td>\n",
       "      <td>...</td>\n",
       "      <td>...</td>\n",
       "      <td>...</td>\n",
       "    </tr>\n",
       "    <tr>\n",
       "      <th>1181</th>\n",
       "      <td>19</td>\n",
       "      <td>2020</td>\n",
       "      <td>Manchester City</td>\n",
       "      <td>Aston Villa</td>\n",
       "      <td>Etihad Stadium</td>\n",
       "      <td>10041.25</td>\n",
       "      <td>11.500000</td>\n",
       "      <td>136.250000</td>\n",
       "      <td>17.00</td>\n",
       "      <td>172.25</td>\n",
       "      <td>...</td>\n",
       "      <td>1.0</td>\n",
       "      <td>19.0</td>\n",
       "      <td>3.0</td>\n",
       "      <td>70.0</td>\n",
       "      <td>1.000000</td>\n",
       "      <td>6.0</td>\n",
       "      <td>9.0</td>\n",
       "      <td>1.000000</td>\n",
       "      <td>22.0</td>\n",
       "      <td>1.0</td>\n",
       "    </tr>\n",
       "    <tr>\n",
       "      <th>1182</th>\n",
       "      <td>1</td>\n",
       "      <td>2020</td>\n",
       "      <td>Liverpool</td>\n",
       "      <td>Leeds United</td>\n",
       "      <td>Anfield</td>\n",
       "      <td>9401.25</td>\n",
       "      <td>16.000000</td>\n",
       "      <td>177.250000</td>\n",
       "      <td>31.00</td>\n",
       "      <td>205.00</td>\n",
       "      <td>...</td>\n",
       "      <td>NaN</td>\n",
       "      <td>NaN</td>\n",
       "      <td>NaN</td>\n",
       "      <td>NaN</td>\n",
       "      <td>NaN</td>\n",
       "      <td>NaN</td>\n",
       "      <td>NaN</td>\n",
       "      <td>NaN</td>\n",
       "      <td>NaN</td>\n",
       "      <td>NaN</td>\n",
       "    </tr>\n",
       "    <tr>\n",
       "      <th>1183</th>\n",
       "      <td>1</td>\n",
       "      <td>2020</td>\n",
       "      <td>Fulham</td>\n",
       "      <td>Arsenal</td>\n",
       "      <td>Craven Cottage</td>\n",
       "      <td>7339.00</td>\n",
       "      <td>15.500000</td>\n",
       "      <td>199.000000</td>\n",
       "      <td>15.00</td>\n",
       "      <td>184.50</td>\n",
       "      <td>...</td>\n",
       "      <td>2.0</td>\n",
       "      <td>12.0</td>\n",
       "      <td>1.0</td>\n",
       "      <td>65.0</td>\n",
       "      <td>2.275362</td>\n",
       "      <td>8.0</td>\n",
       "      <td>18.0</td>\n",
       "      <td>1.000000</td>\n",
       "      <td>26.0</td>\n",
       "      <td>5.0</td>\n",
       "    </tr>\n",
       "    <tr>\n",
       "      <th>1184</th>\n",
       "      <td>1</td>\n",
       "      <td>2020</td>\n",
       "      <td>Crystal Palace</td>\n",
       "      <td>Southampton</td>\n",
       "      <td>Selhurst Park</td>\n",
       "      <td>6535.25</td>\n",
       "      <td>21.500000</td>\n",
       "      <td>168.500000</td>\n",
       "      <td>14.00</td>\n",
       "      <td>184.75</td>\n",
       "      <td>...</td>\n",
       "      <td>2.0</td>\n",
       "      <td>21.0</td>\n",
       "      <td>4.0</td>\n",
       "      <td>80.0</td>\n",
       "      <td>2.275362</td>\n",
       "      <td>4.0</td>\n",
       "      <td>13.0</td>\n",
       "      <td>1.000000</td>\n",
       "      <td>25.0</td>\n",
       "      <td>4.0</td>\n",
       "    </tr>\n",
       "    <tr>\n",
       "      <th>1185</th>\n",
       "      <td>18</td>\n",
       "      <td>2020</td>\n",
       "      <td>Burnley</td>\n",
       "      <td>Manchester United</td>\n",
       "      <td>Turf Moor</td>\n",
       "      <td>4121.00</td>\n",
       "      <td>19.666667</td>\n",
       "      <td>143.333333</td>\n",
       "      <td>25.00</td>\n",
       "      <td>155.00</td>\n",
       "      <td>...</td>\n",
       "      <td>6.0</td>\n",
       "      <td>15.0</td>\n",
       "      <td>1.0</td>\n",
       "      <td>78.0</td>\n",
       "      <td>2.000000</td>\n",
       "      <td>3.0</td>\n",
       "      <td>13.0</td>\n",
       "      <td>1.581395</td>\n",
       "      <td>19.0</td>\n",
       "      <td>2.5</td>\n",
       "    </tr>\n",
       "  </tbody>\n",
       "</table>\n",
       "<p>1086 rows × 106 columns</p>\n",
       "</div>"
      ],
      "text/plain": [
       "      gameweek_gameweek  gameweek_compSeason_label        teams_team_1_name  \\\n",
       "100                   8                       2023           Crystal Palace   \n",
       "101                   8                       2023                  Burnley   \n",
       "102                   8                       2023                  Arsenal   \n",
       "103                   7                       2023  Wolverhampton Wanderers   \n",
       "104                   7                       2023          West Ham United   \n",
       "...                 ...                        ...                      ...   \n",
       "1181                 19                       2020          Manchester City   \n",
       "1182                  1                       2020                Liverpool   \n",
       "1183                  1                       2020                   Fulham   \n",
       "1184                  1                       2020           Crystal Palace   \n",
       "1185                 18                       2020                  Burnley   \n",
       "\n",
       "      teams_team_2_name       ground_name  _accurate_back_zone_pass_team_1  \\\n",
       "100   Nottingham Forest     Selhurst Park                          6535.25   \n",
       "101             Chelsea         Turf Moor                          4121.00   \n",
       "102     Manchester City  Emirates Stadium                          8158.50   \n",
       "103     Manchester City  Molineux Stadium                          7582.25   \n",
       "104    Sheffield United    London Stadium                          5829.50   \n",
       "...                 ...               ...                              ...   \n",
       "1181        Aston Villa    Etihad Stadium                         10041.25   \n",
       "1182       Leeds United           Anfield                          9401.25   \n",
       "1183            Arsenal    Craven Cottage                          7339.00   \n",
       "1184        Southampton     Selhurst Park                          6535.25   \n",
       "1185  Manchester United         Turf Moor                          4121.00   \n",
       "\n",
       "      _accurate_freekick_cross_team_1  _accurate_goal_kicks_team_1  \\\n",
       "100                         21.500000                   168.500000   \n",
       "101                         19.666667                   143.333333   \n",
       "102                         10.750000                   152.000000   \n",
       "103                         16.500000                   182.000000   \n",
       "104                         13.750000                   185.250000   \n",
       "...                               ...                          ...   \n",
       "1181                        11.500000                   136.250000   \n",
       "1182                        16.000000                   177.250000   \n",
       "1183                        15.500000                   199.000000   \n",
       "1184                        21.500000                   168.500000   \n",
       "1185                        19.666667                   143.333333   \n",
       "\n",
       "      _accurate_keeper_sweeper_team_1  _accurate_keeper_throws_team_1  ...  \\\n",
       "100                             14.00                          184.75  ...   \n",
       "101                             25.00                          155.00  ...   \n",
       "102                             16.25                          194.50  ...   \n",
       "103                             13.00                          170.75  ...   \n",
       "104                              7.50                          155.50  ...   \n",
       "...                               ...                             ...  ...   \n",
       "1181                            17.00                          172.25  ...   \n",
       "1182                            31.00                          205.00  ...   \n",
       "1183                            15.00                          184.50  ...   \n",
       "1184                            14.00                          184.75  ...   \n",
       "1185                            25.00                          155.00  ...   \n",
       "\n",
       "      _goal_fastbreak_lag_team2  _hand_ball_lag_team2  \\\n",
       "100                         3.0                  19.0   \n",
       "101                         1.0                  16.0   \n",
       "102                         7.0                  12.0   \n",
       "103                         7.0                  12.0   \n",
       "104                         NaN                   NaN   \n",
       "...                         ...                   ...   \n",
       "1181                        1.0                  19.0   \n",
       "1182                        NaN                   NaN   \n",
       "1183                        2.0                  12.0   \n",
       "1184                        2.0                  21.0   \n",
       "1185                        6.0                  15.0   \n",
       "\n",
       "      _last_man_tackle_lag_team2  _overrun_lag_team2  \\\n",
       "100                          5.0                43.0   \n",
       "101                          6.0                48.0   \n",
       "102                          2.0                26.0   \n",
       "103                          2.0                26.0   \n",
       "104                          NaN                 NaN   \n",
       "...                          ...                 ...   \n",
       "1181                         3.0                70.0   \n",
       "1182                         NaN                 NaN   \n",
       "1183                         1.0                65.0   \n",
       "1184                         4.0                80.0   \n",
       "1185                         1.0                78.0   \n",
       "\n",
       "      _own_goal_accrued_lag_team2  _penalty_conceded_lag_team2  \\\n",
       "100                      2.000000                          9.0   \n",
       "101                      1.000000                          1.0   \n",
       "102                      2.000000                          3.0   \n",
       "103                      2.000000                          3.0   \n",
       "104                           NaN                          NaN   \n",
       "...                           ...                          ...   \n",
       "1181                     1.000000                          6.0   \n",
       "1182                          NaN                          NaN   \n",
       "1183                     2.275362                          8.0   \n",
       "1184                     2.275362                          4.0   \n",
       "1185                     2.000000                          3.0   \n",
       "\n",
       "      _pts_gained_losing_pos_lag_team2  _second_yellow_lag_team2  \\\n",
       "100                                9.0                  1.581395   \n",
       "101                                8.0                  2.000000   \n",
       "102                               10.0                  1.581395   \n",
       "103                               10.0                  1.581395   \n",
       "104                                NaN                       NaN   \n",
       "...                                ...                       ...   \n",
       "1181                               9.0                  1.000000   \n",
       "1182                               NaN                       NaN   \n",
       "1183                              18.0                  1.000000   \n",
       "1184                              13.0                  1.000000   \n",
       "1185                              13.0                  1.581395   \n",
       "\n",
       "      _shield_ball_oop_lag_team2  _total_red_card_lag_team2  \n",
       "100                         21.0                        2.5  \n",
       "101                         29.0                        3.0  \n",
       "102                         15.0                        1.0  \n",
       "103                         15.0                        1.0  \n",
       "104                          NaN                        NaN  \n",
       "...                          ...                        ...  \n",
       "1181                        22.0                        1.0  \n",
       "1182                         NaN                        NaN  \n",
       "1183                        26.0                        5.0  \n",
       "1184                        25.0                        4.0  \n",
       "1185                        19.0                        2.5  \n",
       "\n",
       "[1086 rows x 106 columns]"
      ]
     },
     "execution_count": 54,
     "metadata": {},
     "output_type": "execute_result"
    }
   ],
   "source": [
    "x_train"
   ]
  }
 ],
 "metadata": {
  "kernelspec": {
   "display_name": ".venv",
   "language": "python",
   "name": "python3"
  },
  "language_info": {
   "codemirror_mode": {
    "name": "ipython",
    "version": 3
   },
   "file_extension": ".py",
   "mimetype": "text/x-python",
   "name": "python",
   "nbconvert_exporter": "python",
   "pygments_lexer": "ipython3",
   "version": "3.10.12"
  }
 },
 "nbformat": 4,
 "nbformat_minor": 2
}
