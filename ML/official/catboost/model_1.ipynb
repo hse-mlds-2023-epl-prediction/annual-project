{
 "cells": [
  {
   "cell_type": "code",
   "execution_count": 1,
   "metadata": {},
   "outputs": [],
   "source": [
    "import pandas as pd\n",
    "from catboost import CatBoostClassifier\n",
    "from sklearn.metrics import roc_auc_score as auc, accuracy_score\n",
    "import seaborn as sns\n",
    "import matplotlib.pyplot as plt\n",
    "from tqdm import tqdm\n",
    "\n",
    "import numpy as np\n",
    "\n",
    "from func import split_data, rm_high_corr_feat"
   ]
  },
  {
   "cell_type": "markdown",
   "metadata": {},
   "source": [
    "# Model 1 - Агрегированные данные по командам"
   ]
  },
  {
   "cell_type": "code",
   "execution_count": 2,
   "metadata": {},
   "outputs": [],
   "source": [
    "df = pd.read_csv('../prepare data/data/df_1.csv')"
   ]
  },
  {
   "cell_type": "code",
   "execution_count": 7,
   "metadata": {},
   "outputs": [
    {
     "data": {
      "text/html": [
       "<div>\n",
       "<style scoped>\n",
       "    .dataframe tbody tr th:only-of-type {\n",
       "        vertical-align: middle;\n",
       "    }\n",
       "\n",
       "    .dataframe tbody tr th {\n",
       "        vertical-align: top;\n",
       "    }\n",
       "\n",
       "    .dataframe thead th {\n",
       "        text-align: right;\n",
       "    }\n",
       "</style>\n",
       "<table border=\"1\" class=\"dataframe\">\n",
       "  <thead>\n",
       "    <tr style=\"text-align: right;\">\n",
       "      <th></th>\n",
       "      <th>gameweek_gameweek</th>\n",
       "      <th>gameweek_compSeason_label</th>\n",
       "      <th>teams_team_1_name</th>\n",
       "      <th>teams_team_2_name</th>\n",
       "      <th>ground_name</th>\n",
       "      <th>team_1_hue</th>\n",
       "      <th>_accurate_back_zone_pass_team_1</th>\n",
       "      <th>_accurate_chipped_pass_team_1</th>\n",
       "      <th>_accurate_corners_intobox_team_1</th>\n",
       "      <th>_accurate_cross_team_1</th>\n",
       "      <th>...</th>\n",
       "      <th>_total_through_ball_team_2</th>\n",
       "      <th>_total_throws_team_2</th>\n",
       "      <th>_total_yel_card_team_2</th>\n",
       "      <th>_touches_team_2</th>\n",
       "      <th>_touches_in_opp_box_team_2</th>\n",
       "      <th>_unsuccessful_touch_team_2</th>\n",
       "      <th>_wins_team_2</th>\n",
       "      <th>_won_contest_team_2</th>\n",
       "      <th>_won_corners_team_2</th>\n",
       "      <th>_won_tackle_team_2</th>\n",
       "    </tr>\n",
       "  </thead>\n",
       "  <tbody>\n",
       "    <tr>\n",
       "      <th>0</th>\n",
       "      <td>18</td>\n",
       "      <td>2023</td>\n",
       "      <td>West Ham United</td>\n",
       "      <td>Manchester United</td>\n",
       "      <td>London Stadium</td>\n",
       "      <td>1</td>\n",
       "      <td>5829.5</td>\n",
       "      <td>648.75</td>\n",
       "      <td>50.75</td>\n",
       "      <td>169.5</td>\n",
       "      <td>...</td>\n",
       "      <td>70.75</td>\n",
       "      <td>755.5</td>\n",
       "      <td>72.50</td>\n",
       "      <td>26813.75</td>\n",
       "      <td>996.5</td>\n",
       "      <td>532.5</td>\n",
       "      <td>19.5</td>\n",
       "      <td>387.5</td>\n",
       "      <td>198.5</td>\n",
       "      <td>350.5</td>\n",
       "    </tr>\n",
       "    <tr>\n",
       "      <th>1</th>\n",
       "      <td>35</td>\n",
       "      <td>2022</td>\n",
       "      <td>West Ham United</td>\n",
       "      <td>Manchester United</td>\n",
       "      <td>London Stadium</td>\n",
       "      <td>1</td>\n",
       "      <td>5829.5</td>\n",
       "      <td>648.75</td>\n",
       "      <td>50.75</td>\n",
       "      <td>169.5</td>\n",
       "      <td>...</td>\n",
       "      <td>70.75</td>\n",
       "      <td>755.5</td>\n",
       "      <td>72.50</td>\n",
       "      <td>26813.75</td>\n",
       "      <td>996.5</td>\n",
       "      <td>532.5</td>\n",
       "      <td>19.5</td>\n",
       "      <td>387.5</td>\n",
       "      <td>198.5</td>\n",
       "      <td>350.5</td>\n",
       "    </tr>\n",
       "    <tr>\n",
       "      <th>2</th>\n",
       "      <td>5</td>\n",
       "      <td>2021</td>\n",
       "      <td>West Ham United</td>\n",
       "      <td>Manchester United</td>\n",
       "      <td>London Stadium</td>\n",
       "      <td>0</td>\n",
       "      <td>5829.5</td>\n",
       "      <td>648.75</td>\n",
       "      <td>50.75</td>\n",
       "      <td>169.5</td>\n",
       "      <td>...</td>\n",
       "      <td>70.75</td>\n",
       "      <td>755.5</td>\n",
       "      <td>72.50</td>\n",
       "      <td>26813.75</td>\n",
       "      <td>996.5</td>\n",
       "      <td>532.5</td>\n",
       "      <td>19.5</td>\n",
       "      <td>387.5</td>\n",
       "      <td>198.5</td>\n",
       "      <td>350.5</td>\n",
       "    </tr>\n",
       "    <tr>\n",
       "      <th>3</th>\n",
       "      <td>11</td>\n",
       "      <td>2020</td>\n",
       "      <td>West Ham United</td>\n",
       "      <td>Manchester United</td>\n",
       "      <td>London Stadium</td>\n",
       "      <td>0</td>\n",
       "      <td>5829.5</td>\n",
       "      <td>648.75</td>\n",
       "      <td>50.75</td>\n",
       "      <td>169.5</td>\n",
       "      <td>...</td>\n",
       "      <td>70.75</td>\n",
       "      <td>755.5</td>\n",
       "      <td>72.50</td>\n",
       "      <td>26813.75</td>\n",
       "      <td>996.5</td>\n",
       "      <td>532.5</td>\n",
       "      <td>19.5</td>\n",
       "      <td>387.5</td>\n",
       "      <td>198.5</td>\n",
       "      <td>350.5</td>\n",
       "    </tr>\n",
       "    <tr>\n",
       "      <th>4</th>\n",
       "      <td>6</td>\n",
       "      <td>2019</td>\n",
       "      <td>West Ham United</td>\n",
       "      <td>Manchester United</td>\n",
       "      <td>London Stadium</td>\n",
       "      <td>1</td>\n",
       "      <td>5829.5</td>\n",
       "      <td>648.75</td>\n",
       "      <td>50.75</td>\n",
       "      <td>169.5</td>\n",
       "      <td>...</td>\n",
       "      <td>70.75</td>\n",
       "      <td>755.5</td>\n",
       "      <td>72.50</td>\n",
       "      <td>26813.75</td>\n",
       "      <td>996.5</td>\n",
       "      <td>532.5</td>\n",
       "      <td>19.5</td>\n",
       "      <td>387.5</td>\n",
       "      <td>198.5</td>\n",
       "      <td>350.5</td>\n",
       "    </tr>\n",
       "    <tr>\n",
       "      <th>...</th>\n",
       "      <td>...</td>\n",
       "      <td>...</td>\n",
       "      <td>...</td>\n",
       "      <td>...</td>\n",
       "      <td>...</td>\n",
       "      <td>...</td>\n",
       "      <td>...</td>\n",
       "      <td>...</td>\n",
       "      <td>...</td>\n",
       "      <td>...</td>\n",
       "      <td>...</td>\n",
       "      <td>...</td>\n",
       "      <td>...</td>\n",
       "      <td>...</td>\n",
       "      <td>...</td>\n",
       "      <td>...</td>\n",
       "      <td>...</td>\n",
       "      <td>...</td>\n",
       "      <td>...</td>\n",
       "      <td>...</td>\n",
       "      <td>...</td>\n",
       "    </tr>\n",
       "    <tr>\n",
       "      <th>1523</th>\n",
       "      <td>36</td>\n",
       "      <td>2021</td>\n",
       "      <td>Norwich City</td>\n",
       "      <td>West Ham United</td>\n",
       "      <td>Carrow Road</td>\n",
       "      <td>0</td>\n",
       "      <td>7369.0</td>\n",
       "      <td>614.50</td>\n",
       "      <td>47.00</td>\n",
       "      <td>112.0</td>\n",
       "      <td>...</td>\n",
       "      <td>30.75</td>\n",
       "      <td>762.0</td>\n",
       "      <td>50.25</td>\n",
       "      <td>22358.00</td>\n",
       "      <td>817.0</td>\n",
       "      <td>491.5</td>\n",
       "      <td>14.0</td>\n",
       "      <td>312.5</td>\n",
       "      <td>191.5</td>\n",
       "      <td>333.5</td>\n",
       "    </tr>\n",
       "    <tr>\n",
       "      <th>1524</th>\n",
       "      <td>35</td>\n",
       "      <td>2019</td>\n",
       "      <td>Norwich City</td>\n",
       "      <td>West Ham United</td>\n",
       "      <td>Carrow Road</td>\n",
       "      <td>0</td>\n",
       "      <td>7369.0</td>\n",
       "      <td>614.50</td>\n",
       "      <td>47.00</td>\n",
       "      <td>112.0</td>\n",
       "      <td>...</td>\n",
       "      <td>30.75</td>\n",
       "      <td>762.0</td>\n",
       "      <td>50.25</td>\n",
       "      <td>22358.00</td>\n",
       "      <td>817.0</td>\n",
       "      <td>491.5</td>\n",
       "      <td>14.0</td>\n",
       "      <td>312.5</td>\n",
       "      <td>191.5</td>\n",
       "      <td>333.5</td>\n",
       "    </tr>\n",
       "    <tr>\n",
       "      <th>1525</th>\n",
       "      <td>20</td>\n",
       "      <td>2021</td>\n",
       "      <td>Watford</td>\n",
       "      <td>West Ham United</td>\n",
       "      <td>Vicarage Road</td>\n",
       "      <td>0</td>\n",
       "      <td>4920.0</td>\n",
       "      <td>620.50</td>\n",
       "      <td>39.00</td>\n",
       "      <td>148.0</td>\n",
       "      <td>...</td>\n",
       "      <td>30.75</td>\n",
       "      <td>762.0</td>\n",
       "      <td>50.25</td>\n",
       "      <td>22358.00</td>\n",
       "      <td>817.0</td>\n",
       "      <td>491.5</td>\n",
       "      <td>14.0</td>\n",
       "      <td>312.5</td>\n",
       "      <td>191.5</td>\n",
       "      <td>333.5</td>\n",
       "    </tr>\n",
       "    <tr>\n",
       "      <th>1526</th>\n",
       "      <td>3</td>\n",
       "      <td>2019</td>\n",
       "      <td>Watford</td>\n",
       "      <td>West Ham United</td>\n",
       "      <td>Vicarage Road</td>\n",
       "      <td>0</td>\n",
       "      <td>4920.0</td>\n",
       "      <td>620.50</td>\n",
       "      <td>39.00</td>\n",
       "      <td>148.0</td>\n",
       "      <td>...</td>\n",
       "      <td>30.75</td>\n",
       "      <td>762.0</td>\n",
       "      <td>50.25</td>\n",
       "      <td>22358.00</td>\n",
       "      <td>817.0</td>\n",
       "      <td>491.5</td>\n",
       "      <td>14.0</td>\n",
       "      <td>312.5</td>\n",
       "      <td>191.5</td>\n",
       "      <td>333.5</td>\n",
       "    </tr>\n",
       "    <tr>\n",
       "      <th>1527</th>\n",
       "      <td>37</td>\n",
       "      <td>2020</td>\n",
       "      <td>West Bromwich Albion</td>\n",
       "      <td>West Ham United</td>\n",
       "      <td>The Hawthorns</td>\n",
       "      <td>0</td>\n",
       "      <td>4398.0</td>\n",
       "      <td>614.00</td>\n",
       "      <td>32.00</td>\n",
       "      <td>130.0</td>\n",
       "      <td>...</td>\n",
       "      <td>30.75</td>\n",
       "      <td>762.0</td>\n",
       "      <td>50.25</td>\n",
       "      <td>22358.00</td>\n",
       "      <td>817.0</td>\n",
       "      <td>491.5</td>\n",
       "      <td>14.0</td>\n",
       "      <td>312.5</td>\n",
       "      <td>191.5</td>\n",
       "      <td>333.5</td>\n",
       "    </tr>\n",
       "  </tbody>\n",
       "</table>\n",
       "<p>1528 rows × 426 columns</p>\n",
       "</div>"
      ],
      "text/plain": [
       "      gameweek_gameweek  gameweek_compSeason_label     teams_team_1_name  \\\n",
       "0                    18                       2023       West Ham United   \n",
       "1                    35                       2022       West Ham United   \n",
       "2                     5                       2021       West Ham United   \n",
       "3                    11                       2020       West Ham United   \n",
       "4                     6                       2019       West Ham United   \n",
       "...                 ...                        ...                   ...   \n",
       "1523                 36                       2021          Norwich City   \n",
       "1524                 35                       2019          Norwich City   \n",
       "1525                 20                       2021               Watford   \n",
       "1526                  3                       2019               Watford   \n",
       "1527                 37                       2020  West Bromwich Albion   \n",
       "\n",
       "      teams_team_2_name     ground_name  team_1_hue  \\\n",
       "0     Manchester United  London Stadium           1   \n",
       "1     Manchester United  London Stadium           1   \n",
       "2     Manchester United  London Stadium           0   \n",
       "3     Manchester United  London Stadium           0   \n",
       "4     Manchester United  London Stadium           1   \n",
       "...                 ...             ...         ...   \n",
       "1523    West Ham United     Carrow Road           0   \n",
       "1524    West Ham United     Carrow Road           0   \n",
       "1525    West Ham United   Vicarage Road           0   \n",
       "1526    West Ham United   Vicarage Road           0   \n",
       "1527    West Ham United   The Hawthorns           0   \n",
       "\n",
       "      _accurate_back_zone_pass_team_1  _accurate_chipped_pass_team_1  \\\n",
       "0                              5829.5                         648.75   \n",
       "1                              5829.5                         648.75   \n",
       "2                              5829.5                         648.75   \n",
       "3                              5829.5                         648.75   \n",
       "4                              5829.5                         648.75   \n",
       "...                               ...                            ...   \n",
       "1523                           7369.0                         614.50   \n",
       "1524                           7369.0                         614.50   \n",
       "1525                           4920.0                         620.50   \n",
       "1526                           4920.0                         620.50   \n",
       "1527                           4398.0                         614.00   \n",
       "\n",
       "      _accurate_corners_intobox_team_1  _accurate_cross_team_1  ...  \\\n",
       "0                                50.75                   169.5  ...   \n",
       "1                                50.75                   169.5  ...   \n",
       "2                                50.75                   169.5  ...   \n",
       "3                                50.75                   169.5  ...   \n",
       "4                                50.75                   169.5  ...   \n",
       "...                                ...                     ...  ...   \n",
       "1523                             47.00                   112.0  ...   \n",
       "1524                             47.00                   112.0  ...   \n",
       "1525                             39.00                   148.0  ...   \n",
       "1526                             39.00                   148.0  ...   \n",
       "1527                             32.00                   130.0  ...   \n",
       "\n",
       "      _total_through_ball_team_2  _total_throws_team_2  \\\n",
       "0                          70.75                 755.5   \n",
       "1                          70.75                 755.5   \n",
       "2                          70.75                 755.5   \n",
       "3                          70.75                 755.5   \n",
       "4                          70.75                 755.5   \n",
       "...                          ...                   ...   \n",
       "1523                       30.75                 762.0   \n",
       "1524                       30.75                 762.0   \n",
       "1525                       30.75                 762.0   \n",
       "1526                       30.75                 762.0   \n",
       "1527                       30.75                 762.0   \n",
       "\n",
       "      _total_yel_card_team_2  _touches_team_2  _touches_in_opp_box_team_2  \\\n",
       "0                      72.50         26813.75                       996.5   \n",
       "1                      72.50         26813.75                       996.5   \n",
       "2                      72.50         26813.75                       996.5   \n",
       "3                      72.50         26813.75                       996.5   \n",
       "4                      72.50         26813.75                       996.5   \n",
       "...                      ...              ...                         ...   \n",
       "1523                   50.25         22358.00                       817.0   \n",
       "1524                   50.25         22358.00                       817.0   \n",
       "1525                   50.25         22358.00                       817.0   \n",
       "1526                   50.25         22358.00                       817.0   \n",
       "1527                   50.25         22358.00                       817.0   \n",
       "\n",
       "      _unsuccessful_touch_team_2  _wins_team_2  _won_contest_team_2  \\\n",
       "0                          532.5          19.5                387.5   \n",
       "1                          532.5          19.5                387.5   \n",
       "2                          532.5          19.5                387.5   \n",
       "3                          532.5          19.5                387.5   \n",
       "4                          532.5          19.5                387.5   \n",
       "...                          ...           ...                  ...   \n",
       "1523                       491.5          14.0                312.5   \n",
       "1524                       491.5          14.0                312.5   \n",
       "1525                       491.5          14.0                312.5   \n",
       "1526                       491.5          14.0                312.5   \n",
       "1527                       491.5          14.0                312.5   \n",
       "\n",
       "      _won_corners_team_2  _won_tackle_team_2  \n",
       "0                   198.5               350.5  \n",
       "1                   198.5               350.5  \n",
       "2                   198.5               350.5  \n",
       "3                   198.5               350.5  \n",
       "4                   198.5               350.5  \n",
       "...                   ...                 ...  \n",
       "1523                191.5               333.5  \n",
       "1524                191.5               333.5  \n",
       "1525                191.5               333.5  \n",
       "1526                191.5               333.5  \n",
       "1527                191.5               333.5  \n",
       "\n",
       "[1528 rows x 426 columns]"
      ]
     },
     "execution_count": 7,
     "metadata": {},
     "output_type": "execute_result"
    }
   ],
   "source": [
    "df"
   ]
  },
  {
   "cell_type": "code",
   "execution_count": 8,
   "metadata": {},
   "outputs": [
    {
     "data": {
      "text/plain": [
       "array(['West Ham United', 'Liverpool', 'Fulham', 'Tottenham Hotspur',\n",
       "       'Nottingham Forest', 'Aston Villa', 'Crystal Palace',\n",
       "       'Manchester City', 'Wolverhampton Wanderers', 'Arsenal', 'Everton',\n",
       "       'Brentford', 'Chelsea', 'Burnley', 'Bournemouth',\n",
       "       'Sheffield United', 'Newcastle United', 'Leeds United',\n",
       "       'Leicester City', 'Southampton', 'Norwich City', 'Watford',\n",
       "       'West Bromwich Albion', 'Manchester United'], dtype=object)"
      ]
     },
     "execution_count": 8,
     "metadata": {},
     "output_type": "execute_result"
    }
   ],
   "source": [
    "df['teams_team_1_name'].unique()"
   ]
  },
  {
   "cell_type": "code",
   "execution_count": 22,
   "metadata": {},
   "outputs": [],
   "source": [
    "train = df.iloc[50:, :]\n",
    "val = df.iloc[:50, :]\n",
    "\n",
    "y_train = train['team_1_hue']\n",
    "x_train = train.drop('team_1_hue', axis=1)\n",
    "\n",
    "y_val = val['team_1_hue']\n",
    "x_val = val.drop('team_1_hue', axis=1)"
   ]
  },
  {
   "cell_type": "code",
   "execution_count": 23,
   "metadata": {},
   "outputs": [],
   "source": [
    "cat = ['gameweek_gameweek',\t'gameweek_compSeason_label', 'teams_team_1_name', 'teams_team_2_name', 'ground_name']"
   ]
  },
  {
   "cell_type": "code",
   "execution_count": 24,
   "metadata": {},
   "outputs": [],
   "source": [
    "model_1 = CatBoostClassifier()\n"
   ]
  },
  {
   "cell_type": "code",
   "execution_count": 25,
   "metadata": {},
   "outputs": [
    {
     "data": {
      "text/plain": [
       "<catboost.core.CatBoostClassifier at 0x7fb110c70820>"
      ]
     },
     "execution_count": 25,
     "metadata": {},
     "output_type": "execute_result"
    }
   ],
   "source": [
    "model_1.fit(x_train, y_train, cat_features=cat, verbose=False)\n"
   ]
  },
  {
   "cell_type": "code",
   "execution_count": 26,
   "metadata": {},
   "outputs": [],
   "source": [
    "pred = model_1.predict(x_val)\n",
    "pred_proba = model_1.predict_proba(x_val)\n",
    "y_val = y_val.to_numpy().reshape(-1, 1)"
   ]
  },
  {
   "cell_type": "code",
   "execution_count": 27,
   "metadata": {},
   "outputs": [],
   "source": [
    "pred = np.concatenate((y_val, pred, pred_proba), axis=1)\n",
    "df_pred = pd.DataFrame(pred, columns=['true', 'pred', '0_prob', '1_prob', '2_prob'])"
   ]
  },
  {
   "cell_type": "code",
   "execution_count": 28,
   "metadata": {},
   "outputs": [
    {
     "data": {
      "text/html": [
       "<div>\n",
       "<style scoped>\n",
       "    .dataframe tbody tr th:only-of-type {\n",
       "        vertical-align: middle;\n",
       "    }\n",
       "\n",
       "    .dataframe tbody tr th {\n",
       "        vertical-align: top;\n",
       "    }\n",
       "\n",
       "    .dataframe thead th {\n",
       "        text-align: right;\n",
       "    }\n",
       "</style>\n",
       "<table border=\"1\" class=\"dataframe\">\n",
       "  <thead>\n",
       "    <tr style=\"text-align: right;\">\n",
       "      <th></th>\n",
       "      <th>true</th>\n",
       "      <th>pred</th>\n",
       "      <th>0_prob</th>\n",
       "      <th>1_prob</th>\n",
       "      <th>2_prob</th>\n",
       "      <th>error</th>\n",
       "    </tr>\n",
       "  </thead>\n",
       "  <tbody>\n",
       "    <tr>\n",
       "      <th>0</th>\n",
       "      <td>1.0</td>\n",
       "      <td>0.0</td>\n",
       "      <td>0.390643</td>\n",
       "      <td>0.389590</td>\n",
       "      <td>0.219766</td>\n",
       "      <td>1</td>\n",
       "    </tr>\n",
       "    <tr>\n",
       "      <th>1</th>\n",
       "      <td>1.0</td>\n",
       "      <td>1.0</td>\n",
       "      <td>0.338174</td>\n",
       "      <td>0.542523</td>\n",
       "      <td>0.119303</td>\n",
       "      <td>0</td>\n",
       "    </tr>\n",
       "    <tr>\n",
       "      <th>2</th>\n",
       "      <td>0.0</td>\n",
       "      <td>0.0</td>\n",
       "      <td>0.659138</td>\n",
       "      <td>0.260656</td>\n",
       "      <td>0.080206</td>\n",
       "      <td>0</td>\n",
       "    </tr>\n",
       "    <tr>\n",
       "      <th>3</th>\n",
       "      <td>0.0</td>\n",
       "      <td>0.0</td>\n",
       "      <td>0.605124</td>\n",
       "      <td>0.273516</td>\n",
       "      <td>0.121360</td>\n",
       "      <td>0</td>\n",
       "    </tr>\n",
       "    <tr>\n",
       "      <th>4</th>\n",
       "      <td>1.0</td>\n",
       "      <td>0.0</td>\n",
       "      <td>0.487945</td>\n",
       "      <td>0.359279</td>\n",
       "      <td>0.152775</td>\n",
       "      <td>1</td>\n",
       "    </tr>\n",
       "  </tbody>\n",
       "</table>\n",
       "</div>"
      ],
      "text/plain": [
       "   true  pred    0_prob    1_prob    2_prob  error\n",
       "0   1.0   0.0  0.390643  0.389590  0.219766      1\n",
       "1   1.0   1.0  0.338174  0.542523  0.119303      0\n",
       "2   0.0   0.0  0.659138  0.260656  0.080206      0\n",
       "3   0.0   0.0  0.605124  0.273516  0.121360      0\n",
       "4   1.0   0.0  0.487945  0.359279  0.152775      1"
      ]
     },
     "execution_count": 28,
     "metadata": {},
     "output_type": "execute_result"
    }
   ],
   "source": [
    "df_pred['error'] = np.where(df_pred['true']==df_pred['pred'], 0, 1)\n",
    "\n",
    "df_pred.head()"
   ]
  },
  {
   "cell_type": "code",
   "execution_count": 29,
   "metadata": {},
   "outputs": [
    {
     "data": {
      "text/plain": [
       "28"
      ]
     },
     "execution_count": 29,
     "metadata": {},
     "output_type": "execute_result"
    }
   ],
   "source": [
    "df_pred['error'].sum()"
   ]
  },
  {
   "cell_type": "code",
   "execution_count": 30,
   "metadata": {},
   "outputs": [
    {
     "data": {
      "text/plain": [
       "(50, 6)"
      ]
     },
     "execution_count": 30,
     "metadata": {},
     "output_type": "execute_result"
    }
   ],
   "source": [
    "df_pred.shape"
   ]
  },
  {
   "cell_type": "code",
   "execution_count": 31,
   "metadata": {},
   "outputs": [
    {
     "data": {
      "text/plain": [
       "0.44"
      ]
     },
     "execution_count": 31,
     "metadata": {},
     "output_type": "execute_result"
    }
   ],
   "source": [
    "accuracy_score(df_pred['true'], df_pred['pred'])"
   ]
  },
  {
   "cell_type": "markdown",
   "metadata": {},
   "source": [
    "# Модели на датасетах с отбором признаков "
   ]
  },
  {
   "cell_type": "code",
   "execution_count": 32,
   "metadata": {},
   "outputs": [],
   "source": [
    "thrs = [i/100 for i in range(100, 45, -5)] # Список значений корреляций для удаления признаков"
   ]
  },
  {
   "cell_type": "code",
   "execution_count": 33,
   "metadata": {},
   "outputs": [
    {
     "name": "stderr",
     "output_type": "stream",
     "text": [
      "  9%|▉         | 1/11 [00:31<05:17, 31.79s/it]"
     ]
    },
    {
     "name": "stdout",
     "output_type": "stream",
     "text": [
      "thr: 1.0\n",
      "accuracy: 0.569\n",
      "признаков: 426\n",
      "\n"
     ]
    },
    {
     "name": "stderr",
     "output_type": "stream",
     "text": [
      " 18%|█▊        | 2/11 [00:57<04:11, 27.94s/it]"
     ]
    },
    {
     "name": "stdout",
     "output_type": "stream",
     "text": [
      "thr: 0.95\n",
      "accuracy: 0.575\n",
      "признаков: 310\n",
      "\n"
     ]
    },
    {
     "name": "stderr",
     "output_type": "stream",
     "text": [
      " 27%|██▋       | 3/11 [01:13<03:01, 22.67s/it]"
     ]
    },
    {
     "name": "stdout",
     "output_type": "stream",
     "text": [
      "thr: 0.9\n",
      "accuracy: 0.569\n",
      "признаков: 250\n",
      "\n"
     ]
    },
    {
     "name": "stderr",
     "output_type": "stream",
     "text": [
      " 36%|███▋      | 4/11 [01:27<02:15, 19.42s/it]"
     ]
    },
    {
     "name": "stdout",
     "output_type": "stream",
     "text": [
      "thr: 0.85\n",
      "accuracy: 0.544\n",
      "признаков: 194\n",
      "\n"
     ]
    },
    {
     "name": "stderr",
     "output_type": "stream",
     "text": [
      " 45%|████▌     | 5/11 [01:40<01:42, 17.09s/it]"
     ]
    },
    {
     "name": "stdout",
     "output_type": "stream",
     "text": [
      "thr: 0.8\n",
      "accuracy: 0.569\n",
      "признаков: 152\n",
      "\n"
     ]
    },
    {
     "name": "stderr",
     "output_type": "stream",
     "text": [
      " 55%|█████▍    | 6/11 [01:51<01:14, 14.87s/it]"
     ]
    },
    {
     "name": "stdout",
     "output_type": "stream",
     "text": [
      "thr: 0.75\n",
      "accuracy: 0.544\n",
      "признаков: 124\n",
      "\n"
     ]
    },
    {
     "name": "stderr",
     "output_type": "stream",
     "text": [
      " 64%|██████▎   | 7/11 [02:01<00:53, 13.41s/it]"
     ]
    },
    {
     "name": "stdout",
     "output_type": "stream",
     "text": [
      "thr: 0.7\n",
      "accuracy: 0.55\n",
      "признаков: 92\n",
      "\n"
     ]
    },
    {
     "name": "stderr",
     "output_type": "stream",
     "text": [
      " 73%|███████▎  | 8/11 [02:11<00:36, 12.22s/it]"
     ]
    },
    {
     "name": "stdout",
     "output_type": "stream",
     "text": [
      "thr: 0.65\n",
      "accuracy: 0.581\n",
      "признаков: 75\n",
      "\n"
     ]
    },
    {
     "name": "stderr",
     "output_type": "stream",
     "text": [
      " 82%|████████▏ | 9/11 [02:19<00:21, 10.80s/it]"
     ]
    },
    {
     "name": "stdout",
     "output_type": "stream",
     "text": [
      "thr: 0.6\n",
      "accuracy: 0.544\n",
      "признаков: 58\n",
      "\n"
     ]
    },
    {
     "name": "stderr",
     "output_type": "stream",
     "text": [
      " 91%|█████████ | 10/11 [02:26<00:09,  9.72s/it]"
     ]
    },
    {
     "name": "stdout",
     "output_type": "stream",
     "text": [
      "thr: 0.55\n",
      "accuracy: 0.556\n",
      "признаков: 46\n",
      "\n"
     ]
    },
    {
     "name": "stderr",
     "output_type": "stream",
     "text": [
      "100%|██████████| 11/11 [02:33<00:00, 13.96s/it]"
     ]
    },
    {
     "name": "stdout",
     "output_type": "stream",
     "text": [
      "thr: 0.5\n",
      "accuracy: 0.525\n",
      "признаков: 36\n",
      "\n"
     ]
    },
    {
     "name": "stderr",
     "output_type": "stream",
     "text": [
      "\n"
     ]
    }
   ],
   "source": [
    "acc_score = []\n",
    "for thr in tqdm(thrs):\n",
    "\n",
    "    \n",
    "    df_temp = rm_high_corr_feat(df, thr, 6)\n",
    "\n",
    "    x_train, y_train, x_val, y_val = split_data(df_temp, 'gameweek_compSeason_label', 'team_1_hue')\n",
    "\n",
    "    model_temp = CatBoostClassifier(iterations=3000)\n",
    "    model_temp.fit(x_train, y_train, cat_features=cat, verbose=False)\n",
    "\n",
    "    pred_temp = model_temp.predict(x_val)\n",
    "\n",
    "    score_temp = accuracy_score(pred_temp, y_val)\n",
    "\n",
    "    print(f'thr: {thr}\\naccuracy: {np.round(score_temp, 3)}\\nпризнаков: {df_temp.shape[1]}\\n')\n",
    "\n",
    "    acc_score.append(score_temp)\n"
   ]
  },
  {
   "cell_type": "code",
   "execution_count": 34,
   "metadata": {},
   "outputs": [
    {
     "data": {
      "text/plain": [
       "<Axes: >"
      ]
     },
     "execution_count": 34,
     "metadata": {},
     "output_type": "execute_result"
    },
    {
     "data": {
      "image/png": "[encoded data removed]",
      "text/plain": [
       "<Figure size 640x480 with 1 Axes>"
      ]
     },
     "metadata": {},
     "output_type": "display_data"
    }
   ],
   "source": [
    "sns.lineplot(x=thrs, y=acc_score)"
   ]
  },
  {
   "cell_type": "markdown",
   "metadata": {},
   "source": [
    "Возьмем датасет с отобранными признаки, где корреляция не выше 0.6 между признаками"
   ]
  },
  {
   "cell_type": "code",
   "execution_count": 35,
   "metadata": {},
   "outputs": [],
   "source": [
    "df_temp = rm_high_corr_feat(df, 0.6, 6)\n",
    "\n",
    "x_train, y_train, x_val, y_val = split_data(df_temp, 'gameweek_compSeason_label', 'team_1_hue')"
   ]
  },
  {
   "cell_type": "code",
   "execution_count": 39,
   "metadata": {},
   "outputs": [],
   "source": [
    "grid = {'depth': [2, 4, 6, 8],\n",
    "        'l2_leaf_reg': [1, 3, 5, 7, 9, 12]}"
   ]
  },
  {
   "cell_type": "code",
   "execution_count": 41,
   "metadata": {},
   "outputs": [
    {
     "name": "stdout",
     "output_type": "stream",
     "text": [
      "accuracy: 0.544\n",
      "depth: 2\n",
      "l2_leaf_reg: 1\n",
      "\n",
      "accuracy: 0.556\n",
      "depth: 2\n",
      "l2_leaf_reg: 7\n",
      "\n",
      "accuracy: 0.569\n",
      "depth: 2\n",
      "l2_leaf_reg: 9\n",
      "\n",
      "accuracy: 0.575\n",
      "depth: 6\n",
      "l2_leaf_reg: 3\n",
      "\n"
     ]
    }
   ],
   "source": [
    "score = 0\n",
    "for depth in grid['depth']:\n",
    "    for l2 in grid['l2_leaf_reg']:\n",
    "        \n",
    "\n",
    "        model_temp = CatBoostClassifier(iterations=3000, depth=depth, l2_leaf_reg=l2)\n",
    "        model_temp.fit(x_train, y_train, cat_features=cat, verbose=False)\n",
    "\n",
    "        pred_temp = model_temp.predict(x_val)\n",
    "\n",
    "        score_temp = accuracy_score(pred_temp, y_val)\n",
    "\n",
    "        if score_temp > score:            \n",
    "            score = score_temp\n",
    "            print(f'accuracy: {np.round(score_temp, 3)}\\ndepth: {depth}\\nl2_leaf_reg: {l2}\\n')\n",
    "\n",
    "        #print(f'accuracy: {np.round(score_temp, 3)}\\ndepth: {depth}\\nl2_leaf_reg: {l2}\\n')\n"
   ]
  }
 ],
 "metadata": {
  "kernelspec": {
   "display_name": ".venv",
   "language": "python",
   "name": "python3"
  },
  "language_info": {
   "codemirror_mode": {
    "name": "ipython",
    "version": 3
   },
   "file_extension": ".py",
   "mimetype": "text/x-python",
   "name": "python",
   "nbconvert_exporter": "python",
   "pygments_lexer": "ipython3",
   "version": "3.10.12"
  }
 },
 "nbformat": 4,
 "nbformat_minor": 2
}
