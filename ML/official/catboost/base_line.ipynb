{
 "cells": [
  {
   "cell_type": "code",
   "execution_count": 28,
   "metadata": {},
   "outputs": [],
   "source": [
    "import pandas as pd\n",
    "from catboost import CatBoostClassifier\n",
    "from sklearn.metrics import roc_auc_score as auc, accuracy_score\n",
    "import numpy as np"
   ]
  },
  {
   "cell_type": "code",
   "execution_count": 29,
   "metadata": {},
   "outputs": [
    {
     "data": {
      "text/html": [
       "<div>\n",
       "<style scoped>\n",
       "    .dataframe tbody tr th:only-of-type {\n",
       "        vertical-align: middle;\n",
       "    }\n",
       "\n",
       "    .dataframe tbody tr th {\n",
       "        vertical-align: top;\n",
       "    }\n",
       "\n",
       "    .dataframe thead th {\n",
       "        text-align: right;\n",
       "    }\n",
       "</style>\n",
       "<table border=\"1\" class=\"dataframe\">\n",
       "  <thead>\n",
       "    <tr style=\"text-align: right;\">\n",
       "      <th></th>\n",
       "      <th>gameweek_gameweek</th>\n",
       "      <th>gameweek_compSeason_label</th>\n",
       "      <th>teams_team_1_name</th>\n",
       "      <th>teams_team_2_name</th>\n",
       "      <th>ground_name</th>\n",
       "      <th>team_1_hue</th>\n",
       "    </tr>\n",
       "  </thead>\n",
       "  <tbody>\n",
       "    <tr>\n",
       "      <th>0</th>\n",
       "      <td>21</td>\n",
       "      <td>2023</td>\n",
       "      <td>Manchester United</td>\n",
       "      <td>Tottenham Hotspur</td>\n",
       "      <td>Old Trafford</td>\n",
       "      <td>2</td>\n",
       "    </tr>\n",
       "    <tr>\n",
       "      <th>1</th>\n",
       "      <td>21</td>\n",
       "      <td>2023</td>\n",
       "      <td>Everton</td>\n",
       "      <td>Aston Villa</td>\n",
       "      <td>Goodison Park</td>\n",
       "      <td>2</td>\n",
       "    </tr>\n",
       "    <tr>\n",
       "      <th>2</th>\n",
       "      <td>21</td>\n",
       "      <td>2023</td>\n",
       "      <td>Newcastle United</td>\n",
       "      <td>Manchester City</td>\n",
       "      <td>St. James' Park</td>\n",
       "      <td>0</td>\n",
       "    </tr>\n",
       "    <tr>\n",
       "      <th>3</th>\n",
       "      <td>21</td>\n",
       "      <td>2023</td>\n",
       "      <td>Chelsea</td>\n",
       "      <td>Fulham</td>\n",
       "      <td>Stamford Bridge</td>\n",
       "      <td>1</td>\n",
       "    </tr>\n",
       "    <tr>\n",
       "      <th>4</th>\n",
       "      <td>21</td>\n",
       "      <td>2023</td>\n",
       "      <td>Burnley</td>\n",
       "      <td>Luton Town</td>\n",
       "      <td>Turf Moor</td>\n",
       "      <td>2</td>\n",
       "    </tr>\n",
       "  </tbody>\n",
       "</table>\n",
       "</div>"
      ],
      "text/plain": [
       "   gameweek_gameweek  gameweek_compSeason_label  teams_team_1_name  \\\n",
       "0                 21                       2023  Manchester United   \n",
       "1                 21                       2023            Everton   \n",
       "2                 21                       2023   Newcastle United   \n",
       "3                 21                       2023            Chelsea   \n",
       "4                 21                       2023            Burnley   \n",
       "\n",
       "   teams_team_2_name      ground_name  team_1_hue  \n",
       "0  Tottenham Hotspur     Old Trafford           2  \n",
       "1        Aston Villa    Goodison Park           2  \n",
       "2    Manchester City  St. James' Park           0  \n",
       "3             Fulham  Stamford Bridge           1  \n",
       "4         Luton Town        Turf Moor           2  "
      ]
     },
     "execution_count": 29,
     "metadata": {},
     "output_type": "execute_result"
    }
   ],
   "source": [
    "n = 500\n",
    "df = pd.read_csv('../prepare_data/data/base_line.csv')\n",
    "df.drop('match_id', axis=1, inplace=True)\n",
    "df.head()"
   ]
  },
  {
   "cell_type": "code",
   "execution_count": 30,
   "metadata": {},
   "outputs": [],
   "source": [
    "train = df[df['gameweek_compSeason_label'] !=2023]\n",
    "val = df[df['gameweek_compSeason_label'] ==2023]"
   ]
  },
  {
   "cell_type": "code",
   "execution_count": 31,
   "metadata": {},
   "outputs": [
    {
     "data": {
      "text/html": [
       "<div>\n",
       "<style scoped>\n",
       "    .dataframe tbody tr th:only-of-type {\n",
       "        vertical-align: middle;\n",
       "    }\n",
       "\n",
       "    .dataframe tbody tr th {\n",
       "        vertical-align: top;\n",
       "    }\n",
       "\n",
       "    .dataframe thead th {\n",
       "        text-align: right;\n",
       "    }\n",
       "</style>\n",
       "<table border=\"1\" class=\"dataframe\">\n",
       "  <thead>\n",
       "    <tr style=\"text-align: right;\">\n",
       "      <th></th>\n",
       "      <th>gameweek_gameweek</th>\n",
       "      <th>gameweek_compSeason_label</th>\n",
       "      <th>teams_team_1_name</th>\n",
       "      <th>teams_team_2_name</th>\n",
       "      <th>ground_name</th>\n",
       "      <th>team_1_hue</th>\n",
       "    </tr>\n",
       "  </thead>\n",
       "  <tbody>\n",
       "    <tr>\n",
       "      <th>203</th>\n",
       "      <td>38</td>\n",
       "      <td>2022</td>\n",
       "      <td>Arsenal</td>\n",
       "      <td>Wolverhampton Wanderers</td>\n",
       "      <td>Emirates Stadium</td>\n",
       "      <td>1</td>\n",
       "    </tr>\n",
       "    <tr>\n",
       "      <th>204</th>\n",
       "      <td>38</td>\n",
       "      <td>2022</td>\n",
       "      <td>Aston Villa</td>\n",
       "      <td>Brighton &amp; Hove Albion</td>\n",
       "      <td>Villa Park</td>\n",
       "      <td>1</td>\n",
       "    </tr>\n",
       "    <tr>\n",
       "      <th>205</th>\n",
       "      <td>38</td>\n",
       "      <td>2022</td>\n",
       "      <td>Brentford</td>\n",
       "      <td>Manchester City</td>\n",
       "      <td>Gtech Community Stadium</td>\n",
       "      <td>1</td>\n",
       "    </tr>\n",
       "    <tr>\n",
       "      <th>206</th>\n",
       "      <td>38</td>\n",
       "      <td>2022</td>\n",
       "      <td>Chelsea</td>\n",
       "      <td>Newcastle United</td>\n",
       "      <td>Stamford Bridge</td>\n",
       "      <td>2</td>\n",
       "    </tr>\n",
       "    <tr>\n",
       "      <th>207</th>\n",
       "      <td>38</td>\n",
       "      <td>2022</td>\n",
       "      <td>Crystal Palace</td>\n",
       "      <td>Nottingham Forest</td>\n",
       "      <td>Selhurst Park</td>\n",
       "      <td>2</td>\n",
       "    </tr>\n",
       "    <tr>\n",
       "      <th>...</th>\n",
       "      <td>...</td>\n",
       "      <td>...</td>\n",
       "      <td>...</td>\n",
       "      <td>...</td>\n",
       "      <td>...</td>\n",
       "      <td>...</td>\n",
       "    </tr>\n",
       "    <tr>\n",
       "      <th>3618</th>\n",
       "      <td>1</td>\n",
       "      <td>2014</td>\n",
       "      <td>Queens Park Rangers</td>\n",
       "      <td>Hull City</td>\n",
       "      <td>Loftus Road</td>\n",
       "      <td>0</td>\n",
       "    </tr>\n",
       "    <tr>\n",
       "      <th>3619</th>\n",
       "      <td>1</td>\n",
       "      <td>2014</td>\n",
       "      <td>Stoke City</td>\n",
       "      <td>Aston Villa</td>\n",
       "      <td>bet365 Stadium</td>\n",
       "      <td>0</td>\n",
       "    </tr>\n",
       "    <tr>\n",
       "      <th>3620</th>\n",
       "      <td>1</td>\n",
       "      <td>2014</td>\n",
       "      <td>West Bromwich Albion</td>\n",
       "      <td>Sunderland</td>\n",
       "      <td>The Hawthorns</td>\n",
       "      <td>2</td>\n",
       "    </tr>\n",
       "    <tr>\n",
       "      <th>3621</th>\n",
       "      <td>1</td>\n",
       "      <td>2014</td>\n",
       "      <td>West Ham United</td>\n",
       "      <td>Tottenham Hotspur</td>\n",
       "      <td>Boleyn Ground</td>\n",
       "      <td>0</td>\n",
       "    </tr>\n",
       "    <tr>\n",
       "      <th>3622</th>\n",
       "      <td>1</td>\n",
       "      <td>2014</td>\n",
       "      <td>Manchester United</td>\n",
       "      <td>Swansea City</td>\n",
       "      <td>Old Trafford</td>\n",
       "      <td>0</td>\n",
       "    </tr>\n",
       "  </tbody>\n",
       "</table>\n",
       "<p>3420 rows × 6 columns</p>\n",
       "</div>"
      ],
      "text/plain": [
       "      gameweek_gameweek  gameweek_compSeason_label     teams_team_1_name  \\\n",
       "203                  38                       2022               Arsenal   \n",
       "204                  38                       2022           Aston Villa   \n",
       "205                  38                       2022             Brentford   \n",
       "206                  38                       2022               Chelsea   \n",
       "207                  38                       2022        Crystal Palace   \n",
       "...                 ...                        ...                   ...   \n",
       "3618                  1                       2014   Queens Park Rangers   \n",
       "3619                  1                       2014            Stoke City   \n",
       "3620                  1                       2014  West Bromwich Albion   \n",
       "3621                  1                       2014       West Ham United   \n",
       "3622                  1                       2014     Manchester United   \n",
       "\n",
       "            teams_team_2_name              ground_name  team_1_hue  \n",
       "203   Wolverhampton Wanderers         Emirates Stadium           1  \n",
       "204    Brighton & Hove Albion               Villa Park           1  \n",
       "205           Manchester City  Gtech Community Stadium           1  \n",
       "206          Newcastle United          Stamford Bridge           2  \n",
       "207         Nottingham Forest            Selhurst Park           2  \n",
       "...                       ...                      ...         ...  \n",
       "3618                Hull City              Loftus Road           0  \n",
       "3619              Aston Villa           bet365 Stadium           0  \n",
       "3620               Sunderland            The Hawthorns           2  \n",
       "3621        Tottenham Hotspur            Boleyn Ground           0  \n",
       "3622             Swansea City             Old Trafford           0  \n",
       "\n",
       "[3420 rows x 6 columns]"
      ]
     },
     "execution_count": 31,
     "metadata": {},
     "output_type": "execute_result"
    }
   ],
   "source": [
    "train"
   ]
  },
  {
   "cell_type": "code",
   "execution_count": 32,
   "metadata": {},
   "outputs": [],
   "source": [
    "y_train = train['team_1_hue']\n",
    "x_train = train.drop('team_1_hue', axis=1)\n",
    "\n",
    "y_val = val['team_1_hue']\n",
    "x_val = val.drop('team_1_hue', axis=1)"
   ]
  },
  {
   "cell_type": "code",
   "execution_count": 33,
   "metadata": {},
   "outputs": [],
   "source": [
    "model_baseline = CatBoostClassifier()"
   ]
  },
  {
   "cell_type": "code",
   "execution_count": 34,
   "metadata": {},
   "outputs": [
    {
     "data": {
      "text/plain": [
       "<catboost.core.CatBoostClassifier at 0x7f5ccbbdca90>"
      ]
     },
     "execution_count": 34,
     "metadata": {},
     "output_type": "execute_result"
    }
   ],
   "source": [
    "model_baseline.fit(x_train, y_train, cat_features=list(x_train.columns), verbose=False)"
   ]
  },
  {
   "cell_type": "code",
   "execution_count": 35,
   "metadata": {},
   "outputs": [],
   "source": [
    "pred = model_baseline.predict(x_val)\n",
    "pred_proba = model_baseline.predict_proba(x_val)\n",
    "y_val = y_val.to_numpy().reshape(-1, 1)"
   ]
  },
  {
   "cell_type": "code",
   "execution_count": 36,
   "metadata": {},
   "outputs": [],
   "source": [
    "pred = np.concatenate((y_val, pred, pred_proba), axis=1)\n",
    "df_pred = pd.DataFrame(pred, columns=['true', 'pred', '0_prob', '1_prob', '2_prob'])"
   ]
  },
  {
   "cell_type": "code",
   "execution_count": 37,
   "metadata": {},
   "outputs": [
    {
     "data": {
      "text/html": [
       "<div>\n",
       "<style scoped>\n",
       "    .dataframe tbody tr th:only-of-type {\n",
       "        vertical-align: middle;\n",
       "    }\n",
       "\n",
       "    .dataframe tbody tr th {\n",
       "        vertical-align: top;\n",
       "    }\n",
       "\n",
       "    .dataframe thead th {\n",
       "        text-align: right;\n",
       "    }\n",
       "</style>\n",
       "<table border=\"1\" class=\"dataframe\">\n",
       "  <thead>\n",
       "    <tr style=\"text-align: right;\">\n",
       "      <th></th>\n",
       "      <th>true</th>\n",
       "      <th>pred</th>\n",
       "      <th>0_prob</th>\n",
       "      <th>1_prob</th>\n",
       "      <th>2_prob</th>\n",
       "      <th>error</th>\n",
       "    </tr>\n",
       "  </thead>\n",
       "  <tbody>\n",
       "    <tr>\n",
       "      <th>0</th>\n",
       "      <td>2.0</td>\n",
       "      <td>2.0</td>\n",
       "      <td>0.146261</td>\n",
       "      <td>0.350680</td>\n",
       "      <td>0.503059</td>\n",
       "      <td>0</td>\n",
       "    </tr>\n",
       "    <tr>\n",
       "      <th>1</th>\n",
       "      <td>2.0</td>\n",
       "      <td>1.0</td>\n",
       "      <td>0.193553</td>\n",
       "      <td>0.412802</td>\n",
       "      <td>0.393646</td>\n",
       "      <td>1</td>\n",
       "    </tr>\n",
       "    <tr>\n",
       "      <th>2</th>\n",
       "      <td>0.0</td>\n",
       "      <td>0.0</td>\n",
       "      <td>0.579854</td>\n",
       "      <td>0.142503</td>\n",
       "      <td>0.277643</td>\n",
       "      <td>0</td>\n",
       "    </tr>\n",
       "    <tr>\n",
       "      <th>3</th>\n",
       "      <td>1.0</td>\n",
       "      <td>1.0</td>\n",
       "      <td>0.103978</td>\n",
       "      <td>0.695125</td>\n",
       "      <td>0.200896</td>\n",
       "      <td>0</td>\n",
       "    </tr>\n",
       "    <tr>\n",
       "      <th>4</th>\n",
       "      <td>2.0</td>\n",
       "      <td>1.0</td>\n",
       "      <td>0.212616</td>\n",
       "      <td>0.505047</td>\n",
       "      <td>0.282336</td>\n",
       "      <td>1</td>\n",
       "    </tr>\n",
       "  </tbody>\n",
       "</table>\n",
       "</div>"
      ],
      "text/plain": [
       "   true  pred    0_prob    1_prob    2_prob  error\n",
       "0   2.0   2.0  0.146261  0.350680  0.503059      0\n",
       "1   2.0   1.0  0.193553  0.412802  0.393646      1\n",
       "2   0.0   0.0  0.579854  0.142503  0.277643      0\n",
       "3   1.0   1.0  0.103978  0.695125  0.200896      0\n",
       "4   2.0   1.0  0.212616  0.505047  0.282336      1"
      ]
     },
     "execution_count": 37,
     "metadata": {},
     "output_type": "execute_result"
    }
   ],
   "source": [
    "df_pred['error'] = np.where(df_pred['true']==df_pred['pred'], 0, 1)\n",
    "df_pred.head()\n"
   ]
  },
  {
   "cell_type": "code",
   "execution_count": 38,
   "metadata": {},
   "outputs": [
    {
     "data": {
      "text/plain": [
       "95"
      ]
     },
     "execution_count": 38,
     "metadata": {},
     "output_type": "execute_result"
    }
   ],
   "source": [
    "df_pred['error'].sum()"
   ]
  },
  {
   "cell_type": "code",
   "execution_count": 39,
   "metadata": {},
   "outputs": [
    {
     "data": {
      "text/plain": [
       "0.5320197044334976"
      ]
     },
     "execution_count": 39,
     "metadata": {},
     "output_type": "execute_result"
    }
   ],
   "source": [
    "accuracy_score(df_pred['true'], df_pred['pred'])"
   ]
  }
 ],
 "metadata": {
  "kernelspec": {
   "display_name": ".venv",
   "language": "python",
   "name": "python3"
  },
  "language_info": {
   "codemirror_mode": {
    "name": "ipython",
    "version": 3
   },
   "file_extension": ".py",
   "mimetype": "text/x-python",
   "name": "python",
   "nbconvert_exporter": "python",
   "pygments_lexer": "ipython3",
   "version": "3.10.12"
  }
 },
 "nbformat": 4,
 "nbformat_minor": 2
}
