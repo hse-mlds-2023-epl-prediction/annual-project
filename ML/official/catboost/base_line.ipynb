{
 "cells": [
  {
   "cell_type": "code",
   "execution_count": 3,
   "metadata": {},
   "outputs": [],
   "source": [
    "import pandas as pd\n",
    "from catboost import CatBoostClassifier\n",
    "from sklearn.metrics import roc_auc_score as auc, accuracy_score\n",
    "import numpy as np"
   ]
  },
  {
   "cell_type": "code",
   "execution_count": 4,
   "metadata": {},
   "outputs": [
    {
     "data": {
      "text/html": [
       "<div>\n",
       "<style scoped>\n",
       "    .dataframe tbody tr th:only-of-type {\n",
       "        vertical-align: middle;\n",
       "    }\n",
       "\n",
       "    .dataframe tbody tr th {\n",
       "        vertical-align: top;\n",
       "    }\n",
       "\n",
       "    .dataframe thead th {\n",
       "        text-align: right;\n",
       "    }\n",
       "</style>\n",
       "<table border=\"1\" class=\"dataframe\">\n",
       "  <thead>\n",
       "    <tr style=\"text-align: right;\">\n",
       "      <th></th>\n",
       "      <th>gameweek_gameweek</th>\n",
       "      <th>gameweek_compSeason_label</th>\n",
       "      <th>teams_team_1_name</th>\n",
       "      <th>teams_team_2_name</th>\n",
       "      <th>ground_name</th>\n",
       "      <th>team_1_hue</th>\n",
       "    </tr>\n",
       "  </thead>\n",
       "  <tbody>\n",
       "    <tr>\n",
       "      <th>0</th>\n",
       "      <td>20</td>\n",
       "      <td>2023</td>\n",
       "      <td>West Ham United</td>\n",
       "      <td>Brighton &amp; Hove Albion</td>\n",
       "      <td>London Stadium</td>\n",
       "      <td>2</td>\n",
       "    </tr>\n",
       "    <tr>\n",
       "      <th>1</th>\n",
       "      <td>20</td>\n",
       "      <td>2023</td>\n",
       "      <td>Liverpool</td>\n",
       "      <td>Newcastle United</td>\n",
       "      <td>Anfield</td>\n",
       "      <td>1</td>\n",
       "    </tr>\n",
       "    <tr>\n",
       "      <th>2</th>\n",
       "      <td>20</td>\n",
       "      <td>2023</td>\n",
       "      <td>Fulham</td>\n",
       "      <td>Arsenal</td>\n",
       "      <td>Craven Cottage</td>\n",
       "      <td>1</td>\n",
       "    </tr>\n",
       "    <tr>\n",
       "      <th>3</th>\n",
       "      <td>20</td>\n",
       "      <td>2023</td>\n",
       "      <td>Tottenham Hotspur</td>\n",
       "      <td>Bournemouth</td>\n",
       "      <td>Tottenham Hotspur Stadium</td>\n",
       "      <td>1</td>\n",
       "    </tr>\n",
       "    <tr>\n",
       "      <th>4</th>\n",
       "      <td>20</td>\n",
       "      <td>2023</td>\n",
       "      <td>Nottingham Forest</td>\n",
       "      <td>Manchester United</td>\n",
       "      <td>The City Ground</td>\n",
       "      <td>1</td>\n",
       "    </tr>\n",
       "  </tbody>\n",
       "</table>\n",
       "</div>"
      ],
      "text/plain": [
       "   gameweek_gameweek  gameweek_compSeason_label  teams_team_1_name  \\\n",
       "0                 20                       2023    West Ham United   \n",
       "1                 20                       2023          Liverpool   \n",
       "2                 20                       2023             Fulham   \n",
       "3                 20                       2023  Tottenham Hotspur   \n",
       "4                 20                       2023  Nottingham Forest   \n",
       "\n",
       "        teams_team_2_name                ground_name  team_1_hue  \n",
       "0  Brighton & Hove Albion             London Stadium           2  \n",
       "1        Newcastle United                    Anfield           1  \n",
       "2                 Arsenal             Craven Cottage           1  \n",
       "3             Bournemouth  Tottenham Hotspur Stadium           1  \n",
       "4       Manchester United            The City Ground           1  "
      ]
     },
     "execution_count": 4,
     "metadata": {},
     "output_type": "execute_result"
    }
   ],
   "source": [
    "n = 100\n",
    "df = pd.read_csv('../prepare_data/data/base_line.csv')\n",
    "df.drop('match_id', axis=1, inplace=True)\n",
    "df.head()"
   ]
  },
  {
   "cell_type": "code",
   "execution_count": 5,
   "metadata": {},
   "outputs": [],
   "source": [
    "train = df.iloc[n:, :]\n",
    "val = df.iloc[:n, :]"
   ]
  },
  {
   "cell_type": "code",
   "execution_count": 6,
   "metadata": {},
   "outputs": [
    {
     "data": {
      "text/html": [
       "<div>\n",
       "<style scoped>\n",
       "    .dataframe tbody tr th:only-of-type {\n",
       "        vertical-align: middle;\n",
       "    }\n",
       "\n",
       "    .dataframe tbody tr th {\n",
       "        vertical-align: top;\n",
       "    }\n",
       "\n",
       "    .dataframe thead th {\n",
       "        text-align: right;\n",
       "    }\n",
       "</style>\n",
       "<table border=\"1\" class=\"dataframe\">\n",
       "  <thead>\n",
       "    <tr style=\"text-align: right;\">\n",
       "      <th></th>\n",
       "      <th>gameweek_gameweek</th>\n",
       "      <th>gameweek_compSeason_label</th>\n",
       "      <th>teams_team_1_name</th>\n",
       "      <th>teams_team_2_name</th>\n",
       "      <th>ground_name</th>\n",
       "      <th>team_1_hue</th>\n",
       "    </tr>\n",
       "  </thead>\n",
       "  <tbody>\n",
       "    <tr>\n",
       "      <th>100</th>\n",
       "      <td>10</td>\n",
       "      <td>2023</td>\n",
       "      <td>Brighton &amp; Hove Albion</td>\n",
       "      <td>Fulham</td>\n",
       "      <td>American Express Stadium</td>\n",
       "      <td>2</td>\n",
       "    </tr>\n",
       "    <tr>\n",
       "      <th>101</th>\n",
       "      <td>10</td>\n",
       "      <td>2023</td>\n",
       "      <td>Liverpool</td>\n",
       "      <td>Nottingham Forest</td>\n",
       "      <td>Anfield</td>\n",
       "      <td>1</td>\n",
       "    </tr>\n",
       "    <tr>\n",
       "      <th>102</th>\n",
       "      <td>10</td>\n",
       "      <td>2023</td>\n",
       "      <td>West Ham United</td>\n",
       "      <td>Everton</td>\n",
       "      <td>London Stadium</td>\n",
       "      <td>0</td>\n",
       "    </tr>\n",
       "    <tr>\n",
       "      <th>103</th>\n",
       "      <td>10</td>\n",
       "      <td>2023</td>\n",
       "      <td>Wolverhampton Wanderers</td>\n",
       "      <td>Newcastle United</td>\n",
       "      <td>Molineux Stadium</td>\n",
       "      <td>2</td>\n",
       "    </tr>\n",
       "    <tr>\n",
       "      <th>104</th>\n",
       "      <td>10</td>\n",
       "      <td>2023</td>\n",
       "      <td>Arsenal</td>\n",
       "      <td>Sheffield United</td>\n",
       "      <td>Emirates Stadium</td>\n",
       "      <td>1</td>\n",
       "    </tr>\n",
       "    <tr>\n",
       "      <th>...</th>\n",
       "      <td>...</td>\n",
       "      <td>...</td>\n",
       "      <td>...</td>\n",
       "      <td>...</td>\n",
       "      <td>...</td>\n",
       "      <td>...</td>\n",
       "    </tr>\n",
       "    <tr>\n",
       "      <th>1713</th>\n",
       "      <td>1</td>\n",
       "      <td>2019</td>\n",
       "      <td>Burnley</td>\n",
       "      <td>Southampton</td>\n",
       "      <td>Turf Moor</td>\n",
       "      <td>1</td>\n",
       "    </tr>\n",
       "    <tr>\n",
       "      <th>1714</th>\n",
       "      <td>1</td>\n",
       "      <td>2019</td>\n",
       "      <td>Crystal Palace</td>\n",
       "      <td>Everton</td>\n",
       "      <td>Selhurst Park</td>\n",
       "      <td>2</td>\n",
       "    </tr>\n",
       "    <tr>\n",
       "      <th>1715</th>\n",
       "      <td>1</td>\n",
       "      <td>2019</td>\n",
       "      <td>Watford</td>\n",
       "      <td>Brighton &amp; Hove Albion</td>\n",
       "      <td>Vicarage Road</td>\n",
       "      <td>0</td>\n",
       "    </tr>\n",
       "    <tr>\n",
       "      <th>1716</th>\n",
       "      <td>1</td>\n",
       "      <td>2019</td>\n",
       "      <td>West Ham United</td>\n",
       "      <td>Manchester City</td>\n",
       "      <td>London Stadium</td>\n",
       "      <td>0</td>\n",
       "    </tr>\n",
       "    <tr>\n",
       "      <th>1717</th>\n",
       "      <td>1</td>\n",
       "      <td>2019</td>\n",
       "      <td>Liverpool</td>\n",
       "      <td>Norwich City</td>\n",
       "      <td>Anfield</td>\n",
       "      <td>1</td>\n",
       "    </tr>\n",
       "  </tbody>\n",
       "</table>\n",
       "<p>1618 rows × 6 columns</p>\n",
       "</div>"
      ],
      "text/plain": [
       "      gameweek_gameweek  gameweek_compSeason_label        teams_team_1_name  \\\n",
       "100                  10                       2023   Brighton & Hove Albion   \n",
       "101                  10                       2023                Liverpool   \n",
       "102                  10                       2023          West Ham United   \n",
       "103                  10                       2023  Wolverhampton Wanderers   \n",
       "104                  10                       2023                  Arsenal   \n",
       "...                 ...                        ...                      ...   \n",
       "1713                  1                       2019                  Burnley   \n",
       "1714                  1                       2019           Crystal Palace   \n",
       "1715                  1                       2019                  Watford   \n",
       "1716                  1                       2019          West Ham United   \n",
       "1717                  1                       2019                Liverpool   \n",
       "\n",
       "           teams_team_2_name               ground_name  team_1_hue  \n",
       "100                   Fulham  American Express Stadium           2  \n",
       "101        Nottingham Forest                   Anfield           1  \n",
       "102                  Everton            London Stadium           0  \n",
       "103         Newcastle United          Molineux Stadium           2  \n",
       "104         Sheffield United          Emirates Stadium           1  \n",
       "...                      ...                       ...         ...  \n",
       "1713             Southampton                 Turf Moor           1  \n",
       "1714                 Everton             Selhurst Park           2  \n",
       "1715  Brighton & Hove Albion             Vicarage Road           0  \n",
       "1716         Manchester City            London Stadium           0  \n",
       "1717            Norwich City                   Anfield           1  \n",
       "\n",
       "[1618 rows x 6 columns]"
      ]
     },
     "execution_count": 6,
     "metadata": {},
     "output_type": "execute_result"
    }
   ],
   "source": [
    "train"
   ]
  },
  {
   "cell_type": "code",
   "execution_count": 7,
   "metadata": {},
   "outputs": [],
   "source": [
    "y_train = train['team_1_hue']\n",
    "x_train = train.drop('team_1_hue', axis=1)\n",
    "\n",
    "y_val = val['team_1_hue']\n",
    "x_val = val.drop('team_1_hue', axis=1)"
   ]
  },
  {
   "cell_type": "code",
   "execution_count": 8,
   "metadata": {},
   "outputs": [],
   "source": [
    "model_baseline = CatBoostClassifier()"
   ]
  },
  {
   "cell_type": "code",
   "execution_count": 9,
   "metadata": {},
   "outputs": [
    {
     "data": {
      "text/plain": [
       "<catboost.core.CatBoostClassifier at 0x7f2c0257b460>"
      ]
     },
     "execution_count": 9,
     "metadata": {},
     "output_type": "execute_result"
    }
   ],
   "source": [
    "model_baseline.fit(x_train, y_train, cat_features=list(x_train.columns), verbose=False)"
   ]
  },
  {
   "cell_type": "code",
   "execution_count": 10,
   "metadata": {},
   "outputs": [],
   "source": [
    "pred = model_baseline.predict(x_val)\n",
    "pred_proba = model_baseline.predict_proba(x_val)\n",
    "y_val = y_val.to_numpy().reshape(-1, 1)"
   ]
  },
  {
   "cell_type": "code",
   "execution_count": 11,
   "metadata": {},
   "outputs": [],
   "source": [
    "pred = np.concatenate((y_val, pred, pred_proba), axis=1)\n",
    "df_pred = pd.DataFrame(pred, columns=['true', 'pred', '0_prob', '1_prob', '2_prob'])"
   ]
  },
  {
   "cell_type": "code",
   "execution_count": 12,
   "metadata": {},
   "outputs": [
    {
     "data": {
      "text/html": [
       "<div>\n",
       "<style scoped>\n",
       "    .dataframe tbody tr th:only-of-type {\n",
       "        vertical-align: middle;\n",
       "    }\n",
       "\n",
       "    .dataframe tbody tr th {\n",
       "        vertical-align: top;\n",
       "    }\n",
       "\n",
       "    .dataframe thead th {\n",
       "        text-align: right;\n",
       "    }\n",
       "</style>\n",
       "<table border=\"1\" class=\"dataframe\">\n",
       "  <thead>\n",
       "    <tr style=\"text-align: right;\">\n",
       "      <th></th>\n",
       "      <th>true</th>\n",
       "      <th>pred</th>\n",
       "      <th>0_prob</th>\n",
       "      <th>1_prob</th>\n",
       "      <th>2_prob</th>\n",
       "      <th>error</th>\n",
       "    </tr>\n",
       "  </thead>\n",
       "  <tbody>\n",
       "    <tr>\n",
       "      <th>0</th>\n",
       "      <td>2.0</td>\n",
       "      <td>0.0</td>\n",
       "      <td>0.590681</td>\n",
       "      <td>0.160676</td>\n",
       "      <td>0.248643</td>\n",
       "      <td>1</td>\n",
       "    </tr>\n",
       "    <tr>\n",
       "      <th>1</th>\n",
       "      <td>1.0</td>\n",
       "      <td>1.0</td>\n",
       "      <td>0.036982</td>\n",
       "      <td>0.940131</td>\n",
       "      <td>0.022888</td>\n",
       "      <td>0</td>\n",
       "    </tr>\n",
       "    <tr>\n",
       "      <th>2</th>\n",
       "      <td>1.0</td>\n",
       "      <td>0.0</td>\n",
       "      <td>0.533615</td>\n",
       "      <td>0.388805</td>\n",
       "      <td>0.077580</td>\n",
       "      <td>1</td>\n",
       "    </tr>\n",
       "    <tr>\n",
       "      <th>3</th>\n",
       "      <td>1.0</td>\n",
       "      <td>1.0</td>\n",
       "      <td>0.088459</td>\n",
       "      <td>0.819140</td>\n",
       "      <td>0.092400</td>\n",
       "      <td>0</td>\n",
       "    </tr>\n",
       "    <tr>\n",
       "      <th>4</th>\n",
       "      <td>1.0</td>\n",
       "      <td>0.0</td>\n",
       "      <td>0.534983</td>\n",
       "      <td>0.259233</td>\n",
       "      <td>0.205785</td>\n",
       "      <td>1</td>\n",
       "    </tr>\n",
       "  </tbody>\n",
       "</table>\n",
       "</div>"
      ],
      "text/plain": [
       "   true  pred    0_prob    1_prob    2_prob  error\n",
       "0   2.0   0.0  0.590681  0.160676  0.248643      1\n",
       "1   1.0   1.0  0.036982  0.940131  0.022888      0\n",
       "2   1.0   0.0  0.533615  0.388805  0.077580      1\n",
       "3   1.0   1.0  0.088459  0.819140  0.092400      0\n",
       "4   1.0   0.0  0.534983  0.259233  0.205785      1"
      ]
     },
     "execution_count": 12,
     "metadata": {},
     "output_type": "execute_result"
    }
   ],
   "source": [
    "df_pred['error'] = np.where(df_pred['true']==df_pred['pred'], 0, 1)\n",
    "df_pred.head()\n"
   ]
  },
  {
   "cell_type": "code",
   "execution_count": 13,
   "metadata": {},
   "outputs": [
    {
     "data": {
      "text/plain": [
       "51"
      ]
     },
     "execution_count": 13,
     "metadata": {},
     "output_type": "execute_result"
    }
   ],
   "source": [
    "df_pred['error'].sum()"
   ]
  },
  {
   "cell_type": "code",
   "execution_count": 14,
   "metadata": {},
   "outputs": [
    {
     "data": {
      "text/plain": [
       "0.49"
      ]
     },
     "execution_count": 14,
     "metadata": {},
     "output_type": "execute_result"
    }
   ],
   "source": [
    "accuracy_score(df_pred['true'], df_pred['pred'])"
   ]
  }
 ],
 "metadata": {
  "kernelspec": {
   "display_name": ".venv",
   "language": "python",
   "name": "python3"
  },
  "language_info": {
   "codemirror_mode": {
    "name": "ipython",
    "version": 3
   },
   "file_extension": ".py",
   "mimetype": "text/x-python",
   "name": "python",
   "nbconvert_exporter": "python",
   "pygments_lexer": "ipython3",
   "version": "3.10.12"
  }
 },
 "nbformat": 4,
 "nbformat_minor": 2
}
