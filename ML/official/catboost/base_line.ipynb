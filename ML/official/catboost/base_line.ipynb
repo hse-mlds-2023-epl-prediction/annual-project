{
 "cells": [
  {
   "cell_type": "code",
   "execution_count": 22,
   "metadata": {},
   "outputs": [],
   "source": [
    "import pandas as pd\n",
    "from catboost import CatBoostClassifier\n",
    "from sklearn.metrics import roc_auc_score as auc, accuracy_score\n",
    "import numpy as np"
   ]
  },
  {
   "cell_type": "code",
   "execution_count": 23,
   "metadata": {},
   "outputs": [
    {
     "data": {
      "text/html": [
       "<div>\n",
       "<style scoped>\n",
       "    .dataframe tbody tr th:only-of-type {\n",
       "        vertical-align: middle;\n",
       "    }\n",
       "\n",
       "    .dataframe tbody tr th {\n",
       "        vertical-align: top;\n",
       "    }\n",
       "\n",
       "    .dataframe thead th {\n",
       "        text-align: right;\n",
       "    }\n",
       "</style>\n",
       "<table border=\"1\" class=\"dataframe\">\n",
       "  <thead>\n",
       "    <tr style=\"text-align: right;\">\n",
       "      <th></th>\n",
       "      <th>gameweek_gameweek</th>\n",
       "      <th>gameweek_compSeason_label</th>\n",
       "      <th>teams_team_1_name</th>\n",
       "      <th>teams_team_2_name</th>\n",
       "      <th>ground_name</th>\n",
       "      <th>team_1_hue</th>\n",
       "    </tr>\n",
       "  </thead>\n",
       "  <tbody>\n",
       "    <tr>\n",
       "      <th>0</th>\n",
       "      <td>20</td>\n",
       "      <td>2023</td>\n",
       "      <td>West Ham United</td>\n",
       "      <td>Brighton &amp; Hove Albion</td>\n",
       "      <td>London Stadium</td>\n",
       "      <td>2</td>\n",
       "    </tr>\n",
       "    <tr>\n",
       "      <th>1</th>\n",
       "      <td>20</td>\n",
       "      <td>2023</td>\n",
       "      <td>Liverpool</td>\n",
       "      <td>Newcastle United</td>\n",
       "      <td>Anfield</td>\n",
       "      <td>1</td>\n",
       "    </tr>\n",
       "    <tr>\n",
       "      <th>2</th>\n",
       "      <td>20</td>\n",
       "      <td>2023</td>\n",
       "      <td>Fulham</td>\n",
       "      <td>Arsenal</td>\n",
       "      <td>Craven Cottage</td>\n",
       "      <td>1</td>\n",
       "    </tr>\n",
       "    <tr>\n",
       "      <th>3</th>\n",
       "      <td>20</td>\n",
       "      <td>2023</td>\n",
       "      <td>Tottenham Hotspur</td>\n",
       "      <td>Bournemouth</td>\n",
       "      <td>Tottenham Hotspur Stadium</td>\n",
       "      <td>1</td>\n",
       "    </tr>\n",
       "    <tr>\n",
       "      <th>4</th>\n",
       "      <td>20</td>\n",
       "      <td>2023</td>\n",
       "      <td>Nottingham Forest</td>\n",
       "      <td>Manchester United</td>\n",
       "      <td>The City Ground</td>\n",
       "      <td>1</td>\n",
       "    </tr>\n",
       "  </tbody>\n",
       "</table>\n",
       "</div>"
      ],
      "text/plain": [
       "   gameweek_gameweek  gameweek_compSeason_label  teams_team_1_name  \\\n",
       "0                 20                       2023    West Ham United   \n",
       "1                 20                       2023          Liverpool   \n",
       "2                 20                       2023             Fulham   \n",
       "3                 20                       2023  Tottenham Hotspur   \n",
       "4                 20                       2023  Nottingham Forest   \n",
       "\n",
       "        teams_team_2_name                ground_name  team_1_hue  \n",
       "0  Brighton & Hove Albion             London Stadium           2  \n",
       "1        Newcastle United                    Anfield           1  \n",
       "2                 Arsenal             Craven Cottage           1  \n",
       "3             Bournemouth  Tottenham Hotspur Stadium           1  \n",
       "4       Manchester United            The City Ground           1  "
      ]
     },
     "execution_count": 23,
     "metadata": {},
     "output_type": "execute_result"
    }
   ],
   "source": [
    "n = 80\n",
    "df = pd.read_csv('../prepare data/data/base_line.csv')\n",
    "df.drop('match_id', axis=1, inplace=True)\n",
    "df.head()"
   ]
  },
  {
   "cell_type": "code",
   "execution_count": 24,
   "metadata": {},
   "outputs": [],
   "source": [
    "train = df.iloc[n:, :]\n",
    "val = df.iloc[:n, :]"
   ]
  },
  {
   "cell_type": "code",
   "execution_count": 25,
   "metadata": {},
   "outputs": [
    {
     "data": {
      "text/html": [
       "<div>\n",
       "<style scoped>\n",
       "    .dataframe tbody tr th:only-of-type {\n",
       "        vertical-align: middle;\n",
       "    }\n",
       "\n",
       "    .dataframe tbody tr th {\n",
       "        vertical-align: top;\n",
       "    }\n",
       "\n",
       "    .dataframe thead th {\n",
       "        text-align: right;\n",
       "    }\n",
       "</style>\n",
       "<table border=\"1\" class=\"dataframe\">\n",
       "  <thead>\n",
       "    <tr style=\"text-align: right;\">\n",
       "      <th></th>\n",
       "      <th>gameweek_gameweek</th>\n",
       "      <th>gameweek_compSeason_label</th>\n",
       "      <th>teams_team_1_name</th>\n",
       "      <th>teams_team_2_name</th>\n",
       "      <th>ground_name</th>\n",
       "      <th>team_1_hue</th>\n",
       "    </tr>\n",
       "  </thead>\n",
       "  <tbody>\n",
       "    <tr>\n",
       "      <th>80</th>\n",
       "      <td>12</td>\n",
       "      <td>2023</td>\n",
       "      <td>Brighton &amp; Hove Albion</td>\n",
       "      <td>Sheffield United</td>\n",
       "      <td>American Express Stadium</td>\n",
       "      <td>2</td>\n",
       "    </tr>\n",
       "    <tr>\n",
       "      <th>81</th>\n",
       "      <td>12</td>\n",
       "      <td>2023</td>\n",
       "      <td>Liverpool</td>\n",
       "      <td>Brentford</td>\n",
       "      <td>Anfield</td>\n",
       "      <td>1</td>\n",
       "    </tr>\n",
       "    <tr>\n",
       "      <th>82</th>\n",
       "      <td>12</td>\n",
       "      <td>2023</td>\n",
       "      <td>West Ham United</td>\n",
       "      <td>Nottingham Forest</td>\n",
       "      <td>London Stadium</td>\n",
       "      <td>1</td>\n",
       "    </tr>\n",
       "    <tr>\n",
       "      <th>83</th>\n",
       "      <td>12</td>\n",
       "      <td>2023</td>\n",
       "      <td>Bournemouth</td>\n",
       "      <td>Newcastle United</td>\n",
       "      <td>Vitality Stadium</td>\n",
       "      <td>1</td>\n",
       "    </tr>\n",
       "    <tr>\n",
       "      <th>84</th>\n",
       "      <td>12</td>\n",
       "      <td>2023</td>\n",
       "      <td>Arsenal</td>\n",
       "      <td>Burnley</td>\n",
       "      <td>Emirates Stadium</td>\n",
       "      <td>1</td>\n",
       "    </tr>\n",
       "    <tr>\n",
       "      <th>...</th>\n",
       "      <td>...</td>\n",
       "      <td>...</td>\n",
       "      <td>...</td>\n",
       "      <td>...</td>\n",
       "      <td>...</td>\n",
       "      <td>...</td>\n",
       "    </tr>\n",
       "    <tr>\n",
       "      <th>1713</th>\n",
       "      <td>1</td>\n",
       "      <td>2019</td>\n",
       "      <td>Burnley</td>\n",
       "      <td>Southampton</td>\n",
       "      <td>Turf Moor</td>\n",
       "      <td>1</td>\n",
       "    </tr>\n",
       "    <tr>\n",
       "      <th>1714</th>\n",
       "      <td>1</td>\n",
       "      <td>2019</td>\n",
       "      <td>Crystal Palace</td>\n",
       "      <td>Everton</td>\n",
       "      <td>Selhurst Park</td>\n",
       "      <td>2</td>\n",
       "    </tr>\n",
       "    <tr>\n",
       "      <th>1715</th>\n",
       "      <td>1</td>\n",
       "      <td>2019</td>\n",
       "      <td>Watford</td>\n",
       "      <td>Brighton &amp; Hove Albion</td>\n",
       "      <td>Vicarage Road</td>\n",
       "      <td>0</td>\n",
       "    </tr>\n",
       "    <tr>\n",
       "      <th>1716</th>\n",
       "      <td>1</td>\n",
       "      <td>2019</td>\n",
       "      <td>West Ham United</td>\n",
       "      <td>Manchester City</td>\n",
       "      <td>London Stadium</td>\n",
       "      <td>0</td>\n",
       "    </tr>\n",
       "    <tr>\n",
       "      <th>1717</th>\n",
       "      <td>1</td>\n",
       "      <td>2019</td>\n",
       "      <td>Liverpool</td>\n",
       "      <td>Norwich City</td>\n",
       "      <td>Anfield</td>\n",
       "      <td>1</td>\n",
       "    </tr>\n",
       "  </tbody>\n",
       "</table>\n",
       "<p>1638 rows × 6 columns</p>\n",
       "</div>"
      ],
      "text/plain": [
       "      gameweek_gameweek  gameweek_compSeason_label       teams_team_1_name  \\\n",
       "80                   12                       2023  Brighton & Hove Albion   \n",
       "81                   12                       2023               Liverpool   \n",
       "82                   12                       2023         West Ham United   \n",
       "83                   12                       2023             Bournemouth   \n",
       "84                   12                       2023                 Arsenal   \n",
       "...                 ...                        ...                     ...   \n",
       "1713                  1                       2019                 Burnley   \n",
       "1714                  1                       2019          Crystal Palace   \n",
       "1715                  1                       2019                 Watford   \n",
       "1716                  1                       2019         West Ham United   \n",
       "1717                  1                       2019               Liverpool   \n",
       "\n",
       "           teams_team_2_name               ground_name  team_1_hue  \n",
       "80          Sheffield United  American Express Stadium           2  \n",
       "81                 Brentford                   Anfield           1  \n",
       "82         Nottingham Forest            London Stadium           1  \n",
       "83          Newcastle United          Vitality Stadium           1  \n",
       "84                   Burnley          Emirates Stadium           1  \n",
       "...                      ...                       ...         ...  \n",
       "1713             Southampton                 Turf Moor           1  \n",
       "1714                 Everton             Selhurst Park           2  \n",
       "1715  Brighton & Hove Albion             Vicarage Road           0  \n",
       "1716         Manchester City            London Stadium           0  \n",
       "1717            Norwich City                   Anfield           1  \n",
       "\n",
       "[1638 rows x 6 columns]"
      ]
     },
     "execution_count": 25,
     "metadata": {},
     "output_type": "execute_result"
    }
   ],
   "source": [
    "train"
   ]
  },
  {
   "cell_type": "code",
   "execution_count": 26,
   "metadata": {},
   "outputs": [],
   "source": [
    "y_train = train['team_1_hue']\n",
    "x_train = train.drop('team_1_hue', axis=1)\n",
    "\n",
    "y_val = val['team_1_hue']\n",
    "x_val = val.drop('team_1_hue', axis=1)"
   ]
  },
  {
   "cell_type": "code",
   "execution_count": 27,
   "metadata": {},
   "outputs": [],
   "source": [
    "model_baseline = CatBoostClassifier()"
   ]
  },
  {
   "cell_type": "code",
   "execution_count": 28,
   "metadata": {},
   "outputs": [
    {
     "data": {
      "text/plain": [
       "<catboost.core.CatBoostClassifier at 0x7f66e946c1c0>"
      ]
     },
     "execution_count": 28,
     "metadata": {},
     "output_type": "execute_result"
    }
   ],
   "source": [
    "model_baseline.fit(x_train, y_train, cat_features=list(x_train.columns), verbose=False)"
   ]
  },
  {
   "cell_type": "code",
   "execution_count": 29,
   "metadata": {},
   "outputs": [],
   "source": [
    "pred = model_baseline.predict(x_val)\n",
    "pred_proba = model_baseline.predict_proba(x_val)\n",
    "y_val = y_val.to_numpy().reshape(-1, 1)"
   ]
  },
  {
   "cell_type": "code",
   "execution_count": 30,
   "metadata": {},
   "outputs": [],
   "source": [
    "pred = np.concatenate((y_val, pred, pred_proba), axis=1)\n",
    "df_pred = pd.DataFrame(pred, columns=['true', 'pred', '0_prob', '1_prob', '2_prob'])"
   ]
  },
  {
   "cell_type": "code",
   "execution_count": 31,
   "metadata": {},
   "outputs": [
    {
     "data": {
      "text/html": [
       "<div>\n",
       "<style scoped>\n",
       "    .dataframe tbody tr th:only-of-type {\n",
       "        vertical-align: middle;\n",
       "    }\n",
       "\n",
       "    .dataframe tbody tr th {\n",
       "        vertical-align: top;\n",
       "    }\n",
       "\n",
       "    .dataframe thead th {\n",
       "        text-align: right;\n",
       "    }\n",
       "</style>\n",
       "<table border=\"1\" class=\"dataframe\">\n",
       "  <thead>\n",
       "    <tr style=\"text-align: right;\">\n",
       "      <th></th>\n",
       "      <th>true</th>\n",
       "      <th>pred</th>\n",
       "      <th>0_prob</th>\n",
       "      <th>1_prob</th>\n",
       "      <th>2_prob</th>\n",
       "      <th>error</th>\n",
       "    </tr>\n",
       "  </thead>\n",
       "  <tbody>\n",
       "    <tr>\n",
       "      <th>0</th>\n",
       "      <td>2.0</td>\n",
       "      <td>0.0</td>\n",
       "      <td>0.659183</td>\n",
       "      <td>0.206125</td>\n",
       "      <td>0.134692</td>\n",
       "      <td>1</td>\n",
       "    </tr>\n",
       "    <tr>\n",
       "      <th>1</th>\n",
       "      <td>1.0</td>\n",
       "      <td>1.0</td>\n",
       "      <td>0.010913</td>\n",
       "      <td>0.934111</td>\n",
       "      <td>0.054975</td>\n",
       "      <td>0</td>\n",
       "    </tr>\n",
       "    <tr>\n",
       "      <th>2</th>\n",
       "      <td>1.0</td>\n",
       "      <td>0.0</td>\n",
       "      <td>0.833222</td>\n",
       "      <td>0.087801</td>\n",
       "      <td>0.078978</td>\n",
       "      <td>1</td>\n",
       "    </tr>\n",
       "    <tr>\n",
       "      <th>3</th>\n",
       "      <td>1.0</td>\n",
       "      <td>1.0</td>\n",
       "      <td>0.090163</td>\n",
       "      <td>0.805797</td>\n",
       "      <td>0.104040</td>\n",
       "      <td>0</td>\n",
       "    </tr>\n",
       "    <tr>\n",
       "      <th>4</th>\n",
       "      <td>1.0</td>\n",
       "      <td>1.0</td>\n",
       "      <td>0.340482</td>\n",
       "      <td>0.412337</td>\n",
       "      <td>0.247181</td>\n",
       "      <td>0</td>\n",
       "    </tr>\n",
       "  </tbody>\n",
       "</table>\n",
       "</div>"
      ],
      "text/plain": [
       "   true  pred    0_prob    1_prob    2_prob  error\n",
       "0   2.0   0.0  0.659183  0.206125  0.134692      1\n",
       "1   1.0   1.0  0.010913  0.934111  0.054975      0\n",
       "2   1.0   0.0  0.833222  0.087801  0.078978      1\n",
       "3   1.0   1.0  0.090163  0.805797  0.104040      0\n",
       "4   1.0   1.0  0.340482  0.412337  0.247181      0"
      ]
     },
     "execution_count": 31,
     "metadata": {},
     "output_type": "execute_result"
    }
   ],
   "source": [
    "df_pred['error'] = np.where(df_pred['true']==df_pred['pred'], 0, 1)\n",
    "df_pred.head()\n"
   ]
  },
  {
   "cell_type": "code",
   "execution_count": 32,
   "metadata": {},
   "outputs": [
    {
     "data": {
      "text/plain": [
       "40"
      ]
     },
     "execution_count": 32,
     "metadata": {},
     "output_type": "execute_result"
    }
   ],
   "source": [
    "df_pred['error'].sum()"
   ]
  },
  {
   "cell_type": "code",
   "execution_count": 34,
   "metadata": {},
   "outputs": [
    {
     "data": {
      "text/plain": [
       "0.5"
      ]
     },
     "execution_count": 34,
     "metadata": {},
     "output_type": "execute_result"
    }
   ],
   "source": [
    "accuracy_score(df_pred['true'], df_pred['pred'])"
   ]
  }
 ],
 "metadata": {
  "kernelspec": {
   "display_name": ".venv",
   "language": "python",
   "name": "python3"
  },
  "language_info": {
   "codemirror_mode": {
    "name": "ipython",
    "version": 3
   },
   "file_extension": ".py",
   "mimetype": "text/x-python",
   "name": "python",
   "nbconvert_exporter": "python",
   "pygments_lexer": "ipython3",
   "version": "3.10.12"
  }
 },
 "nbformat": 4,
 "nbformat_minor": 2
}
