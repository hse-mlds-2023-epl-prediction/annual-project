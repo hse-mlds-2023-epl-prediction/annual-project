{
 "cells": [
  {
   "cell_type": "code",
   "execution_count": 2,
   "id": "3aa3d8f0-67db-49c5-86e3-3d16a72fab68",
   "metadata": {
    "tags": []
   },
   "outputs": [],
   "source": [
    "import pandas as pd"
   ]
  },
  {
   "cell_type": "code",
   "execution_count": 4,
   "id": "949ea7dc-fe2a-4183-b617-1843f3880864",
   "metadata": {
    "tags": []
   },
   "outputs": [],
   "source": [
    "matches = pd.read_csv('matches.csv')"
   ]
  },
  {
   "cell_type": "code",
   "execution_count": 6,
   "id": "7c8e323c-6e28-4640-a1cf-88d3f35fef3e",
   "metadata": {
    "tags": []
   },
   "outputs": [
    {
     "data": {
      "text/html": [
       "<div>\n",
       "<style scoped>\n",
       "    .dataframe tbody tr th:only-of-type {\n",
       "        vertical-align: middle;\n",
       "    }\n",
       "\n",
       "    .dataframe tbody tr th {\n",
       "        vertical-align: top;\n",
       "    }\n",
       "\n",
       "    .dataframe thead th {\n",
       "        text-align: right;\n",
       "    }\n",
       "</style>\n",
       "<table border=\"1\" class=\"dataframe\">\n",
       "  <thead>\n",
       "    <tr style=\"text-align: right;\">\n",
       "      <th></th>\n",
       "      <th>fbref_match_id</th>\n",
       "      <th>season</th>\n",
       "      <th>match_week</th>\n",
       "      <th>match_date</th>\n",
       "      <th>match_time</th>\n",
       "      <th>home_team_name</th>\n",
       "      <th>away_team_name</th>\n",
       "      <th>score</th>\n",
       "      <th>match_result</th>\n",
       "      <th>home_team_score</th>\n",
       "      <th>...</th>\n",
       "      <th>away_team_fouls</th>\n",
       "      <th>away_team_corners</th>\n",
       "      <th>away_team_crosses</th>\n",
       "      <th>away_team_touches</th>\n",
       "      <th>away_team_interceptions</th>\n",
       "      <th>away_team_aerials_won</th>\n",
       "      <th>away_team_offsides</th>\n",
       "      <th>away_team_goal_kicks</th>\n",
       "      <th>away_team_throw_ins</th>\n",
       "      <th>away_team_long_balls</th>\n",
       "    </tr>\n",
       "  </thead>\n",
       "  <tbody>\n",
       "    <tr>\n",
       "      <th>0</th>\n",
       "      <td>d192bd78</td>\n",
       "      <td>2014-2015</td>\n",
       "      <td>1</td>\n",
       "      <td>2014-08-16</td>\n",
       "      <td>12:45</td>\n",
       "      <td>Manchester United</td>\n",
       "      <td>Swansea City</td>\n",
       "      <td>1:2</td>\n",
       "      <td>A</td>\n",
       "      <td>1</td>\n",
       "      <td>...</td>\n",
       "      <td>14</td>\n",
       "      <td>NaN</td>\n",
       "      <td>28</td>\n",
       "      <td>NaN</td>\n",
       "      <td>17</td>\n",
       "      <td>NaN</td>\n",
       "      <td>1.0</td>\n",
       "      <td>NaN</td>\n",
       "      <td>NaN</td>\n",
       "      <td>NaN</td>\n",
       "    </tr>\n",
       "    <tr>\n",
       "      <th>1</th>\n",
       "      <td>0a235dd1</td>\n",
       "      <td>2014-2015</td>\n",
       "      <td>1</td>\n",
       "      <td>2014-08-16</td>\n",
       "      <td>15:00</td>\n",
       "      <td>Stoke City</td>\n",
       "      <td>Aston Villa</td>\n",
       "      <td>0:1</td>\n",
       "      <td>A</td>\n",
       "      <td>0</td>\n",
       "      <td>...</td>\n",
       "      <td>14</td>\n",
       "      <td>NaN</td>\n",
       "      <td>18</td>\n",
       "      <td>NaN</td>\n",
       "      <td>17</td>\n",
       "      <td>NaN</td>\n",
       "      <td>1.0</td>\n",
       "      <td>NaN</td>\n",
       "      <td>NaN</td>\n",
       "      <td>NaN</td>\n",
       "    </tr>\n",
       "    <tr>\n",
       "      <th>2</th>\n",
       "      <td>36e3a824</td>\n",
       "      <td>2014-2015</td>\n",
       "      <td>1</td>\n",
       "      <td>2014-08-16</td>\n",
       "      <td>15:00</td>\n",
       "      <td>Leicester City</td>\n",
       "      <td>Everton</td>\n",
       "      <td>2:2</td>\n",
       "      <td>D</td>\n",
       "      <td>2</td>\n",
       "      <td>...</td>\n",
       "      <td>16</td>\n",
       "      <td>NaN</td>\n",
       "      <td>16</td>\n",
       "      <td>NaN</td>\n",
       "      <td>18</td>\n",
       "      <td>NaN</td>\n",
       "      <td>NaN</td>\n",
       "      <td>NaN</td>\n",
       "      <td>NaN</td>\n",
       "      <td>NaN</td>\n",
       "    </tr>\n",
       "    <tr>\n",
       "      <th>3</th>\n",
       "      <td>49405949</td>\n",
       "      <td>2014-2015</td>\n",
       "      <td>1</td>\n",
       "      <td>2014-08-16</td>\n",
       "      <td>15:00</td>\n",
       "      <td>Queens Park Rangers</td>\n",
       "      <td>Hull City</td>\n",
       "      <td>0:1</td>\n",
       "      <td>A</td>\n",
       "      <td>0</td>\n",
       "      <td>...</td>\n",
       "      <td>7</td>\n",
       "      <td>NaN</td>\n",
       "      <td>33</td>\n",
       "      <td>NaN</td>\n",
       "      <td>10</td>\n",
       "      <td>NaN</td>\n",
       "      <td>0.0</td>\n",
       "      <td>NaN</td>\n",
       "      <td>NaN</td>\n",
       "      <td>NaN</td>\n",
       "    </tr>\n",
       "    <tr>\n",
       "      <th>4</th>\n",
       "      <td>5d6474b7</td>\n",
       "      <td>2014-2015</td>\n",
       "      <td>1</td>\n",
       "      <td>2014-08-16</td>\n",
       "      <td>15:00</td>\n",
       "      <td>West Ham United</td>\n",
       "      <td>Tottenham Hotspur</td>\n",
       "      <td>0:1</td>\n",
       "      <td>A</td>\n",
       "      <td>0</td>\n",
       "      <td>...</td>\n",
       "      <td>10</td>\n",
       "      <td>NaN</td>\n",
       "      <td>28</td>\n",
       "      <td>NaN</td>\n",
       "      <td>19</td>\n",
       "      <td>NaN</td>\n",
       "      <td>NaN</td>\n",
       "      <td>NaN</td>\n",
       "      <td>NaN</td>\n",
       "      <td>NaN</td>\n",
       "    </tr>\n",
       "  </tbody>\n",
       "</table>\n",
       "<p>5 rows × 65 columns</p>\n",
       "</div>"
      ],
      "text/plain": [
       "  fbref_match_id     season  match_week  match_date match_time  \\\n",
       "0       d192bd78  2014-2015           1  2014-08-16      12:45   \n",
       "1       0a235dd1  2014-2015           1  2014-08-16      15:00   \n",
       "2       36e3a824  2014-2015           1  2014-08-16      15:00   \n",
       "3       49405949  2014-2015           1  2014-08-16      15:00   \n",
       "4       5d6474b7  2014-2015           1  2014-08-16      15:00   \n",
       "\n",
       "        home_team_name     away_team_name score match_result  home_team_score  \\\n",
       "0    Manchester United       Swansea City   1:2            A                1   \n",
       "1           Stoke City        Aston Villa   0:1            A                0   \n",
       "2       Leicester City            Everton   2:2            D                2   \n",
       "3  Queens Park Rangers          Hull City   0:1            A                0   \n",
       "4      West Ham United  Tottenham Hotspur   0:1            A                0   \n",
       "\n",
       "   ...  away_team_fouls away_team_corners away_team_crosses away_team_touches  \\\n",
       "0  ...               14               NaN                28               NaN   \n",
       "1  ...               14               NaN                18               NaN   \n",
       "2  ...               16               NaN                16               NaN   \n",
       "3  ...                7               NaN                33               NaN   \n",
       "4  ...               10               NaN                28               NaN   \n",
       "\n",
       "  away_team_interceptions away_team_aerials_won away_team_offsides  \\\n",
       "0                      17                   NaN                1.0   \n",
       "1                      17                   NaN                1.0   \n",
       "2                      18                   NaN                NaN   \n",
       "3                      10                   NaN                0.0   \n",
       "4                      19                   NaN                NaN   \n",
       "\n",
       "  away_team_goal_kicks away_team_throw_ins away_team_long_balls  \n",
       "0                  NaN                 NaN                  NaN  \n",
       "1                  NaN                 NaN                  NaN  \n",
       "2                  NaN                 NaN                  NaN  \n",
       "3                  NaN                 NaN                  NaN  \n",
       "4                  NaN                 NaN                  NaN  \n",
       "\n",
       "[5 rows x 65 columns]"
      ]
     },
     "execution_count": 6,
     "metadata": {},
     "output_type": "execute_result"
    }
   ],
   "source": [
    "matches.head()"
   ]
  },
  {
   "cell_type": "code",
   "execution_count": 757,
   "id": "5243a114-a417-4a19-a71f-d5c3aa63978d",
   "metadata": {
    "tags": []
   },
   "outputs": [
    {
     "data": {
      "text/plain": [
       "fbref_match_id            object\n",
       "season                    object\n",
       "match_week                 int64\n",
       "match_date        datetime64[ns]\n",
       "match_time                object\n",
       "                       ...      \n",
       "target                     int64\n",
       "year                       int64\n",
       "month                      int64\n",
       "day                        int64\n",
       "hour                       int64\n",
       "Length: 70, dtype: object"
      ]
     },
     "execution_count": 757,
     "metadata": {},
     "output_type": "execute_result"
    }
   ],
   "source": [
    "matches.dtypes"
   ]
  },
  {
   "cell_type": "code",
   "execution_count": 27,
   "id": "4144996a-6bfb-4053-a7db-2316e3b611e4",
   "metadata": {
    "tags": []
   },
   "outputs": [],
   "source": [
    "matches['target'] = (matches['match_result'] == 'H').astype('int')"
   ]
  },
  {
   "cell_type": "code",
   "execution_count": 150,
   "id": "b7ce7ede-4162-4f2d-90fa-f9bdc0e245a4",
   "metadata": {
    "tags": []
   },
   "outputs": [],
   "source": [
    "matches['match_date'] = pd.to_datetime(matches['match_date'])\n",
    "matches['year'] = matches['match_date'].apply(lambda time: time.year)\n",
    "matches['month'] = matches['match_date'].apply(lambda time: time.month)\n",
    "matches['day'] = matches['match_date'].apply(lambda time: time.day)\n",
    "matches['hour'] = matches['match_time'].str.replace(':.+', '', regex=True).astype('int')"
   ]
  },
  {
   "cell_type": "code",
   "execution_count": 736,
   "id": "e1edf0ad-6f42-4365-bec5-80682788fb19",
   "metadata": {
    "tags": []
   },
   "outputs": [],
   "source": [
    "train = matches[matches['match_date'] < '2023-01-01']\n",
    "test = matches[matches['match_date'] >= '2023-01-01']"
   ]
  },
  {
   "cell_type": "code",
   "execution_count": 769,
   "id": "b3441078-450c-4941-a57c-60742267e213",
   "metadata": {
    "tags": []
   },
   "outputs": [],
   "source": [
    "features = ['home_team_name', 'away_team_name', 'year', 'month', 'day', 'hour', 'venue', 'home_team_manager', 'away_team_manager', 'season']"
   ]
  },
  {
   "cell_type": "code",
   "execution_count": 770,
   "id": "744a5167-b478-4cc8-b87e-5e01c385b1dd",
   "metadata": {
    "tags": []
   },
   "outputs": [],
   "source": [
    "train_dict = train[features].to_dict(orient='records')"
   ]
  },
  {
   "cell_type": "code",
   "execution_count": 771,
   "id": "a0dbfcf7-6eaa-4a41-888a-dd9bd5f86de1",
   "metadata": {
    "tags": []
   },
   "outputs": [
    {
     "data": {
      "text/html": [
       "<style>#sk-container-id-97 {color: black;}#sk-container-id-97 pre{padding: 0;}#sk-container-id-97 div.sk-toggleable {background-color: white;}#sk-container-id-97 label.sk-toggleable__label {cursor: pointer;display: block;width: 100%;margin-bottom: 0;padding: 0.3em;box-sizing: border-box;text-align: center;}#sk-container-id-97 label.sk-toggleable__label-arrow:before {content: \"▸\";float: left;margin-right: 0.25em;color: #696969;}#sk-container-id-97 label.sk-toggleable__label-arrow:hover:before {color: black;}#sk-container-id-97 div.sk-estimator:hover label.sk-toggleable__label-arrow:before {color: black;}#sk-container-id-97 div.sk-toggleable__content {max-height: 0;max-width: 0;overflow: hidden;text-align: left;background-color: #f0f8ff;}#sk-container-id-97 div.sk-toggleable__content pre {margin: 0.2em;color: black;border-radius: 0.25em;background-color: #f0f8ff;}#sk-container-id-97 input.sk-toggleable__control:checked~div.sk-toggleable__content {max-height: 200px;max-width: 100%;overflow: auto;}#sk-container-id-97 input.sk-toggleable__control:checked~label.sk-toggleable__label-arrow:before {content: \"▾\";}#sk-container-id-97 div.sk-estimator input.sk-toggleable__control:checked~label.sk-toggleable__label {background-color: #d4ebff;}#sk-container-id-97 div.sk-label input.sk-toggleable__control:checked~label.sk-toggleable__label {background-color: #d4ebff;}#sk-container-id-97 input.sk-hidden--visually {border: 0;clip: rect(1px 1px 1px 1px);clip: rect(1px, 1px, 1px, 1px);height: 1px;margin: -1px;overflow: hidden;padding: 0;position: absolute;width: 1px;}#sk-container-id-97 div.sk-estimator {font-family: monospace;background-color: #f0f8ff;border: 1px dotted black;border-radius: 0.25em;box-sizing: border-box;margin-bottom: 0.5em;}#sk-container-id-97 div.sk-estimator:hover {background-color: #d4ebff;}#sk-container-id-97 div.sk-parallel-item::after {content: \"\";width: 100%;border-bottom: 1px solid gray;flex-grow: 1;}#sk-container-id-97 div.sk-label:hover label.sk-toggleable__label {background-color: #d4ebff;}#sk-container-id-97 div.sk-serial::before {content: \"\";position: absolute;border-left: 1px solid gray;box-sizing: border-box;top: 0;bottom: 0;left: 50%;z-index: 0;}#sk-container-id-97 div.sk-serial {display: flex;flex-direction: column;align-items: center;background-color: white;padding-right: 0.2em;padding-left: 0.2em;position: relative;}#sk-container-id-97 div.sk-item {position: relative;z-index: 1;}#sk-container-id-97 div.sk-parallel {display: flex;align-items: stretch;justify-content: center;background-color: white;position: relative;}#sk-container-id-97 div.sk-item::before, #sk-container-id-97 div.sk-parallel-item::before {content: \"\";position: absolute;border-left: 1px solid gray;box-sizing: border-box;top: 0;bottom: 0;left: 50%;z-index: -1;}#sk-container-id-97 div.sk-parallel-item {display: flex;flex-direction: column;z-index: 1;position: relative;background-color: white;}#sk-container-id-97 div.sk-parallel-item:first-child::after {align-self: flex-end;width: 50%;}#sk-container-id-97 div.sk-parallel-item:last-child::after {align-self: flex-start;width: 50%;}#sk-container-id-97 div.sk-parallel-item:only-child::after {width: 0;}#sk-container-id-97 div.sk-dashed-wrapped {border: 1px dashed gray;margin: 0 0.4em 0.5em 0.4em;box-sizing: border-box;padding-bottom: 0.4em;background-color: white;}#sk-container-id-97 div.sk-label label {font-family: monospace;font-weight: bold;display: inline-block;line-height: 1.2em;}#sk-container-id-97 div.sk-label-container {text-align: center;}#sk-container-id-97 div.sk-container {/* jupyter's `normalize.less` sets `[hidden] { display: none; }` but bootstrap.min.css set `[hidden] { display: none !important; }` so we also need the `!important` here to be able to override the default hidden behavior on the sphinx rendered scikit-learn.org. See: https://github.com/scikit-learn/scikit-learn/issues/21755 */display: inline-block !important;position: relative;}#sk-container-id-97 div.sk-text-repr-fallback {display: none;}</style><div id=\"sk-container-id-97\" class=\"sk-top-container\"><div class=\"sk-text-repr-fallback\"><pre>DictVectorizer(sparse=False)</pre><b>In a Jupyter environment, please rerun this cell to show the HTML representation or trust the notebook. <br />On GitHub, the HTML representation is unable to render, please try loading this page with nbviewer.org.</b></div><div class=\"sk-container\" hidden><div class=\"sk-item\"><div class=\"sk-estimator sk-toggleable\"><input class=\"sk-toggleable__control sk-hidden--visually\" id=\"sk-estimator-id-97\" type=\"checkbox\" checked><label for=\"sk-estimator-id-97\" class=\"sk-toggleable__label sk-toggleable__label-arrow\">DictVectorizer</label><div class=\"sk-toggleable__content\"><pre>DictVectorizer(sparse=False)</pre></div></div></div></div></div>"
      ],
      "text/plain": [
       "DictVectorizer(sparse=False)"
      ]
     },
     "execution_count": 771,
     "metadata": {},
     "output_type": "execute_result"
    }
   ],
   "source": [
    "from sklearn.linear_model import LogisticRegression\n",
    "from sklearn.feature_extraction import DictVectorizer\n",
    "\n",
    "dv = DictVectorizer(sparse=False)\n",
    "\n",
    "dv.fit(train_dict)"
   ]
  },
  {
   "cell_type": "code",
   "execution_count": 772,
   "id": "0aeed4f7-5f04-4ce0-9c03-8b9c1aa706bc",
   "metadata": {
    "tags": []
   },
   "outputs": [],
   "source": [
    "X_train = dv.transform(train_dict)"
   ]
  },
  {
   "cell_type": "code",
   "execution_count": 773,
   "id": "9eac1226-f971-4722-adad-25b3f239a647",
   "metadata": {
    "tags": []
   },
   "outputs": [],
   "source": [
    "model = LogisticRegression(solver='liblinear', C=2.0, random_state=1)"
   ]
  },
  {
   "cell_type": "code",
   "execution_count": 774,
   "id": "b5312e2c-ff47-45d7-b626-d6a8938e1150",
   "metadata": {
    "tags": []
   },
   "outputs": [
    {
     "data": {
      "text/html": [
       "<style>#sk-container-id-98 {color: black;}#sk-container-id-98 pre{padding: 0;}#sk-container-id-98 div.sk-toggleable {background-color: white;}#sk-container-id-98 label.sk-toggleable__label {cursor: pointer;display: block;width: 100%;margin-bottom: 0;padding: 0.3em;box-sizing: border-box;text-align: center;}#sk-container-id-98 label.sk-toggleable__label-arrow:before {content: \"▸\";float: left;margin-right: 0.25em;color: #696969;}#sk-container-id-98 label.sk-toggleable__label-arrow:hover:before {color: black;}#sk-container-id-98 div.sk-estimator:hover label.sk-toggleable__label-arrow:before {color: black;}#sk-container-id-98 div.sk-toggleable__content {max-height: 0;max-width: 0;overflow: hidden;text-align: left;background-color: #f0f8ff;}#sk-container-id-98 div.sk-toggleable__content pre {margin: 0.2em;color: black;border-radius: 0.25em;background-color: #f0f8ff;}#sk-container-id-98 input.sk-toggleable__control:checked~div.sk-toggleable__content {max-height: 200px;max-width: 100%;overflow: auto;}#sk-container-id-98 input.sk-toggleable__control:checked~label.sk-toggleable__label-arrow:before {content: \"▾\";}#sk-container-id-98 div.sk-estimator input.sk-toggleable__control:checked~label.sk-toggleable__label {background-color: #d4ebff;}#sk-container-id-98 div.sk-label input.sk-toggleable__control:checked~label.sk-toggleable__label {background-color: #d4ebff;}#sk-container-id-98 input.sk-hidden--visually {border: 0;clip: rect(1px 1px 1px 1px);clip: rect(1px, 1px, 1px, 1px);height: 1px;margin: -1px;overflow: hidden;padding: 0;position: absolute;width: 1px;}#sk-container-id-98 div.sk-estimator {font-family: monospace;background-color: #f0f8ff;border: 1px dotted black;border-radius: 0.25em;box-sizing: border-box;margin-bottom: 0.5em;}#sk-container-id-98 div.sk-estimator:hover {background-color: #d4ebff;}#sk-container-id-98 div.sk-parallel-item::after {content: \"\";width: 100%;border-bottom: 1px solid gray;flex-grow: 1;}#sk-container-id-98 div.sk-label:hover label.sk-toggleable__label {background-color: #d4ebff;}#sk-container-id-98 div.sk-serial::before {content: \"\";position: absolute;border-left: 1px solid gray;box-sizing: border-box;top: 0;bottom: 0;left: 50%;z-index: 0;}#sk-container-id-98 div.sk-serial {display: flex;flex-direction: column;align-items: center;background-color: white;padding-right: 0.2em;padding-left: 0.2em;position: relative;}#sk-container-id-98 div.sk-item {position: relative;z-index: 1;}#sk-container-id-98 div.sk-parallel {display: flex;align-items: stretch;justify-content: center;background-color: white;position: relative;}#sk-container-id-98 div.sk-item::before, #sk-container-id-98 div.sk-parallel-item::before {content: \"\";position: absolute;border-left: 1px solid gray;box-sizing: border-box;top: 0;bottom: 0;left: 50%;z-index: -1;}#sk-container-id-98 div.sk-parallel-item {display: flex;flex-direction: column;z-index: 1;position: relative;background-color: white;}#sk-container-id-98 div.sk-parallel-item:first-child::after {align-self: flex-end;width: 50%;}#sk-container-id-98 div.sk-parallel-item:last-child::after {align-self: flex-start;width: 50%;}#sk-container-id-98 div.sk-parallel-item:only-child::after {width: 0;}#sk-container-id-98 div.sk-dashed-wrapped {border: 1px dashed gray;margin: 0 0.4em 0.5em 0.4em;box-sizing: border-box;padding-bottom: 0.4em;background-color: white;}#sk-container-id-98 div.sk-label label {font-family: monospace;font-weight: bold;display: inline-block;line-height: 1.2em;}#sk-container-id-98 div.sk-label-container {text-align: center;}#sk-container-id-98 div.sk-container {/* jupyter's `normalize.less` sets `[hidden] { display: none; }` but bootstrap.min.css set `[hidden] { display: none !important; }` so we also need the `!important` here to be able to override the default hidden behavior on the sphinx rendered scikit-learn.org. See: https://github.com/scikit-learn/scikit-learn/issues/21755 */display: inline-block !important;position: relative;}#sk-container-id-98 div.sk-text-repr-fallback {display: none;}</style><div id=\"sk-container-id-98\" class=\"sk-top-container\"><div class=\"sk-text-repr-fallback\"><pre>LogisticRegression(C=2.0, random_state=1, solver=&#x27;liblinear&#x27;)</pre><b>In a Jupyter environment, please rerun this cell to show the HTML representation or trust the notebook. <br />On GitHub, the HTML representation is unable to render, please try loading this page with nbviewer.org.</b></div><div class=\"sk-container\" hidden><div class=\"sk-item\"><div class=\"sk-estimator sk-toggleable\"><input class=\"sk-toggleable__control sk-hidden--visually\" id=\"sk-estimator-id-98\" type=\"checkbox\" checked><label for=\"sk-estimator-id-98\" class=\"sk-toggleable__label sk-toggleable__label-arrow\">LogisticRegression</label><div class=\"sk-toggleable__content\"><pre>LogisticRegression(C=2.0, random_state=1, solver=&#x27;liblinear&#x27;)</pre></div></div></div></div></div>"
      ],
      "text/plain": [
       "LogisticRegression(C=2.0, random_state=1, solver='liblinear')"
      ]
     },
     "execution_count": 774,
     "metadata": {},
     "output_type": "execute_result"
    }
   ],
   "source": [
    "model.fit(X_train, train['target'])"
   ]
  },
  {
   "cell_type": "code",
   "execution_count": 794,
   "id": "9baf8b94-590a-4cb1-bcc4-bcc471276075",
   "metadata": {
    "tags": []
   },
   "outputs": [],
   "source": [
    "test_dict = test[features].to_dict(orient='records')\n",
    "X_test = dv.transform(test_dict)\n",
    "y_pred = model.predict_proba(X_test)[:, 1]"
   ]
  },
  {
   "cell_type": "code",
   "execution_count": 795,
   "id": "417f4da8-1fc0-40cf-8b9d-024e84c405d2",
   "metadata": {
    "tags": []
   },
   "outputs": [],
   "source": [
    "win = y_pred >= 0.5"
   ]
  },
  {
   "cell_type": "code",
   "execution_count": 796,
   "id": "8c08871a-598d-47f7-b1e6-107d4eb78e91",
   "metadata": {
    "tags": []
   },
   "outputs": [
    {
     "data": {
      "text/plain": [
       "0.6666666666666666"
      ]
     },
     "execution_count": 796,
     "metadata": {},
     "output_type": "execute_result"
    }
   ],
   "source": [
    "(test['target'] == win).mean()"
   ]
  },
  {
   "cell_type": "code",
   "execution_count": 797,
   "id": "b38c6617-ee13-424f-8917-1f0e2ed5df6e",
   "metadata": {
    "tags": []
   },
   "outputs": [],
   "source": [
    "from sklearn.metrics import accuracy_score, roc_auc_score, roc_curve"
   ]
  },
  {
   "cell_type": "code",
   "execution_count": 798,
   "id": "3df04922-9c1a-43d8-968c-44367d12a28e",
   "metadata": {
    "tags": []
   },
   "outputs": [
    {
     "data": {
      "text/plain": [
       "0.6666666666666666"
      ]
     },
     "execution_count": 798,
     "metadata": {},
     "output_type": "execute_result"
    }
   ],
   "source": [
    "accuracy_score(test['target'], win)"
   ]
  },
  {
   "cell_type": "code",
   "execution_count": 799,
   "id": "0f7746ee-828d-4306-85ce-313dd391c5c1",
   "metadata": {
    "tags": []
   },
   "outputs": [
    {
     "data": {
      "text/plain": [
       "0.6645381013197105"
      ]
     },
     "execution_count": 799,
     "metadata": {},
     "output_type": "execute_result"
    }
   ],
   "source": [
    "roc_auc_score(test['target'], win)"
   ]
  },
  {
   "cell_type": "code",
   "execution_count": 800,
   "id": "cd926578-2abe-4bd0-bba6-de368bd713c4",
   "metadata": {
    "tags": []
   },
   "outputs": [],
   "source": [
    "fpr, tpr, thresholds = roc_curve(test['target'], win)"
   ]
  },
  {
   "cell_type": "code",
   "execution_count": 801,
   "id": "9ec66d03-a986-469a-b8d4-61009ec50374",
   "metadata": {
    "tags": []
   },
   "outputs": [
    {
     "data": {
      "text/plain": [
       "[<matplotlib.lines.Line2D at 0x28b7a9710>]"
      ]
     },
     "execution_count": 801,
     "metadata": {},
     "output_type": "execute_result"
    },
    {
     "data": {
      "image/png": "[encoded data removed]",
      "text/plain": [
       "<Figure size 500x500 with 1 Axes>"
      ]
     },
     "metadata": {},
     "output_type": "display_data"
    }
   ],
   "source": [
    "import matplotlib.pyplot as plt\n",
    "plt.figure(figsize=(5,5))\n",
    "plt.plot(fpr, tpr)\n",
    "plt.plot([0, 1], [0, 1])"
   ]
  }
 ],
 "metadata": {
  "kernelspec": {
   "display_name": "Python 3 (ipykernel)",
   "language": "python",
   "name": "python3"
  },
  "language_info": {
   "codemirror_mode": {
    "name": "ipython",
    "version": 3
   },
   "file_extension": ".py",
   "mimetype": "text/x-python",
   "name": "python",
   "nbconvert_exporter": "python",
   "pygments_lexer": "ipython3",
   "version": "3.11.4"
  }
 },
 "nbformat": 4,
 "nbformat_minor": 5
}
